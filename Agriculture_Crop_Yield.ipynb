{
  "nbformat": 4,
  "nbformat_minor": 0,
  "metadata": {
    "colab": {
      "provenance": [],
      "include_colab_link": true
    },
    "kernelspec": {
      "name": "python3",
      "display_name": "Python 3"
    },
    "language_info": {
      "name": "python"
    }
  },
  "cells": [
    {
      "cell_type": "markdown",
      "metadata": {
        "id": "view-in-github",
        "colab_type": "text"
      },
      "source": [
        "<a href=\"https://colab.research.google.com/github/sandhu1503/Smart-Crop-Yield-Prediction-Using-ML-DL/blob/main/Agriculture_Crop_Yield.ipynb\" target=\"_parent\"><img src=\"https://colab.research.google.com/assets/colab-badge.svg\" alt=\"Open In Colab\"/></a>"
      ]
    },
    {
      "cell_type": "code",
      "execution_count": 4,
      "metadata": {
        "id": "XC4NzXx8le3N"
      },
      "outputs": [],
      "source": [
        "import pandas as pd\n",
        "import numpy as np"
      ]
    },
    {
      "cell_type": "code",
      "source": [
        "# Load the dataset\n",
        "df = pd.read_csv('/content/crop_yield.csv')"
      ],
      "metadata": {
        "id": "prGiDpx-nTpl"
      },
      "execution_count": 5,
      "outputs": []
    },
    {
      "cell_type": "code",
      "source": [
        "df.head()"
      ],
      "metadata": {
        "colab": {
          "base_uri": "https://localhost:8080/",
          "height": 226
        },
        "id": "ccNlWiVen0aX",
        "outputId": "5d08e925-86e1-48cf-e7b3-3fcf5a6b97f7"
      },
      "execution_count": 6,
      "outputs": [
        {
          "output_type": "execute_result",
          "data": {
            "text/plain": [
              "  Region Soil_Type     Crop  Rainfall_mm  Temperature_Celsius  \\\n",
              "0   West     Sandy   Cotton   897.077239            27.676966   \n",
              "1  South      Clay     Rice   992.673282            18.026142   \n",
              "2  North      Loam   Barley   147.998025            29.794042   \n",
              "3  North     Sandy  Soybean   986.866331            16.644190   \n",
              "4  South      Silt    Wheat   730.379174            31.620687   \n",
              "\n",
              "   Fertilizer_Used  Irrigation_Used Weather_Condition  Days_to_Harvest  \\\n",
              "0            False             True            Cloudy              122   \n",
              "1             True             True             Rainy              140   \n",
              "2            False            False             Sunny              106   \n",
              "3            False             True             Rainy              146   \n",
              "4             True             True            Cloudy              110   \n",
              "\n",
              "   Yield_tons_per_hectare  \n",
              "0                6.555816  \n",
              "1                8.527341  \n",
              "2                1.127443  \n",
              "3                6.517573  \n",
              "4                7.248251  "
            ],
            "text/html": [
              "\n",
              "  <div id=\"df-36ba1346-d340-40b9-a689-1f884778945a\" class=\"colab-df-container\">\n",
              "    <div>\n",
              "<style scoped>\n",
              "    .dataframe tbody tr th:only-of-type {\n",
              "        vertical-align: middle;\n",
              "    }\n",
              "\n",
              "    .dataframe tbody tr th {\n",
              "        vertical-align: top;\n",
              "    }\n",
              "\n",
              "    .dataframe thead th {\n",
              "        text-align: right;\n",
              "    }\n",
              "</style>\n",
              "<table border=\"1\" class=\"dataframe\">\n",
              "  <thead>\n",
              "    <tr style=\"text-align: right;\">\n",
              "      <th></th>\n",
              "      <th>Region</th>\n",
              "      <th>Soil_Type</th>\n",
              "      <th>Crop</th>\n",
              "      <th>Rainfall_mm</th>\n",
              "      <th>Temperature_Celsius</th>\n",
              "      <th>Fertilizer_Used</th>\n",
              "      <th>Irrigation_Used</th>\n",
              "      <th>Weather_Condition</th>\n",
              "      <th>Days_to_Harvest</th>\n",
              "      <th>Yield_tons_per_hectare</th>\n",
              "    </tr>\n",
              "  </thead>\n",
              "  <tbody>\n",
              "    <tr>\n",
              "      <th>0</th>\n",
              "      <td>West</td>\n",
              "      <td>Sandy</td>\n",
              "      <td>Cotton</td>\n",
              "      <td>897.077239</td>\n",
              "      <td>27.676966</td>\n",
              "      <td>False</td>\n",
              "      <td>True</td>\n",
              "      <td>Cloudy</td>\n",
              "      <td>122</td>\n",
              "      <td>6.555816</td>\n",
              "    </tr>\n",
              "    <tr>\n",
              "      <th>1</th>\n",
              "      <td>South</td>\n",
              "      <td>Clay</td>\n",
              "      <td>Rice</td>\n",
              "      <td>992.673282</td>\n",
              "      <td>18.026142</td>\n",
              "      <td>True</td>\n",
              "      <td>True</td>\n",
              "      <td>Rainy</td>\n",
              "      <td>140</td>\n",
              "      <td>8.527341</td>\n",
              "    </tr>\n",
              "    <tr>\n",
              "      <th>2</th>\n",
              "      <td>North</td>\n",
              "      <td>Loam</td>\n",
              "      <td>Barley</td>\n",
              "      <td>147.998025</td>\n",
              "      <td>29.794042</td>\n",
              "      <td>False</td>\n",
              "      <td>False</td>\n",
              "      <td>Sunny</td>\n",
              "      <td>106</td>\n",
              "      <td>1.127443</td>\n",
              "    </tr>\n",
              "    <tr>\n",
              "      <th>3</th>\n",
              "      <td>North</td>\n",
              "      <td>Sandy</td>\n",
              "      <td>Soybean</td>\n",
              "      <td>986.866331</td>\n",
              "      <td>16.644190</td>\n",
              "      <td>False</td>\n",
              "      <td>True</td>\n",
              "      <td>Rainy</td>\n",
              "      <td>146</td>\n",
              "      <td>6.517573</td>\n",
              "    </tr>\n",
              "    <tr>\n",
              "      <th>4</th>\n",
              "      <td>South</td>\n",
              "      <td>Silt</td>\n",
              "      <td>Wheat</td>\n",
              "      <td>730.379174</td>\n",
              "      <td>31.620687</td>\n",
              "      <td>True</td>\n",
              "      <td>True</td>\n",
              "      <td>Cloudy</td>\n",
              "      <td>110</td>\n",
              "      <td>7.248251</td>\n",
              "    </tr>\n",
              "  </tbody>\n",
              "</table>\n",
              "</div>\n",
              "    <div class=\"colab-df-buttons\">\n",
              "\n",
              "  <div class=\"colab-df-container\">\n",
              "    <button class=\"colab-df-convert\" onclick=\"convertToInteractive('df-36ba1346-d340-40b9-a689-1f884778945a')\"\n",
              "            title=\"Convert this dataframe to an interactive table.\"\n",
              "            style=\"display:none;\">\n",
              "\n",
              "  <svg xmlns=\"http://www.w3.org/2000/svg\" height=\"24px\" viewBox=\"0 -960 960 960\">\n",
              "    <path d=\"M120-120v-720h720v720H120Zm60-500h600v-160H180v160Zm220 220h160v-160H400v160Zm0 220h160v-160H400v160ZM180-400h160v-160H180v160Zm440 0h160v-160H620v160ZM180-180h160v-160H180v160Zm440 0h160v-160H620v160Z\"/>\n",
              "  </svg>\n",
              "    </button>\n",
              "\n",
              "  <style>\n",
              "    .colab-df-container {\n",
              "      display:flex;\n",
              "      gap: 12px;\n",
              "    }\n",
              "\n",
              "    .colab-df-convert {\n",
              "      background-color: #E8F0FE;\n",
              "      border: none;\n",
              "      border-radius: 50%;\n",
              "      cursor: pointer;\n",
              "      display: none;\n",
              "      fill: #1967D2;\n",
              "      height: 32px;\n",
              "      padding: 0 0 0 0;\n",
              "      width: 32px;\n",
              "    }\n",
              "\n",
              "    .colab-df-convert:hover {\n",
              "      background-color: #E2EBFA;\n",
              "      box-shadow: 0px 1px 2px rgba(60, 64, 67, 0.3), 0px 1px 3px 1px rgba(60, 64, 67, 0.15);\n",
              "      fill: #174EA6;\n",
              "    }\n",
              "\n",
              "    .colab-df-buttons div {\n",
              "      margin-bottom: 4px;\n",
              "    }\n",
              "\n",
              "    [theme=dark] .colab-df-convert {\n",
              "      background-color: #3B4455;\n",
              "      fill: #D2E3FC;\n",
              "    }\n",
              "\n",
              "    [theme=dark] .colab-df-convert:hover {\n",
              "      background-color: #434B5C;\n",
              "      box-shadow: 0px 1px 3px 1px rgba(0, 0, 0, 0.15);\n",
              "      filter: drop-shadow(0px 1px 2px rgba(0, 0, 0, 0.3));\n",
              "      fill: #FFFFFF;\n",
              "    }\n",
              "  </style>\n",
              "\n",
              "    <script>\n",
              "      const buttonEl =\n",
              "        document.querySelector('#df-36ba1346-d340-40b9-a689-1f884778945a button.colab-df-convert');\n",
              "      buttonEl.style.display =\n",
              "        google.colab.kernel.accessAllowed ? 'block' : 'none';\n",
              "\n",
              "      async function convertToInteractive(key) {\n",
              "        const element = document.querySelector('#df-36ba1346-d340-40b9-a689-1f884778945a');\n",
              "        const dataTable =\n",
              "          await google.colab.kernel.invokeFunction('convertToInteractive',\n",
              "                                                    [key], {});\n",
              "        if (!dataTable) return;\n",
              "\n",
              "        const docLinkHtml = 'Like what you see? Visit the ' +\n",
              "          '<a target=\"_blank\" href=https://colab.research.google.com/notebooks/data_table.ipynb>data table notebook</a>'\n",
              "          + ' to learn more about interactive tables.';\n",
              "        element.innerHTML = '';\n",
              "        dataTable['output_type'] = 'display_data';\n",
              "        await google.colab.output.renderOutput(dataTable, element);\n",
              "        const docLink = document.createElement('div');\n",
              "        docLink.innerHTML = docLinkHtml;\n",
              "        element.appendChild(docLink);\n",
              "      }\n",
              "    </script>\n",
              "  </div>\n",
              "\n",
              "\n",
              "<div id=\"df-d6eabf77-cc65-4f04-a99f-32b0af52c402\">\n",
              "  <button class=\"colab-df-quickchart\" onclick=\"quickchart('df-d6eabf77-cc65-4f04-a99f-32b0af52c402')\"\n",
              "            title=\"Suggest charts\"\n",
              "            style=\"display:none;\">\n",
              "\n",
              "<svg xmlns=\"http://www.w3.org/2000/svg\" height=\"24px\"viewBox=\"0 0 24 24\"\n",
              "     width=\"24px\">\n",
              "    <g>\n",
              "        <path d=\"M19 3H5c-1.1 0-2 .9-2 2v14c0 1.1.9 2 2 2h14c1.1 0 2-.9 2-2V5c0-1.1-.9-2-2-2zM9 17H7v-7h2v7zm4 0h-2V7h2v10zm4 0h-2v-4h2v4z\"/>\n",
              "    </g>\n",
              "</svg>\n",
              "  </button>\n",
              "\n",
              "<style>\n",
              "  .colab-df-quickchart {\n",
              "      --bg-color: #E8F0FE;\n",
              "      --fill-color: #1967D2;\n",
              "      --hover-bg-color: #E2EBFA;\n",
              "      --hover-fill-color: #174EA6;\n",
              "      --disabled-fill-color: #AAA;\n",
              "      --disabled-bg-color: #DDD;\n",
              "  }\n",
              "\n",
              "  [theme=dark] .colab-df-quickchart {\n",
              "      --bg-color: #3B4455;\n",
              "      --fill-color: #D2E3FC;\n",
              "      --hover-bg-color: #434B5C;\n",
              "      --hover-fill-color: #FFFFFF;\n",
              "      --disabled-bg-color: #3B4455;\n",
              "      --disabled-fill-color: #666;\n",
              "  }\n",
              "\n",
              "  .colab-df-quickchart {\n",
              "    background-color: var(--bg-color);\n",
              "    border: none;\n",
              "    border-radius: 50%;\n",
              "    cursor: pointer;\n",
              "    display: none;\n",
              "    fill: var(--fill-color);\n",
              "    height: 32px;\n",
              "    padding: 0;\n",
              "    width: 32px;\n",
              "  }\n",
              "\n",
              "  .colab-df-quickchart:hover {\n",
              "    background-color: var(--hover-bg-color);\n",
              "    box-shadow: 0 1px 2px rgba(60, 64, 67, 0.3), 0 1px 3px 1px rgba(60, 64, 67, 0.15);\n",
              "    fill: var(--button-hover-fill-color);\n",
              "  }\n",
              "\n",
              "  .colab-df-quickchart-complete:disabled,\n",
              "  .colab-df-quickchart-complete:disabled:hover {\n",
              "    background-color: var(--disabled-bg-color);\n",
              "    fill: var(--disabled-fill-color);\n",
              "    box-shadow: none;\n",
              "  }\n",
              "\n",
              "  .colab-df-spinner {\n",
              "    border: 2px solid var(--fill-color);\n",
              "    border-color: transparent;\n",
              "    border-bottom-color: var(--fill-color);\n",
              "    animation:\n",
              "      spin 1s steps(1) infinite;\n",
              "  }\n",
              "\n",
              "  @keyframes spin {\n",
              "    0% {\n",
              "      border-color: transparent;\n",
              "      border-bottom-color: var(--fill-color);\n",
              "      border-left-color: var(--fill-color);\n",
              "    }\n",
              "    20% {\n",
              "      border-color: transparent;\n",
              "      border-left-color: var(--fill-color);\n",
              "      border-top-color: var(--fill-color);\n",
              "    }\n",
              "    30% {\n",
              "      border-color: transparent;\n",
              "      border-left-color: var(--fill-color);\n",
              "      border-top-color: var(--fill-color);\n",
              "      border-right-color: var(--fill-color);\n",
              "    }\n",
              "    40% {\n",
              "      border-color: transparent;\n",
              "      border-right-color: var(--fill-color);\n",
              "      border-top-color: var(--fill-color);\n",
              "    }\n",
              "    60% {\n",
              "      border-color: transparent;\n",
              "      border-right-color: var(--fill-color);\n",
              "    }\n",
              "    80% {\n",
              "      border-color: transparent;\n",
              "      border-right-color: var(--fill-color);\n",
              "      border-bottom-color: var(--fill-color);\n",
              "    }\n",
              "    90% {\n",
              "      border-color: transparent;\n",
              "      border-bottom-color: var(--fill-color);\n",
              "    }\n",
              "  }\n",
              "</style>\n",
              "\n",
              "  <script>\n",
              "    async function quickchart(key) {\n",
              "      const quickchartButtonEl =\n",
              "        document.querySelector('#' + key + ' button');\n",
              "      quickchartButtonEl.disabled = true;  // To prevent multiple clicks.\n",
              "      quickchartButtonEl.classList.add('colab-df-spinner');\n",
              "      try {\n",
              "        const charts = await google.colab.kernel.invokeFunction(\n",
              "            'suggestCharts', [key], {});\n",
              "      } catch (error) {\n",
              "        console.error('Error during call to suggestCharts:', error);\n",
              "      }\n",
              "      quickchartButtonEl.classList.remove('colab-df-spinner');\n",
              "      quickchartButtonEl.classList.add('colab-df-quickchart-complete');\n",
              "    }\n",
              "    (() => {\n",
              "      let quickchartButtonEl =\n",
              "        document.querySelector('#df-d6eabf77-cc65-4f04-a99f-32b0af52c402 button');\n",
              "      quickchartButtonEl.style.display =\n",
              "        google.colab.kernel.accessAllowed ? 'block' : 'none';\n",
              "    })();\n",
              "  </script>\n",
              "</div>\n",
              "\n",
              "    </div>\n",
              "  </div>\n"
            ],
            "application/vnd.google.colaboratory.intrinsic+json": {
              "type": "dataframe",
              "variable_name": "df"
            }
          },
          "metadata": {},
          "execution_count": 6
        }
      ]
    },
    {
      "cell_type": "code",
      "source": [
        "df.tail()"
      ],
      "metadata": {
        "colab": {
          "base_uri": "https://localhost:8080/",
          "height": 226
        },
        "id": "HQ6ey41YB8OO",
        "outputId": "281178e3-474c-41a7-e760-07ab0a22e101"
      },
      "execution_count": 7,
      "outputs": [
        {
          "output_type": "execute_result",
          "data": {
            "text/plain": [
              "       Region Soil_Type    Crop  Rainfall_mm  Temperature_Celsius  \\\n",
              "999995   West      Silt    Rice   302.805345            27.987428   \n",
              "999996  South    Chalky  Barley   932.991383            39.661039   \n",
              "999997  North     Peaty  Cotton   867.362046            24.370042   \n",
              "999998   West      Silt   Wheat   492.812857            33.045505   \n",
              "999999   West     Sandy   Maize   180.936180            27.298847   \n",
              "\n",
              "        Fertilizer_Used  Irrigation_Used Weather_Condition  Days_to_Harvest  \\\n",
              "999995            False            False             Sunny               76   \n",
              "999996             True            False             Rainy               93   \n",
              "999997             True            False            Cloudy              108   \n",
              "999998            False            False             Sunny              102   \n",
              "999999             True            False             Sunny               76   \n",
              "\n",
              "        Yield_tons_per_hectare  \n",
              "999995                1.347586  \n",
              "999996                7.311594  \n",
              "999997                5.763182  \n",
              "999998                2.070159  \n",
              "999999                2.937243  "
            ],
            "text/html": [
              "\n",
              "  <div id=\"df-64f00ecc-3f79-4122-8f4d-ccab4ee9bb08\" class=\"colab-df-container\">\n",
              "    <div>\n",
              "<style scoped>\n",
              "    .dataframe tbody tr th:only-of-type {\n",
              "        vertical-align: middle;\n",
              "    }\n",
              "\n",
              "    .dataframe tbody tr th {\n",
              "        vertical-align: top;\n",
              "    }\n",
              "\n",
              "    .dataframe thead th {\n",
              "        text-align: right;\n",
              "    }\n",
              "</style>\n",
              "<table border=\"1\" class=\"dataframe\">\n",
              "  <thead>\n",
              "    <tr style=\"text-align: right;\">\n",
              "      <th></th>\n",
              "      <th>Region</th>\n",
              "      <th>Soil_Type</th>\n",
              "      <th>Crop</th>\n",
              "      <th>Rainfall_mm</th>\n",
              "      <th>Temperature_Celsius</th>\n",
              "      <th>Fertilizer_Used</th>\n",
              "      <th>Irrigation_Used</th>\n",
              "      <th>Weather_Condition</th>\n",
              "      <th>Days_to_Harvest</th>\n",
              "      <th>Yield_tons_per_hectare</th>\n",
              "    </tr>\n",
              "  </thead>\n",
              "  <tbody>\n",
              "    <tr>\n",
              "      <th>999995</th>\n",
              "      <td>West</td>\n",
              "      <td>Silt</td>\n",
              "      <td>Rice</td>\n",
              "      <td>302.805345</td>\n",
              "      <td>27.987428</td>\n",
              "      <td>False</td>\n",
              "      <td>False</td>\n",
              "      <td>Sunny</td>\n",
              "      <td>76</td>\n",
              "      <td>1.347586</td>\n",
              "    </tr>\n",
              "    <tr>\n",
              "      <th>999996</th>\n",
              "      <td>South</td>\n",
              "      <td>Chalky</td>\n",
              "      <td>Barley</td>\n",
              "      <td>932.991383</td>\n",
              "      <td>39.661039</td>\n",
              "      <td>True</td>\n",
              "      <td>False</td>\n",
              "      <td>Rainy</td>\n",
              "      <td>93</td>\n",
              "      <td>7.311594</td>\n",
              "    </tr>\n",
              "    <tr>\n",
              "      <th>999997</th>\n",
              "      <td>North</td>\n",
              "      <td>Peaty</td>\n",
              "      <td>Cotton</td>\n",
              "      <td>867.362046</td>\n",
              "      <td>24.370042</td>\n",
              "      <td>True</td>\n",
              "      <td>False</td>\n",
              "      <td>Cloudy</td>\n",
              "      <td>108</td>\n",
              "      <td>5.763182</td>\n",
              "    </tr>\n",
              "    <tr>\n",
              "      <th>999998</th>\n",
              "      <td>West</td>\n",
              "      <td>Silt</td>\n",
              "      <td>Wheat</td>\n",
              "      <td>492.812857</td>\n",
              "      <td>33.045505</td>\n",
              "      <td>False</td>\n",
              "      <td>False</td>\n",
              "      <td>Sunny</td>\n",
              "      <td>102</td>\n",
              "      <td>2.070159</td>\n",
              "    </tr>\n",
              "    <tr>\n",
              "      <th>999999</th>\n",
              "      <td>West</td>\n",
              "      <td>Sandy</td>\n",
              "      <td>Maize</td>\n",
              "      <td>180.936180</td>\n",
              "      <td>27.298847</td>\n",
              "      <td>True</td>\n",
              "      <td>False</td>\n",
              "      <td>Sunny</td>\n",
              "      <td>76</td>\n",
              "      <td>2.937243</td>\n",
              "    </tr>\n",
              "  </tbody>\n",
              "</table>\n",
              "</div>\n",
              "    <div class=\"colab-df-buttons\">\n",
              "\n",
              "  <div class=\"colab-df-container\">\n",
              "    <button class=\"colab-df-convert\" onclick=\"convertToInteractive('df-64f00ecc-3f79-4122-8f4d-ccab4ee9bb08')\"\n",
              "            title=\"Convert this dataframe to an interactive table.\"\n",
              "            style=\"display:none;\">\n",
              "\n",
              "  <svg xmlns=\"http://www.w3.org/2000/svg\" height=\"24px\" viewBox=\"0 -960 960 960\">\n",
              "    <path d=\"M120-120v-720h720v720H120Zm60-500h600v-160H180v160Zm220 220h160v-160H400v160Zm0 220h160v-160H400v160ZM180-400h160v-160H180v160Zm440 0h160v-160H620v160ZM180-180h160v-160H180v160Zm440 0h160v-160H620v160Z\"/>\n",
              "  </svg>\n",
              "    </button>\n",
              "\n",
              "  <style>\n",
              "    .colab-df-container {\n",
              "      display:flex;\n",
              "      gap: 12px;\n",
              "    }\n",
              "\n",
              "    .colab-df-convert {\n",
              "      background-color: #E8F0FE;\n",
              "      border: none;\n",
              "      border-radius: 50%;\n",
              "      cursor: pointer;\n",
              "      display: none;\n",
              "      fill: #1967D2;\n",
              "      height: 32px;\n",
              "      padding: 0 0 0 0;\n",
              "      width: 32px;\n",
              "    }\n",
              "\n",
              "    .colab-df-convert:hover {\n",
              "      background-color: #E2EBFA;\n",
              "      box-shadow: 0px 1px 2px rgba(60, 64, 67, 0.3), 0px 1px 3px 1px rgba(60, 64, 67, 0.15);\n",
              "      fill: #174EA6;\n",
              "    }\n",
              "\n",
              "    .colab-df-buttons div {\n",
              "      margin-bottom: 4px;\n",
              "    }\n",
              "\n",
              "    [theme=dark] .colab-df-convert {\n",
              "      background-color: #3B4455;\n",
              "      fill: #D2E3FC;\n",
              "    }\n",
              "\n",
              "    [theme=dark] .colab-df-convert:hover {\n",
              "      background-color: #434B5C;\n",
              "      box-shadow: 0px 1px 3px 1px rgba(0, 0, 0, 0.15);\n",
              "      filter: drop-shadow(0px 1px 2px rgba(0, 0, 0, 0.3));\n",
              "      fill: #FFFFFF;\n",
              "    }\n",
              "  </style>\n",
              "\n",
              "    <script>\n",
              "      const buttonEl =\n",
              "        document.querySelector('#df-64f00ecc-3f79-4122-8f4d-ccab4ee9bb08 button.colab-df-convert');\n",
              "      buttonEl.style.display =\n",
              "        google.colab.kernel.accessAllowed ? 'block' : 'none';\n",
              "\n",
              "      async function convertToInteractive(key) {\n",
              "        const element = document.querySelector('#df-64f00ecc-3f79-4122-8f4d-ccab4ee9bb08');\n",
              "        const dataTable =\n",
              "          await google.colab.kernel.invokeFunction('convertToInteractive',\n",
              "                                                    [key], {});\n",
              "        if (!dataTable) return;\n",
              "\n",
              "        const docLinkHtml = 'Like what you see? Visit the ' +\n",
              "          '<a target=\"_blank\" href=https://colab.research.google.com/notebooks/data_table.ipynb>data table notebook</a>'\n",
              "          + ' to learn more about interactive tables.';\n",
              "        element.innerHTML = '';\n",
              "        dataTable['output_type'] = 'display_data';\n",
              "        await google.colab.output.renderOutput(dataTable, element);\n",
              "        const docLink = document.createElement('div');\n",
              "        docLink.innerHTML = docLinkHtml;\n",
              "        element.appendChild(docLink);\n",
              "      }\n",
              "    </script>\n",
              "  </div>\n",
              "\n",
              "\n",
              "<div id=\"df-0848cdbf-4d11-4b02-8ab0-564099c9feea\">\n",
              "  <button class=\"colab-df-quickchart\" onclick=\"quickchart('df-0848cdbf-4d11-4b02-8ab0-564099c9feea')\"\n",
              "            title=\"Suggest charts\"\n",
              "            style=\"display:none;\">\n",
              "\n",
              "<svg xmlns=\"http://www.w3.org/2000/svg\" height=\"24px\"viewBox=\"0 0 24 24\"\n",
              "     width=\"24px\">\n",
              "    <g>\n",
              "        <path d=\"M19 3H5c-1.1 0-2 .9-2 2v14c0 1.1.9 2 2 2h14c1.1 0 2-.9 2-2V5c0-1.1-.9-2-2-2zM9 17H7v-7h2v7zm4 0h-2V7h2v10zm4 0h-2v-4h2v4z\"/>\n",
              "    </g>\n",
              "</svg>\n",
              "  </button>\n",
              "\n",
              "<style>\n",
              "  .colab-df-quickchart {\n",
              "      --bg-color: #E8F0FE;\n",
              "      --fill-color: #1967D2;\n",
              "      --hover-bg-color: #E2EBFA;\n",
              "      --hover-fill-color: #174EA6;\n",
              "      --disabled-fill-color: #AAA;\n",
              "      --disabled-bg-color: #DDD;\n",
              "  }\n",
              "\n",
              "  [theme=dark] .colab-df-quickchart {\n",
              "      --bg-color: #3B4455;\n",
              "      --fill-color: #D2E3FC;\n",
              "      --hover-bg-color: #434B5C;\n",
              "      --hover-fill-color: #FFFFFF;\n",
              "      --disabled-bg-color: #3B4455;\n",
              "      --disabled-fill-color: #666;\n",
              "  }\n",
              "\n",
              "  .colab-df-quickchart {\n",
              "    background-color: var(--bg-color);\n",
              "    border: none;\n",
              "    border-radius: 50%;\n",
              "    cursor: pointer;\n",
              "    display: none;\n",
              "    fill: var(--fill-color);\n",
              "    height: 32px;\n",
              "    padding: 0;\n",
              "    width: 32px;\n",
              "  }\n",
              "\n",
              "  .colab-df-quickchart:hover {\n",
              "    background-color: var(--hover-bg-color);\n",
              "    box-shadow: 0 1px 2px rgba(60, 64, 67, 0.3), 0 1px 3px 1px rgba(60, 64, 67, 0.15);\n",
              "    fill: var(--button-hover-fill-color);\n",
              "  }\n",
              "\n",
              "  .colab-df-quickchart-complete:disabled,\n",
              "  .colab-df-quickchart-complete:disabled:hover {\n",
              "    background-color: var(--disabled-bg-color);\n",
              "    fill: var(--disabled-fill-color);\n",
              "    box-shadow: none;\n",
              "  }\n",
              "\n",
              "  .colab-df-spinner {\n",
              "    border: 2px solid var(--fill-color);\n",
              "    border-color: transparent;\n",
              "    border-bottom-color: var(--fill-color);\n",
              "    animation:\n",
              "      spin 1s steps(1) infinite;\n",
              "  }\n",
              "\n",
              "  @keyframes spin {\n",
              "    0% {\n",
              "      border-color: transparent;\n",
              "      border-bottom-color: var(--fill-color);\n",
              "      border-left-color: var(--fill-color);\n",
              "    }\n",
              "    20% {\n",
              "      border-color: transparent;\n",
              "      border-left-color: var(--fill-color);\n",
              "      border-top-color: var(--fill-color);\n",
              "    }\n",
              "    30% {\n",
              "      border-color: transparent;\n",
              "      border-left-color: var(--fill-color);\n",
              "      border-top-color: var(--fill-color);\n",
              "      border-right-color: var(--fill-color);\n",
              "    }\n",
              "    40% {\n",
              "      border-color: transparent;\n",
              "      border-right-color: var(--fill-color);\n",
              "      border-top-color: var(--fill-color);\n",
              "    }\n",
              "    60% {\n",
              "      border-color: transparent;\n",
              "      border-right-color: var(--fill-color);\n",
              "    }\n",
              "    80% {\n",
              "      border-color: transparent;\n",
              "      border-right-color: var(--fill-color);\n",
              "      border-bottom-color: var(--fill-color);\n",
              "    }\n",
              "    90% {\n",
              "      border-color: transparent;\n",
              "      border-bottom-color: var(--fill-color);\n",
              "    }\n",
              "  }\n",
              "</style>\n",
              "\n",
              "  <script>\n",
              "    async function quickchart(key) {\n",
              "      const quickchartButtonEl =\n",
              "        document.querySelector('#' + key + ' button');\n",
              "      quickchartButtonEl.disabled = true;  // To prevent multiple clicks.\n",
              "      quickchartButtonEl.classList.add('colab-df-spinner');\n",
              "      try {\n",
              "        const charts = await google.colab.kernel.invokeFunction(\n",
              "            'suggestCharts', [key], {});\n",
              "      } catch (error) {\n",
              "        console.error('Error during call to suggestCharts:', error);\n",
              "      }\n",
              "      quickchartButtonEl.classList.remove('colab-df-spinner');\n",
              "      quickchartButtonEl.classList.add('colab-df-quickchart-complete');\n",
              "    }\n",
              "    (() => {\n",
              "      let quickchartButtonEl =\n",
              "        document.querySelector('#df-0848cdbf-4d11-4b02-8ab0-564099c9feea button');\n",
              "      quickchartButtonEl.style.display =\n",
              "        google.colab.kernel.accessAllowed ? 'block' : 'none';\n",
              "    })();\n",
              "  </script>\n",
              "</div>\n",
              "\n",
              "    </div>\n",
              "  </div>\n"
            ],
            "application/vnd.google.colaboratory.intrinsic+json": {
              "type": "dataframe",
              "summary": "{\n  \"name\": \"df\",\n  \"rows\": 5,\n  \"fields\": [\n    {\n      \"column\": \"Region\",\n      \"properties\": {\n        \"dtype\": \"string\",\n        \"num_unique_values\": 3,\n        \"samples\": [\n          \"West\",\n          \"South\",\n          \"North\"\n        ],\n        \"semantic_type\": \"\",\n        \"description\": \"\"\n      }\n    },\n    {\n      \"column\": \"Soil_Type\",\n      \"properties\": {\n        \"dtype\": \"string\",\n        \"num_unique_values\": 4,\n        \"samples\": [\n          \"Chalky\",\n          \"Sandy\",\n          \"Silt\"\n        ],\n        \"semantic_type\": \"\",\n        \"description\": \"\"\n      }\n    },\n    {\n      \"column\": \"Crop\",\n      \"properties\": {\n        \"dtype\": \"string\",\n        \"num_unique_values\": 5,\n        \"samples\": [\n          \"Barley\",\n          \"Maize\",\n          \"Cotton\"\n        ],\n        \"semantic_type\": \"\",\n        \"description\": \"\"\n      }\n    },\n    {\n      \"column\": \"Rainfall_mm\",\n      \"properties\": {\n        \"dtype\": \"number\",\n        \"std\": 334.60421833627066,\n        \"min\": 180.93618014091197,\n        \"max\": 932.9913826970708,\n        \"num_unique_values\": 5,\n        \"samples\": [\n          932.9913826970708,\n          180.93618014091197,\n          867.3620462242392\n        ],\n        \"semantic_type\": \"\",\n        \"description\": \"\"\n      }\n    },\n    {\n      \"column\": \"Temperature_Celsius\",\n      \"properties\": {\n        \"dtype\": \"number\",\n        \"std\": 6.011182307690665,\n        \"min\": 24.37004189198828,\n        \"max\": 39.661038852103545,\n        \"num_unique_values\": 5,\n        \"samples\": [\n          39.661038852103545,\n          27.29884735157434,\n          24.37004189198828\n        ],\n        \"semantic_type\": \"\",\n        \"description\": \"\"\n      }\n    },\n    {\n      \"column\": \"Fertilizer_Used\",\n      \"properties\": {\n        \"dtype\": \"boolean\",\n        \"num_unique_values\": 2,\n        \"samples\": [\n          true,\n          false\n        ],\n        \"semantic_type\": \"\",\n        \"description\": \"\"\n      }\n    },\n    {\n      \"column\": \"Irrigation_Used\",\n      \"properties\": {\n        \"dtype\": \"boolean\",\n        \"num_unique_values\": 1,\n        \"samples\": [\n          false\n        ],\n        \"semantic_type\": \"\",\n        \"description\": \"\"\n      }\n    },\n    {\n      \"column\": \"Weather_Condition\",\n      \"properties\": {\n        \"dtype\": \"string\",\n        \"num_unique_values\": 3,\n        \"samples\": [\n          \"Sunny\"\n        ],\n        \"semantic_type\": \"\",\n        \"description\": \"\"\n      }\n    },\n    {\n      \"column\": \"Days_to_Harvest\",\n      \"properties\": {\n        \"dtype\": \"number\",\n        \"std\": 14,\n        \"min\": 76,\n        \"max\": 108,\n        \"num_unique_values\": 4,\n        \"samples\": [\n          93\n        ],\n        \"semantic_type\": \"\",\n        \"description\": \"\"\n      }\n    },\n    {\n      \"column\": \"Yield_tons_per_hectare\",\n      \"properties\": {\n        \"dtype\": \"number\",\n        \"std\": 2.544576197927555,\n        \"min\": 1.3475858337928557,\n        \"max\": 7.311594050576929,\n        \"num_unique_values\": 5,\n        \"samples\": [\n          7.311594050576929\n        ],\n        \"semantic_type\": \"\",\n        \"description\": \"\"\n      }\n    }\n  ]\n}"
            }
          },
          "metadata": {},
          "execution_count": 7
        }
      ]
    },
    {
      "cell_type": "code",
      "source": [
        "df.info()"
      ],
      "metadata": {
        "colab": {
          "base_uri": "https://localhost:8080/"
        },
        "id": "BL4HK9GFCLEu",
        "outputId": "98a0abb6-b533-439e-93fd-7f97fde6379c"
      },
      "execution_count": 8,
      "outputs": [
        {
          "output_type": "stream",
          "name": "stdout",
          "text": [
            "<class 'pandas.core.frame.DataFrame'>\n",
            "RangeIndex: 1000000 entries, 0 to 999999\n",
            "Data columns (total 10 columns):\n",
            " #   Column                  Non-Null Count    Dtype  \n",
            "---  ------                  --------------    -----  \n",
            " 0   Region                  1000000 non-null  object \n",
            " 1   Soil_Type               1000000 non-null  object \n",
            " 2   Crop                    1000000 non-null  object \n",
            " 3   Rainfall_mm             1000000 non-null  float64\n",
            " 4   Temperature_Celsius     1000000 non-null  float64\n",
            " 5   Fertilizer_Used         1000000 non-null  bool   \n",
            " 6   Irrigation_Used         1000000 non-null  bool   \n",
            " 7   Weather_Condition       1000000 non-null  object \n",
            " 8   Days_to_Harvest         1000000 non-null  int64  \n",
            " 9   Yield_tons_per_hectare  1000000 non-null  float64\n",
            "dtypes: bool(2), float64(3), int64(1), object(4)\n",
            "memory usage: 62.9+ MB\n"
          ]
        }
      ]
    },
    {
      "cell_type": "code",
      "source": [
        "df.columns"
      ],
      "metadata": {
        "colab": {
          "base_uri": "https://localhost:8080/"
        },
        "id": "CxCCcH_3n8Ws",
        "outputId": "707a9bd7-5299-4ca7-9d82-a1120dba66ef"
      },
      "execution_count": 9,
      "outputs": [
        {
          "output_type": "execute_result",
          "data": {
            "text/plain": [
              "Index(['Region', 'Soil_Type', 'Crop', 'Rainfall_mm', 'Temperature_Celsius',\n",
              "       'Fertilizer_Used', 'Irrigation_Used', 'Weather_Condition',\n",
              "       'Days_to_Harvest', 'Yield_tons_per_hectare'],\n",
              "      dtype='object')"
            ]
          },
          "metadata": {},
          "execution_count": 9
        }
      ]
    },
    {
      "cell_type": "code",
      "source": [
        "df.dtypes"
      ],
      "metadata": {
        "colab": {
          "base_uri": "https://localhost:8080/",
          "height": 398
        },
        "id": "j-U5TSYloNQx",
        "outputId": "071f82a0-fe32-4c08-b232-c329d802e47c"
      },
      "execution_count": 10,
      "outputs": [
        {
          "output_type": "execute_result",
          "data": {
            "text/plain": [
              "Region                     object\n",
              "Soil_Type                  object\n",
              "Crop                       object\n",
              "Rainfall_mm               float64\n",
              "Temperature_Celsius       float64\n",
              "Fertilizer_Used              bool\n",
              "Irrigation_Used              bool\n",
              "Weather_Condition          object\n",
              "Days_to_Harvest             int64\n",
              "Yield_tons_per_hectare    float64\n",
              "dtype: object"
            ],
            "text/html": [
              "<div>\n",
              "<style scoped>\n",
              "    .dataframe tbody tr th:only-of-type {\n",
              "        vertical-align: middle;\n",
              "    }\n",
              "\n",
              "    .dataframe tbody tr th {\n",
              "        vertical-align: top;\n",
              "    }\n",
              "\n",
              "    .dataframe thead th {\n",
              "        text-align: right;\n",
              "    }\n",
              "</style>\n",
              "<table border=\"1\" class=\"dataframe\">\n",
              "  <thead>\n",
              "    <tr style=\"text-align: right;\">\n",
              "      <th></th>\n",
              "      <th>0</th>\n",
              "    </tr>\n",
              "  </thead>\n",
              "  <tbody>\n",
              "    <tr>\n",
              "      <th>Region</th>\n",
              "      <td>object</td>\n",
              "    </tr>\n",
              "    <tr>\n",
              "      <th>Soil_Type</th>\n",
              "      <td>object</td>\n",
              "    </tr>\n",
              "    <tr>\n",
              "      <th>Crop</th>\n",
              "      <td>object</td>\n",
              "    </tr>\n",
              "    <tr>\n",
              "      <th>Rainfall_mm</th>\n",
              "      <td>float64</td>\n",
              "    </tr>\n",
              "    <tr>\n",
              "      <th>Temperature_Celsius</th>\n",
              "      <td>float64</td>\n",
              "    </tr>\n",
              "    <tr>\n",
              "      <th>Fertilizer_Used</th>\n",
              "      <td>bool</td>\n",
              "    </tr>\n",
              "    <tr>\n",
              "      <th>Irrigation_Used</th>\n",
              "      <td>bool</td>\n",
              "    </tr>\n",
              "    <tr>\n",
              "      <th>Weather_Condition</th>\n",
              "      <td>object</td>\n",
              "    </tr>\n",
              "    <tr>\n",
              "      <th>Days_to_Harvest</th>\n",
              "      <td>int64</td>\n",
              "    </tr>\n",
              "    <tr>\n",
              "      <th>Yield_tons_per_hectare</th>\n",
              "      <td>float64</td>\n",
              "    </tr>\n",
              "  </tbody>\n",
              "</table>\n",
              "</div><br><label><b>dtype:</b> object</label>"
            ]
          },
          "metadata": {},
          "execution_count": 10
        }
      ]
    },
    {
      "cell_type": "code",
      "source": [
        "df.shape"
      ],
      "metadata": {
        "colab": {
          "base_uri": "https://localhost:8080/"
        },
        "id": "Z7UK3azRoSXp",
        "outputId": "d9867584-03aa-4ded-cdd8-6221c572d2ef"
      },
      "execution_count": 11,
      "outputs": [
        {
          "output_type": "execute_result",
          "data": {
            "text/plain": [
              "(1000000, 10)"
            ]
          },
          "metadata": {},
          "execution_count": 11
        }
      ]
    },
    {
      "cell_type": "code",
      "source": [
        "df.isnull().sum()"
      ],
      "metadata": {
        "colab": {
          "base_uri": "https://localhost:8080/",
          "height": 398
        },
        "id": "wAzdFPcx5hx3",
        "outputId": "66db14cd-10ce-46f0-c320-b8557acef64a"
      },
      "execution_count": 12,
      "outputs": [
        {
          "output_type": "execute_result",
          "data": {
            "text/plain": [
              "Region                    0\n",
              "Soil_Type                 0\n",
              "Crop                      0\n",
              "Rainfall_mm               0\n",
              "Temperature_Celsius       0\n",
              "Fertilizer_Used           0\n",
              "Irrigation_Used           0\n",
              "Weather_Condition         0\n",
              "Days_to_Harvest           0\n",
              "Yield_tons_per_hectare    0\n",
              "dtype: int64"
            ],
            "text/html": [
              "<div>\n",
              "<style scoped>\n",
              "    .dataframe tbody tr th:only-of-type {\n",
              "        vertical-align: middle;\n",
              "    }\n",
              "\n",
              "    .dataframe tbody tr th {\n",
              "        vertical-align: top;\n",
              "    }\n",
              "\n",
              "    .dataframe thead th {\n",
              "        text-align: right;\n",
              "    }\n",
              "</style>\n",
              "<table border=\"1\" class=\"dataframe\">\n",
              "  <thead>\n",
              "    <tr style=\"text-align: right;\">\n",
              "      <th></th>\n",
              "      <th>0</th>\n",
              "    </tr>\n",
              "  </thead>\n",
              "  <tbody>\n",
              "    <tr>\n",
              "      <th>Region</th>\n",
              "      <td>0</td>\n",
              "    </tr>\n",
              "    <tr>\n",
              "      <th>Soil_Type</th>\n",
              "      <td>0</td>\n",
              "    </tr>\n",
              "    <tr>\n",
              "      <th>Crop</th>\n",
              "      <td>0</td>\n",
              "    </tr>\n",
              "    <tr>\n",
              "      <th>Rainfall_mm</th>\n",
              "      <td>0</td>\n",
              "    </tr>\n",
              "    <tr>\n",
              "      <th>Temperature_Celsius</th>\n",
              "      <td>0</td>\n",
              "    </tr>\n",
              "    <tr>\n",
              "      <th>Fertilizer_Used</th>\n",
              "      <td>0</td>\n",
              "    </tr>\n",
              "    <tr>\n",
              "      <th>Irrigation_Used</th>\n",
              "      <td>0</td>\n",
              "    </tr>\n",
              "    <tr>\n",
              "      <th>Weather_Condition</th>\n",
              "      <td>0</td>\n",
              "    </tr>\n",
              "    <tr>\n",
              "      <th>Days_to_Harvest</th>\n",
              "      <td>0</td>\n",
              "    </tr>\n",
              "    <tr>\n",
              "      <th>Yield_tons_per_hectare</th>\n",
              "      <td>0</td>\n",
              "    </tr>\n",
              "  </tbody>\n",
              "</table>\n",
              "</div><br><label><b>dtype:</b> int64</label>"
            ]
          },
          "metadata": {},
          "execution_count": 12
        }
      ]
    },
    {
      "cell_type": "code",
      "source": [
        "df.describe().T"
      ],
      "metadata": {
        "id": "WrOmR59yqAXY",
        "colab": {
          "base_uri": "https://localhost:8080/",
          "height": 175
        },
        "outputId": "4405098a-5934-45a1-9362-8d65f9eef7ef"
      },
      "execution_count": 13,
      "outputs": [
        {
          "output_type": "execute_result",
          "data": {
            "text/plain": [
              "                            count        mean         std         min  \\\n",
              "Rainfall_mm             1000000.0  549.981901  259.851320  100.000896   \n",
              "Temperature_Celsius     1000000.0   27.504965    7.220608   15.000034   \n",
              "Days_to_Harvest         1000000.0  104.495025   25.953412   60.000000   \n",
              "Yield_tons_per_hectare  1000000.0    4.649472    1.696572   -1.147613   \n",
              "\n",
              "                               25%         50%         75%         max  \n",
              "Rainfall_mm             324.891090  550.124061  774.738520  999.998098  \n",
              "Temperature_Celsius      21.254502   27.507365   33.753267   39.999997  \n",
              "Days_to_Harvest          82.000000  104.000000  127.000000  149.000000  \n",
              "Yield_tons_per_hectare    3.417637    4.651808    5.879200    9.963372  "
            ],
            "text/html": [
              "\n",
              "  <div id=\"df-a3e70819-d43b-4f35-9e2d-3b38ce34fb47\" class=\"colab-df-container\">\n",
              "    <div>\n",
              "<style scoped>\n",
              "    .dataframe tbody tr th:only-of-type {\n",
              "        vertical-align: middle;\n",
              "    }\n",
              "\n",
              "    .dataframe tbody tr th {\n",
              "        vertical-align: top;\n",
              "    }\n",
              "\n",
              "    .dataframe thead th {\n",
              "        text-align: right;\n",
              "    }\n",
              "</style>\n",
              "<table border=\"1\" class=\"dataframe\">\n",
              "  <thead>\n",
              "    <tr style=\"text-align: right;\">\n",
              "      <th></th>\n",
              "      <th>count</th>\n",
              "      <th>mean</th>\n",
              "      <th>std</th>\n",
              "      <th>min</th>\n",
              "      <th>25%</th>\n",
              "      <th>50%</th>\n",
              "      <th>75%</th>\n",
              "      <th>max</th>\n",
              "    </tr>\n",
              "  </thead>\n",
              "  <tbody>\n",
              "    <tr>\n",
              "      <th>Rainfall_mm</th>\n",
              "      <td>1000000.0</td>\n",
              "      <td>549.981901</td>\n",
              "      <td>259.851320</td>\n",
              "      <td>100.000896</td>\n",
              "      <td>324.891090</td>\n",
              "      <td>550.124061</td>\n",
              "      <td>774.738520</td>\n",
              "      <td>999.998098</td>\n",
              "    </tr>\n",
              "    <tr>\n",
              "      <th>Temperature_Celsius</th>\n",
              "      <td>1000000.0</td>\n",
              "      <td>27.504965</td>\n",
              "      <td>7.220608</td>\n",
              "      <td>15.000034</td>\n",
              "      <td>21.254502</td>\n",
              "      <td>27.507365</td>\n",
              "      <td>33.753267</td>\n",
              "      <td>39.999997</td>\n",
              "    </tr>\n",
              "    <tr>\n",
              "      <th>Days_to_Harvest</th>\n",
              "      <td>1000000.0</td>\n",
              "      <td>104.495025</td>\n",
              "      <td>25.953412</td>\n",
              "      <td>60.000000</td>\n",
              "      <td>82.000000</td>\n",
              "      <td>104.000000</td>\n",
              "      <td>127.000000</td>\n",
              "      <td>149.000000</td>\n",
              "    </tr>\n",
              "    <tr>\n",
              "      <th>Yield_tons_per_hectare</th>\n",
              "      <td>1000000.0</td>\n",
              "      <td>4.649472</td>\n",
              "      <td>1.696572</td>\n",
              "      <td>-1.147613</td>\n",
              "      <td>3.417637</td>\n",
              "      <td>4.651808</td>\n",
              "      <td>5.879200</td>\n",
              "      <td>9.963372</td>\n",
              "    </tr>\n",
              "  </tbody>\n",
              "</table>\n",
              "</div>\n",
              "    <div class=\"colab-df-buttons\">\n",
              "\n",
              "  <div class=\"colab-df-container\">\n",
              "    <button class=\"colab-df-convert\" onclick=\"convertToInteractive('df-a3e70819-d43b-4f35-9e2d-3b38ce34fb47')\"\n",
              "            title=\"Convert this dataframe to an interactive table.\"\n",
              "            style=\"display:none;\">\n",
              "\n",
              "  <svg xmlns=\"http://www.w3.org/2000/svg\" height=\"24px\" viewBox=\"0 -960 960 960\">\n",
              "    <path d=\"M120-120v-720h720v720H120Zm60-500h600v-160H180v160Zm220 220h160v-160H400v160Zm0 220h160v-160H400v160ZM180-400h160v-160H180v160Zm440 0h160v-160H620v160ZM180-180h160v-160H180v160Zm440 0h160v-160H620v160Z\"/>\n",
              "  </svg>\n",
              "    </button>\n",
              "\n",
              "  <style>\n",
              "    .colab-df-container {\n",
              "      display:flex;\n",
              "      gap: 12px;\n",
              "    }\n",
              "\n",
              "    .colab-df-convert {\n",
              "      background-color: #E8F0FE;\n",
              "      border: none;\n",
              "      border-radius: 50%;\n",
              "      cursor: pointer;\n",
              "      display: none;\n",
              "      fill: #1967D2;\n",
              "      height: 32px;\n",
              "      padding: 0 0 0 0;\n",
              "      width: 32px;\n",
              "    }\n",
              "\n",
              "    .colab-df-convert:hover {\n",
              "      background-color: #E2EBFA;\n",
              "      box-shadow: 0px 1px 2px rgba(60, 64, 67, 0.3), 0px 1px 3px 1px rgba(60, 64, 67, 0.15);\n",
              "      fill: #174EA6;\n",
              "    }\n",
              "\n",
              "    .colab-df-buttons div {\n",
              "      margin-bottom: 4px;\n",
              "    }\n",
              "\n",
              "    [theme=dark] .colab-df-convert {\n",
              "      background-color: #3B4455;\n",
              "      fill: #D2E3FC;\n",
              "    }\n",
              "\n",
              "    [theme=dark] .colab-df-convert:hover {\n",
              "      background-color: #434B5C;\n",
              "      box-shadow: 0px 1px 3px 1px rgba(0, 0, 0, 0.15);\n",
              "      filter: drop-shadow(0px 1px 2px rgba(0, 0, 0, 0.3));\n",
              "      fill: #FFFFFF;\n",
              "    }\n",
              "  </style>\n",
              "\n",
              "    <script>\n",
              "      const buttonEl =\n",
              "        document.querySelector('#df-a3e70819-d43b-4f35-9e2d-3b38ce34fb47 button.colab-df-convert');\n",
              "      buttonEl.style.display =\n",
              "        google.colab.kernel.accessAllowed ? 'block' : 'none';\n",
              "\n",
              "      async function convertToInteractive(key) {\n",
              "        const element = document.querySelector('#df-a3e70819-d43b-4f35-9e2d-3b38ce34fb47');\n",
              "        const dataTable =\n",
              "          await google.colab.kernel.invokeFunction('convertToInteractive',\n",
              "                                                    [key], {});\n",
              "        if (!dataTable) return;\n",
              "\n",
              "        const docLinkHtml = 'Like what you see? Visit the ' +\n",
              "          '<a target=\"_blank\" href=https://colab.research.google.com/notebooks/data_table.ipynb>data table notebook</a>'\n",
              "          + ' to learn more about interactive tables.';\n",
              "        element.innerHTML = '';\n",
              "        dataTable['output_type'] = 'display_data';\n",
              "        await google.colab.output.renderOutput(dataTable, element);\n",
              "        const docLink = document.createElement('div');\n",
              "        docLink.innerHTML = docLinkHtml;\n",
              "        element.appendChild(docLink);\n",
              "      }\n",
              "    </script>\n",
              "  </div>\n",
              "\n",
              "\n",
              "<div id=\"df-0fe7fadb-0c21-43c3-820f-bec76fdf1b85\">\n",
              "  <button class=\"colab-df-quickchart\" onclick=\"quickchart('df-0fe7fadb-0c21-43c3-820f-bec76fdf1b85')\"\n",
              "            title=\"Suggest charts\"\n",
              "            style=\"display:none;\">\n",
              "\n",
              "<svg xmlns=\"http://www.w3.org/2000/svg\" height=\"24px\"viewBox=\"0 0 24 24\"\n",
              "     width=\"24px\">\n",
              "    <g>\n",
              "        <path d=\"M19 3H5c-1.1 0-2 .9-2 2v14c0 1.1.9 2 2 2h14c1.1 0 2-.9 2-2V5c0-1.1-.9-2-2-2zM9 17H7v-7h2v7zm4 0h-2V7h2v10zm4 0h-2v-4h2v4z\"/>\n",
              "    </g>\n",
              "</svg>\n",
              "  </button>\n",
              "\n",
              "<style>\n",
              "  .colab-df-quickchart {\n",
              "      --bg-color: #E8F0FE;\n",
              "      --fill-color: #1967D2;\n",
              "      --hover-bg-color: #E2EBFA;\n",
              "      --hover-fill-color: #174EA6;\n",
              "      --disabled-fill-color: #AAA;\n",
              "      --disabled-bg-color: #DDD;\n",
              "  }\n",
              "\n",
              "  [theme=dark] .colab-df-quickchart {\n",
              "      --bg-color: #3B4455;\n",
              "      --fill-color: #D2E3FC;\n",
              "      --hover-bg-color: #434B5C;\n",
              "      --hover-fill-color: #FFFFFF;\n",
              "      --disabled-bg-color: #3B4455;\n",
              "      --disabled-fill-color: #666;\n",
              "  }\n",
              "\n",
              "  .colab-df-quickchart {\n",
              "    background-color: var(--bg-color);\n",
              "    border: none;\n",
              "    border-radius: 50%;\n",
              "    cursor: pointer;\n",
              "    display: none;\n",
              "    fill: var(--fill-color);\n",
              "    height: 32px;\n",
              "    padding: 0;\n",
              "    width: 32px;\n",
              "  }\n",
              "\n",
              "  .colab-df-quickchart:hover {\n",
              "    background-color: var(--hover-bg-color);\n",
              "    box-shadow: 0 1px 2px rgba(60, 64, 67, 0.3), 0 1px 3px 1px rgba(60, 64, 67, 0.15);\n",
              "    fill: var(--button-hover-fill-color);\n",
              "  }\n",
              "\n",
              "  .colab-df-quickchart-complete:disabled,\n",
              "  .colab-df-quickchart-complete:disabled:hover {\n",
              "    background-color: var(--disabled-bg-color);\n",
              "    fill: var(--disabled-fill-color);\n",
              "    box-shadow: none;\n",
              "  }\n",
              "\n",
              "  .colab-df-spinner {\n",
              "    border: 2px solid var(--fill-color);\n",
              "    border-color: transparent;\n",
              "    border-bottom-color: var(--fill-color);\n",
              "    animation:\n",
              "      spin 1s steps(1) infinite;\n",
              "  }\n",
              "\n",
              "  @keyframes spin {\n",
              "    0% {\n",
              "      border-color: transparent;\n",
              "      border-bottom-color: var(--fill-color);\n",
              "      border-left-color: var(--fill-color);\n",
              "    }\n",
              "    20% {\n",
              "      border-color: transparent;\n",
              "      border-left-color: var(--fill-color);\n",
              "      border-top-color: var(--fill-color);\n",
              "    }\n",
              "    30% {\n",
              "      border-color: transparent;\n",
              "      border-left-color: var(--fill-color);\n",
              "      border-top-color: var(--fill-color);\n",
              "      border-right-color: var(--fill-color);\n",
              "    }\n",
              "    40% {\n",
              "      border-color: transparent;\n",
              "      border-right-color: var(--fill-color);\n",
              "      border-top-color: var(--fill-color);\n",
              "    }\n",
              "    60% {\n",
              "      border-color: transparent;\n",
              "      border-right-color: var(--fill-color);\n",
              "    }\n",
              "    80% {\n",
              "      border-color: transparent;\n",
              "      border-right-color: var(--fill-color);\n",
              "      border-bottom-color: var(--fill-color);\n",
              "    }\n",
              "    90% {\n",
              "      border-color: transparent;\n",
              "      border-bottom-color: var(--fill-color);\n",
              "    }\n",
              "  }\n",
              "</style>\n",
              "\n",
              "  <script>\n",
              "    async function quickchart(key) {\n",
              "      const quickchartButtonEl =\n",
              "        document.querySelector('#' + key + ' button');\n",
              "      quickchartButtonEl.disabled = true;  // To prevent multiple clicks.\n",
              "      quickchartButtonEl.classList.add('colab-df-spinner');\n",
              "      try {\n",
              "        const charts = await google.colab.kernel.invokeFunction(\n",
              "            'suggestCharts', [key], {});\n",
              "      } catch (error) {\n",
              "        console.error('Error during call to suggestCharts:', error);\n",
              "      }\n",
              "      quickchartButtonEl.classList.remove('colab-df-spinner');\n",
              "      quickchartButtonEl.classList.add('colab-df-quickchart-complete');\n",
              "    }\n",
              "    (() => {\n",
              "      let quickchartButtonEl =\n",
              "        document.querySelector('#df-0fe7fadb-0c21-43c3-820f-bec76fdf1b85 button');\n",
              "      quickchartButtonEl.style.display =\n",
              "        google.colab.kernel.accessAllowed ? 'block' : 'none';\n",
              "    })();\n",
              "  </script>\n",
              "</div>\n",
              "\n",
              "    </div>\n",
              "  </div>\n"
            ],
            "application/vnd.google.colaboratory.intrinsic+json": {
              "type": "dataframe",
              "summary": "{\n  \"name\": \"df\",\n  \"rows\": 4,\n  \"fields\": [\n    {\n      \"column\": \"count\",\n      \"properties\": {\n        \"dtype\": \"number\",\n        \"std\": 0.0,\n        \"min\": 1000000.0,\n        \"max\": 1000000.0,\n        \"num_unique_values\": 1,\n        \"samples\": [\n          1000000.0\n        ],\n        \"semantic_type\": \"\",\n        \"description\": \"\"\n      }\n    },\n    {\n      \"column\": \"mean\",\n      \"properties\": {\n        \"dtype\": \"number\",\n        \"std\": 255.80707885554216,\n        \"min\": 4.649472487663021,\n        \"max\": 549.981900729363,\n        \"num_unique_values\": 4,\n        \"samples\": [\n          27.504965199662127\n        ],\n        \"semantic_type\": \"\",\n        \"description\": \"\"\n      }\n    },\n    {\n      \"column\": \"std\",\n      \"properties\": {\n        \"dtype\": \"number\",\n        \"std\": 124.54724986979879,\n        \"min\": 1.6965724511164864,\n        \"max\": 259.85132027823397,\n        \"num_unique_values\": 4,\n        \"samples\": [\n          7.2206075876818305\n        ],\n        \"semantic_type\": \"\",\n        \"description\": \"\"\n      }\n    },\n    {\n      \"column\": \"min\",\n      \"properties\": {\n        \"dtype\": \"number\",\n        \"std\": 45.7174412950425,\n        \"min\": -1.147613222534901,\n        \"max\": 100.00089622522204,\n        \"num_unique_values\": 4,\n        \"samples\": [\n          15.000034141430271\n        ],\n        \"semantic_type\": \"\",\n        \"description\": \"\"\n      }\n    },\n    {\n      \"column\": \"25%\",\n      \"properties\": {\n        \"dtype\": \"number\",\n        \"std\": 148.52603469260396,\n        \"min\": 3.417637434469158,\n        \"max\": 324.8910895373406,\n        \"num_unique_values\": 4,\n        \"samples\": [\n          21.25450238662936\n        ],\n        \"semantic_type\": \"\",\n        \"description\": \"\"\n      }\n    },\n    {\n      \"column\": \"50%\",\n      \"properties\": {\n        \"dtype\": \"number\",\n        \"std\": 255.91965360027308,\n        \"min\": 4.651808124284062,\n        \"max\": 550.1240607910207,\n        \"num_unique_values\": 4,\n        \"samples\": [\n          27.50736543143337\n        ],\n        \"semantic_type\": \"\",\n        \"description\": \"\"\n      }\n    },\n    {\n      \"column\": \"75%\",\n      \"properties\": {\n        \"dtype\": \"number\",\n        \"std\": 363.307852892344,\n        \"min\": 5.879200097141489,\n        \"max\": 774.7385195293846,\n        \"num_unique_values\": 4,\n        \"samples\": [\n          33.753267332986496\n        ],\n        \"semantic_type\": \"\",\n        \"description\": \"\"\n      }\n    },\n    {\n      \"column\": \"max\",\n      \"properties\": {\n        \"dtype\": \"number\",\n        \"std\": 470.6447050168276,\n        \"min\": 9.963372228814649,\n        \"max\": 999.998098221668,\n        \"num_unique_values\": 4,\n        \"samples\": [\n          39.99999662316004\n        ],\n        \"semantic_type\": \"\",\n        \"description\": \"\"\n      }\n    }\n  ]\n}"
            }
          },
          "metadata": {},
          "execution_count": 13
        }
      ]
    },
    {
      "cell_type": "code",
      "source": [
        "df['Crop'].value_counts()"
      ],
      "metadata": {
        "colab": {
          "base_uri": "https://localhost:8080/",
          "height": 304
        },
        "id": "9N-0IxecqXw7",
        "outputId": "d0216f67-f2ab-46f5-8040-845513422bc2"
      },
      "execution_count": 14,
      "outputs": [
        {
          "output_type": "execute_result",
          "data": {
            "text/plain": [
              "Crop\n",
              "Maize      166824\n",
              "Rice       166792\n",
              "Barley     166777\n",
              "Wheat      166673\n",
              "Cotton     166585\n",
              "Soybean    166349\n",
              "Name: count, dtype: int64"
            ],
            "text/html": [
              "<div>\n",
              "<style scoped>\n",
              "    .dataframe tbody tr th:only-of-type {\n",
              "        vertical-align: middle;\n",
              "    }\n",
              "\n",
              "    .dataframe tbody tr th {\n",
              "        vertical-align: top;\n",
              "    }\n",
              "\n",
              "    .dataframe thead th {\n",
              "        text-align: right;\n",
              "    }\n",
              "</style>\n",
              "<table border=\"1\" class=\"dataframe\">\n",
              "  <thead>\n",
              "    <tr style=\"text-align: right;\">\n",
              "      <th></th>\n",
              "      <th>count</th>\n",
              "    </tr>\n",
              "    <tr>\n",
              "      <th>Crop</th>\n",
              "      <th></th>\n",
              "    </tr>\n",
              "  </thead>\n",
              "  <tbody>\n",
              "    <tr>\n",
              "      <th>Maize</th>\n",
              "      <td>166824</td>\n",
              "    </tr>\n",
              "    <tr>\n",
              "      <th>Rice</th>\n",
              "      <td>166792</td>\n",
              "    </tr>\n",
              "    <tr>\n",
              "      <th>Barley</th>\n",
              "      <td>166777</td>\n",
              "    </tr>\n",
              "    <tr>\n",
              "      <th>Wheat</th>\n",
              "      <td>166673</td>\n",
              "    </tr>\n",
              "    <tr>\n",
              "      <th>Cotton</th>\n",
              "      <td>166585</td>\n",
              "    </tr>\n",
              "    <tr>\n",
              "      <th>Soybean</th>\n",
              "      <td>166349</td>\n",
              "    </tr>\n",
              "  </tbody>\n",
              "</table>\n",
              "</div><br><label><b>dtype:</b> int64</label>"
            ]
          },
          "metadata": {},
          "execution_count": 14
        }
      ]
    },
    {
      "cell_type": "markdown",
      "source": [
        "###Feature Understanding\n",
        "\n",
        "Histogram\n",
        "\n",
        "Pie\n",
        "\n",
        "Scatter\n",
        "\n",
        "Boxplot\n",
        "\n",
        "KDE"
      ],
      "metadata": {
        "id": "KAECajKFFPo5"
      }
    },
    {
      "cell_type": "code",
      "source": [
        "import matplotlib.pyplot as plt\n",
        "import seaborn as sns"
      ],
      "metadata": {
        "id": "dpm_72ufrTfc"
      },
      "execution_count": 15,
      "outputs": []
    },
    {
      "cell_type": "code",
      "source": [
        "df.hist(bins=60, figsize =(12,8))\n",
        "plt.show()"
      ],
      "metadata": {
        "colab": {
          "base_uri": "https://localhost:8080/",
          "height": 699
        },
        "id": "-_S5Ouv1s-jv",
        "outputId": "96658e56-6e78-4315-f62d-4e71948b4c5c"
      },
      "execution_count": 16,
      "outputs": [
        {
          "output_type": "display_data",
          "data": {
            "text/plain": [
              "<Figure size 1200x800 with 4 Axes>"
            ],
            "image/png": "[encoded data removed]"
          },
          "metadata": {}
        }
      ]
    },
    {
      "cell_type": "code",
      "source": [
        "ax = df['Crop'].value_counts().plot(kind='pie', autopct='%1.1f%%', title='Crop Count')\n",
        "\n",
        "plt.show()"
      ],
      "metadata": {
        "colab": {
          "base_uri": "https://localhost:8080/",
          "height": 428
        },
        "id": "ZR3EhDfDoYEX",
        "outputId": "fc20a07f-95c2-45a3-c887-768d228bffe2"
      },
      "execution_count": 17,
      "outputs": [
        {
          "output_type": "display_data",
          "data": {
            "text/plain": [
              "<Figure size 640x480 with 1 Axes>"
            ],
            "image/png": "[encoded data removed]"
          },
          "metadata": {}
        }
      ]
    },
    {
      "cell_type": "code",
      "source": [
        "df.corr(numeric_only=True)"
      ],
      "metadata": {
        "id": "PRub5h9jwSTq",
        "outputId": "2bfee841-37ec-4a88-c967-530e70612c6a",
        "colab": {
          "base_uri": "https://localhost:8080/",
          "height": 238
        }
      },
      "execution_count": 18,
      "outputs": [
        {
          "output_type": "execute_result",
          "data": {
            "text/plain": [
              "                        Rainfall_mm  Temperature_Celsius  Fertilizer_Used  \\\n",
              "Rainfall_mm                1.000000            -0.000123        -0.001076   \n",
              "Temperature_Celsius       -0.000123             1.000000         0.002343   \n",
              "Fertilizer_Used           -0.001076             0.002343         1.000000   \n",
              "Irrigation_Used           -0.000568            -0.000484         0.001510   \n",
              "Days_to_Harvest           -0.002669            -0.000731        -0.001029   \n",
              "Yield_tons_per_hectare     0.764618             0.085565         0.442099   \n",
              "\n",
              "                        Irrigation_Used  Days_to_Harvest  \\\n",
              "Rainfall_mm                   -0.000568        -0.002669   \n",
              "Temperature_Celsius           -0.000484        -0.000731   \n",
              "Fertilizer_Used                0.001510        -0.001029   \n",
              "Irrigation_Used                1.000000        -0.001234   \n",
              "Days_to_Harvest               -0.001234         1.000000   \n",
              "Yield_tons_per_hectare         0.353741        -0.002591   \n",
              "\n",
              "                        Yield_tons_per_hectare  \n",
              "Rainfall_mm                           0.764618  \n",
              "Temperature_Celsius                   0.085565  \n",
              "Fertilizer_Used                       0.442099  \n",
              "Irrigation_Used                       0.353741  \n",
              "Days_to_Harvest                      -0.002591  \n",
              "Yield_tons_per_hectare                1.000000  "
            ],
            "text/html": [
              "\n",
              "  <div id=\"df-4d4cd9b0-a0e6-4a10-b5df-477d4ae44d32\" class=\"colab-df-container\">\n",
              "    <div>\n",
              "<style scoped>\n",
              "    .dataframe tbody tr th:only-of-type {\n",
              "        vertical-align: middle;\n",
              "    }\n",
              "\n",
              "    .dataframe tbody tr th {\n",
              "        vertical-align: top;\n",
              "    }\n",
              "\n",
              "    .dataframe thead th {\n",
              "        text-align: right;\n",
              "    }\n",
              "</style>\n",
              "<table border=\"1\" class=\"dataframe\">\n",
              "  <thead>\n",
              "    <tr style=\"text-align: right;\">\n",
              "      <th></th>\n",
              "      <th>Rainfall_mm</th>\n",
              "      <th>Temperature_Celsius</th>\n",
              "      <th>Fertilizer_Used</th>\n",
              "      <th>Irrigation_Used</th>\n",
              "      <th>Days_to_Harvest</th>\n",
              "      <th>Yield_tons_per_hectare</th>\n",
              "    </tr>\n",
              "  </thead>\n",
              "  <tbody>\n",
              "    <tr>\n",
              "      <th>Rainfall_mm</th>\n",
              "      <td>1.000000</td>\n",
              "      <td>-0.000123</td>\n",
              "      <td>-0.001076</td>\n",
              "      <td>-0.000568</td>\n",
              "      <td>-0.002669</td>\n",
              "      <td>0.764618</td>\n",
              "    </tr>\n",
              "    <tr>\n",
              "      <th>Temperature_Celsius</th>\n",
              "      <td>-0.000123</td>\n",
              "      <td>1.000000</td>\n",
              "      <td>0.002343</td>\n",
              "      <td>-0.000484</td>\n",
              "      <td>-0.000731</td>\n",
              "      <td>0.085565</td>\n",
              "    </tr>\n",
              "    <tr>\n",
              "      <th>Fertilizer_Used</th>\n",
              "      <td>-0.001076</td>\n",
              "      <td>0.002343</td>\n",
              "      <td>1.000000</td>\n",
              "      <td>0.001510</td>\n",
              "      <td>-0.001029</td>\n",
              "      <td>0.442099</td>\n",
              "    </tr>\n",
              "    <tr>\n",
              "      <th>Irrigation_Used</th>\n",
              "      <td>-0.000568</td>\n",
              "      <td>-0.000484</td>\n",
              "      <td>0.001510</td>\n",
              "      <td>1.000000</td>\n",
              "      <td>-0.001234</td>\n",
              "      <td>0.353741</td>\n",
              "    </tr>\n",
              "    <tr>\n",
              "      <th>Days_to_Harvest</th>\n",
              "      <td>-0.002669</td>\n",
              "      <td>-0.000731</td>\n",
              "      <td>-0.001029</td>\n",
              "      <td>-0.001234</td>\n",
              "      <td>1.000000</td>\n",
              "      <td>-0.002591</td>\n",
              "    </tr>\n",
              "    <tr>\n",
              "      <th>Yield_tons_per_hectare</th>\n",
              "      <td>0.764618</td>\n",
              "      <td>0.085565</td>\n",
              "      <td>0.442099</td>\n",
              "      <td>0.353741</td>\n",
              "      <td>-0.002591</td>\n",
              "      <td>1.000000</td>\n",
              "    </tr>\n",
              "  </tbody>\n",
              "</table>\n",
              "</div>\n",
              "    <div class=\"colab-df-buttons\">\n",
              "\n",
              "  <div class=\"colab-df-container\">\n",
              "    <button class=\"colab-df-convert\" onclick=\"convertToInteractive('df-4d4cd9b0-a0e6-4a10-b5df-477d4ae44d32')\"\n",
              "            title=\"Convert this dataframe to an interactive table.\"\n",
              "            style=\"display:none;\">\n",
              "\n",
              "  <svg xmlns=\"http://www.w3.org/2000/svg\" height=\"24px\" viewBox=\"0 -960 960 960\">\n",
              "    <path d=\"M120-120v-720h720v720H120Zm60-500h600v-160H180v160Zm220 220h160v-160H400v160Zm0 220h160v-160H400v160ZM180-400h160v-160H180v160Zm440 0h160v-160H620v160ZM180-180h160v-160H180v160Zm440 0h160v-160H620v160Z\"/>\n",
              "  </svg>\n",
              "    </button>\n",
              "\n",
              "  <style>\n",
              "    .colab-df-container {\n",
              "      display:flex;\n",
              "      gap: 12px;\n",
              "    }\n",
              "\n",
              "    .colab-df-convert {\n",
              "      background-color: #E8F0FE;\n",
              "      border: none;\n",
              "      border-radius: 50%;\n",
              "      cursor: pointer;\n",
              "      display: none;\n",
              "      fill: #1967D2;\n",
              "      height: 32px;\n",
              "      padding: 0 0 0 0;\n",
              "      width: 32px;\n",
              "    }\n",
              "\n",
              "    .colab-df-convert:hover {\n",
              "      background-color: #E2EBFA;\n",
              "      box-shadow: 0px 1px 2px rgba(60, 64, 67, 0.3), 0px 1px 3px 1px rgba(60, 64, 67, 0.15);\n",
              "      fill: #174EA6;\n",
              "    }\n",
              "\n",
              "    .colab-df-buttons div {\n",
              "      margin-bottom: 4px;\n",
              "    }\n",
              "\n",
              "    [theme=dark] .colab-df-convert {\n",
              "      background-color: #3B4455;\n",
              "      fill: #D2E3FC;\n",
              "    }\n",
              "\n",
              "    [theme=dark] .colab-df-convert:hover {\n",
              "      background-color: #434B5C;\n",
              "      box-shadow: 0px 1px 3px 1px rgba(0, 0, 0, 0.15);\n",
              "      filter: drop-shadow(0px 1px 2px rgba(0, 0, 0, 0.3));\n",
              "      fill: #FFFFFF;\n",
              "    }\n",
              "  </style>\n",
              "\n",
              "    <script>\n",
              "      const buttonEl =\n",
              "        document.querySelector('#df-4d4cd9b0-a0e6-4a10-b5df-477d4ae44d32 button.colab-df-convert');\n",
              "      buttonEl.style.display =\n",
              "        google.colab.kernel.accessAllowed ? 'block' : 'none';\n",
              "\n",
              "      async function convertToInteractive(key) {\n",
              "        const element = document.querySelector('#df-4d4cd9b0-a0e6-4a10-b5df-477d4ae44d32');\n",
              "        const dataTable =\n",
              "          await google.colab.kernel.invokeFunction('convertToInteractive',\n",
              "                                                    [key], {});\n",
              "        if (!dataTable) return;\n",
              "\n",
              "        const docLinkHtml = 'Like what you see? Visit the ' +\n",
              "          '<a target=\"_blank\" href=https://colab.research.google.com/notebooks/data_table.ipynb>data table notebook</a>'\n",
              "          + ' to learn more about interactive tables.';\n",
              "        element.innerHTML = '';\n",
              "        dataTable['output_type'] = 'display_data';\n",
              "        await google.colab.output.renderOutput(dataTable, element);\n",
              "        const docLink = document.createElement('div');\n",
              "        docLink.innerHTML = docLinkHtml;\n",
              "        element.appendChild(docLink);\n",
              "      }\n",
              "    </script>\n",
              "  </div>\n",
              "\n",
              "\n",
              "<div id=\"df-954e6eba-48c8-4850-bf80-cbf0f2183ba5\">\n",
              "  <button class=\"colab-df-quickchart\" onclick=\"quickchart('df-954e6eba-48c8-4850-bf80-cbf0f2183ba5')\"\n",
              "            title=\"Suggest charts\"\n",
              "            style=\"display:none;\">\n",
              "\n",
              "<svg xmlns=\"http://www.w3.org/2000/svg\" height=\"24px\"viewBox=\"0 0 24 24\"\n",
              "     width=\"24px\">\n",
              "    <g>\n",
              "        <path d=\"M19 3H5c-1.1 0-2 .9-2 2v14c0 1.1.9 2 2 2h14c1.1 0 2-.9 2-2V5c0-1.1-.9-2-2-2zM9 17H7v-7h2v7zm4 0h-2V7h2v10zm4 0h-2v-4h2v4z\"/>\n",
              "    </g>\n",
              "</svg>\n",
              "  </button>\n",
              "\n",
              "<style>\n",
              "  .colab-df-quickchart {\n",
              "      --bg-color: #E8F0FE;\n",
              "      --fill-color: #1967D2;\n",
              "      --hover-bg-color: #E2EBFA;\n",
              "      --hover-fill-color: #174EA6;\n",
              "      --disabled-fill-color: #AAA;\n",
              "      --disabled-bg-color: #DDD;\n",
              "  }\n",
              "\n",
              "  [theme=dark] .colab-df-quickchart {\n",
              "      --bg-color: #3B4455;\n",
              "      --fill-color: #D2E3FC;\n",
              "      --hover-bg-color: #434B5C;\n",
              "      --hover-fill-color: #FFFFFF;\n",
              "      --disabled-bg-color: #3B4455;\n",
              "      --disabled-fill-color: #666;\n",
              "  }\n",
              "\n",
              "  .colab-df-quickchart {\n",
              "    background-color: var(--bg-color);\n",
              "    border: none;\n",
              "    border-radius: 50%;\n",
              "    cursor: pointer;\n",
              "    display: none;\n",
              "    fill: var(--fill-color);\n",
              "    height: 32px;\n",
              "    padding: 0;\n",
              "    width: 32px;\n",
              "  }\n",
              "\n",
              "  .colab-df-quickchart:hover {\n",
              "    background-color: var(--hover-bg-color);\n",
              "    box-shadow: 0 1px 2px rgba(60, 64, 67, 0.3), 0 1px 3px 1px rgba(60, 64, 67, 0.15);\n",
              "    fill: var(--button-hover-fill-color);\n",
              "  }\n",
              "\n",
              "  .colab-df-quickchart-complete:disabled,\n",
              "  .colab-df-quickchart-complete:disabled:hover {\n",
              "    background-color: var(--disabled-bg-color);\n",
              "    fill: var(--disabled-fill-color);\n",
              "    box-shadow: none;\n",
              "  }\n",
              "\n",
              "  .colab-df-spinner {\n",
              "    border: 2px solid var(--fill-color);\n",
              "    border-color: transparent;\n",
              "    border-bottom-color: var(--fill-color);\n",
              "    animation:\n",
              "      spin 1s steps(1) infinite;\n",
              "  }\n",
              "\n",
              "  @keyframes spin {\n",
              "    0% {\n",
              "      border-color: transparent;\n",
              "      border-bottom-color: var(--fill-color);\n",
              "      border-left-color: var(--fill-color);\n",
              "    }\n",
              "    20% {\n",
              "      border-color: transparent;\n",
              "      border-left-color: var(--fill-color);\n",
              "      border-top-color: var(--fill-color);\n",
              "    }\n",
              "    30% {\n",
              "      border-color: transparent;\n",
              "      border-left-color: var(--fill-color);\n",
              "      border-top-color: var(--fill-color);\n",
              "      border-right-color: var(--fill-color);\n",
              "    }\n",
              "    40% {\n",
              "      border-color: transparent;\n",
              "      border-right-color: var(--fill-color);\n",
              "      border-top-color: var(--fill-color);\n",
              "    }\n",
              "    60% {\n",
              "      border-color: transparent;\n",
              "      border-right-color: var(--fill-color);\n",
              "    }\n",
              "    80% {\n",
              "      border-color: transparent;\n",
              "      border-right-color: var(--fill-color);\n",
              "      border-bottom-color: var(--fill-color);\n",
              "    }\n",
              "    90% {\n",
              "      border-color: transparent;\n",
              "      border-bottom-color: var(--fill-color);\n",
              "    }\n",
              "  }\n",
              "</style>\n",
              "\n",
              "  <script>\n",
              "    async function quickchart(key) {\n",
              "      const quickchartButtonEl =\n",
              "        document.querySelector('#' + key + ' button');\n",
              "      quickchartButtonEl.disabled = true;  // To prevent multiple clicks.\n",
              "      quickchartButtonEl.classList.add('colab-df-spinner');\n",
              "      try {\n",
              "        const charts = await google.colab.kernel.invokeFunction(\n",
              "            'suggestCharts', [key], {});\n",
              "      } catch (error) {\n",
              "        console.error('Error during call to suggestCharts:', error);\n",
              "      }\n",
              "      quickchartButtonEl.classList.remove('colab-df-spinner');\n",
              "      quickchartButtonEl.classList.add('colab-df-quickchart-complete');\n",
              "    }\n",
              "    (() => {\n",
              "      let quickchartButtonEl =\n",
              "        document.querySelector('#df-954e6eba-48c8-4850-bf80-cbf0f2183ba5 button');\n",
              "      quickchartButtonEl.style.display =\n",
              "        google.colab.kernel.accessAllowed ? 'block' : 'none';\n",
              "    })();\n",
              "  </script>\n",
              "</div>\n",
              "\n",
              "    </div>\n",
              "  </div>\n"
            ],
            "application/vnd.google.colaboratory.intrinsic+json": {
              "type": "dataframe",
              "summary": "{\n  \"name\": \"df\",\n  \"rows\": 6,\n  \"fields\": [\n    {\n      \"column\": \"Rainfall_mm\",\n      \"properties\": {\n        \"dtype\": \"number\",\n        \"std\": 0.46222845599251905,\n        \"min\": -0.0026693974082886746,\n        \"max\": 1.0,\n        \"num_unique_values\": 6,\n        \"samples\": [\n          1.0,\n          -0.0001230056449396684,\n          0.7646179592717693\n        ],\n        \"semantic_type\": \"\",\n        \"description\": \"\"\n      }\n    },\n    {\n      \"column\": \"Temperature_Celsius\",\n      \"properties\": {\n        \"dtype\": \"number\",\n        \"std\": 0.4026301941071166,\n        \"min\": -0.0007309826941272966,\n        \"max\": 1.0,\n        \"num_unique_values\": 6,\n        \"samples\": [\n          -0.0001230056449396684,\n          1.0,\n          0.0855651321036718\n        ],\n        \"semantic_type\": \"\",\n        \"description\": \"\"\n      }\n    },\n    {\n      \"column\": \"Fertilizer_Used\",\n      \"properties\": {\n        \"dtype\": \"number\",\n        \"std\": 0.41182827985751486,\n        \"min\": -0.0010757379899825365,\n        \"max\": 1.0,\n        \"num_unique_values\": 6,\n        \"samples\": [\n          -0.0010757379899825365,\n          0.0023425896078209853,\n          0.44209932455370016\n        ],\n        \"semantic_type\": \"\",\n        \"description\": \"\"\n      }\n    },\n    {\n      \"column\": \"Irrigation_Used\",\n      \"properties\": {\n        \"dtype\": \"number\",\n        \"std\": 0.404981813743787,\n        \"min\": -0.0012342537783771648,\n        \"max\": 1.0,\n        \"num_unique_values\": 6,\n        \"samples\": [\n          -0.0005676975936323151,\n          -0.0004840009190643983,\n          0.3537409008437429\n        ],\n        \"semantic_type\": \"\",\n        \"description\": \"\"\n      }\n    },\n    {\n      \"column\": \"Days_to_Harvest\",\n      \"properties\": {\n        \"dtype\": \"number\",\n        \"std\": 0.40892304822365344,\n        \"min\": -0.0026693974082886746,\n        \"max\": 1.0,\n        \"num_unique_values\": 6,\n        \"samples\": [\n          -0.0026693974082886746,\n          -0.0007309826941272966,\n          -0.002590633373218816\n        ],\n        \"semantic_type\": \"\",\n        \"description\": \"\"\n      }\n    },\n    {\n      \"column\": \"Yield_tons_per_hectare\",\n      \"properties\": {\n        \"dtype\": \"number\",\n        \"std\": 0.3867636072013773,\n        \"min\": -0.002590633373218816,\n        \"max\": 1.0,\n        \"num_unique_values\": 6,\n        \"samples\": [\n          0.7646179592717693,\n          0.0855651321036718,\n          1.0\n        ],\n        \"semantic_type\": \"\",\n        \"description\": \"\"\n      }\n    }\n  ]\n}"
            }
          },
          "metadata": {},
          "execution_count": 18
        }
      ]
    },
    {
      "cell_type": "code",
      "source": [
        "sns.heatmap(df.corr(numeric_only=True),annot = True)"
      ],
      "metadata": {
        "colab": {
          "base_uri": "https://localhost:8080/",
          "height": 598
        },
        "id": "q2gdIA3GwK24",
        "outputId": "ed1621c1-4934-48f2-965e-a0e64b9eea4f"
      },
      "execution_count": 19,
      "outputs": [
        {
          "output_type": "execute_result",
          "data": {
            "text/plain": [
              "<Axes: >"
            ]
          },
          "metadata": {},
          "execution_count": 19
        },
        {
          "output_type": "display_data",
          "data": {
            "text/plain": [
              "<Figure size 640x480 with 2 Axes>"
            ],
            "image/png": "[encoded data removed]"
          },
          "metadata": {}
        }
      ]
    },
    {
      "cell_type": "markdown",
      "source": [
        "The correlation matrix shows that Rainfall_mm has the highest positive correlation with Yield_tons_per_hectare.\n",
        "\n",
        "Scatter plots help check if the relationship is linear or non-linear.\n",
        "\n",
        "Since Rainfall has the strongest impact, it is the best feature to visualize with Yield first.\n",
        "\n"
      ],
      "metadata": {
        "id": "VGQA324sn-ZO"
      }
    },
    {
      "cell_type": "code",
      "source": [
        "bx = df.plot.scatter(x='Rainfall_mm', y='Yield_tons_per_hectare', title='Yield vs Rainfall')\n",
        "bx.set_xlabel('Rainfall (mm)')\n",
        "bx.set_ylabel('Yield (tons per hectare)')\n",
        "\n",
        "plt.show()"
      ],
      "metadata": {
        "id": "N-XfetM_8Qen",
        "colab": {
          "base_uri": "https://localhost:8080/",
          "height": 472
        },
        "outputId": "bf1b88dd-d6d2-45db-c931-09d747a31734"
      },
      "execution_count": 20,
      "outputs": [
        {
          "output_type": "display_data",
          "data": {
            "text/plain": [
              "<Figure size 640x480 with 1 Axes>"
            ],
            "image/png": "[encoded data removed]"
          },
          "metadata": {}
        }
      ]
    },
    {
      "cell_type": "code",
      "source": [
        "plt.figure(figsize=(10, 6))\n",
        "ax = sns.boxplot(x='Fertilizer_Used', y='Yield_tons_per_hectare', data=df)\n",
        "ax.set_title('Yield by Fertilizer Usage')\n",
        "ax.set_xlabel('Fertilizer Used')\n",
        "ax.set_ylabel('Yield (tons per hectare)')\n",
        "\n",
        "plt.show()"
      ],
      "metadata": {
        "id": "jOJxiSw16p1E",
        "colab": {
          "base_uri": "https://localhost:8080/",
          "height": 564
        },
        "outputId": "72e24829-c09b-4a0b-d97c-dec0043451b7"
      },
      "execution_count": 21,
      "outputs": [
        {
          "output_type": "display_data",
          "data": {
            "text/plain": [
              "<Figure size 1000x600 with 1 Axes>"
            ],
            "image/png": "[encoded data removed]"
          },
          "metadata": {}
        }
      ]
    },
    {
      "cell_type": "code",
      "source": [
        "# Group data by 'Fertilizer_Used'\n",
        "groups = df.groupby('Fertilizer_Used')\n",
        "\n",
        "outliers_count = {}\n",
        "\n",
        "for Fertilizer, group in groups:\n",
        "    Q1 = group['Yield_tons_per_hectare'].quantile(0.25)\n",
        "    Q3 = group['Yield_tons_per_hectare'].quantile(0.75)\n",
        "\n",
        "    # Calculate IQR\n",
        "    IQR = Q3 - Q1\n",
        "\n",
        "    lower_bound = Q1 - 1.5 * IQR\n",
        "    upper_bound = Q3 + 1.5 * IQR\n",
        "\n",
        "    # Find the outliers\n",
        "    outliers = group[(group['Yield_tons_per_hectare'] < lower_bound) | (group['Yield_tons_per_hectare'] > upper_bound)]\n",
        "\n",
        "    # Store the count of outliers for each group\n",
        "    outliers_count[Fertilizer] = outliers.shape[0]\n",
        "\n",
        "\n",
        "for Fertilizer, count in outliers_count.items():\n",
        "    print(f\"Outliers in Fertilizer_Used = {Fertilizer}: {count} \")"
      ],
      "metadata": {
        "colab": {
          "base_uri": "https://localhost:8080/"
        },
        "id": "UTY89iRhxFVe",
        "outputId": "af556ddd-260b-4343-ae0b-a78c1b2999ba"
      },
      "execution_count": 22,
      "outputs": [
        {
          "output_type": "stream",
          "name": "stdout",
          "text": [
            "Outliers in Fertilizer_Used = False: 9 \n",
            "Outliers in Fertilizer_Used = True: 6 \n"
          ]
        }
      ]
    },
    {
      "cell_type": "code",
      "source": [
        "plt.figure(figsize=(10, 6))\n",
        "ax = sns.boxplot(x='Irrigation_Used', y='Yield_tons_per_hectare', data=df)\n",
        "ax.set_title('Yield by Fertilizer Usage')\n",
        "ax.set_xlabel('Irrigation_Used')\n",
        "ax.set_ylabel('Yield (tons per hectare)')\n",
        "\n",
        "plt.show()"
      ],
      "metadata": {
        "colab": {
          "base_uri": "https://localhost:8080/",
          "height": 564
        },
        "id": "BYgnLjiImmnL",
        "outputId": "aa7a5b1e-1f67-469b-a368-1f65772e5e5d"
      },
      "execution_count": 23,
      "outputs": [
        {
          "output_type": "display_data",
          "data": {
            "text/plain": [
              "<Figure size 1000x600 with 1 Axes>"
            ],
            "image/png": "[encoded data removed]"
          },
          "metadata": {}
        }
      ]
    },
    {
      "cell_type": "code",
      "source": [
        "# Group data by 'Irrigation_Used'\n",
        "groups = df.groupby('Irrigation_Used')\n",
        "\n",
        "outliers_count = {}\n",
        "\n",
        "\n",
        "for irrigation, group in groups:\n",
        "\n",
        "    Q1 = group['Yield_tons_per_hectare'].quantile(0.25)\n",
        "    Q3 = group['Yield_tons_per_hectare'].quantile(0.75)\n",
        "\n",
        "    IQR = Q3 - Q1\n",
        "\n",
        "    lower_bound = Q1 - 1.5 * IQR\n",
        "    upper_bound = Q3 + 1.5 * IQR\n",
        "\n",
        "    # Find the outliers\n",
        "    outliers = group[(group['Yield_tons_per_hectare'] < lower_bound) | (group['Yield_tons_per_hectare'] > upper_bound)]\n",
        "\n",
        "    # Store the count of outliers for each group\n",
        "    outliers_count[irrigation] = outliers.shape[0]\n",
        "\n",
        "for irrigation, count in outliers_count.items():\n",
        "    print(f\"Outliers in Irrigation_Used = {irrigation}: {count} \")"
      ],
      "metadata": {
        "colab": {
          "base_uri": "https://localhost:8080/"
        },
        "id": "yQMm10jhwtgv",
        "outputId": "43dbdd95-31a7-4ad4-87b7-4def1bf7af88"
      },
      "execution_count": 24,
      "outputs": [
        {
          "output_type": "stream",
          "name": "stdout",
          "text": [
            "Outliers in Irrigation_Used = False: 14 \n",
            "Outliers in Irrigation_Used = True: 7 \n"
          ]
        }
      ]
    },
    {
      "cell_type": "markdown",
      "source": [
        " Z-score > 3 or Z-score < -3 indicates that the data point is far from the mean and likely an outlier."
      ],
      "metadata": {
        "id": "0L6HvL37tfWu"
      }
    },
    {
      "cell_type": "code",
      "source": [
        "\n",
        "\n",
        "\n",
        "# List of numerical columns\n",
        "num_cols = [\"Rainfall_mm\", \"Temperature_Celsius\", \"Days_to_Harvest\", \"Yield_tons_per_hectare\"]\n",
        "\n",
        "# Set Z-score threshold\n",
        "threshold = 3\n",
        "\n",
        "# Find and count outliers using Z-score\n",
        "outliers = {}\n",
        "\n",
        "for col in num_cols:\n",
        "    if col in df.columns:\n",
        "        mean = df[col].mean()\n",
        "        std = df[col].std()\n",
        "        z_scores = np.abs((df[col] - mean) / std)\n",
        "        # Find rows where |Z| > 3 (outliers)\n",
        "        outliers[col] = df[z_scores > threshold]\n",
        "\n"
      ],
      "metadata": {
        "id": "ObLF1MhGoIAb"
      },
      "execution_count": 25,
      "outputs": []
    },
    {
      "cell_type": "markdown",
      "source": [],
      "metadata": {
        "id": "QA4giH3ponWK"
      }
    },
    {
      "cell_type": "code",
      "source": [
        "\n",
        "# Print number of outliers for each column\n",
        "for col, outlier_data in outliers.items():\n",
        "    print(f\"\\nOutliers in {col}: {outlier_data.shape[0]} \")"
      ],
      "metadata": {
        "colab": {
          "base_uri": "https://localhost:8080/"
        },
        "id": "F8Q0hMXRon5n",
        "outputId": "8a0c6a9a-8eef-4e97-ba3e-6f77ea184fe0"
      },
      "execution_count": 26,
      "outputs": [
        {
          "output_type": "stream",
          "name": "stdout",
          "text": [
            "\n",
            "Outliers in Rainfall_mm: 0 \n",
            "\n",
            "Outliers in Temperature_Celsius: 0 \n",
            "\n",
            "Outliers in Days_to_Harvest: 0 \n",
            "\n",
            "Outliers in Yield_tons_per_hectare: 37 \n"
          ]
        }
      ]
    },
    {
      "cell_type": "code",
      "source": [
        "df = df[z_scores <= threshold]"
      ],
      "metadata": {
        "id": "QsTqxjTVu0u8"
      },
      "execution_count": 27,
      "outputs": []
    },
    {
      "cell_type": "code",
      "source": [
        "df.shape"
      ],
      "metadata": {
        "colab": {
          "base_uri": "https://localhost:8080/"
        },
        "id": "WpPX8Mbxu6rH",
        "outputId": "f753dde0-3423-4ab5-a63a-db4e2d80e3d3"
      },
      "execution_count": 28,
      "outputs": [
        {
          "output_type": "execute_result",
          "data": {
            "text/plain": [
              "(999963, 10)"
            ]
          },
          "metadata": {},
          "execution_count": 28
        }
      ]
    },
    {
      "cell_type": "code",
      "source": [
        "sns.kdeplot(df['Yield_tons_per_hectare'], fill=True)\n",
        "plt.title('Yield Distribution (Tons per Hectare)')\n",
        "plt.show()"
      ],
      "metadata": {
        "colab": {
          "base_uri": "https://localhost:8080/",
          "height": 472
        },
        "id": "rVM3OkbV4hA0",
        "outputId": "9d6fd172-f42e-42c5-bc2d-352cbf049e08"
      },
      "execution_count": 29,
      "outputs": [
        {
          "output_type": "display_data",
          "data": {
            "text/plain": [
              "<Figure size 640x480 with 1 Axes>"
            ],
            "image/png": "[encoded data removed]"
          },
          "metadata": {}
        }
      ]
    },
    {
      "cell_type": "code",
      "source": [
        "df.head()"
      ],
      "metadata": {
        "colab": {
          "base_uri": "https://localhost:8080/",
          "height": 226
        },
        "id": "8NJWWzeJ-fTR",
        "outputId": "069b9ad0-1e59-4114-d6bf-28cb380b1b02"
      },
      "execution_count": 30,
      "outputs": [
        {
          "output_type": "execute_result",
          "data": {
            "text/plain": [
              "  Region Soil_Type     Crop  Rainfall_mm  Temperature_Celsius  \\\n",
              "0   West     Sandy   Cotton   897.077239            27.676966   \n",
              "1  South      Clay     Rice   992.673282            18.026142   \n",
              "2  North      Loam   Barley   147.998025            29.794042   \n",
              "3  North     Sandy  Soybean   986.866331            16.644190   \n",
              "4  South      Silt    Wheat   730.379174            31.620687   \n",
              "\n",
              "   Fertilizer_Used  Irrigation_Used Weather_Condition  Days_to_Harvest  \\\n",
              "0            False             True            Cloudy              122   \n",
              "1             True             True             Rainy              140   \n",
              "2            False            False             Sunny              106   \n",
              "3            False             True             Rainy              146   \n",
              "4             True             True            Cloudy              110   \n",
              "\n",
              "   Yield_tons_per_hectare  \n",
              "0                6.555816  \n",
              "1                8.527341  \n",
              "2                1.127443  \n",
              "3                6.517573  \n",
              "4                7.248251  "
            ],
            "text/html": [
              "\n",
              "  <div id=\"df-9f62afcf-039a-4e83-97bc-81bf0df7296d\" class=\"colab-df-container\">\n",
              "    <div>\n",
              "<style scoped>\n",
              "    .dataframe tbody tr th:only-of-type {\n",
              "        vertical-align: middle;\n",
              "    }\n",
              "\n",
              "    .dataframe tbody tr th {\n",
              "        vertical-align: top;\n",
              "    }\n",
              "\n",
              "    .dataframe thead th {\n",
              "        text-align: right;\n",
              "    }\n",
              "</style>\n",
              "<table border=\"1\" class=\"dataframe\">\n",
              "  <thead>\n",
              "    <tr style=\"text-align: right;\">\n",
              "      <th></th>\n",
              "      <th>Region</th>\n",
              "      <th>Soil_Type</th>\n",
              "      <th>Crop</th>\n",
              "      <th>Rainfall_mm</th>\n",
              "      <th>Temperature_Celsius</th>\n",
              "      <th>Fertilizer_Used</th>\n",
              "      <th>Irrigation_Used</th>\n",
              "      <th>Weather_Condition</th>\n",
              "      <th>Days_to_Harvest</th>\n",
              "      <th>Yield_tons_per_hectare</th>\n",
              "    </tr>\n",
              "  </thead>\n",
              "  <tbody>\n",
              "    <tr>\n",
              "      <th>0</th>\n",
              "      <td>West</td>\n",
              "      <td>Sandy</td>\n",
              "      <td>Cotton</td>\n",
              "      <td>897.077239</td>\n",
              "      <td>27.676966</td>\n",
              "      <td>False</td>\n",
              "      <td>True</td>\n",
              "      <td>Cloudy</td>\n",
              "      <td>122</td>\n",
              "      <td>6.555816</td>\n",
              "    </tr>\n",
              "    <tr>\n",
              "      <th>1</th>\n",
              "      <td>South</td>\n",
              "      <td>Clay</td>\n",
              "      <td>Rice</td>\n",
              "      <td>992.673282</td>\n",
              "      <td>18.026142</td>\n",
              "      <td>True</td>\n",
              "      <td>True</td>\n",
              "      <td>Rainy</td>\n",
              "      <td>140</td>\n",
              "      <td>8.527341</td>\n",
              "    </tr>\n",
              "    <tr>\n",
              "      <th>2</th>\n",
              "      <td>North</td>\n",
              "      <td>Loam</td>\n",
              "      <td>Barley</td>\n",
              "      <td>147.998025</td>\n",
              "      <td>29.794042</td>\n",
              "      <td>False</td>\n",
              "      <td>False</td>\n",
              "      <td>Sunny</td>\n",
              "      <td>106</td>\n",
              "      <td>1.127443</td>\n",
              "    </tr>\n",
              "    <tr>\n",
              "      <th>3</th>\n",
              "      <td>North</td>\n",
              "      <td>Sandy</td>\n",
              "      <td>Soybean</td>\n",
              "      <td>986.866331</td>\n",
              "      <td>16.644190</td>\n",
              "      <td>False</td>\n",
              "      <td>True</td>\n",
              "      <td>Rainy</td>\n",
              "      <td>146</td>\n",
              "      <td>6.517573</td>\n",
              "    </tr>\n",
              "    <tr>\n",
              "      <th>4</th>\n",
              "      <td>South</td>\n",
              "      <td>Silt</td>\n",
              "      <td>Wheat</td>\n",
              "      <td>730.379174</td>\n",
              "      <td>31.620687</td>\n",
              "      <td>True</td>\n",
              "      <td>True</td>\n",
              "      <td>Cloudy</td>\n",
              "      <td>110</td>\n",
              "      <td>7.248251</td>\n",
              "    </tr>\n",
              "  </tbody>\n",
              "</table>\n",
              "</div>\n",
              "    <div class=\"colab-df-buttons\">\n",
              "\n",
              "  <div class=\"colab-df-container\">\n",
              "    <button class=\"colab-df-convert\" onclick=\"convertToInteractive('df-9f62afcf-039a-4e83-97bc-81bf0df7296d')\"\n",
              "            title=\"Convert this dataframe to an interactive table.\"\n",
              "            style=\"display:none;\">\n",
              "\n",
              "  <svg xmlns=\"http://www.w3.org/2000/svg\" height=\"24px\" viewBox=\"0 -960 960 960\">\n",
              "    <path d=\"M120-120v-720h720v720H120Zm60-500h600v-160H180v160Zm220 220h160v-160H400v160Zm0 220h160v-160H400v160ZM180-400h160v-160H180v160Zm440 0h160v-160H620v160ZM180-180h160v-160H180v160Zm440 0h160v-160H620v160Z\"/>\n",
              "  </svg>\n",
              "    </button>\n",
              "\n",
              "  <style>\n",
              "    .colab-df-container {\n",
              "      display:flex;\n",
              "      gap: 12px;\n",
              "    }\n",
              "\n",
              "    .colab-df-convert {\n",
              "      background-color: #E8F0FE;\n",
              "      border: none;\n",
              "      border-radius: 50%;\n",
              "      cursor: pointer;\n",
              "      display: none;\n",
              "      fill: #1967D2;\n",
              "      height: 32px;\n",
              "      padding: 0 0 0 0;\n",
              "      width: 32px;\n",
              "    }\n",
              "\n",
              "    .colab-df-convert:hover {\n",
              "      background-color: #E2EBFA;\n",
              "      box-shadow: 0px 1px 2px rgba(60, 64, 67, 0.3), 0px 1px 3px 1px rgba(60, 64, 67, 0.15);\n",
              "      fill: #174EA6;\n",
              "    }\n",
              "\n",
              "    .colab-df-buttons div {\n",
              "      margin-bottom: 4px;\n",
              "    }\n",
              "\n",
              "    [theme=dark] .colab-df-convert {\n",
              "      background-color: #3B4455;\n",
              "      fill: #D2E3FC;\n",
              "    }\n",
              "\n",
              "    [theme=dark] .colab-df-convert:hover {\n",
              "      background-color: #434B5C;\n",
              "      box-shadow: 0px 1px 3px 1px rgba(0, 0, 0, 0.15);\n",
              "      filter: drop-shadow(0px 1px 2px rgba(0, 0, 0, 0.3));\n",
              "      fill: #FFFFFF;\n",
              "    }\n",
              "  </style>\n",
              "\n",
              "    <script>\n",
              "      const buttonEl =\n",
              "        document.querySelector('#df-9f62afcf-039a-4e83-97bc-81bf0df7296d button.colab-df-convert');\n",
              "      buttonEl.style.display =\n",
              "        google.colab.kernel.accessAllowed ? 'block' : 'none';\n",
              "\n",
              "      async function convertToInteractive(key) {\n",
              "        const element = document.querySelector('#df-9f62afcf-039a-4e83-97bc-81bf0df7296d');\n",
              "        const dataTable =\n",
              "          await google.colab.kernel.invokeFunction('convertToInteractive',\n",
              "                                                    [key], {});\n",
              "        if (!dataTable) return;\n",
              "\n",
              "        const docLinkHtml = 'Like what you see? Visit the ' +\n",
              "          '<a target=\"_blank\" href=https://colab.research.google.com/notebooks/data_table.ipynb>data table notebook</a>'\n",
              "          + ' to learn more about interactive tables.';\n",
              "        element.innerHTML = '';\n",
              "        dataTable['output_type'] = 'display_data';\n",
              "        await google.colab.output.renderOutput(dataTable, element);\n",
              "        const docLink = document.createElement('div');\n",
              "        docLink.innerHTML = docLinkHtml;\n",
              "        element.appendChild(docLink);\n",
              "      }\n",
              "    </script>\n",
              "  </div>\n",
              "\n",
              "\n",
              "<div id=\"df-4efa878c-b222-4a93-a496-ad665d9f28e3\">\n",
              "  <button class=\"colab-df-quickchart\" onclick=\"quickchart('df-4efa878c-b222-4a93-a496-ad665d9f28e3')\"\n",
              "            title=\"Suggest charts\"\n",
              "            style=\"display:none;\">\n",
              "\n",
              "<svg xmlns=\"http://www.w3.org/2000/svg\" height=\"24px\"viewBox=\"0 0 24 24\"\n",
              "     width=\"24px\">\n",
              "    <g>\n",
              "        <path d=\"M19 3H5c-1.1 0-2 .9-2 2v14c0 1.1.9 2 2 2h14c1.1 0 2-.9 2-2V5c0-1.1-.9-2-2-2zM9 17H7v-7h2v7zm4 0h-2V7h2v10zm4 0h-2v-4h2v4z\"/>\n",
              "    </g>\n",
              "</svg>\n",
              "  </button>\n",
              "\n",
              "<style>\n",
              "  .colab-df-quickchart {\n",
              "      --bg-color: #E8F0FE;\n",
              "      --fill-color: #1967D2;\n",
              "      --hover-bg-color: #E2EBFA;\n",
              "      --hover-fill-color: #174EA6;\n",
              "      --disabled-fill-color: #AAA;\n",
              "      --disabled-bg-color: #DDD;\n",
              "  }\n",
              "\n",
              "  [theme=dark] .colab-df-quickchart {\n",
              "      --bg-color: #3B4455;\n",
              "      --fill-color: #D2E3FC;\n",
              "      --hover-bg-color: #434B5C;\n",
              "      --hover-fill-color: #FFFFFF;\n",
              "      --disabled-bg-color: #3B4455;\n",
              "      --disabled-fill-color: #666;\n",
              "  }\n",
              "\n",
              "  .colab-df-quickchart {\n",
              "    background-color: var(--bg-color);\n",
              "    border: none;\n",
              "    border-radius: 50%;\n",
              "    cursor: pointer;\n",
              "    display: none;\n",
              "    fill: var(--fill-color);\n",
              "    height: 32px;\n",
              "    padding: 0;\n",
              "    width: 32px;\n",
              "  }\n",
              "\n",
              "  .colab-df-quickchart:hover {\n",
              "    background-color: var(--hover-bg-color);\n",
              "    box-shadow: 0 1px 2px rgba(60, 64, 67, 0.3), 0 1px 3px 1px rgba(60, 64, 67, 0.15);\n",
              "    fill: var(--button-hover-fill-color);\n",
              "  }\n",
              "\n",
              "  .colab-df-quickchart-complete:disabled,\n",
              "  .colab-df-quickchart-complete:disabled:hover {\n",
              "    background-color: var(--disabled-bg-color);\n",
              "    fill: var(--disabled-fill-color);\n",
              "    box-shadow: none;\n",
              "  }\n",
              "\n",
              "  .colab-df-spinner {\n",
              "    border: 2px solid var(--fill-color);\n",
              "    border-color: transparent;\n",
              "    border-bottom-color: var(--fill-color);\n",
              "    animation:\n",
              "      spin 1s steps(1) infinite;\n",
              "  }\n",
              "\n",
              "  @keyframes spin {\n",
              "    0% {\n",
              "      border-color: transparent;\n",
              "      border-bottom-color: var(--fill-color);\n",
              "      border-left-color: var(--fill-color);\n",
              "    }\n",
              "    20% {\n",
              "      border-color: transparent;\n",
              "      border-left-color: var(--fill-color);\n",
              "      border-top-color: var(--fill-color);\n",
              "    }\n",
              "    30% {\n",
              "      border-color: transparent;\n",
              "      border-left-color: var(--fill-color);\n",
              "      border-top-color: var(--fill-color);\n",
              "      border-right-color: var(--fill-color);\n",
              "    }\n",
              "    40% {\n",
              "      border-color: transparent;\n",
              "      border-right-color: var(--fill-color);\n",
              "      border-top-color: var(--fill-color);\n",
              "    }\n",
              "    60% {\n",
              "      border-color: transparent;\n",
              "      border-right-color: var(--fill-color);\n",
              "    }\n",
              "    80% {\n",
              "      border-color: transparent;\n",
              "      border-right-color: var(--fill-color);\n",
              "      border-bottom-color: var(--fill-color);\n",
              "    }\n",
              "    90% {\n",
              "      border-color: transparent;\n",
              "      border-bottom-color: var(--fill-color);\n",
              "    }\n",
              "  }\n",
              "</style>\n",
              "\n",
              "  <script>\n",
              "    async function quickchart(key) {\n",
              "      const quickchartButtonEl =\n",
              "        document.querySelector('#' + key + ' button');\n",
              "      quickchartButtonEl.disabled = true;  // To prevent multiple clicks.\n",
              "      quickchartButtonEl.classList.add('colab-df-spinner');\n",
              "      try {\n",
              "        const charts = await google.colab.kernel.invokeFunction(\n",
              "            'suggestCharts', [key], {});\n",
              "      } catch (error) {\n",
              "        console.error('Error during call to suggestCharts:', error);\n",
              "      }\n",
              "      quickchartButtonEl.classList.remove('colab-df-spinner');\n",
              "      quickchartButtonEl.classList.add('colab-df-quickchart-complete');\n",
              "    }\n",
              "    (() => {\n",
              "      let quickchartButtonEl =\n",
              "        document.querySelector('#df-4efa878c-b222-4a93-a496-ad665d9f28e3 button');\n",
              "      quickchartButtonEl.style.display =\n",
              "        google.colab.kernel.accessAllowed ? 'block' : 'none';\n",
              "    })();\n",
              "  </script>\n",
              "</div>\n",
              "\n",
              "    </div>\n",
              "  </div>\n"
            ],
            "application/vnd.google.colaboratory.intrinsic+json": {
              "type": "dataframe",
              "variable_name": "df"
            }
          },
          "metadata": {},
          "execution_count": 30
        }
      ]
    },
    {
      "cell_type": "markdown",
      "source": [
        "###Data Preprocessing"
      ],
      "metadata": {
        "id": "htmQZpy7DjYC"
      }
    },
    {
      "cell_type": "code",
      "source": [
        "X = df.drop('Yield_tons_per_hectare',axis=1)\n",
        "y = df.loc[:,'Yield_tons_per_hectare']"
      ],
      "metadata": {
        "id": "GNBtOAWiDx-m"
      },
      "execution_count": 31,
      "outputs": []
    },
    {
      "cell_type": "code",
      "source": [
        "X.shape,y.shape"
      ],
      "metadata": {
        "colab": {
          "base_uri": "https://localhost:8080/"
        },
        "id": "zJlQajTyD37g",
        "outputId": "be433ab2-7508-4ea6-c8bc-45feed94006d"
      },
      "execution_count": 32,
      "outputs": [
        {
          "output_type": "execute_result",
          "data": {
            "text/plain": [
              "((999963, 9), (999963,))"
            ]
          },
          "metadata": {},
          "execution_count": 32
        }
      ]
    },
    {
      "cell_type": "markdown",
      "source": [
        "###Encoding the categorical data"
      ],
      "metadata": {
        "id": "bRt_WFlfEJwB"
      }
    },
    {
      "cell_type": "markdown",
      "source": [
        "Most ML algorithms handle Boolean values as 0 and 1 internally ,so there is no need to do encoding for boolean column"
      ],
      "metadata": {
        "id": "wC_fgtY_ichm"
      }
    },
    {
      "cell_type": "code",
      "source": [
        "# label_map = {'Fertilizer_Used': {False: 0, True: 1}, 'Irrigation_Used': {False: 0, True: 1}}\n",
        "# X.replace(label_map, inplace=True)\n",
        "# X.head()"
      ],
      "metadata": {
        "id": "OLC9ihNOEMY-"
      },
      "execution_count": 33,
      "outputs": []
    },
    {
      "cell_type": "markdown",
      "source": [
        "If using tree-based models (Random Forest, XGBoost), multicollinearity is not a problem, so you can keep all categories,so drop_first=False\n",
        "\n",
        "But The dummy variable trap happens when all categories of a categorical variable are included in a regression model, creating perfect multicollinearity\n",
        "so drop_first=True"
      ],
      "metadata": {
        "id": "2gh01K6ZjD1w"
      }
    },
    {
      "cell_type": "code",
      "source": [
        "X_ohe= pd.get_dummies(X,columns=['Region','Soil_Type','Crop','Weather_Condition'],drop_first=True)"
      ],
      "metadata": {
        "id": "QnTRpGBFFHfh"
      },
      "execution_count": 34,
      "outputs": []
    },
    {
      "cell_type": "code",
      "source": [
        "X_ohe.shape"
      ],
      "metadata": {
        "colab": {
          "base_uri": "https://localhost:8080/"
        },
        "id": "X1rR1mSRFRjG",
        "outputId": "8835f739-6718-476e-f9b2-603949067332"
      },
      "execution_count": 35,
      "outputs": [
        {
          "output_type": "execute_result",
          "data": {
            "text/plain": [
              "(999963, 20)"
            ]
          },
          "metadata": {},
          "execution_count": 35
        }
      ]
    },
    {
      "cell_type": "code",
      "source": [
        "X_ohe.dtypes"
      ],
      "metadata": {
        "colab": {
          "base_uri": "https://localhost:8080/",
          "height": 711
        },
        "id": "Ei03zMSuosU3",
        "outputId": "d1f8da79-735a-4c22-d099-69db31b5cfad"
      },
      "execution_count": 36,
      "outputs": [
        {
          "output_type": "execute_result",
          "data": {
            "text/plain": [
              "Rainfall_mm                float64\n",
              "Temperature_Celsius        float64\n",
              "Fertilizer_Used               bool\n",
              "Irrigation_Used               bool\n",
              "Days_to_Harvest              int64\n",
              "Region_North                  bool\n",
              "Region_South                  bool\n",
              "Region_West                   bool\n",
              "Soil_Type_Clay                bool\n",
              "Soil_Type_Loam                bool\n",
              "Soil_Type_Peaty               bool\n",
              "Soil_Type_Sandy               bool\n",
              "Soil_Type_Silt                bool\n",
              "Crop_Cotton                   bool\n",
              "Crop_Maize                    bool\n",
              "Crop_Rice                     bool\n",
              "Crop_Soybean                  bool\n",
              "Crop_Wheat                    bool\n",
              "Weather_Condition_Rainy       bool\n",
              "Weather_Condition_Sunny       bool\n",
              "dtype: object"
            ],
            "text/html": [
              "<div>\n",
              "<style scoped>\n",
              "    .dataframe tbody tr th:only-of-type {\n",
              "        vertical-align: middle;\n",
              "    }\n",
              "\n",
              "    .dataframe tbody tr th {\n",
              "        vertical-align: top;\n",
              "    }\n",
              "\n",
              "    .dataframe thead th {\n",
              "        text-align: right;\n",
              "    }\n",
              "</style>\n",
              "<table border=\"1\" class=\"dataframe\">\n",
              "  <thead>\n",
              "    <tr style=\"text-align: right;\">\n",
              "      <th></th>\n",
              "      <th>0</th>\n",
              "    </tr>\n",
              "  </thead>\n",
              "  <tbody>\n",
              "    <tr>\n",
              "      <th>Rainfall_mm</th>\n",
              "      <td>float64</td>\n",
              "    </tr>\n",
              "    <tr>\n",
              "      <th>Temperature_Celsius</th>\n",
              "      <td>float64</td>\n",
              "    </tr>\n",
              "    <tr>\n",
              "      <th>Fertilizer_Used</th>\n",
              "      <td>bool</td>\n",
              "    </tr>\n",
              "    <tr>\n",
              "      <th>Irrigation_Used</th>\n",
              "      <td>bool</td>\n",
              "    </tr>\n",
              "    <tr>\n",
              "      <th>Days_to_Harvest</th>\n",
              "      <td>int64</td>\n",
              "    </tr>\n",
              "    <tr>\n",
              "      <th>Region_North</th>\n",
              "      <td>bool</td>\n",
              "    </tr>\n",
              "    <tr>\n",
              "      <th>Region_South</th>\n",
              "      <td>bool</td>\n",
              "    </tr>\n",
              "    <tr>\n",
              "      <th>Region_West</th>\n",
              "      <td>bool</td>\n",
              "    </tr>\n",
              "    <tr>\n",
              "      <th>Soil_Type_Clay</th>\n",
              "      <td>bool</td>\n",
              "    </tr>\n",
              "    <tr>\n",
              "      <th>Soil_Type_Loam</th>\n",
              "      <td>bool</td>\n",
              "    </tr>\n",
              "    <tr>\n",
              "      <th>Soil_Type_Peaty</th>\n",
              "      <td>bool</td>\n",
              "    </tr>\n",
              "    <tr>\n",
              "      <th>Soil_Type_Sandy</th>\n",
              "      <td>bool</td>\n",
              "    </tr>\n",
              "    <tr>\n",
              "      <th>Soil_Type_Silt</th>\n",
              "      <td>bool</td>\n",
              "    </tr>\n",
              "    <tr>\n",
              "      <th>Crop_Cotton</th>\n",
              "      <td>bool</td>\n",
              "    </tr>\n",
              "    <tr>\n",
              "      <th>Crop_Maize</th>\n",
              "      <td>bool</td>\n",
              "    </tr>\n",
              "    <tr>\n",
              "      <th>Crop_Rice</th>\n",
              "      <td>bool</td>\n",
              "    </tr>\n",
              "    <tr>\n",
              "      <th>Crop_Soybean</th>\n",
              "      <td>bool</td>\n",
              "    </tr>\n",
              "    <tr>\n",
              "      <th>Crop_Wheat</th>\n",
              "      <td>bool</td>\n",
              "    </tr>\n",
              "    <tr>\n",
              "      <th>Weather_Condition_Rainy</th>\n",
              "      <td>bool</td>\n",
              "    </tr>\n",
              "    <tr>\n",
              "      <th>Weather_Condition_Sunny</th>\n",
              "      <td>bool</td>\n",
              "    </tr>\n",
              "  </tbody>\n",
              "</table>\n",
              "</div><br><label><b>dtype:</b> object</label>"
            ]
          },
          "metadata": {},
          "execution_count": 36
        }
      ]
    },
    {
      "cell_type": "markdown",
      "source": [
        "**Splitting** the dataset into the Training set and Test set"
      ],
      "metadata": {
        "id": "p9PLskUDUYN4"
      }
    },
    {
      "cell_type": "code",
      "source": [
        "#x_ohe_std = (X - X.mean()) / X.std()"
      ],
      "metadata": {
        "id": "YAbUVZxyyO5Q"
      },
      "execution_count": 37,
      "outputs": []
    },
    {
      "cell_type": "code",
      "source": [
        "from sklearn.model_selection import train_test_split\n",
        "X_train, X_test, y_train, y_test = train_test_split(X_ohe, y, test_size = 0.2, random_state = 42)"
      ],
      "metadata": {
        "id": "fXeAhkffHSNz"
      },
      "execution_count": 40,
      "outputs": []
    },
    {
      "cell_type": "code",
      "source": [],
      "metadata": {
        "id": "e_FePdwF3v7p"
      },
      "execution_count": null,
      "outputs": []
    },
    {
      "cell_type": "code",
      "source": [
        "X_train.shape,y_train.shape,X_test.shape,y_test.shape"
      ],
      "metadata": {
        "id": "Kq6cwbz8vReR",
        "colab": {
          "base_uri": "https://localhost:8080/"
        },
        "outputId": "6d427a2d-b930-4934-d814-efee69cf5a15"
      },
      "execution_count": 41,
      "outputs": [
        {
          "output_type": "execute_result",
          "data": {
            "text/plain": [
              "((799970, 20), (799970,), (199993, 20), (199993,))"
            ]
          },
          "metadata": {},
          "execution_count": 41
        }
      ]
    },
    {
      "cell_type": "markdown",
      "source": [
        "###We are planning to apply\n",
        "\n",
        "Linear Regression\n",
        "\n",
        "Random Forest\n",
        "\n",
        "Gradient Boosting\n",
        "  \n",
        "**Neural** Networks\n",
        "\n"
      ],
      "metadata": {
        "id": "igm87BAnVDnh"
      }
    },
    {
      "cell_type": "markdown",
      "source": [
        "###Linear Regression\n",
        "\n",
        "Linear Regression is one of the simplest and most widely used machine learning algorithms for regression tasks. It is used to model the relationship between a dependent (target) variable and one or more independent (predictor) variables by fitting a linear equation to observed data\n"
      ],
      "metadata": {
        "id": "Hs18v8Bbmd_n"
      }
    },
    {
      "cell_type": "code",
      "source": [
        "from sklearn.model_selection import cross_val_score\n",
        "from sklearn.preprocessing import PolynomialFeatures\n",
        "from sklearn.pipeline import make_pipeline\n",
        "from sklearn.linear_model import LinearRegression\n",
        "\n",
        "for d in range(1, 3):  # Try different degrees\n",
        "    model = make_pipeline(PolynomialFeatures(degree=d), LinearRegression())\n",
        "    scores = cross_val_score(model, X_train, y_train, cv=5, scoring='r2')\n",
        "\n",
        "    print(f\"Degree {d}, Mean R²: {scores.mean()}\")\n",
        "\n"
      ],
      "metadata": {
        "colab": {
          "base_uri": "https://localhost:8080/"
        },
        "id": "KJL7Lk78GjQQ",
        "outputId": "b6545449-060d-43ca-9ce3-db1ba90ae12a"
      },
      "execution_count": 42,
      "outputs": [
        {
          "output_type": "stream",
          "name": "stdout",
          "text": [
            "Degree 1, Mean R²: 0.9128750016266706\n",
            "Degree 2, Mean R²: 0.9128598692941401\n"
          ]
        }
      ]
    },
    {
      "cell_type": "code",
      "source": [
        "from sklearn.metrics import mean_absolute_error,\\\n",
        "mean_squared_error, r2_score\n",
        "\n",
        "best_degree = 2\n",
        "lr = make_pipeline(PolynomialFeatures(degree=best_degree), LinearRegression())\n",
        "lr.fit(X_train, y_train)\n",
        "y_test_pred = lr.predict(X_test)\n"
      ],
      "metadata": {
        "id": "v-fEfJPqc2h-"
      },
      "execution_count": 43,
      "outputs": []
    },
    {
      "cell_type": "code",
      "source": [
        "test_mae=mean_absolute_error( y_test, y_test_pred)\n",
        "print(f\"Testing MAE: {test_mae}\")\n",
        "test_mse=mean_squared_error( y_test, y_test_pred)\n",
        "print(f\"Testing MSE: {test_mse}\")\n",
        "test_r2 = r2_score(y_test, y_test_pred)\n",
        "print(f\"Testing R²: {test_r2}\")"
      ],
      "metadata": {
        "colab": {
          "base_uri": "https://localhost:8080/"
        },
        "id": "JAxGghAYfhZI",
        "outputId": "0a7bdd89-c57f-4f08-fae0-18d1cbb38c2f"
      },
      "execution_count": 44,
      "outputs": [
        {
          "output_type": "stream",
          "name": "stdout",
          "text": [
            "Testing MAE: 0.39848644943392003\n",
            "Testing MSE: 0.24927944149799428\n",
            "Testing R²: 0.9133823623728735\n"
          ]
        }
      ]
    },
    {
      "cell_type": "markdown",
      "source": [
        "###Ridge\n",
        "\n",
        "Ridge Regression is a type of linear regression that includes L2 regularization to address multicollinearity and prevent overfitting by adding a penalty to the size of the coefficients. It is particularly useful when the model has many features or the dataset is highly prone to overfitting."
      ],
      "metadata": {
        "id": "ukv1N1WDyMS6"
      }
    },
    {
      "cell_type": "code",
      "source": [
        "from sklearn.linear_model import Ridge\n",
        "from sklearn.model_selection import GridSearchCV\n",
        "param_grid={\n",
        "    \"alpha\" : [0.01,0.1,0.2], # 0.09, 0.11, 0.15\n",
        "    \"max_iter\" : [20, 50, 2000] #10,20,25\n",
        "}\n",
        "gscv = GridSearchCV(Ridge(random_state=7), param_grid, cv=2, verbose=2)\n",
        "gscv.fit(X_train,y_train)\n",
        "print(gscv.best_score_)\n",
        "print(gscv.best_params_)\n",
        "\n"
      ],
      "metadata": {
        "colab": {
          "base_uri": "https://localhost:8080/"
        },
        "id": "b_foRHGU34MC",
        "outputId": "7dd71f99-187c-4d92-bed8-0e44c305db8a"
      },
      "execution_count": 45,
      "outputs": [
        {
          "output_type": "stream",
          "name": "stdout",
          "text": [
            "Fitting 2 folds for each of 9 candidates, totalling 18 fits\n",
            "[CV] END ............................alpha=0.01, max_iter=20; total time=   0.3s\n",
            "[CV] END ............................alpha=0.01, max_iter=20; total time=   0.3s\n",
            "[CV] END ............................alpha=0.01, max_iter=50; total time=   0.3s\n",
            "[CV] END ............................alpha=0.01, max_iter=50; total time=   0.3s\n",
            "[CV] END ..........................alpha=0.01, max_iter=2000; total time=   0.3s\n",
            "[CV] END ..........................alpha=0.01, max_iter=2000; total time=   0.3s\n",
            "[CV] END .............................alpha=0.1, max_iter=20; total time=   0.3s\n",
            "[CV] END .............................alpha=0.1, max_iter=20; total time=   0.3s\n",
            "[CV] END .............................alpha=0.1, max_iter=50; total time=   0.3s\n",
            "[CV] END .............................alpha=0.1, max_iter=50; total time=   0.3s\n",
            "[CV] END ...........................alpha=0.1, max_iter=2000; total time=   0.3s\n",
            "[CV] END ...........................alpha=0.1, max_iter=2000; total time=   0.3s\n",
            "[CV] END .............................alpha=0.2, max_iter=20; total time=   0.3s\n",
            "[CV] END .............................alpha=0.2, max_iter=20; total time=   0.3s\n",
            "[CV] END .............................alpha=0.2, max_iter=50; total time=   0.3s\n",
            "[CV] END .............................alpha=0.2, max_iter=50; total time=   0.3s\n",
            "[CV] END ...........................alpha=0.2, max_iter=2000; total time=   0.3s\n",
            "[CV] END ...........................alpha=0.2, max_iter=2000; total time=   0.3s\n",
            "0.9128749961024706\n",
            "{'alpha': 0.2, 'max_iter': 20}\n"
          ]
        }
      ]
    },
    {
      "cell_type": "markdown",
      "source": [
        "create best ridge model"
      ],
      "metadata": {
        "id": "tbb3KKBe4Xe_"
      }
    },
    {
      "cell_type": "code",
      "source": [
        "\n",
        "best_degree = 2\n",
        "ridge = make_pipeline(PolynomialFeatures(degree=best_degree),Ridge(alpha= 0.2 , max_iter = 20, random_state = 7))\n",
        "ridge.fit(X_train, y_train)\n",
        "y_pred = ridge.predict(X_test)\n"
      ],
      "metadata": {
        "id": "UCB3Fg83mO9v",
        "colab": {
          "base_uri": "https://localhost:8080/"
        },
        "outputId": "499c1134-0740-4ad3-ed8a-fef74d1dae17"
      },
      "execution_count": 46,
      "outputs": [
        {
          "output_type": "stream",
          "name": "stderr",
          "text": [
            "/usr/local/lib/python3.11/dist-packages/sklearn/linear_model/_ridge.py:215: LinAlgWarning: Ill-conditioned matrix (rcond=2.61865e-18): result may not be accurate.\n",
            "  return linalg.solve(A, Xy, assume_a=\"pos\", overwrite_a=True).T\n"
          ]
        }
      ]
    },
    {
      "cell_type": "code",
      "source": [
        "test_mae=mean_absolute_error( y_test, y_pred)\n",
        "print(f\"Testing MAE: {test_mae}\")\n",
        "test_mse=mean_squared_error( y_test, y_pred)\n",
        "print(f\"Testing MSE: {test_mse}\")\n",
        "test_r2 = r2_score(y_test, y_pred)\n",
        "print(f\"Testing R²: {test_r2}\")"
      ],
      "metadata": {
        "colab": {
          "base_uri": "https://localhost:8080/"
        },
        "id": "R6sfo0QkmSHx",
        "outputId": "6cf3315e-ab6e-419a-a91a-875c7f898f07"
      },
      "execution_count": 47,
      "outputs": [
        {
          "output_type": "stream",
          "name": "stdout",
          "text": [
            "Testing MAE: 0.39848645848956726\n",
            "Testing MSE: 0.2492794435122158\n",
            "Testing R²: 0.9133823616729878\n"
          ]
        }
      ]
    },
    {
      "cell_type": "markdown",
      "source": [
        "###Lasso"
      ],
      "metadata": {
        "id": "vKuTuit6f4D-"
      }
    },
    {
      "cell_type": "markdown",
      "source": [
        "The Lasso (Least Absolute Shrinkage and Selection Operator) regression model is a type of linear regression that applies L1 regularization\n",
        "\n",
        "Lasso adds a penalty to the linear regression cost function, which is the sum of squared residuals (errors) between predicted and actual values. The penalty is proportional to the absolute value of the coefficients, and it shrinks the less important feature coefficients to zero, effectively removing some features from the model"
      ],
      "metadata": {
        "id": "kzvCzR4pf7S_"
      }
    },
    {
      "cell_type": "code",
      "source": [
        "from sklearn.linear_model import Lasso\n",
        "gscv = GridSearchCV(Lasso(random_state=7), param_grid, cv=2, verbose=2)\n",
        "gscv.fit(X_train,y_train)\n",
        "print(gscv.best_score_)\n",
        "print(gscv.best_params_)\n"
      ],
      "metadata": {
        "colab": {
          "base_uri": "https://localhost:8080/"
        },
        "id": "63UvRGNg6WNz",
        "outputId": "64c53716-4488-40b5-8690-7f5786e52f1a"
      },
      "execution_count": 48,
      "outputs": [
        {
          "output_type": "stream",
          "name": "stdout",
          "text": [
            "Fitting 2 folds for each of 9 candidates, totalling 18 fits\n",
            "[CV] END ............................alpha=0.01, max_iter=20; total time=   0.6s\n",
            "[CV] END ............................alpha=0.01, max_iter=20; total time=   0.5s\n",
            "[CV] END ............................alpha=0.01, max_iter=50; total time=   0.5s\n",
            "[CV] END ............................alpha=0.01, max_iter=50; total time=   0.5s\n",
            "[CV] END ..........................alpha=0.01, max_iter=2000; total time=   0.5s\n",
            "[CV] END ..........................alpha=0.01, max_iter=2000; total time=   0.5s\n",
            "[CV] END .............................alpha=0.1, max_iter=20; total time=   1.2s\n",
            "[CV] END .............................alpha=0.1, max_iter=20; total time=   0.8s\n",
            "[CV] END .............................alpha=0.1, max_iter=50; total time=   0.9s\n",
            "[CV] END .............................alpha=0.1, max_iter=50; total time=   0.7s\n",
            "[CV] END ...........................alpha=0.1, max_iter=2000; total time=   1.0s\n",
            "[CV] END ...........................alpha=0.1, max_iter=2000; total time=   0.5s\n",
            "[CV] END .............................alpha=0.2, max_iter=20; total time=   0.5s\n",
            "[CV] END .............................alpha=0.2, max_iter=20; total time=   0.5s\n",
            "[CV] END .............................alpha=0.2, max_iter=50; total time=   0.5s\n",
            "[CV] END .............................alpha=0.2, max_iter=50; total time=   0.5s\n",
            "[CV] END ...........................alpha=0.2, max_iter=2000; total time=   0.5s\n",
            "[CV] END ...........................alpha=0.2, max_iter=2000; total time=   0.5s\n",
            "0.9125989502053894\n",
            "{'alpha': 0.01, 'max_iter': 20}\n"
          ]
        }
      ]
    },
    {
      "cell_type": "code",
      "source": [
        "best_degree = 2\n",
        "lasso = make_pipeline(PolynomialFeatures(degree=best_degree),Lasso(alpha= 0.01 , max_iter = 20, random_state = 7))\n",
        "lasso.fit(X_train, y_train)\n",
        "y_pred = lasso.predict(X_test)"
      ],
      "metadata": {
        "colab": {
          "base_uri": "https://localhost:8080/"
        },
        "id": "xwdz2A-B5ZGl",
        "outputId": "fa716662-9daf-4c47-d3b2-8da805d9a69b"
      },
      "execution_count": 49,
      "outputs": [
        {
          "output_type": "stream",
          "name": "stderr",
          "text": [
            "/usr/local/lib/python3.11/dist-packages/sklearn/linear_model/_coordinate_descent.py:695: ConvergenceWarning: Objective did not converge. You might want to increase the number of iterations, check the scale of the features or consider increasing regularisation. Duality gap: 1.142e+05, tolerance: 2.302e+02\n",
            "  model = cd_fast.enet_coordinate_descent(\n"
          ]
        }
      ]
    },
    {
      "cell_type": "code",
      "source": [
        "test_mae=mean_absolute_error( y_test, y_pred)\n",
        "print(f\"Testing MAE: {test_mae}\")\n",
        "test_mse=mean_squared_error( y_test, y_pred)\n",
        "print(f\"Testing MSE: {test_mse}\")\n",
        "test_r2 = r2_score(y_test, y_pred)\n",
        "print(f\"Testing R²: {test_r2}\")"
      ],
      "metadata": {
        "colab": {
          "base_uri": "https://localhost:8080/"
        },
        "id": "3FVKfXnF5iLF",
        "outputId": "d7acad90-617f-40be-8771-d9c0586eb107"
      },
      "execution_count": 50,
      "outputs": [
        {
          "output_type": "stream",
          "name": "stdout",
          "text": [
            "Testing MAE: 0.4053791252175812\n",
            "Testing MSE: 0.2579362489771202\n",
            "Testing R²: 0.9103743637640481\n"
          ]
        }
      ]
    },
    {
      "cell_type": "code",
      "source": [
        "X_ohe1= pd.get_dummies(X,columns=['Region','Soil_Type','Crop','Weather_Condition'],drop_first=False)"
      ],
      "metadata": {
        "id": "f6uOakCRUyQW"
      },
      "execution_count": 48,
      "outputs": []
    },
    {
      "cell_type": "code",
      "source": [
        "X_ohe1.shape"
      ],
      "metadata": {
        "colab": {
          "base_uri": "https://localhost:8080/"
        },
        "id": "lZDYucYsiE0J",
        "outputId": "50569f2e-60f4-4e2c-c969-6dbaec48f837"
      },
      "execution_count": 50,
      "outputs": [
        {
          "output_type": "execute_result",
          "data": {
            "text/plain": [
              "(999963, 24)"
            ]
          },
          "metadata": {},
          "execution_count": 50
        }
      ]
    },
    {
      "cell_type": "code",
      "source": [
        "from sklearn.model_selection import train_test_split\n",
        "X_train, X_test, y_train, y_test = train_test_split(X_ohe1, y, test_size = 0.2, random_state = 42)"
      ],
      "metadata": {
        "id": "TjXdvdt2iLqP"
      },
      "execution_count": 53,
      "outputs": []
    },
    {
      "cell_type": "code",
      "source": [
        "X_train.shape,y_train.shape,X_test.shape,y_test.shape"
      ],
      "metadata": {
        "colab": {
          "base_uri": "https://localhost:8080/"
        },
        "id": "MzLTMH5JiQyw",
        "outputId": "91e61a9e-b4b4-4a0a-a7e4-bbcc8e890cd1"
      },
      "execution_count": 54,
      "outputs": [
        {
          "output_type": "execute_result",
          "data": {
            "text/plain": [
              "((799970, 24), (799970,), (199993, 24), (199993,))"
            ]
          },
          "metadata": {},
          "execution_count": 54
        }
      ]
    },
    {
      "cell_type": "markdown",
      "source": [
        "###Ensemble Technique"
      ],
      "metadata": {
        "id": "bX5qJ_ZLhjj5"
      }
    },
    {
      "cell_type": "markdown",
      "source": [
        "\n",
        "\n"
      ],
      "metadata": {
        "id": "U5F2IyEihnzU"
      }
    },
    {
      "cell_type": "markdown",
      "source": [
        "###Random Forest"
      ],
      "metadata": {
        "id": "7AZ_2k1_paQm"
      }
    },
    {
      "cell_type": "markdown",
      "source": [],
      "metadata": {
        "id": "7NxBNGoWhOHs"
      }
    },
    {
      "cell_type": "code",
      "source": [
        "from sklearn.ensemble import RandomForestRegressor\n",
        "rf = RandomForestRegressor(random_state=42, n_jobs=-1)\n",
        "rf.fit(X_train, y_train)\n",
        "y_pred_rf = rf.predict(X_test)\n"
      ],
      "metadata": {
        "colab": {
          "base_uri": "https://localhost:8080/"
        },
        "id": "63HCFoBAm6ub",
        "outputId": "af08ea07-b110-4ea8-c788-e913246d318b"
      },
      "execution_count": null,
      "outputs": [
        {
          "output_type": "stream",
          "name": "stdout",
          "text": [
            "Random Forest:\n",
            "  MSE: 0.26\n",
            "  R2: 0.91\n",
            "\n"
          ]
        }
      ]
    },
    {
      "cell_type": "markdown",
      "source": [
        "###Gradient Boosting"
      ],
      "metadata": {
        "id": "eZlknmJUq908"
      }
    },
    {
      "cell_type": "code",
      "source": [
        "from sklearn.ensemble import GradientBoostingRegressor\n",
        "gb = GradientBoostingRegressor(random_state=42)\n",
        "gb.fit(X_train, y_train)\n",
        "y_pred_gb = gb.predict(X_test)\n",
        "mse_gb = mean_squared_error(y_test, y_pred_gb)\n",
        "r2_gb = r2_score(y_test, y_pred_gb)\n",
        "print(f\"Gradient Boosting:\\n  MSE: {mse_gb:.2f}\\n  R2: {r2_gb:.2f}\\n\")"
      ],
      "metadata": {
        "id": "fC-xkDPhqsOT",
        "colab": {
          "base_uri": "https://localhost:8080/"
        },
        "outputId": "c3a8ac4a-da66-4a05-f50a-abef6ff291da"
      },
      "execution_count": null,
      "outputs": [
        {
          "output_type": "stream",
          "name": "stdout",
          "text": [
            "Gradient Boosting:\n",
            "  MSE: 0.25\n",
            "  R2: 0.91\n",
            "\n"
          ]
        }
      ]
    },
    {
      "cell_type": "markdown",
      "source": [
        "###Neural Networks"
      ],
      "metadata": {
        "id": "Vh82_4SwrBq_"
      }
    },
    {
      "cell_type": "code",
      "source": [],
      "metadata": {
        "id": "tLRngrDrrGpt",
        "colab": {
          "base_uri": "https://localhost:8080/"
        },
        "outputId": "75e72690-68db-409f-ec8c-955930744416"
      },
      "execution_count": null,
      "outputs": [
        {
          "output_type": "stream",
          "name": "stdout",
          "text": [
            "Neural Network:\n",
            "  MSE: 0.31\n",
            "  R2: 0.89\n",
            "\n"
          ]
        }
      ]
    }
  ]
}