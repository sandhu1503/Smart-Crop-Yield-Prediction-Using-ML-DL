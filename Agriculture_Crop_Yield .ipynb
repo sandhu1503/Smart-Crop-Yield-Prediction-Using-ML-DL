{
  "cells": [
    {
      "cell_type": "code",
      "execution_count": 1,
      "metadata": {
        "id": "XC4NzXx8le3N"
      },
      "outputs": [],
      "source": [
        "import pandas as pd\n",
        "import numpy as np"
      ]
    },
    {
      "cell_type": "code",
      "execution_count": 6,
      "metadata": {
        "id": "prGiDpx-nTpl"
      },
      "outputs": [],
      "source": [
        "# Load the dataset\n",
        "df = pd.read_csv('/content/crop_yield.csv')"
      ]
    },
    {
      "cell_type": "code",
      "execution_count": 7,
      "metadata": {
        "colab": {
          "base_uri": "https://localhost:8080/"
        },
        "id": "5y2AzHSuRwPh",
        "outputId": "01763f97-7dac-4534-894d-e261d70a9ef3"
      },
      "outputs": [
        {
          "output_type": "execute_result",
          "data": {
            "text/plain": [
              "0"
            ]
          },
          "metadata": {},
          "execution_count": 7
        }
      ],
      "source": [
        "df.duplicated().sum()\n"
      ]
    },
    {
      "cell_type": "code",
      "execution_count": 8,
      "metadata": {
        "colab": {
          "base_uri": "https://localhost:8080/",
          "height": 226
        },
        "id": "ccNlWiVen0aX",
        "outputId": "34a2998c-3e05-48bf-86f1-df07ec41e490"
      },
      "outputs": [
        {
          "output_type": "execute_result",
          "data": {
            "text/plain": [
              "  Region Soil_Type     Crop  Rainfall_mm  Temperature_Celsius  \\\n",
              "0   West     Sandy   Cotton   897.077239            27.676966   \n",
              "1  South      Clay     Rice   992.673282            18.026142   \n",
              "2  North      Loam   Barley   147.998025            29.794042   \n",
              "3  North     Sandy  Soybean   986.866331            16.644190   \n",
              "4  South      Silt    Wheat   730.379174            31.620687   \n",
              "\n",
              "   Fertilizer_Used  Irrigation_Used Weather_Condition  Days_to_Harvest  \\\n",
              "0            False             True            Cloudy              122   \n",
              "1             True             True             Rainy              140   \n",
              "2            False            False             Sunny              106   \n",
              "3            False             True             Rainy              146   \n",
              "4             True             True            Cloudy              110   \n",
              "\n",
              "   Yield_tons_per_hectare  \n",
              "0                6.555816  \n",
              "1                8.527341  \n",
              "2                1.127443  \n",
              "3                6.517573  \n",
              "4                7.248251  "
            ],
            "text/html": [
              "\n",
              "  <div id=\"df-f242201c-7120-4925-a724-37f95ef32295\" class=\"colab-df-container\">\n",
              "    <div>\n",
              "<style scoped>\n",
              "    .dataframe tbody tr th:only-of-type {\n",
              "        vertical-align: middle;\n",
              "    }\n",
              "\n",
              "    .dataframe tbody tr th {\n",
              "        vertical-align: top;\n",
              "    }\n",
              "\n",
              "    .dataframe thead th {\n",
              "        text-align: right;\n",
              "    }\n",
              "</style>\n",
              "<table border=\"1\" class=\"dataframe\">\n",
              "  <thead>\n",
              "    <tr style=\"text-align: right;\">\n",
              "      <th></th>\n",
              "      <th>Region</th>\n",
              "      <th>Soil_Type</th>\n",
              "      <th>Crop</th>\n",
              "      <th>Rainfall_mm</th>\n",
              "      <th>Temperature_Celsius</th>\n",
              "      <th>Fertilizer_Used</th>\n",
              "      <th>Irrigation_Used</th>\n",
              "      <th>Weather_Condition</th>\n",
              "      <th>Days_to_Harvest</th>\n",
              "      <th>Yield_tons_per_hectare</th>\n",
              "    </tr>\n",
              "  </thead>\n",
              "  <tbody>\n",
              "    <tr>\n",
              "      <th>0</th>\n",
              "      <td>West</td>\n",
              "      <td>Sandy</td>\n",
              "      <td>Cotton</td>\n",
              "      <td>897.077239</td>\n",
              "      <td>27.676966</td>\n",
              "      <td>False</td>\n",
              "      <td>True</td>\n",
              "      <td>Cloudy</td>\n",
              "      <td>122</td>\n",
              "      <td>6.555816</td>\n",
              "    </tr>\n",
              "    <tr>\n",
              "      <th>1</th>\n",
              "      <td>South</td>\n",
              "      <td>Clay</td>\n",
              "      <td>Rice</td>\n",
              "      <td>992.673282</td>\n",
              "      <td>18.026142</td>\n",
              "      <td>True</td>\n",
              "      <td>True</td>\n",
              "      <td>Rainy</td>\n",
              "      <td>140</td>\n",
              "      <td>8.527341</td>\n",
              "    </tr>\n",
              "    <tr>\n",
              "      <th>2</th>\n",
              "      <td>North</td>\n",
              "      <td>Loam</td>\n",
              "      <td>Barley</td>\n",
              "      <td>147.998025</td>\n",
              "      <td>29.794042</td>\n",
              "      <td>False</td>\n",
              "      <td>False</td>\n",
              "      <td>Sunny</td>\n",
              "      <td>106</td>\n",
              "      <td>1.127443</td>\n",
              "    </tr>\n",
              "    <tr>\n",
              "      <th>3</th>\n",
              "      <td>North</td>\n",
              "      <td>Sandy</td>\n",
              "      <td>Soybean</td>\n",
              "      <td>986.866331</td>\n",
              "      <td>16.644190</td>\n",
              "      <td>False</td>\n",
              "      <td>True</td>\n",
              "      <td>Rainy</td>\n",
              "      <td>146</td>\n",
              "      <td>6.517573</td>\n",
              "    </tr>\n",
              "    <tr>\n",
              "      <th>4</th>\n",
              "      <td>South</td>\n",
              "      <td>Silt</td>\n",
              "      <td>Wheat</td>\n",
              "      <td>730.379174</td>\n",
              "      <td>31.620687</td>\n",
              "      <td>True</td>\n",
              "      <td>True</td>\n",
              "      <td>Cloudy</td>\n",
              "      <td>110</td>\n",
              "      <td>7.248251</td>\n",
              "    </tr>\n",
              "  </tbody>\n",
              "</table>\n",
              "</div>\n",
              "    <div class=\"colab-df-buttons\">\n",
              "\n",
              "  <div class=\"colab-df-container\">\n",
              "    <button class=\"colab-df-convert\" onclick=\"convertToInteractive('df-f242201c-7120-4925-a724-37f95ef32295')\"\n",
              "            title=\"Convert this dataframe to an interactive table.\"\n",
              "            style=\"display:none;\">\n",
              "\n",
              "  <svg xmlns=\"http://www.w3.org/2000/svg\" height=\"24px\" viewBox=\"0 -960 960 960\">\n",
              "    <path d=\"M120-120v-720h720v720H120Zm60-500h600v-160H180v160Zm220 220h160v-160H400v160Zm0 220h160v-160H400v160ZM180-400h160v-160H180v160Zm440 0h160v-160H620v160ZM180-180h160v-160H180v160Zm440 0h160v-160H620v160Z\"/>\n",
              "  </svg>\n",
              "    </button>\n",
              "\n",
              "  <style>\n",
              "    .colab-df-container {\n",
              "      display:flex;\n",
              "      gap: 12px;\n",
              "    }\n",
              "\n",
              "    .colab-df-convert {\n",
              "      background-color: #E8F0FE;\n",
              "      border: none;\n",
              "      border-radius: 50%;\n",
              "      cursor: pointer;\n",
              "      display: none;\n",
              "      fill: #1967D2;\n",
              "      height: 32px;\n",
              "      padding: 0 0 0 0;\n",
              "      width: 32px;\n",
              "    }\n",
              "\n",
              "    .colab-df-convert:hover {\n",
              "      background-color: #E2EBFA;\n",
              "      box-shadow: 0px 1px 2px rgba(60, 64, 67, 0.3), 0px 1px 3px 1px rgba(60, 64, 67, 0.15);\n",
              "      fill: #174EA6;\n",
              "    }\n",
              "\n",
              "    .colab-df-buttons div {\n",
              "      margin-bottom: 4px;\n",
              "    }\n",
              "\n",
              "    [theme=dark] .colab-df-convert {\n",
              "      background-color: #3B4455;\n",
              "      fill: #D2E3FC;\n",
              "    }\n",
              "\n",
              "    [theme=dark] .colab-df-convert:hover {\n",
              "      background-color: #434B5C;\n",
              "      box-shadow: 0px 1px 3px 1px rgba(0, 0, 0, 0.15);\n",
              "      filter: drop-shadow(0px 1px 2px rgba(0, 0, 0, 0.3));\n",
              "      fill: #FFFFFF;\n",
              "    }\n",
              "  </style>\n",
              "\n",
              "    <script>\n",
              "      const buttonEl =\n",
              "        document.querySelector('#df-f242201c-7120-4925-a724-37f95ef32295 button.colab-df-convert');\n",
              "      buttonEl.style.display =\n",
              "        google.colab.kernel.accessAllowed ? 'block' : 'none';\n",
              "\n",
              "      async function convertToInteractive(key) {\n",
              "        const element = document.querySelector('#df-f242201c-7120-4925-a724-37f95ef32295');\n",
              "        const dataTable =\n",
              "          await google.colab.kernel.invokeFunction('convertToInteractive',\n",
              "                                                    [key], {});\n",
              "        if (!dataTable) return;\n",
              "\n",
              "        const docLinkHtml = 'Like what you see? Visit the ' +\n",
              "          '<a target=\"_blank\" href=https://colab.research.google.com/notebooks/data_table.ipynb>data table notebook</a>'\n",
              "          + ' to learn more about interactive tables.';\n",
              "        element.innerHTML = '';\n",
              "        dataTable['output_type'] = 'display_data';\n",
              "        await google.colab.output.renderOutput(dataTable, element);\n",
              "        const docLink = document.createElement('div');\n",
              "        docLink.innerHTML = docLinkHtml;\n",
              "        element.appendChild(docLink);\n",
              "      }\n",
              "    </script>\n",
              "  </div>\n",
              "\n",
              "\n",
              "<div id=\"df-48d232ff-9f45-4078-92d4-ebcbcbccb6c0\">\n",
              "  <button class=\"colab-df-quickchart\" onclick=\"quickchart('df-48d232ff-9f45-4078-92d4-ebcbcbccb6c0')\"\n",
              "            title=\"Suggest charts\"\n",
              "            style=\"display:none;\">\n",
              "\n",
              "<svg xmlns=\"http://www.w3.org/2000/svg\" height=\"24px\"viewBox=\"0 0 24 24\"\n",
              "     width=\"24px\">\n",
              "    <g>\n",
              "        <path d=\"M19 3H5c-1.1 0-2 .9-2 2v14c0 1.1.9 2 2 2h14c1.1 0 2-.9 2-2V5c0-1.1-.9-2-2-2zM9 17H7v-7h2v7zm4 0h-2V7h2v10zm4 0h-2v-4h2v4z\"/>\n",
              "    </g>\n",
              "</svg>\n",
              "  </button>\n",
              "\n",
              "<style>\n",
              "  .colab-df-quickchart {\n",
              "      --bg-color: #E8F0FE;\n",
              "      --fill-color: #1967D2;\n",
              "      --hover-bg-color: #E2EBFA;\n",
              "      --hover-fill-color: #174EA6;\n",
              "      --disabled-fill-color: #AAA;\n",
              "      --disabled-bg-color: #DDD;\n",
              "  }\n",
              "\n",
              "  [theme=dark] .colab-df-quickchart {\n",
              "      --bg-color: #3B4455;\n",
              "      --fill-color: #D2E3FC;\n",
              "      --hover-bg-color: #434B5C;\n",
              "      --hover-fill-color: #FFFFFF;\n",
              "      --disabled-bg-color: #3B4455;\n",
              "      --disabled-fill-color: #666;\n",
              "  }\n",
              "\n",
              "  .colab-df-quickchart {\n",
              "    background-color: var(--bg-color);\n",
              "    border: none;\n",
              "    border-radius: 50%;\n",
              "    cursor: pointer;\n",
              "    display: none;\n",
              "    fill: var(--fill-color);\n",
              "    height: 32px;\n",
              "    padding: 0;\n",
              "    width: 32px;\n",
              "  }\n",
              "\n",
              "  .colab-df-quickchart:hover {\n",
              "    background-color: var(--hover-bg-color);\n",
              "    box-shadow: 0 1px 2px rgba(60, 64, 67, 0.3), 0 1px 3px 1px rgba(60, 64, 67, 0.15);\n",
              "    fill: var(--button-hover-fill-color);\n",
              "  }\n",
              "\n",
              "  .colab-df-quickchart-complete:disabled,\n",
              "  .colab-df-quickchart-complete:disabled:hover {\n",
              "    background-color: var(--disabled-bg-color);\n",
              "    fill: var(--disabled-fill-color);\n",
              "    box-shadow: none;\n",
              "  }\n",
              "\n",
              "  .colab-df-spinner {\n",
              "    border: 2px solid var(--fill-color);\n",
              "    border-color: transparent;\n",
              "    border-bottom-color: var(--fill-color);\n",
              "    animation:\n",
              "      spin 1s steps(1) infinite;\n",
              "  }\n",
              "\n",
              "  @keyframes spin {\n",
              "    0% {\n",
              "      border-color: transparent;\n",
              "      border-bottom-color: var(--fill-color);\n",
              "      border-left-color: var(--fill-color);\n",
              "    }\n",
              "    20% {\n",
              "      border-color: transparent;\n",
              "      border-left-color: var(--fill-color);\n",
              "      border-top-color: var(--fill-color);\n",
              "    }\n",
              "    30% {\n",
              "      border-color: transparent;\n",
              "      border-left-color: var(--fill-color);\n",
              "      border-top-color: var(--fill-color);\n",
              "      border-right-color: var(--fill-color);\n",
              "    }\n",
              "    40% {\n",
              "      border-color: transparent;\n",
              "      border-right-color: var(--fill-color);\n",
              "      border-top-color: var(--fill-color);\n",
              "    }\n",
              "    60% {\n",
              "      border-color: transparent;\n",
              "      border-right-color: var(--fill-color);\n",
              "    }\n",
              "    80% {\n",
              "      border-color: transparent;\n",
              "      border-right-color: var(--fill-color);\n",
              "      border-bottom-color: var(--fill-color);\n",
              "    }\n",
              "    90% {\n",
              "      border-color: transparent;\n",
              "      border-bottom-color: var(--fill-color);\n",
              "    }\n",
              "  }\n",
              "</style>\n",
              "\n",
              "  <script>\n",
              "    async function quickchart(key) {\n",
              "      const quickchartButtonEl =\n",
              "        document.querySelector('#' + key + ' button');\n",
              "      quickchartButtonEl.disabled = true;  // To prevent multiple clicks.\n",
              "      quickchartButtonEl.classList.add('colab-df-spinner');\n",
              "      try {\n",
              "        const charts = await google.colab.kernel.invokeFunction(\n",
              "            'suggestCharts', [key], {});\n",
              "      } catch (error) {\n",
              "        console.error('Error during call to suggestCharts:', error);\n",
              "      }\n",
              "      quickchartButtonEl.classList.remove('colab-df-spinner');\n",
              "      quickchartButtonEl.classList.add('colab-df-quickchart-complete');\n",
              "    }\n",
              "    (() => {\n",
              "      let quickchartButtonEl =\n",
              "        document.querySelector('#df-48d232ff-9f45-4078-92d4-ebcbcbccb6c0 button');\n",
              "      quickchartButtonEl.style.display =\n",
              "        google.colab.kernel.accessAllowed ? 'block' : 'none';\n",
              "    })();\n",
              "  </script>\n",
              "</div>\n",
              "\n",
              "    </div>\n",
              "  </div>\n"
            ],
            "application/vnd.google.colaboratory.intrinsic+json": {
              "type": "dataframe",
              "variable_name": "df"
            }
          },
          "metadata": {},
          "execution_count": 8
        }
      ],
      "source": [
        "df.head()"
      ]
    },
    {
      "cell_type": "code",
      "execution_count": 9,
      "metadata": {
        "colab": {
          "base_uri": "https://localhost:8080/",
          "height": 226
        },
        "id": "HQ6ey41YB8OO",
        "outputId": "67d76100-e064-4b69-971a-49f62756fe6c"
      },
      "outputs": [
        {
          "output_type": "execute_result",
          "data": {
            "text/plain": [
              "       Region Soil_Type    Crop  Rainfall_mm  Temperature_Celsius  \\\n",
              "999995   West      Silt    Rice   302.805345            27.987428   \n",
              "999996  South    Chalky  Barley   932.991383            39.661039   \n",
              "999997  North     Peaty  Cotton   867.362046            24.370042   \n",
              "999998   West      Silt   Wheat   492.812857            33.045505   \n",
              "999999   West     Sandy   Maize   180.936180            27.298847   \n",
              "\n",
              "        Fertilizer_Used  Irrigation_Used Weather_Condition  Days_to_Harvest  \\\n",
              "999995            False            False             Sunny               76   \n",
              "999996             True            False             Rainy               93   \n",
              "999997             True            False            Cloudy              108   \n",
              "999998            False            False             Sunny              102   \n",
              "999999             True            False             Sunny               76   \n",
              "\n",
              "        Yield_tons_per_hectare  \n",
              "999995                1.347586  \n",
              "999996                7.311594  \n",
              "999997                5.763182  \n",
              "999998                2.070159  \n",
              "999999                2.937243  "
            ],
            "text/html": [
              "\n",
              "  <div id=\"df-452d9b79-a33f-4a4f-9962-10c4380bfacb\" class=\"colab-df-container\">\n",
              "    <div>\n",
              "<style scoped>\n",
              "    .dataframe tbody tr th:only-of-type {\n",
              "        vertical-align: middle;\n",
              "    }\n",
              "\n",
              "    .dataframe tbody tr th {\n",
              "        vertical-align: top;\n",
              "    }\n",
              "\n",
              "    .dataframe thead th {\n",
              "        text-align: right;\n",
              "    }\n",
              "</style>\n",
              "<table border=\"1\" class=\"dataframe\">\n",
              "  <thead>\n",
              "    <tr style=\"text-align: right;\">\n",
              "      <th></th>\n",
              "      <th>Region</th>\n",
              "      <th>Soil_Type</th>\n",
              "      <th>Crop</th>\n",
              "      <th>Rainfall_mm</th>\n",
              "      <th>Temperature_Celsius</th>\n",
              "      <th>Fertilizer_Used</th>\n",
              "      <th>Irrigation_Used</th>\n",
              "      <th>Weather_Condition</th>\n",
              "      <th>Days_to_Harvest</th>\n",
              "      <th>Yield_tons_per_hectare</th>\n",
              "    </tr>\n",
              "  </thead>\n",
              "  <tbody>\n",
              "    <tr>\n",
              "      <th>999995</th>\n",
              "      <td>West</td>\n",
              "      <td>Silt</td>\n",
              "      <td>Rice</td>\n",
              "      <td>302.805345</td>\n",
              "      <td>27.987428</td>\n",
              "      <td>False</td>\n",
              "      <td>False</td>\n",
              "      <td>Sunny</td>\n",
              "      <td>76</td>\n",
              "      <td>1.347586</td>\n",
              "    </tr>\n",
              "    <tr>\n",
              "      <th>999996</th>\n",
              "      <td>South</td>\n",
              "      <td>Chalky</td>\n",
              "      <td>Barley</td>\n",
              "      <td>932.991383</td>\n",
              "      <td>39.661039</td>\n",
              "      <td>True</td>\n",
              "      <td>False</td>\n",
              "      <td>Rainy</td>\n",
              "      <td>93</td>\n",
              "      <td>7.311594</td>\n",
              "    </tr>\n",
              "    <tr>\n",
              "      <th>999997</th>\n",
              "      <td>North</td>\n",
              "      <td>Peaty</td>\n",
              "      <td>Cotton</td>\n",
              "      <td>867.362046</td>\n",
              "      <td>24.370042</td>\n",
              "      <td>True</td>\n",
              "      <td>False</td>\n",
              "      <td>Cloudy</td>\n",
              "      <td>108</td>\n",
              "      <td>5.763182</td>\n",
              "    </tr>\n",
              "    <tr>\n",
              "      <th>999998</th>\n",
              "      <td>West</td>\n",
              "      <td>Silt</td>\n",
              "      <td>Wheat</td>\n",
              "      <td>492.812857</td>\n",
              "      <td>33.045505</td>\n",
              "      <td>False</td>\n",
              "      <td>False</td>\n",
              "      <td>Sunny</td>\n",
              "      <td>102</td>\n",
              "      <td>2.070159</td>\n",
              "    </tr>\n",
              "    <tr>\n",
              "      <th>999999</th>\n",
              "      <td>West</td>\n",
              "      <td>Sandy</td>\n",
              "      <td>Maize</td>\n",
              "      <td>180.936180</td>\n",
              "      <td>27.298847</td>\n",
              "      <td>True</td>\n",
              "      <td>False</td>\n",
              "      <td>Sunny</td>\n",
              "      <td>76</td>\n",
              "      <td>2.937243</td>\n",
              "    </tr>\n",
              "  </tbody>\n",
              "</table>\n",
              "</div>\n",
              "    <div class=\"colab-df-buttons\">\n",
              "\n",
              "  <div class=\"colab-df-container\">\n",
              "    <button class=\"colab-df-convert\" onclick=\"convertToInteractive('df-452d9b79-a33f-4a4f-9962-10c4380bfacb')\"\n",
              "            title=\"Convert this dataframe to an interactive table.\"\n",
              "            style=\"display:none;\">\n",
              "\n",
              "  <svg xmlns=\"http://www.w3.org/2000/svg\" height=\"24px\" viewBox=\"0 -960 960 960\">\n",
              "    <path d=\"M120-120v-720h720v720H120Zm60-500h600v-160H180v160Zm220 220h160v-160H400v160Zm0 220h160v-160H400v160ZM180-400h160v-160H180v160Zm440 0h160v-160H620v160ZM180-180h160v-160H180v160Zm440 0h160v-160H620v160Z\"/>\n",
              "  </svg>\n",
              "    </button>\n",
              "\n",
              "  <style>\n",
              "    .colab-df-container {\n",
              "      display:flex;\n",
              "      gap: 12px;\n",
              "    }\n",
              "\n",
              "    .colab-df-convert {\n",
              "      background-color: #E8F0FE;\n",
              "      border: none;\n",
              "      border-radius: 50%;\n",
              "      cursor: pointer;\n",
              "      display: none;\n",
              "      fill: #1967D2;\n",
              "      height: 32px;\n",
              "      padding: 0 0 0 0;\n",
              "      width: 32px;\n",
              "    }\n",
              "\n",
              "    .colab-df-convert:hover {\n",
              "      background-color: #E2EBFA;\n",
              "      box-shadow: 0px 1px 2px rgba(60, 64, 67, 0.3), 0px 1px 3px 1px rgba(60, 64, 67, 0.15);\n",
              "      fill: #174EA6;\n",
              "    }\n",
              "\n",
              "    .colab-df-buttons div {\n",
              "      margin-bottom: 4px;\n",
              "    }\n",
              "\n",
              "    [theme=dark] .colab-df-convert {\n",
              "      background-color: #3B4455;\n",
              "      fill: #D2E3FC;\n",
              "    }\n",
              "\n",
              "    [theme=dark] .colab-df-convert:hover {\n",
              "      background-color: #434B5C;\n",
              "      box-shadow: 0px 1px 3px 1px rgba(0, 0, 0, 0.15);\n",
              "      filter: drop-shadow(0px 1px 2px rgba(0, 0, 0, 0.3));\n",
              "      fill: #FFFFFF;\n",
              "    }\n",
              "  </style>\n",
              "\n",
              "    <script>\n",
              "      const buttonEl =\n",
              "        document.querySelector('#df-452d9b79-a33f-4a4f-9962-10c4380bfacb button.colab-df-convert');\n",
              "      buttonEl.style.display =\n",
              "        google.colab.kernel.accessAllowed ? 'block' : 'none';\n",
              "\n",
              "      async function convertToInteractive(key) {\n",
              "        const element = document.querySelector('#df-452d9b79-a33f-4a4f-9962-10c4380bfacb');\n",
              "        const dataTable =\n",
              "          await google.colab.kernel.invokeFunction('convertToInteractive',\n",
              "                                                    [key], {});\n",
              "        if (!dataTable) return;\n",
              "\n",
              "        const docLinkHtml = 'Like what you see? Visit the ' +\n",
              "          '<a target=\"_blank\" href=https://colab.research.google.com/notebooks/data_table.ipynb>data table notebook</a>'\n",
              "          + ' to learn more about interactive tables.';\n",
              "        element.innerHTML = '';\n",
              "        dataTable['output_type'] = 'display_data';\n",
              "        await google.colab.output.renderOutput(dataTable, element);\n",
              "        const docLink = document.createElement('div');\n",
              "        docLink.innerHTML = docLinkHtml;\n",
              "        element.appendChild(docLink);\n",
              "      }\n",
              "    </script>\n",
              "  </div>\n",
              "\n",
              "\n",
              "<div id=\"df-bb984f36-22f3-4e8c-af5e-dd3ea01ae251\">\n",
              "  <button class=\"colab-df-quickchart\" onclick=\"quickchart('df-bb984f36-22f3-4e8c-af5e-dd3ea01ae251')\"\n",
              "            title=\"Suggest charts\"\n",
              "            style=\"display:none;\">\n",
              "\n",
              "<svg xmlns=\"http://www.w3.org/2000/svg\" height=\"24px\"viewBox=\"0 0 24 24\"\n",
              "     width=\"24px\">\n",
              "    <g>\n",
              "        <path d=\"M19 3H5c-1.1 0-2 .9-2 2v14c0 1.1.9 2 2 2h14c1.1 0 2-.9 2-2V5c0-1.1-.9-2-2-2zM9 17H7v-7h2v7zm4 0h-2V7h2v10zm4 0h-2v-4h2v4z\"/>\n",
              "    </g>\n",
              "</svg>\n",
              "  </button>\n",
              "\n",
              "<style>\n",
              "  .colab-df-quickchart {\n",
              "      --bg-color: #E8F0FE;\n",
              "      --fill-color: #1967D2;\n",
              "      --hover-bg-color: #E2EBFA;\n",
              "      --hover-fill-color: #174EA6;\n",
              "      --disabled-fill-color: #AAA;\n",
              "      --disabled-bg-color: #DDD;\n",
              "  }\n",
              "\n",
              "  [theme=dark] .colab-df-quickchart {\n",
              "      --bg-color: #3B4455;\n",
              "      --fill-color: #D2E3FC;\n",
              "      --hover-bg-color: #434B5C;\n",
              "      --hover-fill-color: #FFFFFF;\n",
              "      --disabled-bg-color: #3B4455;\n",
              "      --disabled-fill-color: #666;\n",
              "  }\n",
              "\n",
              "  .colab-df-quickchart {\n",
              "    background-color: var(--bg-color);\n",
              "    border: none;\n",
              "    border-radius: 50%;\n",
              "    cursor: pointer;\n",
              "    display: none;\n",
              "    fill: var(--fill-color);\n",
              "    height: 32px;\n",
              "    padding: 0;\n",
              "    width: 32px;\n",
              "  }\n",
              "\n",
              "  .colab-df-quickchart:hover {\n",
              "    background-color: var(--hover-bg-color);\n",
              "    box-shadow: 0 1px 2px rgba(60, 64, 67, 0.3), 0 1px 3px 1px rgba(60, 64, 67, 0.15);\n",
              "    fill: var(--button-hover-fill-color);\n",
              "  }\n",
              "\n",
              "  .colab-df-quickchart-complete:disabled,\n",
              "  .colab-df-quickchart-complete:disabled:hover {\n",
              "    background-color: var(--disabled-bg-color);\n",
              "    fill: var(--disabled-fill-color);\n",
              "    box-shadow: none;\n",
              "  }\n",
              "\n",
              "  .colab-df-spinner {\n",
              "    border: 2px solid var(--fill-color);\n",
              "    border-color: transparent;\n",
              "    border-bottom-color: var(--fill-color);\n",
              "    animation:\n",
              "      spin 1s steps(1) infinite;\n",
              "  }\n",
              "\n",
              "  @keyframes spin {\n",
              "    0% {\n",
              "      border-color: transparent;\n",
              "      border-bottom-color: var(--fill-color);\n",
              "      border-left-color: var(--fill-color);\n",
              "    }\n",
              "    20% {\n",
              "      border-color: transparent;\n",
              "      border-left-color: var(--fill-color);\n",
              "      border-top-color: var(--fill-color);\n",
              "    }\n",
              "    30% {\n",
              "      border-color: transparent;\n",
              "      border-left-color: var(--fill-color);\n",
              "      border-top-color: var(--fill-color);\n",
              "      border-right-color: var(--fill-color);\n",
              "    }\n",
              "    40% {\n",
              "      border-color: transparent;\n",
              "      border-right-color: var(--fill-color);\n",
              "      border-top-color: var(--fill-color);\n",
              "    }\n",
              "    60% {\n",
              "      border-color: transparent;\n",
              "      border-right-color: var(--fill-color);\n",
              "    }\n",
              "    80% {\n",
              "      border-color: transparent;\n",
              "      border-right-color: var(--fill-color);\n",
              "      border-bottom-color: var(--fill-color);\n",
              "    }\n",
              "    90% {\n",
              "      border-color: transparent;\n",
              "      border-bottom-color: var(--fill-color);\n",
              "    }\n",
              "  }\n",
              "</style>\n",
              "\n",
              "  <script>\n",
              "    async function quickchart(key) {\n",
              "      const quickchartButtonEl =\n",
              "        document.querySelector('#' + key + ' button');\n",
              "      quickchartButtonEl.disabled = true;  // To prevent multiple clicks.\n",
              "      quickchartButtonEl.classList.add('colab-df-spinner');\n",
              "      try {\n",
              "        const charts = await google.colab.kernel.invokeFunction(\n",
              "            'suggestCharts', [key], {});\n",
              "      } catch (error) {\n",
              "        console.error('Error during call to suggestCharts:', error);\n",
              "      }\n",
              "      quickchartButtonEl.classList.remove('colab-df-spinner');\n",
              "      quickchartButtonEl.classList.add('colab-df-quickchart-complete');\n",
              "    }\n",
              "    (() => {\n",
              "      let quickchartButtonEl =\n",
              "        document.querySelector('#df-bb984f36-22f3-4e8c-af5e-dd3ea01ae251 button');\n",
              "      quickchartButtonEl.style.display =\n",
              "        google.colab.kernel.accessAllowed ? 'block' : 'none';\n",
              "    })();\n",
              "  </script>\n",
              "</div>\n",
              "\n",
              "    </div>\n",
              "  </div>\n"
            ],
            "application/vnd.google.colaboratory.intrinsic+json": {
              "type": "dataframe",
              "summary": "{\n  \"name\": \"df\",\n  \"rows\": 5,\n  \"fields\": [\n    {\n      \"column\": \"Region\",\n      \"properties\": {\n        \"dtype\": \"string\",\n        \"num_unique_values\": 3,\n        \"samples\": [\n          \"West\",\n          \"South\",\n          \"North\"\n        ],\n        \"semantic_type\": \"\",\n        \"description\": \"\"\n      }\n    },\n    {\n      \"column\": \"Soil_Type\",\n      \"properties\": {\n        \"dtype\": \"string\",\n        \"num_unique_values\": 4,\n        \"samples\": [\n          \"Chalky\",\n          \"Sandy\",\n          \"Silt\"\n        ],\n        \"semantic_type\": \"\",\n        \"description\": \"\"\n      }\n    },\n    {\n      \"column\": \"Crop\",\n      \"properties\": {\n        \"dtype\": \"string\",\n        \"num_unique_values\": 5,\n        \"samples\": [\n          \"Barley\",\n          \"Maize\",\n          \"Cotton\"\n        ],\n        \"semantic_type\": \"\",\n        \"description\": \"\"\n      }\n    },\n    {\n      \"column\": \"Rainfall_mm\",\n      \"properties\": {\n        \"dtype\": \"number\",\n        \"std\": 334.60421833627066,\n        \"min\": 180.93618014091197,\n        \"max\": 932.9913826970708,\n        \"num_unique_values\": 5,\n        \"samples\": [\n          932.9913826970708,\n          180.93618014091197,\n          867.3620462242392\n        ],\n        \"semantic_type\": \"\",\n        \"description\": \"\"\n      }\n    },\n    {\n      \"column\": \"Temperature_Celsius\",\n      \"properties\": {\n        \"dtype\": \"number\",\n        \"std\": 6.011182307690665,\n        \"min\": 24.37004189198828,\n        \"max\": 39.661038852103545,\n        \"num_unique_values\": 5,\n        \"samples\": [\n          39.661038852103545,\n          27.29884735157434,\n          24.37004189198828\n        ],\n        \"semantic_type\": \"\",\n        \"description\": \"\"\n      }\n    },\n    {\n      \"column\": \"Fertilizer_Used\",\n      \"properties\": {\n        \"dtype\": \"boolean\",\n        \"num_unique_values\": 2,\n        \"samples\": [\n          true,\n          false\n        ],\n        \"semantic_type\": \"\",\n        \"description\": \"\"\n      }\n    },\n    {\n      \"column\": \"Irrigation_Used\",\n      \"properties\": {\n        \"dtype\": \"boolean\",\n        \"num_unique_values\": 1,\n        \"samples\": [\n          false\n        ],\n        \"semantic_type\": \"\",\n        \"description\": \"\"\n      }\n    },\n    {\n      \"column\": \"Weather_Condition\",\n      \"properties\": {\n        \"dtype\": \"string\",\n        \"num_unique_values\": 3,\n        \"samples\": [\n          \"Sunny\"\n        ],\n        \"semantic_type\": \"\",\n        \"description\": \"\"\n      }\n    },\n    {\n      \"column\": \"Days_to_Harvest\",\n      \"properties\": {\n        \"dtype\": \"number\",\n        \"std\": 14,\n        \"min\": 76,\n        \"max\": 108,\n        \"num_unique_values\": 4,\n        \"samples\": [\n          93\n        ],\n        \"semantic_type\": \"\",\n        \"description\": \"\"\n      }\n    },\n    {\n      \"column\": \"Yield_tons_per_hectare\",\n      \"properties\": {\n        \"dtype\": \"number\",\n        \"std\": 2.544576197927555,\n        \"min\": 1.3475858337928557,\n        \"max\": 7.311594050576929,\n        \"num_unique_values\": 5,\n        \"samples\": [\n          7.311594050576929\n        ],\n        \"semantic_type\": \"\",\n        \"description\": \"\"\n      }\n    }\n  ]\n}"
            }
          },
          "metadata": {},
          "execution_count": 9
        }
      ],
      "source": [
        "df.tail()"
      ]
    },
    {
      "cell_type": "code",
      "execution_count": 10,
      "metadata": {
        "colab": {
          "base_uri": "https://localhost:8080/"
        },
        "id": "BL4HK9GFCLEu",
        "outputId": "f9088b7b-2449-447c-c104-414102f24a91"
      },
      "outputs": [
        {
          "output_type": "stream",
          "name": "stdout",
          "text": [
            "<class 'pandas.core.frame.DataFrame'>\n",
            "RangeIndex: 1000000 entries, 0 to 999999\n",
            "Data columns (total 10 columns):\n",
            " #   Column                  Non-Null Count    Dtype  \n",
            "---  ------                  --------------    -----  \n",
            " 0   Region                  1000000 non-null  object \n",
            " 1   Soil_Type               1000000 non-null  object \n",
            " 2   Crop                    1000000 non-null  object \n",
            " 3   Rainfall_mm             1000000 non-null  float64\n",
            " 4   Temperature_Celsius     1000000 non-null  float64\n",
            " 5   Fertilizer_Used         1000000 non-null  bool   \n",
            " 6   Irrigation_Used         1000000 non-null  bool   \n",
            " 7   Weather_Condition       1000000 non-null  object \n",
            " 8   Days_to_Harvest         1000000 non-null  int64  \n",
            " 9   Yield_tons_per_hectare  1000000 non-null  float64\n",
            "dtypes: bool(2), float64(3), int64(1), object(4)\n",
            "memory usage: 62.9+ MB\n"
          ]
        }
      ],
      "source": [
        "df.info()"
      ]
    },
    {
      "cell_type": "code",
      "execution_count": 11,
      "metadata": {
        "colab": {
          "base_uri": "https://localhost:8080/"
        },
        "id": "CxCCcH_3n8Ws",
        "outputId": "ff4051d9-2bc9-4011-b20e-b7c232eb7c13"
      },
      "outputs": [
        {
          "output_type": "execute_result",
          "data": {
            "text/plain": [
              "Index(['Region', 'Soil_Type', 'Crop', 'Rainfall_mm', 'Temperature_Celsius',\n",
              "       'Fertilizer_Used', 'Irrigation_Used', 'Weather_Condition',\n",
              "       'Days_to_Harvest', 'Yield_tons_per_hectare'],\n",
              "      dtype='object')"
            ]
          },
          "metadata": {},
          "execution_count": 11
        }
      ],
      "source": [
        "df.columns"
      ]
    },
    {
      "cell_type": "code",
      "execution_count": 12,
      "metadata": {
        "colab": {
          "base_uri": "https://localhost:8080/",
          "height": 398
        },
        "id": "j-U5TSYloNQx",
        "outputId": "ad4af0cd-1173-4737-b06c-92bb7885d646"
      },
      "outputs": [
        {
          "output_type": "execute_result",
          "data": {
            "text/plain": [
              "Region                     object\n",
              "Soil_Type                  object\n",
              "Crop                       object\n",
              "Rainfall_mm               float64\n",
              "Temperature_Celsius       float64\n",
              "Fertilizer_Used              bool\n",
              "Irrigation_Used              bool\n",
              "Weather_Condition          object\n",
              "Days_to_Harvest             int64\n",
              "Yield_tons_per_hectare    float64\n",
              "dtype: object"
            ],
            "text/html": [
              "<div>\n",
              "<style scoped>\n",
              "    .dataframe tbody tr th:only-of-type {\n",
              "        vertical-align: middle;\n",
              "    }\n",
              "\n",
              "    .dataframe tbody tr th {\n",
              "        vertical-align: top;\n",
              "    }\n",
              "\n",
              "    .dataframe thead th {\n",
              "        text-align: right;\n",
              "    }\n",
              "</style>\n",
              "<table border=\"1\" class=\"dataframe\">\n",
              "  <thead>\n",
              "    <tr style=\"text-align: right;\">\n",
              "      <th></th>\n",
              "      <th>0</th>\n",
              "    </tr>\n",
              "  </thead>\n",
              "  <tbody>\n",
              "    <tr>\n",
              "      <th>Region</th>\n",
              "      <td>object</td>\n",
              "    </tr>\n",
              "    <tr>\n",
              "      <th>Soil_Type</th>\n",
              "      <td>object</td>\n",
              "    </tr>\n",
              "    <tr>\n",
              "      <th>Crop</th>\n",
              "      <td>object</td>\n",
              "    </tr>\n",
              "    <tr>\n",
              "      <th>Rainfall_mm</th>\n",
              "      <td>float64</td>\n",
              "    </tr>\n",
              "    <tr>\n",
              "      <th>Temperature_Celsius</th>\n",
              "      <td>float64</td>\n",
              "    </tr>\n",
              "    <tr>\n",
              "      <th>Fertilizer_Used</th>\n",
              "      <td>bool</td>\n",
              "    </tr>\n",
              "    <tr>\n",
              "      <th>Irrigation_Used</th>\n",
              "      <td>bool</td>\n",
              "    </tr>\n",
              "    <tr>\n",
              "      <th>Weather_Condition</th>\n",
              "      <td>object</td>\n",
              "    </tr>\n",
              "    <tr>\n",
              "      <th>Days_to_Harvest</th>\n",
              "      <td>int64</td>\n",
              "    </tr>\n",
              "    <tr>\n",
              "      <th>Yield_tons_per_hectare</th>\n",
              "      <td>float64</td>\n",
              "    </tr>\n",
              "  </tbody>\n",
              "</table>\n",
              "</div><br><label><b>dtype:</b> object</label>"
            ]
          },
          "metadata": {},
          "execution_count": 12
        }
      ],
      "source": [
        "df.dtypes"
      ]
    },
    {
      "cell_type": "code",
      "execution_count": 13,
      "metadata": {
        "colab": {
          "base_uri": "https://localhost:8080/"
        },
        "id": "Z7UK3azRoSXp",
        "outputId": "e9c8571f-0111-4b72-d601-5f8beb7e9afd"
      },
      "outputs": [
        {
          "output_type": "execute_result",
          "data": {
            "text/plain": [
              "(1000000, 10)"
            ]
          },
          "metadata": {},
          "execution_count": 13
        }
      ],
      "source": [
        "df.shape"
      ]
    },
    {
      "cell_type": "code",
      "execution_count": 14,
      "metadata": {
        "colab": {
          "base_uri": "https://localhost:8080/",
          "height": 398
        },
        "id": "wAzdFPcx5hx3",
        "outputId": "e3c03f3a-6edd-4672-94f0-e28f676ee543"
      },
      "outputs": [
        {
          "output_type": "execute_result",
          "data": {
            "text/plain": [
              "Region                    0\n",
              "Soil_Type                 0\n",
              "Crop                      0\n",
              "Rainfall_mm               0\n",
              "Temperature_Celsius       0\n",
              "Fertilizer_Used           0\n",
              "Irrigation_Used           0\n",
              "Weather_Condition         0\n",
              "Days_to_Harvest           0\n",
              "Yield_tons_per_hectare    0\n",
              "dtype: int64"
            ],
            "text/html": [
              "<div>\n",
              "<style scoped>\n",
              "    .dataframe tbody tr th:only-of-type {\n",
              "        vertical-align: middle;\n",
              "    }\n",
              "\n",
              "    .dataframe tbody tr th {\n",
              "        vertical-align: top;\n",
              "    }\n",
              "\n",
              "    .dataframe thead th {\n",
              "        text-align: right;\n",
              "    }\n",
              "</style>\n",
              "<table border=\"1\" class=\"dataframe\">\n",
              "  <thead>\n",
              "    <tr style=\"text-align: right;\">\n",
              "      <th></th>\n",
              "      <th>0</th>\n",
              "    </tr>\n",
              "  </thead>\n",
              "  <tbody>\n",
              "    <tr>\n",
              "      <th>Region</th>\n",
              "      <td>0</td>\n",
              "    </tr>\n",
              "    <tr>\n",
              "      <th>Soil_Type</th>\n",
              "      <td>0</td>\n",
              "    </tr>\n",
              "    <tr>\n",
              "      <th>Crop</th>\n",
              "      <td>0</td>\n",
              "    </tr>\n",
              "    <tr>\n",
              "      <th>Rainfall_mm</th>\n",
              "      <td>0</td>\n",
              "    </tr>\n",
              "    <tr>\n",
              "      <th>Temperature_Celsius</th>\n",
              "      <td>0</td>\n",
              "    </tr>\n",
              "    <tr>\n",
              "      <th>Fertilizer_Used</th>\n",
              "      <td>0</td>\n",
              "    </tr>\n",
              "    <tr>\n",
              "      <th>Irrigation_Used</th>\n",
              "      <td>0</td>\n",
              "    </tr>\n",
              "    <tr>\n",
              "      <th>Weather_Condition</th>\n",
              "      <td>0</td>\n",
              "    </tr>\n",
              "    <tr>\n",
              "      <th>Days_to_Harvest</th>\n",
              "      <td>0</td>\n",
              "    </tr>\n",
              "    <tr>\n",
              "      <th>Yield_tons_per_hectare</th>\n",
              "      <td>0</td>\n",
              "    </tr>\n",
              "  </tbody>\n",
              "</table>\n",
              "</div><br><label><b>dtype:</b> int64</label>"
            ]
          },
          "metadata": {},
          "execution_count": 14
        }
      ],
      "source": [
        "df.isnull().sum()"
      ]
    },
    {
      "cell_type": "code",
      "execution_count": 15,
      "metadata": {
        "colab": {
          "base_uri": "https://localhost:8080/",
          "height": 175
        },
        "id": "WrOmR59yqAXY",
        "outputId": "deb5264f-258d-419d-b994-d128f254c7dd"
      },
      "outputs": [
        {
          "output_type": "execute_result",
          "data": {
            "text/plain": [
              "                            count        mean         std         min  \\\n",
              "Rainfall_mm             1000000.0  549.981901  259.851320  100.000896   \n",
              "Temperature_Celsius     1000000.0   27.504965    7.220608   15.000034   \n",
              "Days_to_Harvest         1000000.0  104.495025   25.953412   60.000000   \n",
              "Yield_tons_per_hectare  1000000.0    4.649472    1.696572   -1.147613   \n",
              "\n",
              "                               25%         50%         75%         max  \n",
              "Rainfall_mm             324.891090  550.124061  774.738520  999.998098  \n",
              "Temperature_Celsius      21.254502   27.507365   33.753267   39.999997  \n",
              "Days_to_Harvest          82.000000  104.000000  127.000000  149.000000  \n",
              "Yield_tons_per_hectare    3.417637    4.651808    5.879200    9.963372  "
            ],
            "text/html": [
              "\n",
              "  <div id=\"df-2c031470-2753-45ce-a737-34658f64cc86\" class=\"colab-df-container\">\n",
              "    <div>\n",
              "<style scoped>\n",
              "    .dataframe tbody tr th:only-of-type {\n",
              "        vertical-align: middle;\n",
              "    }\n",
              "\n",
              "    .dataframe tbody tr th {\n",
              "        vertical-align: top;\n",
              "    }\n",
              "\n",
              "    .dataframe thead th {\n",
              "        text-align: right;\n",
              "    }\n",
              "</style>\n",
              "<table border=\"1\" class=\"dataframe\">\n",
              "  <thead>\n",
              "    <tr style=\"text-align: right;\">\n",
              "      <th></th>\n",
              "      <th>count</th>\n",
              "      <th>mean</th>\n",
              "      <th>std</th>\n",
              "      <th>min</th>\n",
              "      <th>25%</th>\n",
              "      <th>50%</th>\n",
              "      <th>75%</th>\n",
              "      <th>max</th>\n",
              "    </tr>\n",
              "  </thead>\n",
              "  <tbody>\n",
              "    <tr>\n",
              "      <th>Rainfall_mm</th>\n",
              "      <td>1000000.0</td>\n",
              "      <td>549.981901</td>\n",
              "      <td>259.851320</td>\n",
              "      <td>100.000896</td>\n",
              "      <td>324.891090</td>\n",
              "      <td>550.124061</td>\n",
              "      <td>774.738520</td>\n",
              "      <td>999.998098</td>\n",
              "    </tr>\n",
              "    <tr>\n",
              "      <th>Temperature_Celsius</th>\n",
              "      <td>1000000.0</td>\n",
              "      <td>27.504965</td>\n",
              "      <td>7.220608</td>\n",
              "      <td>15.000034</td>\n",
              "      <td>21.254502</td>\n",
              "      <td>27.507365</td>\n",
              "      <td>33.753267</td>\n",
              "      <td>39.999997</td>\n",
              "    </tr>\n",
              "    <tr>\n",
              "      <th>Days_to_Harvest</th>\n",
              "      <td>1000000.0</td>\n",
              "      <td>104.495025</td>\n",
              "      <td>25.953412</td>\n",
              "      <td>60.000000</td>\n",
              "      <td>82.000000</td>\n",
              "      <td>104.000000</td>\n",
              "      <td>127.000000</td>\n",
              "      <td>149.000000</td>\n",
              "    </tr>\n",
              "    <tr>\n",
              "      <th>Yield_tons_per_hectare</th>\n",
              "      <td>1000000.0</td>\n",
              "      <td>4.649472</td>\n",
              "      <td>1.696572</td>\n",
              "      <td>-1.147613</td>\n",
              "      <td>3.417637</td>\n",
              "      <td>4.651808</td>\n",
              "      <td>5.879200</td>\n",
              "      <td>9.963372</td>\n",
              "    </tr>\n",
              "  </tbody>\n",
              "</table>\n",
              "</div>\n",
              "    <div class=\"colab-df-buttons\">\n",
              "\n",
              "  <div class=\"colab-df-container\">\n",
              "    <button class=\"colab-df-convert\" onclick=\"convertToInteractive('df-2c031470-2753-45ce-a737-34658f64cc86')\"\n",
              "            title=\"Convert this dataframe to an interactive table.\"\n",
              "            style=\"display:none;\">\n",
              "\n",
              "  <svg xmlns=\"http://www.w3.org/2000/svg\" height=\"24px\" viewBox=\"0 -960 960 960\">\n",
              "    <path d=\"M120-120v-720h720v720H120Zm60-500h600v-160H180v160Zm220 220h160v-160H400v160Zm0 220h160v-160H400v160ZM180-400h160v-160H180v160Zm440 0h160v-160H620v160ZM180-180h160v-160H180v160Zm440 0h160v-160H620v160Z\"/>\n",
              "  </svg>\n",
              "    </button>\n",
              "\n",
              "  <style>\n",
              "    .colab-df-container {\n",
              "      display:flex;\n",
              "      gap: 12px;\n",
              "    }\n",
              "\n",
              "    .colab-df-convert {\n",
              "      background-color: #E8F0FE;\n",
              "      border: none;\n",
              "      border-radius: 50%;\n",
              "      cursor: pointer;\n",
              "      display: none;\n",
              "      fill: #1967D2;\n",
              "      height: 32px;\n",
              "      padding: 0 0 0 0;\n",
              "      width: 32px;\n",
              "    }\n",
              "\n",
              "    .colab-df-convert:hover {\n",
              "      background-color: #E2EBFA;\n",
              "      box-shadow: 0px 1px 2px rgba(60, 64, 67, 0.3), 0px 1px 3px 1px rgba(60, 64, 67, 0.15);\n",
              "      fill: #174EA6;\n",
              "    }\n",
              "\n",
              "    .colab-df-buttons div {\n",
              "      margin-bottom: 4px;\n",
              "    }\n",
              "\n",
              "    [theme=dark] .colab-df-convert {\n",
              "      background-color: #3B4455;\n",
              "      fill: #D2E3FC;\n",
              "    }\n",
              "\n",
              "    [theme=dark] .colab-df-convert:hover {\n",
              "      background-color: #434B5C;\n",
              "      box-shadow: 0px 1px 3px 1px rgba(0, 0, 0, 0.15);\n",
              "      filter: drop-shadow(0px 1px 2px rgba(0, 0, 0, 0.3));\n",
              "      fill: #FFFFFF;\n",
              "    }\n",
              "  </style>\n",
              "\n",
              "    <script>\n",
              "      const buttonEl =\n",
              "        document.querySelector('#df-2c031470-2753-45ce-a737-34658f64cc86 button.colab-df-convert');\n",
              "      buttonEl.style.display =\n",
              "        google.colab.kernel.accessAllowed ? 'block' : 'none';\n",
              "\n",
              "      async function convertToInteractive(key) {\n",
              "        const element = document.querySelector('#df-2c031470-2753-45ce-a737-34658f64cc86');\n",
              "        const dataTable =\n",
              "          await google.colab.kernel.invokeFunction('convertToInteractive',\n",
              "                                                    [key], {});\n",
              "        if (!dataTable) return;\n",
              "\n",
              "        const docLinkHtml = 'Like what you see? Visit the ' +\n",
              "          '<a target=\"_blank\" href=https://colab.research.google.com/notebooks/data_table.ipynb>data table notebook</a>'\n",
              "          + ' to learn more about interactive tables.';\n",
              "        element.innerHTML = '';\n",
              "        dataTable['output_type'] = 'display_data';\n",
              "        await google.colab.output.renderOutput(dataTable, element);\n",
              "        const docLink = document.createElement('div');\n",
              "        docLink.innerHTML = docLinkHtml;\n",
              "        element.appendChild(docLink);\n",
              "      }\n",
              "    </script>\n",
              "  </div>\n",
              "\n",
              "\n",
              "<div id=\"df-018ba3b9-a5c9-4b78-8620-1a37c0812bd5\">\n",
              "  <button class=\"colab-df-quickchart\" onclick=\"quickchart('df-018ba3b9-a5c9-4b78-8620-1a37c0812bd5')\"\n",
              "            title=\"Suggest charts\"\n",
              "            style=\"display:none;\">\n",
              "\n",
              "<svg xmlns=\"http://www.w3.org/2000/svg\" height=\"24px\"viewBox=\"0 0 24 24\"\n",
              "     width=\"24px\">\n",
              "    <g>\n",
              "        <path d=\"M19 3H5c-1.1 0-2 .9-2 2v14c0 1.1.9 2 2 2h14c1.1 0 2-.9 2-2V5c0-1.1-.9-2-2-2zM9 17H7v-7h2v7zm4 0h-2V7h2v10zm4 0h-2v-4h2v4z\"/>\n",
              "    </g>\n",
              "</svg>\n",
              "  </button>\n",
              "\n",
              "<style>\n",
              "  .colab-df-quickchart {\n",
              "      --bg-color: #E8F0FE;\n",
              "      --fill-color: #1967D2;\n",
              "      --hover-bg-color: #E2EBFA;\n",
              "      --hover-fill-color: #174EA6;\n",
              "      --disabled-fill-color: #AAA;\n",
              "      --disabled-bg-color: #DDD;\n",
              "  }\n",
              "\n",
              "  [theme=dark] .colab-df-quickchart {\n",
              "      --bg-color: #3B4455;\n",
              "      --fill-color: #D2E3FC;\n",
              "      --hover-bg-color: #434B5C;\n",
              "      --hover-fill-color: #FFFFFF;\n",
              "      --disabled-bg-color: #3B4455;\n",
              "      --disabled-fill-color: #666;\n",
              "  }\n",
              "\n",
              "  .colab-df-quickchart {\n",
              "    background-color: var(--bg-color);\n",
              "    border: none;\n",
              "    border-radius: 50%;\n",
              "    cursor: pointer;\n",
              "    display: none;\n",
              "    fill: var(--fill-color);\n",
              "    height: 32px;\n",
              "    padding: 0;\n",
              "    width: 32px;\n",
              "  }\n",
              "\n",
              "  .colab-df-quickchart:hover {\n",
              "    background-color: var(--hover-bg-color);\n",
              "    box-shadow: 0 1px 2px rgba(60, 64, 67, 0.3), 0 1px 3px 1px rgba(60, 64, 67, 0.15);\n",
              "    fill: var(--button-hover-fill-color);\n",
              "  }\n",
              "\n",
              "  .colab-df-quickchart-complete:disabled,\n",
              "  .colab-df-quickchart-complete:disabled:hover {\n",
              "    background-color: var(--disabled-bg-color);\n",
              "    fill: var(--disabled-fill-color);\n",
              "    box-shadow: none;\n",
              "  }\n",
              "\n",
              "  .colab-df-spinner {\n",
              "    border: 2px solid var(--fill-color);\n",
              "    border-color: transparent;\n",
              "    border-bottom-color: var(--fill-color);\n",
              "    animation:\n",
              "      spin 1s steps(1) infinite;\n",
              "  }\n",
              "\n",
              "  @keyframes spin {\n",
              "    0% {\n",
              "      border-color: transparent;\n",
              "      border-bottom-color: var(--fill-color);\n",
              "      border-left-color: var(--fill-color);\n",
              "    }\n",
              "    20% {\n",
              "      border-color: transparent;\n",
              "      border-left-color: var(--fill-color);\n",
              "      border-top-color: var(--fill-color);\n",
              "    }\n",
              "    30% {\n",
              "      border-color: transparent;\n",
              "      border-left-color: var(--fill-color);\n",
              "      border-top-color: var(--fill-color);\n",
              "      border-right-color: var(--fill-color);\n",
              "    }\n",
              "    40% {\n",
              "      border-color: transparent;\n",
              "      border-right-color: var(--fill-color);\n",
              "      border-top-color: var(--fill-color);\n",
              "    }\n",
              "    60% {\n",
              "      border-color: transparent;\n",
              "      border-right-color: var(--fill-color);\n",
              "    }\n",
              "    80% {\n",
              "      border-color: transparent;\n",
              "      border-right-color: var(--fill-color);\n",
              "      border-bottom-color: var(--fill-color);\n",
              "    }\n",
              "    90% {\n",
              "      border-color: transparent;\n",
              "      border-bottom-color: var(--fill-color);\n",
              "    }\n",
              "  }\n",
              "</style>\n",
              "\n",
              "  <script>\n",
              "    async function quickchart(key) {\n",
              "      const quickchartButtonEl =\n",
              "        document.querySelector('#' + key + ' button');\n",
              "      quickchartButtonEl.disabled = true;  // To prevent multiple clicks.\n",
              "      quickchartButtonEl.classList.add('colab-df-spinner');\n",
              "      try {\n",
              "        const charts = await google.colab.kernel.invokeFunction(\n",
              "            'suggestCharts', [key], {});\n",
              "      } catch (error) {\n",
              "        console.error('Error during call to suggestCharts:', error);\n",
              "      }\n",
              "      quickchartButtonEl.classList.remove('colab-df-spinner');\n",
              "      quickchartButtonEl.classList.add('colab-df-quickchart-complete');\n",
              "    }\n",
              "    (() => {\n",
              "      let quickchartButtonEl =\n",
              "        document.querySelector('#df-018ba3b9-a5c9-4b78-8620-1a37c0812bd5 button');\n",
              "      quickchartButtonEl.style.display =\n",
              "        google.colab.kernel.accessAllowed ? 'block' : 'none';\n",
              "    })();\n",
              "  </script>\n",
              "</div>\n",
              "\n",
              "    </div>\n",
              "  </div>\n"
            ],
            "application/vnd.google.colaboratory.intrinsic+json": {
              "type": "dataframe",
              "summary": "{\n  \"name\": \"df\",\n  \"rows\": 4,\n  \"fields\": [\n    {\n      \"column\": \"count\",\n      \"properties\": {\n        \"dtype\": \"number\",\n        \"std\": 0.0,\n        \"min\": 1000000.0,\n        \"max\": 1000000.0,\n        \"num_unique_values\": 1,\n        \"samples\": [\n          1000000.0\n        ],\n        \"semantic_type\": \"\",\n        \"description\": \"\"\n      }\n    },\n    {\n      \"column\": \"mean\",\n      \"properties\": {\n        \"dtype\": \"number\",\n        \"std\": 255.80707885554216,\n        \"min\": 4.649472487663021,\n        \"max\": 549.981900729363,\n        \"num_unique_values\": 4,\n        \"samples\": [\n          27.504965199662127\n        ],\n        \"semantic_type\": \"\",\n        \"description\": \"\"\n      }\n    },\n    {\n      \"column\": \"std\",\n      \"properties\": {\n        \"dtype\": \"number\",\n        \"std\": 124.54724986979879,\n        \"min\": 1.6965724511164864,\n        \"max\": 259.85132027823397,\n        \"num_unique_values\": 4,\n        \"samples\": [\n          7.2206075876818305\n        ],\n        \"semantic_type\": \"\",\n        \"description\": \"\"\n      }\n    },\n    {\n      \"column\": \"min\",\n      \"properties\": {\n        \"dtype\": \"number\",\n        \"std\": 45.7174412950425,\n        \"min\": -1.147613222534901,\n        \"max\": 100.00089622522204,\n        \"num_unique_values\": 4,\n        \"samples\": [\n          15.000034141430271\n        ],\n        \"semantic_type\": \"\",\n        \"description\": \"\"\n      }\n    },\n    {\n      \"column\": \"25%\",\n      \"properties\": {\n        \"dtype\": \"number\",\n        \"std\": 148.52603469260396,\n        \"min\": 3.417637434469158,\n        \"max\": 324.8910895373406,\n        \"num_unique_values\": 4,\n        \"samples\": [\n          21.25450238662936\n        ],\n        \"semantic_type\": \"\",\n        \"description\": \"\"\n      }\n    },\n    {\n      \"column\": \"50%\",\n      \"properties\": {\n        \"dtype\": \"number\",\n        \"std\": 255.91965360027308,\n        \"min\": 4.651808124284062,\n        \"max\": 550.1240607910207,\n        \"num_unique_values\": 4,\n        \"samples\": [\n          27.50736543143337\n        ],\n        \"semantic_type\": \"\",\n        \"description\": \"\"\n      }\n    },\n    {\n      \"column\": \"75%\",\n      \"properties\": {\n        \"dtype\": \"number\",\n        \"std\": 363.307852892344,\n        \"min\": 5.879200097141489,\n        \"max\": 774.7385195293846,\n        \"num_unique_values\": 4,\n        \"samples\": [\n          33.753267332986496\n        ],\n        \"semantic_type\": \"\",\n        \"description\": \"\"\n      }\n    },\n    {\n      \"column\": \"max\",\n      \"properties\": {\n        \"dtype\": \"number\",\n        \"std\": 470.6447050168276,\n        \"min\": 9.963372228814649,\n        \"max\": 999.998098221668,\n        \"num_unique_values\": 4,\n        \"samples\": [\n          39.99999662316004\n        ],\n        \"semantic_type\": \"\",\n        \"description\": \"\"\n      }\n    }\n  ]\n}"
            }
          },
          "metadata": {},
          "execution_count": 15
        }
      ],
      "source": [
        "df.describe().T"
      ]
    },
    {
      "cell_type": "code",
      "execution_count": 16,
      "metadata": {
        "colab": {
          "base_uri": "https://localhost:8080/",
          "height": 304
        },
        "id": "9N-0IxecqXw7",
        "outputId": "737bcfa3-bb93-4dc8-a8e6-f28b36669675"
      },
      "outputs": [
        {
          "output_type": "execute_result",
          "data": {
            "text/plain": [
              "Crop\n",
              "Maize      166824\n",
              "Rice       166792\n",
              "Barley     166777\n",
              "Wheat      166673\n",
              "Cotton     166585\n",
              "Soybean    166349\n",
              "Name: count, dtype: int64"
            ],
            "text/html": [
              "<div>\n",
              "<style scoped>\n",
              "    .dataframe tbody tr th:only-of-type {\n",
              "        vertical-align: middle;\n",
              "    }\n",
              "\n",
              "    .dataframe tbody tr th {\n",
              "        vertical-align: top;\n",
              "    }\n",
              "\n",
              "    .dataframe thead th {\n",
              "        text-align: right;\n",
              "    }\n",
              "</style>\n",
              "<table border=\"1\" class=\"dataframe\">\n",
              "  <thead>\n",
              "    <tr style=\"text-align: right;\">\n",
              "      <th></th>\n",
              "      <th>count</th>\n",
              "    </tr>\n",
              "    <tr>\n",
              "      <th>Crop</th>\n",
              "      <th></th>\n",
              "    </tr>\n",
              "  </thead>\n",
              "  <tbody>\n",
              "    <tr>\n",
              "      <th>Maize</th>\n",
              "      <td>166824</td>\n",
              "    </tr>\n",
              "    <tr>\n",
              "      <th>Rice</th>\n",
              "      <td>166792</td>\n",
              "    </tr>\n",
              "    <tr>\n",
              "      <th>Barley</th>\n",
              "      <td>166777</td>\n",
              "    </tr>\n",
              "    <tr>\n",
              "      <th>Wheat</th>\n",
              "      <td>166673</td>\n",
              "    </tr>\n",
              "    <tr>\n",
              "      <th>Cotton</th>\n",
              "      <td>166585</td>\n",
              "    </tr>\n",
              "    <tr>\n",
              "      <th>Soybean</th>\n",
              "      <td>166349</td>\n",
              "    </tr>\n",
              "  </tbody>\n",
              "</table>\n",
              "</div><br><label><b>dtype:</b> int64</label>"
            ]
          },
          "metadata": {},
          "execution_count": 16
        }
      ],
      "source": [
        "df['Crop'].value_counts()"
      ]
    },
    {
      "cell_type": "markdown",
      "metadata": {
        "id": "KAECajKFFPo5"
      },
      "source": [
        "###Feature Understanding\n",
        "\n",
        "Histogram\n",
        "\n",
        "Pie\n",
        "\n",
        "Scatter\n",
        "\n",
        "Boxplot\n",
        "\n",
        "KDE"
      ]
    },
    {
      "cell_type": "code",
      "execution_count": 17,
      "metadata": {
        "id": "dpm_72ufrTfc"
      },
      "outputs": [],
      "source": [
        "import matplotlib.pyplot as plt\n",
        "import seaborn as sns"
      ]
    },
    {
      "cell_type": "code",
      "execution_count": 18,
      "metadata": {
        "colab": {
          "base_uri": "https://localhost:8080/",
          "height": 699
        },
        "id": "-_S5Ouv1s-jv",
        "outputId": "694a5c5c-a375-427a-a54b-5bf80cfaef80"
      },
      "outputs": [
        {
          "output_type": "display_data",
          "data": {
            "text/plain": [
              "<Figure size 1200x800 with 4 Axes>"
            ],
            "image/png": "[encoded data removed]"
          },
          "metadata": {}
        }
      ],
      "source": [
        "df.hist(bins=60, figsize =(12,8))\n",
        "plt.show()"
      ]
    },
    {
      "cell_type": "code",
      "execution_count": 19,
      "metadata": {
        "colab": {
          "base_uri": "https://localhost:8080/",
          "height": 428
        },
        "id": "ZR3EhDfDoYEX",
        "outputId": "ec5a763d-d203-49ce-fb34-491af26941d6"
      },
      "outputs": [
        {
          "output_type": "display_data",
          "data": {
            "text/plain": [
              "<Figure size 640x480 with 1 Axes>"
            ],
            "image/png": "[encoded data removed]"
          },
          "metadata": {}
        }
      ],
      "source": [
        "ax = df['Crop'].value_counts().plot(kind='pie', autopct='%1.1f%%', title='Crop Count')\n",
        "\n",
        "plt.show()"
      ]
    },
    {
      "cell_type": "code",
      "execution_count": 20,
      "metadata": {
        "colab": {
          "base_uri": "https://localhost:8080/",
          "height": 238
        },
        "id": "PRub5h9jwSTq",
        "outputId": "7427eb3c-80e8-43fa-ce06-f27767f1b6fd"
      },
      "outputs": [
        {
          "output_type": "execute_result",
          "data": {
            "text/plain": [
              "                        Rainfall_mm  Temperature_Celsius  Fertilizer_Used  \\\n",
              "Rainfall_mm                1.000000            -0.000123        -0.001076   \n",
              "Temperature_Celsius       -0.000123             1.000000         0.002343   \n",
              "Fertilizer_Used           -0.001076             0.002343         1.000000   \n",
              "Irrigation_Used           -0.000568            -0.000484         0.001510   \n",
              "Days_to_Harvest           -0.002669            -0.000731        -0.001029   \n",
              "Yield_tons_per_hectare     0.764618             0.085565         0.442099   \n",
              "\n",
              "                        Irrigation_Used  Days_to_Harvest  \\\n",
              "Rainfall_mm                   -0.000568        -0.002669   \n",
              "Temperature_Celsius           -0.000484        -0.000731   \n",
              "Fertilizer_Used                0.001510        -0.001029   \n",
              "Irrigation_Used                1.000000        -0.001234   \n",
              "Days_to_Harvest               -0.001234         1.000000   \n",
              "Yield_tons_per_hectare         0.353741        -0.002591   \n",
              "\n",
              "                        Yield_tons_per_hectare  \n",
              "Rainfall_mm                           0.764618  \n",
              "Temperature_Celsius                   0.085565  \n",
              "Fertilizer_Used                       0.442099  \n",
              "Irrigation_Used                       0.353741  \n",
              "Days_to_Harvest                      -0.002591  \n",
              "Yield_tons_per_hectare                1.000000  "
            ],
            "text/html": [
              "\n",
              "  <div id=\"df-78e98539-27b7-40b0-b4f3-c277f517c6da\" class=\"colab-df-container\">\n",
              "    <div>\n",
              "<style scoped>\n",
              "    .dataframe tbody tr th:only-of-type {\n",
              "        vertical-align: middle;\n",
              "    }\n",
              "\n",
              "    .dataframe tbody tr th {\n",
              "        vertical-align: top;\n",
              "    }\n",
              "\n",
              "    .dataframe thead th {\n",
              "        text-align: right;\n",
              "    }\n",
              "</style>\n",
              "<table border=\"1\" class=\"dataframe\">\n",
              "  <thead>\n",
              "    <tr style=\"text-align: right;\">\n",
              "      <th></th>\n",
              "      <th>Rainfall_mm</th>\n",
              "      <th>Temperature_Celsius</th>\n",
              "      <th>Fertilizer_Used</th>\n",
              "      <th>Irrigation_Used</th>\n",
              "      <th>Days_to_Harvest</th>\n",
              "      <th>Yield_tons_per_hectare</th>\n",
              "    </tr>\n",
              "  </thead>\n",
              "  <tbody>\n",
              "    <tr>\n",
              "      <th>Rainfall_mm</th>\n",
              "      <td>1.000000</td>\n",
              "      <td>-0.000123</td>\n",
              "      <td>-0.001076</td>\n",
              "      <td>-0.000568</td>\n",
              "      <td>-0.002669</td>\n",
              "      <td>0.764618</td>\n",
              "    </tr>\n",
              "    <tr>\n",
              "      <th>Temperature_Celsius</th>\n",
              "      <td>-0.000123</td>\n",
              "      <td>1.000000</td>\n",
              "      <td>0.002343</td>\n",
              "      <td>-0.000484</td>\n",
              "      <td>-0.000731</td>\n",
              "      <td>0.085565</td>\n",
              "    </tr>\n",
              "    <tr>\n",
              "      <th>Fertilizer_Used</th>\n",
              "      <td>-0.001076</td>\n",
              "      <td>0.002343</td>\n",
              "      <td>1.000000</td>\n",
              "      <td>0.001510</td>\n",
              "      <td>-0.001029</td>\n",
              "      <td>0.442099</td>\n",
              "    </tr>\n",
              "    <tr>\n",
              "      <th>Irrigation_Used</th>\n",
              "      <td>-0.000568</td>\n",
              "      <td>-0.000484</td>\n",
              "      <td>0.001510</td>\n",
              "      <td>1.000000</td>\n",
              "      <td>-0.001234</td>\n",
              "      <td>0.353741</td>\n",
              "    </tr>\n",
              "    <tr>\n",
              "      <th>Days_to_Harvest</th>\n",
              "      <td>-0.002669</td>\n",
              "      <td>-0.000731</td>\n",
              "      <td>-0.001029</td>\n",
              "      <td>-0.001234</td>\n",
              "      <td>1.000000</td>\n",
              "      <td>-0.002591</td>\n",
              "    </tr>\n",
              "    <tr>\n",
              "      <th>Yield_tons_per_hectare</th>\n",
              "      <td>0.764618</td>\n",
              "      <td>0.085565</td>\n",
              "      <td>0.442099</td>\n",
              "      <td>0.353741</td>\n",
              "      <td>-0.002591</td>\n",
              "      <td>1.000000</td>\n",
              "    </tr>\n",
              "  </tbody>\n",
              "</table>\n",
              "</div>\n",
              "    <div class=\"colab-df-buttons\">\n",
              "\n",
              "  <div class=\"colab-df-container\">\n",
              "    <button class=\"colab-df-convert\" onclick=\"convertToInteractive('df-78e98539-27b7-40b0-b4f3-c277f517c6da')\"\n",
              "            title=\"Convert this dataframe to an interactive table.\"\n",
              "            style=\"display:none;\">\n",
              "\n",
              "  <svg xmlns=\"http://www.w3.org/2000/svg\" height=\"24px\" viewBox=\"0 -960 960 960\">\n",
              "    <path d=\"M120-120v-720h720v720H120Zm60-500h600v-160H180v160Zm220 220h160v-160H400v160Zm0 220h160v-160H400v160ZM180-400h160v-160H180v160Zm440 0h160v-160H620v160ZM180-180h160v-160H180v160Zm440 0h160v-160H620v160Z\"/>\n",
              "  </svg>\n",
              "    </button>\n",
              "\n",
              "  <style>\n",
              "    .colab-df-container {\n",
              "      display:flex;\n",
              "      gap: 12px;\n",
              "    }\n",
              "\n",
              "    .colab-df-convert {\n",
              "      background-color: #E8F0FE;\n",
              "      border: none;\n",
              "      border-radius: 50%;\n",
              "      cursor: pointer;\n",
              "      display: none;\n",
              "      fill: #1967D2;\n",
              "      height: 32px;\n",
              "      padding: 0 0 0 0;\n",
              "      width: 32px;\n",
              "    }\n",
              "\n",
              "    .colab-df-convert:hover {\n",
              "      background-color: #E2EBFA;\n",
              "      box-shadow: 0px 1px 2px rgba(60, 64, 67, 0.3), 0px 1px 3px 1px rgba(60, 64, 67, 0.15);\n",
              "      fill: #174EA6;\n",
              "    }\n",
              "\n",
              "    .colab-df-buttons div {\n",
              "      margin-bottom: 4px;\n",
              "    }\n",
              "\n",
              "    [theme=dark] .colab-df-convert {\n",
              "      background-color: #3B4455;\n",
              "      fill: #D2E3FC;\n",
              "    }\n",
              "\n",
              "    [theme=dark] .colab-df-convert:hover {\n",
              "      background-color: #434B5C;\n",
              "      box-shadow: 0px 1px 3px 1px rgba(0, 0, 0, 0.15);\n",
              "      filter: drop-shadow(0px 1px 2px rgba(0, 0, 0, 0.3));\n",
              "      fill: #FFFFFF;\n",
              "    }\n",
              "  </style>\n",
              "\n",
              "    <script>\n",
              "      const buttonEl =\n",
              "        document.querySelector('#df-78e98539-27b7-40b0-b4f3-c277f517c6da button.colab-df-convert');\n",
              "      buttonEl.style.display =\n",
              "        google.colab.kernel.accessAllowed ? 'block' : 'none';\n",
              "\n",
              "      async function convertToInteractive(key) {\n",
              "        const element = document.querySelector('#df-78e98539-27b7-40b0-b4f3-c277f517c6da');\n",
              "        const dataTable =\n",
              "          await google.colab.kernel.invokeFunction('convertToInteractive',\n",
              "                                                    [key], {});\n",
              "        if (!dataTable) return;\n",
              "\n",
              "        const docLinkHtml = 'Like what you see? Visit the ' +\n",
              "          '<a target=\"_blank\" href=https://colab.research.google.com/notebooks/data_table.ipynb>data table notebook</a>'\n",
              "          + ' to learn more about interactive tables.';\n",
              "        element.innerHTML = '';\n",
              "        dataTable['output_type'] = 'display_data';\n",
              "        await google.colab.output.renderOutput(dataTable, element);\n",
              "        const docLink = document.createElement('div');\n",
              "        docLink.innerHTML = docLinkHtml;\n",
              "        element.appendChild(docLink);\n",
              "      }\n",
              "    </script>\n",
              "  </div>\n",
              "\n",
              "\n",
              "<div id=\"df-41fd6e19-618e-48e4-b7f5-cb87c49f8a38\">\n",
              "  <button class=\"colab-df-quickchart\" onclick=\"quickchart('df-41fd6e19-618e-48e4-b7f5-cb87c49f8a38')\"\n",
              "            title=\"Suggest charts\"\n",
              "            style=\"display:none;\">\n",
              "\n",
              "<svg xmlns=\"http://www.w3.org/2000/svg\" height=\"24px\"viewBox=\"0 0 24 24\"\n",
              "     width=\"24px\">\n",
              "    <g>\n",
              "        <path d=\"M19 3H5c-1.1 0-2 .9-2 2v14c0 1.1.9 2 2 2h14c1.1 0 2-.9 2-2V5c0-1.1-.9-2-2-2zM9 17H7v-7h2v7zm4 0h-2V7h2v10zm4 0h-2v-4h2v4z\"/>\n",
              "    </g>\n",
              "</svg>\n",
              "  </button>\n",
              "\n",
              "<style>\n",
              "  .colab-df-quickchart {\n",
              "      --bg-color: #E8F0FE;\n",
              "      --fill-color: #1967D2;\n",
              "      --hover-bg-color: #E2EBFA;\n",
              "      --hover-fill-color: #174EA6;\n",
              "      --disabled-fill-color: #AAA;\n",
              "      --disabled-bg-color: #DDD;\n",
              "  }\n",
              "\n",
              "  [theme=dark] .colab-df-quickchart {\n",
              "      --bg-color: #3B4455;\n",
              "      --fill-color: #D2E3FC;\n",
              "      --hover-bg-color: #434B5C;\n",
              "      --hover-fill-color: #FFFFFF;\n",
              "      --disabled-bg-color: #3B4455;\n",
              "      --disabled-fill-color: #666;\n",
              "  }\n",
              "\n",
              "  .colab-df-quickchart {\n",
              "    background-color: var(--bg-color);\n",
              "    border: none;\n",
              "    border-radius: 50%;\n",
              "    cursor: pointer;\n",
              "    display: none;\n",
              "    fill: var(--fill-color);\n",
              "    height: 32px;\n",
              "    padding: 0;\n",
              "    width: 32px;\n",
              "  }\n",
              "\n",
              "  .colab-df-quickchart:hover {\n",
              "    background-color: var(--hover-bg-color);\n",
              "    box-shadow: 0 1px 2px rgba(60, 64, 67, 0.3), 0 1px 3px 1px rgba(60, 64, 67, 0.15);\n",
              "    fill: var(--button-hover-fill-color);\n",
              "  }\n",
              "\n",
              "  .colab-df-quickchart-complete:disabled,\n",
              "  .colab-df-quickchart-complete:disabled:hover {\n",
              "    background-color: var(--disabled-bg-color);\n",
              "    fill: var(--disabled-fill-color);\n",
              "    box-shadow: none;\n",
              "  }\n",
              "\n",
              "  .colab-df-spinner {\n",
              "    border: 2px solid var(--fill-color);\n",
              "    border-color: transparent;\n",
              "    border-bottom-color: var(--fill-color);\n",
              "    animation:\n",
              "      spin 1s steps(1) infinite;\n",
              "  }\n",
              "\n",
              "  @keyframes spin {\n",
              "    0% {\n",
              "      border-color: transparent;\n",
              "      border-bottom-color: var(--fill-color);\n",
              "      border-left-color: var(--fill-color);\n",
              "    }\n",
              "    20% {\n",
              "      border-color: transparent;\n",
              "      border-left-color: var(--fill-color);\n",
              "      border-top-color: var(--fill-color);\n",
              "    }\n",
              "    30% {\n",
              "      border-color: transparent;\n",
              "      border-left-color: var(--fill-color);\n",
              "      border-top-color: var(--fill-color);\n",
              "      border-right-color: var(--fill-color);\n",
              "    }\n",
              "    40% {\n",
              "      border-color: transparent;\n",
              "      border-right-color: var(--fill-color);\n",
              "      border-top-color: var(--fill-color);\n",
              "    }\n",
              "    60% {\n",
              "      border-color: transparent;\n",
              "      border-right-color: var(--fill-color);\n",
              "    }\n",
              "    80% {\n",
              "      border-color: transparent;\n",
              "      border-right-color: var(--fill-color);\n",
              "      border-bottom-color: var(--fill-color);\n",
              "    }\n",
              "    90% {\n",
              "      border-color: transparent;\n",
              "      border-bottom-color: var(--fill-color);\n",
              "    }\n",
              "  }\n",
              "</style>\n",
              "\n",
              "  <script>\n",
              "    async function quickchart(key) {\n",
              "      const quickchartButtonEl =\n",
              "        document.querySelector('#' + key + ' button');\n",
              "      quickchartButtonEl.disabled = true;  // To prevent multiple clicks.\n",
              "      quickchartButtonEl.classList.add('colab-df-spinner');\n",
              "      try {\n",
              "        const charts = await google.colab.kernel.invokeFunction(\n",
              "            'suggestCharts', [key], {});\n",
              "      } catch (error) {\n",
              "        console.error('Error during call to suggestCharts:', error);\n",
              "      }\n",
              "      quickchartButtonEl.classList.remove('colab-df-spinner');\n",
              "      quickchartButtonEl.classList.add('colab-df-quickchart-complete');\n",
              "    }\n",
              "    (() => {\n",
              "      let quickchartButtonEl =\n",
              "        document.querySelector('#df-41fd6e19-618e-48e4-b7f5-cb87c49f8a38 button');\n",
              "      quickchartButtonEl.style.display =\n",
              "        google.colab.kernel.accessAllowed ? 'block' : 'none';\n",
              "    })();\n",
              "  </script>\n",
              "</div>\n",
              "\n",
              "    </div>\n",
              "  </div>\n"
            ],
            "application/vnd.google.colaboratory.intrinsic+json": {
              "type": "dataframe",
              "summary": "{\n  \"name\": \"df\",\n  \"rows\": 6,\n  \"fields\": [\n    {\n      \"column\": \"Rainfall_mm\",\n      \"properties\": {\n        \"dtype\": \"number\",\n        \"std\": 0.46222845599251905,\n        \"min\": -0.0026693974082886746,\n        \"max\": 1.0,\n        \"num_unique_values\": 6,\n        \"samples\": [\n          1.0,\n          -0.0001230056449396684,\n          0.7646179592717693\n        ],\n        \"semantic_type\": \"\",\n        \"description\": \"\"\n      }\n    },\n    {\n      \"column\": \"Temperature_Celsius\",\n      \"properties\": {\n        \"dtype\": \"number\",\n        \"std\": 0.4026301941071166,\n        \"min\": -0.0007309826941272966,\n        \"max\": 1.0,\n        \"num_unique_values\": 6,\n        \"samples\": [\n          -0.0001230056449396684,\n          1.0,\n          0.0855651321036718\n        ],\n        \"semantic_type\": \"\",\n        \"description\": \"\"\n      }\n    },\n    {\n      \"column\": \"Fertilizer_Used\",\n      \"properties\": {\n        \"dtype\": \"number\",\n        \"std\": 0.41182827985751486,\n        \"min\": -0.0010757379899825365,\n        \"max\": 1.0,\n        \"num_unique_values\": 6,\n        \"samples\": [\n          -0.0010757379899825365,\n          0.0023425896078209853,\n          0.44209932455370016\n        ],\n        \"semantic_type\": \"\",\n        \"description\": \"\"\n      }\n    },\n    {\n      \"column\": \"Irrigation_Used\",\n      \"properties\": {\n        \"dtype\": \"number\",\n        \"std\": 0.404981813743787,\n        \"min\": -0.0012342537783771648,\n        \"max\": 1.0,\n        \"num_unique_values\": 6,\n        \"samples\": [\n          -0.0005676975936323151,\n          -0.0004840009190643983,\n          0.3537409008437429\n        ],\n        \"semantic_type\": \"\",\n        \"description\": \"\"\n      }\n    },\n    {\n      \"column\": \"Days_to_Harvest\",\n      \"properties\": {\n        \"dtype\": \"number\",\n        \"std\": 0.40892304822365344,\n        \"min\": -0.0026693974082886746,\n        \"max\": 1.0,\n        \"num_unique_values\": 6,\n        \"samples\": [\n          -0.0026693974082886746,\n          -0.0007309826941272966,\n          -0.002590633373218816\n        ],\n        \"semantic_type\": \"\",\n        \"description\": \"\"\n      }\n    },\n    {\n      \"column\": \"Yield_tons_per_hectare\",\n      \"properties\": {\n        \"dtype\": \"number\",\n        \"std\": 0.3867636072013773,\n        \"min\": -0.002590633373218816,\n        \"max\": 1.0,\n        \"num_unique_values\": 6,\n        \"samples\": [\n          0.7646179592717693,\n          0.0855651321036718,\n          1.0\n        ],\n        \"semantic_type\": \"\",\n        \"description\": \"\"\n      }\n    }\n  ]\n}"
            }
          },
          "metadata": {},
          "execution_count": 20
        }
      ],
      "source": [
        "df.corr(numeric_only=True)"
      ]
    },
    {
      "cell_type": "code",
      "execution_count": 20,
      "metadata": {
        "id": "MQt8LWsv36U8"
      },
      "outputs": [],
      "source": []
    },
    {
      "cell_type": "code",
      "execution_count": 21,
      "metadata": {
        "colab": {
          "base_uri": "https://localhost:8080/",
          "height": 598
        },
        "id": "q2gdIA3GwK24",
        "outputId": "0989a9d1-4170-4ca7-bd6b-ed4e9dc18505"
      },
      "outputs": [
        {
          "output_type": "execute_result",
          "data": {
            "text/plain": [
              "<Axes: >"
            ]
          },
          "metadata": {},
          "execution_count": 21
        },
        {
          "output_type": "display_data",
          "data": {
            "text/plain": [
              "<Figure size 640x480 with 2 Axes>"
            ],
            "image/png": "[encoded data removed]"
          },
          "metadata": {}
        }
      ],
      "source": [
        "sns.heatmap(df.corr(numeric_only=True),annot = True)"
      ]
    },
    {
      "cell_type": "markdown",
      "metadata": {
        "id": "VGQA324sn-ZO"
      },
      "source": [
        "The correlation matrix shows that Rainfall_mm has the highest positive correlation with Yield_tons_per_hectare.\n",
        "\n",
        "Scatter plots help check if the relationship is linear or non-linear.\n",
        "\n",
        "Since Rainfall has the strongest impact, it is the best feature to visualize with Yield first.\n",
        "\n"
      ]
    },
    {
      "cell_type": "code",
      "execution_count": 22,
      "metadata": {
        "colab": {
          "base_uri": "https://localhost:8080/",
          "height": 472
        },
        "id": "N-XfetM_8Qen",
        "outputId": "ecc06610-d23a-4ad5-c107-57a34103c24e"
      },
      "outputs": [
        {
          "output_type": "display_data",
          "data": {
            "text/plain": [
              "<Figure size 640x480 with 1 Axes>"
            ],
            "image/png": "[encoded data removed]"
          },
          "metadata": {}
        }
      ],
      "source": [
        "bx = df.plot.scatter(x='Rainfall_mm', y='Yield_tons_per_hectare', title='Yield vs Rainfall')\n",
        "bx.set_xlabel('Rainfall (mm)')\n",
        "bx.set_ylabel('Yield (tons per hectare)')\n",
        "\n",
        "plt.show()"
      ]
    },
    {
      "cell_type": "code",
      "execution_count": 23,
      "metadata": {
        "colab": {
          "base_uri": "https://localhost:8080/",
          "height": 564
        },
        "id": "jOJxiSw16p1E",
        "outputId": "72cb90fc-2d50-4156-bede-13a65d42e2bb"
      },
      "outputs": [
        {
          "output_type": "display_data",
          "data": {
            "text/plain": [
              "<Figure size 1000x600 with 1 Axes>"
            ],
            "image/png": "[encoded data removed]"
          },
          "metadata": {}
        }
      ],
      "source": [
        "plt.figure(figsize=(10, 6))\n",
        "ax = sns.boxplot(x='Fertilizer_Used', y='Yield_tons_per_hectare', data=df)\n",
        "ax.set_title('Yield by Fertilizer Usage')\n",
        "ax.set_xlabel('Fertilizer Used')\n",
        "ax.set_ylabel('Yield (tons per hectare)')\n",
        "\n",
        "plt.show()"
      ]
    },
    {
      "cell_type": "code",
      "execution_count": 24,
      "metadata": {
        "colab": {
          "base_uri": "https://localhost:8080/"
        },
        "id": "UTY89iRhxFVe",
        "outputId": "fdfeee6d-0929-4c01-de4d-71e7b98907b7"
      },
      "outputs": [
        {
          "output_type": "stream",
          "name": "stdout",
          "text": [
            "Outliers in Fertilizer_Used = False: 9 \n",
            "Outliers in Fertilizer_Used = True: 6 \n"
          ]
        }
      ],
      "source": [
        "# Group data by 'Fertilizer_Used'\n",
        "groups = df.groupby('Fertilizer_Used')\n",
        "\n",
        "outliers_count = {}\n",
        "\n",
        "for Fertilizer, group in groups:\n",
        "    Q1 = group['Yield_tons_per_hectare'].quantile(0.25)\n",
        "    Q3 = group['Yield_tons_per_hectare'].quantile(0.75)\n",
        "\n",
        "    # Calculate IQR\n",
        "    IQR = Q3 - Q1\n",
        "\n",
        "    lower_bound = Q1 - 1.5 * IQR\n",
        "    upper_bound = Q3 + 1.5 * IQR\n",
        "\n",
        "    # Find the outliers\n",
        "    outliers = group[(group['Yield_tons_per_hectare'] < lower_bound) | (group['Yield_tons_per_hectare'] > upper_bound)]\n",
        "\n",
        "    # Store the count of outliers for each group\n",
        "    outliers_count[Fertilizer] = outliers.shape[0]\n",
        "\n",
        "\n",
        "for Fertilizer, count in outliers_count.items():\n",
        "    print(f\"Outliers in Fertilizer_Used = {Fertilizer}: {count} \")"
      ]
    },
    {
      "cell_type": "code",
      "execution_count": 25,
      "metadata": {
        "colab": {
          "base_uri": "https://localhost:8080/",
          "height": 564
        },
        "id": "BYgnLjiImmnL",
        "outputId": "54091eb6-4bd8-4b8f-9754-b1f27dcd4c45"
      },
      "outputs": [
        {
          "output_type": "display_data",
          "data": {
            "text/plain": [
              "<Figure size 1000x600 with 1 Axes>"
            ],
            "image/png": "[encoded data removed]"
          },
          "metadata": {}
        }
      ],
      "source": [
        "plt.figure(figsize=(10, 6))\n",
        "ax = sns.boxplot(x='Irrigation_Used', y='Yield_tons_per_hectare', data=df)\n",
        "ax.set_title('Yield by Fertilizer Usage')\n",
        "ax.set_xlabel('Irrigation_Used')\n",
        "ax.set_ylabel('Yield (tons per hectare)')\n",
        "\n",
        "plt.show()"
      ]
    },
    {
      "cell_type": "code",
      "execution_count": 26,
      "metadata": {
        "colab": {
          "base_uri": "https://localhost:8080/"
        },
        "id": "yQMm10jhwtgv",
        "outputId": "2e5639a5-2fdf-4471-f4e3-b3d244407fa5"
      },
      "outputs": [
        {
          "output_type": "stream",
          "name": "stdout",
          "text": [
            "Outliers in Irrigation_Used = False: 14 \n",
            "Outliers in Irrigation_Used = True: 7 \n"
          ]
        }
      ],
      "source": [
        "# Group data by 'Irrigation_Used'\n",
        "groups = df.groupby('Irrigation_Used')\n",
        "\n",
        "outliers_count = {}\n",
        "\n",
        "\n",
        "for irrigation, group in groups:\n",
        "\n",
        "    Q1 = group['Yield_tons_per_hectare'].quantile(0.25)\n",
        "    Q3 = group['Yield_tons_per_hectare'].quantile(0.75)\n",
        "\n",
        "    IQR = Q3 - Q1\n",
        "\n",
        "    lower_bound = Q1 - 1.5 * IQR\n",
        "    upper_bound = Q3 + 1.5 * IQR\n",
        "\n",
        "    # Find the outliers\n",
        "    outliers = group[(group['Yield_tons_per_hectare'] < lower_bound) | (group['Yield_tons_per_hectare'] > upper_bound)]\n",
        "\n",
        "    # Store the count of outliers for each group\n",
        "    outliers_count[irrigation] = outliers.shape[0]\n",
        "\n",
        "for irrigation, count in outliers_count.items():\n",
        "    print(f\"Outliers in Irrigation_Used = {irrigation}: {count} \")"
      ]
    },
    {
      "cell_type": "markdown",
      "metadata": {
        "id": "0L6HvL37tfWu"
      },
      "source": [
        " Z-score > 3 or Z-score < -3 indicates that the data point is far from the mean and likely an outlier."
      ]
    },
    {
      "cell_type": "code",
      "execution_count": 27,
      "metadata": {
        "id": "ObLF1MhGoIAb"
      },
      "outputs": [],
      "source": [
        "\n",
        "# List of numerical columns\n",
        "num_cols = [\"Rainfall_mm\", \"Temperature_Celsius\", \"Days_to_Harvest\", \"Yield_tons_per_hectare\"]\n",
        "\n",
        "# Set Z-score threshold\n",
        "threshold = 3\n",
        "\n",
        "# Find and count outliers using Z-score\n",
        "outliers = {}\n",
        "\n",
        "for col in num_cols:\n",
        "    if col in df.columns:\n",
        "        mean = df[col].mean()\n",
        "        std = df[col].std()\n",
        "        z_scores = np.abs((df[col] - mean) / std)\n",
        "        # Find rows where |Z| > 3 (outliers)\n",
        "        outliers[col] = df[z_scores > threshold]\n",
        "\n"
      ]
    },
    {
      "cell_type": "markdown",
      "metadata": {
        "id": "QA4giH3ponWK"
      },
      "source": []
    },
    {
      "cell_type": "code",
      "execution_count": 28,
      "metadata": {
        "colab": {
          "base_uri": "https://localhost:8080/"
        },
        "id": "F8Q0hMXRon5n",
        "outputId": "4df6525f-02f8-4822-9086-d490e2426454"
      },
      "outputs": [
        {
          "output_type": "stream",
          "name": "stdout",
          "text": [
            "\n",
            "Outliers in Rainfall_mm: 0 \n",
            "\n",
            "Outliers in Temperature_Celsius: 0 \n",
            "\n",
            "Outliers in Days_to_Harvest: 0 \n",
            "\n",
            "Outliers in Yield_tons_per_hectare: 37 \n"
          ]
        }
      ],
      "source": [
        "\n",
        "# Print number of outliers for each column\n",
        "for col, outlier_data in outliers.items():\n",
        "    print(f\"\\nOutliers in {col}: {outlier_data.shape[0]} \")"
      ]
    },
    {
      "cell_type": "code",
      "execution_count": 29,
      "metadata": {
        "id": "QsTqxjTVu0u8"
      },
      "outputs": [],
      "source": [
        "df = df[z_scores <= threshold]"
      ]
    },
    {
      "cell_type": "code",
      "execution_count": 30,
      "metadata": {
        "colab": {
          "base_uri": "https://localhost:8080/"
        },
        "id": "WpPX8Mbxu6rH",
        "outputId": "91f0bcfb-703a-43a3-9bd0-18216f85d494"
      },
      "outputs": [
        {
          "output_type": "execute_result",
          "data": {
            "text/plain": [
              "(999963, 10)"
            ]
          },
          "metadata": {},
          "execution_count": 30
        }
      ],
      "source": [
        "df.shape"
      ]
    },
    {
      "cell_type": "code",
      "execution_count": 31,
      "metadata": {
        "colab": {
          "base_uri": "https://localhost:8080/",
          "height": 472
        },
        "id": "rVM3OkbV4hA0",
        "outputId": "f5b1d77d-3be2-4c6b-d355-13ea38405130"
      },
      "outputs": [
        {
          "output_type": "display_data",
          "data": {
            "text/plain": [
              "<Figure size 640x480 with 1 Axes>"
            ],
            "image/png": "[encoded data removed]"
          },
          "metadata": {}
        }
      ],
      "source": [
        "sns.kdeplot(df['Yield_tons_per_hectare'], fill=True)\n",
        "plt.title('Yield Distribution (Tons per Hectare)')\n",
        "plt.show()"
      ]
    },
    {
      "cell_type": "code",
      "execution_count": 32,
      "metadata": {
        "colab": {
          "base_uri": "https://localhost:8080/",
          "height": 226
        },
        "id": "8NJWWzeJ-fTR",
        "outputId": "25f00151-2586-4750-ee7e-942f05fdae9d"
      },
      "outputs": [
        {
          "output_type": "execute_result",
          "data": {
            "text/plain": [
              "  Region Soil_Type     Crop  Rainfall_mm  Temperature_Celsius  \\\n",
              "0   West     Sandy   Cotton   897.077239            27.676966   \n",
              "1  South      Clay     Rice   992.673282            18.026142   \n",
              "2  North      Loam   Barley   147.998025            29.794042   \n",
              "3  North     Sandy  Soybean   986.866331            16.644190   \n",
              "4  South      Silt    Wheat   730.379174            31.620687   \n",
              "\n",
              "   Fertilizer_Used  Irrigation_Used Weather_Condition  Days_to_Harvest  \\\n",
              "0            False             True            Cloudy              122   \n",
              "1             True             True             Rainy              140   \n",
              "2            False            False             Sunny              106   \n",
              "3            False             True             Rainy              146   \n",
              "4             True             True            Cloudy              110   \n",
              "\n",
              "   Yield_tons_per_hectare  \n",
              "0                6.555816  \n",
              "1                8.527341  \n",
              "2                1.127443  \n",
              "3                6.517573  \n",
              "4                7.248251  "
            ],
            "text/html": [
              "\n",
              "  <div id=\"df-a02e9ff1-c712-4e38-9803-605518a4523f\" class=\"colab-df-container\">\n",
              "    <div>\n",
              "<style scoped>\n",
              "    .dataframe tbody tr th:only-of-type {\n",
              "        vertical-align: middle;\n",
              "    }\n",
              "\n",
              "    .dataframe tbody tr th {\n",
              "        vertical-align: top;\n",
              "    }\n",
              "\n",
              "    .dataframe thead th {\n",
              "        text-align: right;\n",
              "    }\n",
              "</style>\n",
              "<table border=\"1\" class=\"dataframe\">\n",
              "  <thead>\n",
              "    <tr style=\"text-align: right;\">\n",
              "      <th></th>\n",
              "      <th>Region</th>\n",
              "      <th>Soil_Type</th>\n",
              "      <th>Crop</th>\n",
              "      <th>Rainfall_mm</th>\n",
              "      <th>Temperature_Celsius</th>\n",
              "      <th>Fertilizer_Used</th>\n",
              "      <th>Irrigation_Used</th>\n",
              "      <th>Weather_Condition</th>\n",
              "      <th>Days_to_Harvest</th>\n",
              "      <th>Yield_tons_per_hectare</th>\n",
              "    </tr>\n",
              "  </thead>\n",
              "  <tbody>\n",
              "    <tr>\n",
              "      <th>0</th>\n",
              "      <td>West</td>\n",
              "      <td>Sandy</td>\n",
              "      <td>Cotton</td>\n",
              "      <td>897.077239</td>\n",
              "      <td>27.676966</td>\n",
              "      <td>False</td>\n",
              "      <td>True</td>\n",
              "      <td>Cloudy</td>\n",
              "      <td>122</td>\n",
              "      <td>6.555816</td>\n",
              "    </tr>\n",
              "    <tr>\n",
              "      <th>1</th>\n",
              "      <td>South</td>\n",
              "      <td>Clay</td>\n",
              "      <td>Rice</td>\n",
              "      <td>992.673282</td>\n",
              "      <td>18.026142</td>\n",
              "      <td>True</td>\n",
              "      <td>True</td>\n",
              "      <td>Rainy</td>\n",
              "      <td>140</td>\n",
              "      <td>8.527341</td>\n",
              "    </tr>\n",
              "    <tr>\n",
              "      <th>2</th>\n",
              "      <td>North</td>\n",
              "      <td>Loam</td>\n",
              "      <td>Barley</td>\n",
              "      <td>147.998025</td>\n",
              "      <td>29.794042</td>\n",
              "      <td>False</td>\n",
              "      <td>False</td>\n",
              "      <td>Sunny</td>\n",
              "      <td>106</td>\n",
              "      <td>1.127443</td>\n",
              "    </tr>\n",
              "    <tr>\n",
              "      <th>3</th>\n",
              "      <td>North</td>\n",
              "      <td>Sandy</td>\n",
              "      <td>Soybean</td>\n",
              "      <td>986.866331</td>\n",
              "      <td>16.644190</td>\n",
              "      <td>False</td>\n",
              "      <td>True</td>\n",
              "      <td>Rainy</td>\n",
              "      <td>146</td>\n",
              "      <td>6.517573</td>\n",
              "    </tr>\n",
              "    <tr>\n",
              "      <th>4</th>\n",
              "      <td>South</td>\n",
              "      <td>Silt</td>\n",
              "      <td>Wheat</td>\n",
              "      <td>730.379174</td>\n",
              "      <td>31.620687</td>\n",
              "      <td>True</td>\n",
              "      <td>True</td>\n",
              "      <td>Cloudy</td>\n",
              "      <td>110</td>\n",
              "      <td>7.248251</td>\n",
              "    </tr>\n",
              "  </tbody>\n",
              "</table>\n",
              "</div>\n",
              "    <div class=\"colab-df-buttons\">\n",
              "\n",
              "  <div class=\"colab-df-container\">\n",
              "    <button class=\"colab-df-convert\" onclick=\"convertToInteractive('df-a02e9ff1-c712-4e38-9803-605518a4523f')\"\n",
              "            title=\"Convert this dataframe to an interactive table.\"\n",
              "            style=\"display:none;\">\n",
              "\n",
              "  <svg xmlns=\"http://www.w3.org/2000/svg\" height=\"24px\" viewBox=\"0 -960 960 960\">\n",
              "    <path d=\"M120-120v-720h720v720H120Zm60-500h600v-160H180v160Zm220 220h160v-160H400v160Zm0 220h160v-160H400v160ZM180-400h160v-160H180v160Zm440 0h160v-160H620v160ZM180-180h160v-160H180v160Zm440 0h160v-160H620v160Z\"/>\n",
              "  </svg>\n",
              "    </button>\n",
              "\n",
              "  <style>\n",
              "    .colab-df-container {\n",
              "      display:flex;\n",
              "      gap: 12px;\n",
              "    }\n",
              "\n",
              "    .colab-df-convert {\n",
              "      background-color: #E8F0FE;\n",
              "      border: none;\n",
              "      border-radius: 50%;\n",
              "      cursor: pointer;\n",
              "      display: none;\n",
              "      fill: #1967D2;\n",
              "      height: 32px;\n",
              "      padding: 0 0 0 0;\n",
              "      width: 32px;\n",
              "    }\n",
              "\n",
              "    .colab-df-convert:hover {\n",
              "      background-color: #E2EBFA;\n",
              "      box-shadow: 0px 1px 2px rgba(60, 64, 67, 0.3), 0px 1px 3px 1px rgba(60, 64, 67, 0.15);\n",
              "      fill: #174EA6;\n",
              "    }\n",
              "\n",
              "    .colab-df-buttons div {\n",
              "      margin-bottom: 4px;\n",
              "    }\n",
              "\n",
              "    [theme=dark] .colab-df-convert {\n",
              "      background-color: #3B4455;\n",
              "      fill: #D2E3FC;\n",
              "    }\n",
              "\n",
              "    [theme=dark] .colab-df-convert:hover {\n",
              "      background-color: #434B5C;\n",
              "      box-shadow: 0px 1px 3px 1px rgba(0, 0, 0, 0.15);\n",
              "      filter: drop-shadow(0px 1px 2px rgba(0, 0, 0, 0.3));\n",
              "      fill: #FFFFFF;\n",
              "    }\n",
              "  </style>\n",
              "\n",
              "    <script>\n",
              "      const buttonEl =\n",
              "        document.querySelector('#df-a02e9ff1-c712-4e38-9803-605518a4523f button.colab-df-convert');\n",
              "      buttonEl.style.display =\n",
              "        google.colab.kernel.accessAllowed ? 'block' : 'none';\n",
              "\n",
              "      async function convertToInteractive(key) {\n",
              "        const element = document.querySelector('#df-a02e9ff1-c712-4e38-9803-605518a4523f');\n",
              "        const dataTable =\n",
              "          await google.colab.kernel.invokeFunction('convertToInteractive',\n",
              "                                                    [key], {});\n",
              "        if (!dataTable) return;\n",
              "\n",
              "        const docLinkHtml = 'Like what you see? Visit the ' +\n",
              "          '<a target=\"_blank\" href=https://colab.research.google.com/notebooks/data_table.ipynb>data table notebook</a>'\n",
              "          + ' to learn more about interactive tables.';\n",
              "        element.innerHTML = '';\n",
              "        dataTable['output_type'] = 'display_data';\n",
              "        await google.colab.output.renderOutput(dataTable, element);\n",
              "        const docLink = document.createElement('div');\n",
              "        docLink.innerHTML = docLinkHtml;\n",
              "        element.appendChild(docLink);\n",
              "      }\n",
              "    </script>\n",
              "  </div>\n",
              "\n",
              "\n",
              "<div id=\"df-c5786bf6-a766-4a0b-98bb-377610f94271\">\n",
              "  <button class=\"colab-df-quickchart\" onclick=\"quickchart('df-c5786bf6-a766-4a0b-98bb-377610f94271')\"\n",
              "            title=\"Suggest charts\"\n",
              "            style=\"display:none;\">\n",
              "\n",
              "<svg xmlns=\"http://www.w3.org/2000/svg\" height=\"24px\"viewBox=\"0 0 24 24\"\n",
              "     width=\"24px\">\n",
              "    <g>\n",
              "        <path d=\"M19 3H5c-1.1 0-2 .9-2 2v14c0 1.1.9 2 2 2h14c1.1 0 2-.9 2-2V5c0-1.1-.9-2-2-2zM9 17H7v-7h2v7zm4 0h-2V7h2v10zm4 0h-2v-4h2v4z\"/>\n",
              "    </g>\n",
              "</svg>\n",
              "  </button>\n",
              "\n",
              "<style>\n",
              "  .colab-df-quickchart {\n",
              "      --bg-color: #E8F0FE;\n",
              "      --fill-color: #1967D2;\n",
              "      --hover-bg-color: #E2EBFA;\n",
              "      --hover-fill-color: #174EA6;\n",
              "      --disabled-fill-color: #AAA;\n",
              "      --disabled-bg-color: #DDD;\n",
              "  }\n",
              "\n",
              "  [theme=dark] .colab-df-quickchart {\n",
              "      --bg-color: #3B4455;\n",
              "      --fill-color: #D2E3FC;\n",
              "      --hover-bg-color: #434B5C;\n",
              "      --hover-fill-color: #FFFFFF;\n",
              "      --disabled-bg-color: #3B4455;\n",
              "      --disabled-fill-color: #666;\n",
              "  }\n",
              "\n",
              "  .colab-df-quickchart {\n",
              "    background-color: var(--bg-color);\n",
              "    border: none;\n",
              "    border-radius: 50%;\n",
              "    cursor: pointer;\n",
              "    display: none;\n",
              "    fill: var(--fill-color);\n",
              "    height: 32px;\n",
              "    padding: 0;\n",
              "    width: 32px;\n",
              "  }\n",
              "\n",
              "  .colab-df-quickchart:hover {\n",
              "    background-color: var(--hover-bg-color);\n",
              "    box-shadow: 0 1px 2px rgba(60, 64, 67, 0.3), 0 1px 3px 1px rgba(60, 64, 67, 0.15);\n",
              "    fill: var(--button-hover-fill-color);\n",
              "  }\n",
              "\n",
              "  .colab-df-quickchart-complete:disabled,\n",
              "  .colab-df-quickchart-complete:disabled:hover {\n",
              "    background-color: var(--disabled-bg-color);\n",
              "    fill: var(--disabled-fill-color);\n",
              "    box-shadow: none;\n",
              "  }\n",
              "\n",
              "  .colab-df-spinner {\n",
              "    border: 2px solid var(--fill-color);\n",
              "    border-color: transparent;\n",
              "    border-bottom-color: var(--fill-color);\n",
              "    animation:\n",
              "      spin 1s steps(1) infinite;\n",
              "  }\n",
              "\n",
              "  @keyframes spin {\n",
              "    0% {\n",
              "      border-color: transparent;\n",
              "      border-bottom-color: var(--fill-color);\n",
              "      border-left-color: var(--fill-color);\n",
              "    }\n",
              "    20% {\n",
              "      border-color: transparent;\n",
              "      border-left-color: var(--fill-color);\n",
              "      border-top-color: var(--fill-color);\n",
              "    }\n",
              "    30% {\n",
              "      border-color: transparent;\n",
              "      border-left-color: var(--fill-color);\n",
              "      border-top-color: var(--fill-color);\n",
              "      border-right-color: var(--fill-color);\n",
              "    }\n",
              "    40% {\n",
              "      border-color: transparent;\n",
              "      border-right-color: var(--fill-color);\n",
              "      border-top-color: var(--fill-color);\n",
              "    }\n",
              "    60% {\n",
              "      border-color: transparent;\n",
              "      border-right-color: var(--fill-color);\n",
              "    }\n",
              "    80% {\n",
              "      border-color: transparent;\n",
              "      border-right-color: var(--fill-color);\n",
              "      border-bottom-color: var(--fill-color);\n",
              "    }\n",
              "    90% {\n",
              "      border-color: transparent;\n",
              "      border-bottom-color: var(--fill-color);\n",
              "    }\n",
              "  }\n",
              "</style>\n",
              "\n",
              "  <script>\n",
              "    async function quickchart(key) {\n",
              "      const quickchartButtonEl =\n",
              "        document.querySelector('#' + key + ' button');\n",
              "      quickchartButtonEl.disabled = true;  // To prevent multiple clicks.\n",
              "      quickchartButtonEl.classList.add('colab-df-spinner');\n",
              "      try {\n",
              "        const charts = await google.colab.kernel.invokeFunction(\n",
              "            'suggestCharts', [key], {});\n",
              "      } catch (error) {\n",
              "        console.error('Error during call to suggestCharts:', error);\n",
              "      }\n",
              "      quickchartButtonEl.classList.remove('colab-df-spinner');\n",
              "      quickchartButtonEl.classList.add('colab-df-quickchart-complete');\n",
              "    }\n",
              "    (() => {\n",
              "      let quickchartButtonEl =\n",
              "        document.querySelector('#df-c5786bf6-a766-4a0b-98bb-377610f94271 button');\n",
              "      quickchartButtonEl.style.display =\n",
              "        google.colab.kernel.accessAllowed ? 'block' : 'none';\n",
              "    })();\n",
              "  </script>\n",
              "</div>\n",
              "\n",
              "    </div>\n",
              "  </div>\n"
            ],
            "application/vnd.google.colaboratory.intrinsic+json": {
              "type": "dataframe",
              "variable_name": "df"
            }
          },
          "metadata": {},
          "execution_count": 32
        }
      ],
      "source": [
        "df.head()"
      ]
    },
    {
      "cell_type": "markdown",
      "metadata": {
        "id": "htmQZpy7DjYC"
      },
      "source": [
        "###Data Preprocessing"
      ]
    },
    {
      "cell_type": "code",
      "execution_count": 33,
      "metadata": {
        "id": "GNBtOAWiDx-m"
      },
      "outputs": [],
      "source": [
        "X = df.drop('Yield_tons_per_hectare',axis=1)\n",
        "y = df.loc[:,'Yield_tons_per_hectare']"
      ]
    },
    {
      "cell_type": "code",
      "execution_count": 34,
      "metadata": {
        "colab": {
          "base_uri": "https://localhost:8080/"
        },
        "id": "zJlQajTyD37g",
        "outputId": "d3a16f0a-c6d9-4d27-fd41-b04d13ba9a28"
      },
      "outputs": [
        {
          "output_type": "execute_result",
          "data": {
            "text/plain": [
              "((999963, 9), (999963,))"
            ]
          },
          "metadata": {},
          "execution_count": 34
        }
      ],
      "source": [
        "X.shape,y.shape"
      ]
    },
    {
      "cell_type": "markdown",
      "metadata": {
        "id": "bRt_WFlfEJwB"
      },
      "source": [
        "###Encoding the categorical data"
      ]
    },
    {
      "cell_type": "markdown",
      "metadata": {
        "id": "wC_fgtY_ichm"
      },
      "source": [
        "Most ML algorithms handle Boolean values as 0 and 1 internally ,so there is no need to do encoding for boolean column"
      ]
    },
    {
      "cell_type": "code",
      "execution_count": 35,
      "metadata": {
        "id": "OLC9ihNOEMY-"
      },
      "outputs": [],
      "source": [
        "# label_map = {'Fertilizer_Used': {False: 0, True: 1}, 'Irrigation_Used': {False: 0, True: 1}}\n",
        "# X.replace(label_map, inplace=True)\n",
        "# X.head()"
      ]
    },
    {
      "cell_type": "markdown",
      "metadata": {
        "id": "2gh01K6ZjD1w"
      },
      "source": [
        "If using tree-based models (Random Forest, XGBoost), multicollinearity is not a problem, so you can keep all categories,so drop_first=False\n",
        "\n",
        "But The dummy variable trap happens when all categories of a categorical variable are included in a regression model, creating perfect multicollinearity\n",
        "so drop_first=True"
      ]
    },
    {
      "cell_type": "code",
      "execution_count": 36,
      "metadata": {
        "id": "QnTRpGBFFHfh"
      },
      "outputs": [],
      "source": [
        "X_ohe= pd.get_dummies(X,columns=['Region','Soil_Type','Crop','Weather_Condition'],drop_first=True)"
      ]
    },
    {
      "cell_type": "code",
      "execution_count": 37,
      "metadata": {
        "colab": {
          "base_uri": "https://localhost:8080/"
        },
        "id": "X1rR1mSRFRjG",
        "outputId": "8c9c7ad2-9fb8-4c44-b6e0-addf93b838c8"
      },
      "outputs": [
        {
          "output_type": "execute_result",
          "data": {
            "text/plain": [
              "(999963, 20)"
            ]
          },
          "metadata": {},
          "execution_count": 37
        }
      ],
      "source": [
        "X_ohe.shape"
      ]
    },
    {
      "cell_type": "code",
      "execution_count": 37,
      "metadata": {
        "id": "7N7ZfPnXHHMQ"
      },
      "outputs": [],
      "source": [
        "\n"
      ]
    },
    {
      "cell_type": "code",
      "execution_count": 38,
      "metadata": {
        "colab": {
          "base_uri": "https://localhost:8080/",
          "height": 226
        },
        "id": "DBz_eNf9sCSU",
        "outputId": "d3e63257-47e0-47ec-e314-0ea09aac17a2"
      },
      "outputs": [
        {
          "output_type": "execute_result",
          "data": {
            "text/plain": [
              "   Rainfall_mm  Temperature_Celsius  Fertilizer_Used  Irrigation_Used  \\\n",
              "0   897.077239            27.676966            False             True   \n",
              "1   992.673282            18.026142             True             True   \n",
              "2   147.998025            29.794042            False            False   \n",
              "3   986.866331            16.644190            False             True   \n",
              "4   730.379174            31.620687             True             True   \n",
              "\n",
              "   Days_to_Harvest  Region_North  Region_South  Region_West  Soil_Type_Clay  \\\n",
              "0              122         False         False         True           False   \n",
              "1              140         False          True        False            True   \n",
              "2              106          True         False        False           False   \n",
              "3              146          True         False        False           False   \n",
              "4              110         False          True        False           False   \n",
              "\n",
              "   Soil_Type_Loam  Soil_Type_Peaty  Soil_Type_Sandy  Soil_Type_Silt  \\\n",
              "0           False            False             True           False   \n",
              "1           False            False            False           False   \n",
              "2            True            False            False           False   \n",
              "3           False            False             True           False   \n",
              "4           False            False            False            True   \n",
              "\n",
              "   Crop_Cotton  Crop_Maize  Crop_Rice  Crop_Soybean  Crop_Wheat  \\\n",
              "0         True       False      False         False       False   \n",
              "1        False       False       True         False       False   \n",
              "2        False       False      False         False       False   \n",
              "3        False       False      False          True       False   \n",
              "4        False       False      False         False        True   \n",
              "\n",
              "   Weather_Condition_Rainy  Weather_Condition_Sunny  \n",
              "0                    False                    False  \n",
              "1                     True                    False  \n",
              "2                    False                     True  \n",
              "3                     True                    False  \n",
              "4                    False                    False  "
            ],
            "text/html": [
              "\n",
              "  <div id=\"df-f3f97ec2-e902-43f8-be5c-cd14a82077a0\" class=\"colab-df-container\">\n",
              "    <div>\n",
              "<style scoped>\n",
              "    .dataframe tbody tr th:only-of-type {\n",
              "        vertical-align: middle;\n",
              "    }\n",
              "\n",
              "    .dataframe tbody tr th {\n",
              "        vertical-align: top;\n",
              "    }\n",
              "\n",
              "    .dataframe thead th {\n",
              "        text-align: right;\n",
              "    }\n",
              "</style>\n",
              "<table border=\"1\" class=\"dataframe\">\n",
              "  <thead>\n",
              "    <tr style=\"text-align: right;\">\n",
              "      <th></th>\n",
              "      <th>Rainfall_mm</th>\n",
              "      <th>Temperature_Celsius</th>\n",
              "      <th>Fertilizer_Used</th>\n",
              "      <th>Irrigation_Used</th>\n",
              "      <th>Days_to_Harvest</th>\n",
              "      <th>Region_North</th>\n",
              "      <th>Region_South</th>\n",
              "      <th>Region_West</th>\n",
              "      <th>Soil_Type_Clay</th>\n",
              "      <th>Soil_Type_Loam</th>\n",
              "      <th>Soil_Type_Peaty</th>\n",
              "      <th>Soil_Type_Sandy</th>\n",
              "      <th>Soil_Type_Silt</th>\n",
              "      <th>Crop_Cotton</th>\n",
              "      <th>Crop_Maize</th>\n",
              "      <th>Crop_Rice</th>\n",
              "      <th>Crop_Soybean</th>\n",
              "      <th>Crop_Wheat</th>\n",
              "      <th>Weather_Condition_Rainy</th>\n",
              "      <th>Weather_Condition_Sunny</th>\n",
              "    </tr>\n",
              "  </thead>\n",
              "  <tbody>\n",
              "    <tr>\n",
              "      <th>0</th>\n",
              "      <td>897.077239</td>\n",
              "      <td>27.676966</td>\n",
              "      <td>False</td>\n",
              "      <td>True</td>\n",
              "      <td>122</td>\n",
              "      <td>False</td>\n",
              "      <td>False</td>\n",
              "      <td>True</td>\n",
              "      <td>False</td>\n",
              "      <td>False</td>\n",
              "      <td>False</td>\n",
              "      <td>True</td>\n",
              "      <td>False</td>\n",
              "      <td>True</td>\n",
              "      <td>False</td>\n",
              "      <td>False</td>\n",
              "      <td>False</td>\n",
              "      <td>False</td>\n",
              "      <td>False</td>\n",
              "      <td>False</td>\n",
              "    </tr>\n",
              "    <tr>\n",
              "      <th>1</th>\n",
              "      <td>992.673282</td>\n",
              "      <td>18.026142</td>\n",
              "      <td>True</td>\n",
              "      <td>True</td>\n",
              "      <td>140</td>\n",
              "      <td>False</td>\n",
              "      <td>True</td>\n",
              "      <td>False</td>\n",
              "      <td>True</td>\n",
              "      <td>False</td>\n",
              "      <td>False</td>\n",
              "      <td>False</td>\n",
              "      <td>False</td>\n",
              "      <td>False</td>\n",
              "      <td>False</td>\n",
              "      <td>True</td>\n",
              "      <td>False</td>\n",
              "      <td>False</td>\n",
              "      <td>True</td>\n",
              "      <td>False</td>\n",
              "    </tr>\n",
              "    <tr>\n",
              "      <th>2</th>\n",
              "      <td>147.998025</td>\n",
              "      <td>29.794042</td>\n",
              "      <td>False</td>\n",
              "      <td>False</td>\n",
              "      <td>106</td>\n",
              "      <td>True</td>\n",
              "      <td>False</td>\n",
              "      <td>False</td>\n",
              "      <td>False</td>\n",
              "      <td>True</td>\n",
              "      <td>False</td>\n",
              "      <td>False</td>\n",
              "      <td>False</td>\n",
              "      <td>False</td>\n",
              "      <td>False</td>\n",
              "      <td>False</td>\n",
              "      <td>False</td>\n",
              "      <td>False</td>\n",
              "      <td>False</td>\n",
              "      <td>True</td>\n",
              "    </tr>\n",
              "    <tr>\n",
              "      <th>3</th>\n",
              "      <td>986.866331</td>\n",
              "      <td>16.644190</td>\n",
              "      <td>False</td>\n",
              "      <td>True</td>\n",
              "      <td>146</td>\n",
              "      <td>True</td>\n",
              "      <td>False</td>\n",
              "      <td>False</td>\n",
              "      <td>False</td>\n",
              "      <td>False</td>\n",
              "      <td>False</td>\n",
              "      <td>True</td>\n",
              "      <td>False</td>\n",
              "      <td>False</td>\n",
              "      <td>False</td>\n",
              "      <td>False</td>\n",
              "      <td>True</td>\n",
              "      <td>False</td>\n",
              "      <td>True</td>\n",
              "      <td>False</td>\n",
              "    </tr>\n",
              "    <tr>\n",
              "      <th>4</th>\n",
              "      <td>730.379174</td>\n",
              "      <td>31.620687</td>\n",
              "      <td>True</td>\n",
              "      <td>True</td>\n",
              "      <td>110</td>\n",
              "      <td>False</td>\n",
              "      <td>True</td>\n",
              "      <td>False</td>\n",
              "      <td>False</td>\n",
              "      <td>False</td>\n",
              "      <td>False</td>\n",
              "      <td>False</td>\n",
              "      <td>True</td>\n",
              "      <td>False</td>\n",
              "      <td>False</td>\n",
              "      <td>False</td>\n",
              "      <td>False</td>\n",
              "      <td>True</td>\n",
              "      <td>False</td>\n",
              "      <td>False</td>\n",
              "    </tr>\n",
              "  </tbody>\n",
              "</table>\n",
              "</div>\n",
              "    <div class=\"colab-df-buttons\">\n",
              "\n",
              "  <div class=\"colab-df-container\">\n",
              "    <button class=\"colab-df-convert\" onclick=\"convertToInteractive('df-f3f97ec2-e902-43f8-be5c-cd14a82077a0')\"\n",
              "            title=\"Convert this dataframe to an interactive table.\"\n",
              "            style=\"display:none;\">\n",
              "\n",
              "  <svg xmlns=\"http://www.w3.org/2000/svg\" height=\"24px\" viewBox=\"0 -960 960 960\">\n",
              "    <path d=\"M120-120v-720h720v720H120Zm60-500h600v-160H180v160Zm220 220h160v-160H400v160Zm0 220h160v-160H400v160ZM180-400h160v-160H180v160Zm440 0h160v-160H620v160ZM180-180h160v-160H180v160Zm440 0h160v-160H620v160Z\"/>\n",
              "  </svg>\n",
              "    </button>\n",
              "\n",
              "  <style>\n",
              "    .colab-df-container {\n",
              "      display:flex;\n",
              "      gap: 12px;\n",
              "    }\n",
              "\n",
              "    .colab-df-convert {\n",
              "      background-color: #E8F0FE;\n",
              "      border: none;\n",
              "      border-radius: 50%;\n",
              "      cursor: pointer;\n",
              "      display: none;\n",
              "      fill: #1967D2;\n",
              "      height: 32px;\n",
              "      padding: 0 0 0 0;\n",
              "      width: 32px;\n",
              "    }\n",
              "\n",
              "    .colab-df-convert:hover {\n",
              "      background-color: #E2EBFA;\n",
              "      box-shadow: 0px 1px 2px rgba(60, 64, 67, 0.3), 0px 1px 3px 1px rgba(60, 64, 67, 0.15);\n",
              "      fill: #174EA6;\n",
              "    }\n",
              "\n",
              "    .colab-df-buttons div {\n",
              "      margin-bottom: 4px;\n",
              "    }\n",
              "\n",
              "    [theme=dark] .colab-df-convert {\n",
              "      background-color: #3B4455;\n",
              "      fill: #D2E3FC;\n",
              "    }\n",
              "\n",
              "    [theme=dark] .colab-df-convert:hover {\n",
              "      background-color: #434B5C;\n",
              "      box-shadow: 0px 1px 3px 1px rgba(0, 0, 0, 0.15);\n",
              "      filter: drop-shadow(0px 1px 2px rgba(0, 0, 0, 0.3));\n",
              "      fill: #FFFFFF;\n",
              "    }\n",
              "  </style>\n",
              "\n",
              "    <script>\n",
              "      const buttonEl =\n",
              "        document.querySelector('#df-f3f97ec2-e902-43f8-be5c-cd14a82077a0 button.colab-df-convert');\n",
              "      buttonEl.style.display =\n",
              "        google.colab.kernel.accessAllowed ? 'block' : 'none';\n",
              "\n",
              "      async function convertToInteractive(key) {\n",
              "        const element = document.querySelector('#df-f3f97ec2-e902-43f8-be5c-cd14a82077a0');\n",
              "        const dataTable =\n",
              "          await google.colab.kernel.invokeFunction('convertToInteractive',\n",
              "                                                    [key], {});\n",
              "        if (!dataTable) return;\n",
              "\n",
              "        const docLinkHtml = 'Like what you see? Visit the ' +\n",
              "          '<a target=\"_blank\" href=https://colab.research.google.com/notebooks/data_table.ipynb>data table notebook</a>'\n",
              "          + ' to learn more about interactive tables.';\n",
              "        element.innerHTML = '';\n",
              "        dataTable['output_type'] = 'display_data';\n",
              "        await google.colab.output.renderOutput(dataTable, element);\n",
              "        const docLink = document.createElement('div');\n",
              "        docLink.innerHTML = docLinkHtml;\n",
              "        element.appendChild(docLink);\n",
              "      }\n",
              "    </script>\n",
              "  </div>\n",
              "\n",
              "\n",
              "<div id=\"df-625fa874-fb12-47f6-82f2-224c2f7f8f0b\">\n",
              "  <button class=\"colab-df-quickchart\" onclick=\"quickchart('df-625fa874-fb12-47f6-82f2-224c2f7f8f0b')\"\n",
              "            title=\"Suggest charts\"\n",
              "            style=\"display:none;\">\n",
              "\n",
              "<svg xmlns=\"http://www.w3.org/2000/svg\" height=\"24px\"viewBox=\"0 0 24 24\"\n",
              "     width=\"24px\">\n",
              "    <g>\n",
              "        <path d=\"M19 3H5c-1.1 0-2 .9-2 2v14c0 1.1.9 2 2 2h14c1.1 0 2-.9 2-2V5c0-1.1-.9-2-2-2zM9 17H7v-7h2v7zm4 0h-2V7h2v10zm4 0h-2v-4h2v4z\"/>\n",
              "    </g>\n",
              "</svg>\n",
              "  </button>\n",
              "\n",
              "<style>\n",
              "  .colab-df-quickchart {\n",
              "      --bg-color: #E8F0FE;\n",
              "      --fill-color: #1967D2;\n",
              "      --hover-bg-color: #E2EBFA;\n",
              "      --hover-fill-color: #174EA6;\n",
              "      --disabled-fill-color: #AAA;\n",
              "      --disabled-bg-color: #DDD;\n",
              "  }\n",
              "\n",
              "  [theme=dark] .colab-df-quickchart {\n",
              "      --bg-color: #3B4455;\n",
              "      --fill-color: #D2E3FC;\n",
              "      --hover-bg-color: #434B5C;\n",
              "      --hover-fill-color: #FFFFFF;\n",
              "      --disabled-bg-color: #3B4455;\n",
              "      --disabled-fill-color: #666;\n",
              "  }\n",
              "\n",
              "  .colab-df-quickchart {\n",
              "    background-color: var(--bg-color);\n",
              "    border: none;\n",
              "    border-radius: 50%;\n",
              "    cursor: pointer;\n",
              "    display: none;\n",
              "    fill: var(--fill-color);\n",
              "    height: 32px;\n",
              "    padding: 0;\n",
              "    width: 32px;\n",
              "  }\n",
              "\n",
              "  .colab-df-quickchart:hover {\n",
              "    background-color: var(--hover-bg-color);\n",
              "    box-shadow: 0 1px 2px rgba(60, 64, 67, 0.3), 0 1px 3px 1px rgba(60, 64, 67, 0.15);\n",
              "    fill: var(--button-hover-fill-color);\n",
              "  }\n",
              "\n",
              "  .colab-df-quickchart-complete:disabled,\n",
              "  .colab-df-quickchart-complete:disabled:hover {\n",
              "    background-color: var(--disabled-bg-color);\n",
              "    fill: var(--disabled-fill-color);\n",
              "    box-shadow: none;\n",
              "  }\n",
              "\n",
              "  .colab-df-spinner {\n",
              "    border: 2px solid var(--fill-color);\n",
              "    border-color: transparent;\n",
              "    border-bottom-color: var(--fill-color);\n",
              "    animation:\n",
              "      spin 1s steps(1) infinite;\n",
              "  }\n",
              "\n",
              "  @keyframes spin {\n",
              "    0% {\n",
              "      border-color: transparent;\n",
              "      border-bottom-color: var(--fill-color);\n",
              "      border-left-color: var(--fill-color);\n",
              "    }\n",
              "    20% {\n",
              "      border-color: transparent;\n",
              "      border-left-color: var(--fill-color);\n",
              "      border-top-color: var(--fill-color);\n",
              "    }\n",
              "    30% {\n",
              "      border-color: transparent;\n",
              "      border-left-color: var(--fill-color);\n",
              "      border-top-color: var(--fill-color);\n",
              "      border-right-color: var(--fill-color);\n",
              "    }\n",
              "    40% {\n",
              "      border-color: transparent;\n",
              "      border-right-color: var(--fill-color);\n",
              "      border-top-color: var(--fill-color);\n",
              "    }\n",
              "    60% {\n",
              "      border-color: transparent;\n",
              "      border-right-color: var(--fill-color);\n",
              "    }\n",
              "    80% {\n",
              "      border-color: transparent;\n",
              "      border-right-color: var(--fill-color);\n",
              "      border-bottom-color: var(--fill-color);\n",
              "    }\n",
              "    90% {\n",
              "      border-color: transparent;\n",
              "      border-bottom-color: var(--fill-color);\n",
              "    }\n",
              "  }\n",
              "</style>\n",
              "\n",
              "  <script>\n",
              "    async function quickchart(key) {\n",
              "      const quickchartButtonEl =\n",
              "        document.querySelector('#' + key + ' button');\n",
              "      quickchartButtonEl.disabled = true;  // To prevent multiple clicks.\n",
              "      quickchartButtonEl.classList.add('colab-df-spinner');\n",
              "      try {\n",
              "        const charts = await google.colab.kernel.invokeFunction(\n",
              "            'suggestCharts', [key], {});\n",
              "      } catch (error) {\n",
              "        console.error('Error during call to suggestCharts:', error);\n",
              "      }\n",
              "      quickchartButtonEl.classList.remove('colab-df-spinner');\n",
              "      quickchartButtonEl.classList.add('colab-df-quickchart-complete');\n",
              "    }\n",
              "    (() => {\n",
              "      let quickchartButtonEl =\n",
              "        document.querySelector('#df-625fa874-fb12-47f6-82f2-224c2f7f8f0b button');\n",
              "      quickchartButtonEl.style.display =\n",
              "        google.colab.kernel.accessAllowed ? 'block' : 'none';\n",
              "    })();\n",
              "  </script>\n",
              "</div>\n",
              "\n",
              "    </div>\n",
              "  </div>\n"
            ],
            "application/vnd.google.colaboratory.intrinsic+json": {
              "type": "dataframe",
              "variable_name": "X_ohe"
            }
          },
          "metadata": {},
          "execution_count": 38
        }
      ],
      "source": [
        "X_ohe.head(5)"
      ]
    },
    {
      "cell_type": "code",
      "execution_count": 39,
      "metadata": {
        "colab": {
          "base_uri": "https://localhost:8080/",
          "height": 711
        },
        "id": "Ei03zMSuosU3",
        "outputId": "d396ff8d-5860-4358-d23c-9a1a3f08f45c"
      },
      "outputs": [
        {
          "output_type": "execute_result",
          "data": {
            "text/plain": [
              "Rainfall_mm                float64\n",
              "Temperature_Celsius        float64\n",
              "Fertilizer_Used               bool\n",
              "Irrigation_Used               bool\n",
              "Days_to_Harvest              int64\n",
              "Region_North                  bool\n",
              "Region_South                  bool\n",
              "Region_West                   bool\n",
              "Soil_Type_Clay                bool\n",
              "Soil_Type_Loam                bool\n",
              "Soil_Type_Peaty               bool\n",
              "Soil_Type_Sandy               bool\n",
              "Soil_Type_Silt                bool\n",
              "Crop_Cotton                   bool\n",
              "Crop_Maize                    bool\n",
              "Crop_Rice                     bool\n",
              "Crop_Soybean                  bool\n",
              "Crop_Wheat                    bool\n",
              "Weather_Condition_Rainy       bool\n",
              "Weather_Condition_Sunny       bool\n",
              "dtype: object"
            ],
            "text/html": [
              "<div>\n",
              "<style scoped>\n",
              "    .dataframe tbody tr th:only-of-type {\n",
              "        vertical-align: middle;\n",
              "    }\n",
              "\n",
              "    .dataframe tbody tr th {\n",
              "        vertical-align: top;\n",
              "    }\n",
              "\n",
              "    .dataframe thead th {\n",
              "        text-align: right;\n",
              "    }\n",
              "</style>\n",
              "<table border=\"1\" class=\"dataframe\">\n",
              "  <thead>\n",
              "    <tr style=\"text-align: right;\">\n",
              "      <th></th>\n",
              "      <th>0</th>\n",
              "    </tr>\n",
              "  </thead>\n",
              "  <tbody>\n",
              "    <tr>\n",
              "      <th>Rainfall_mm</th>\n",
              "      <td>float64</td>\n",
              "    </tr>\n",
              "    <tr>\n",
              "      <th>Temperature_Celsius</th>\n",
              "      <td>float64</td>\n",
              "    </tr>\n",
              "    <tr>\n",
              "      <th>Fertilizer_Used</th>\n",
              "      <td>bool</td>\n",
              "    </tr>\n",
              "    <tr>\n",
              "      <th>Irrigation_Used</th>\n",
              "      <td>bool</td>\n",
              "    </tr>\n",
              "    <tr>\n",
              "      <th>Days_to_Harvest</th>\n",
              "      <td>int64</td>\n",
              "    </tr>\n",
              "    <tr>\n",
              "      <th>Region_North</th>\n",
              "      <td>bool</td>\n",
              "    </tr>\n",
              "    <tr>\n",
              "      <th>Region_South</th>\n",
              "      <td>bool</td>\n",
              "    </tr>\n",
              "    <tr>\n",
              "      <th>Region_West</th>\n",
              "      <td>bool</td>\n",
              "    </tr>\n",
              "    <tr>\n",
              "      <th>Soil_Type_Clay</th>\n",
              "      <td>bool</td>\n",
              "    </tr>\n",
              "    <tr>\n",
              "      <th>Soil_Type_Loam</th>\n",
              "      <td>bool</td>\n",
              "    </tr>\n",
              "    <tr>\n",
              "      <th>Soil_Type_Peaty</th>\n",
              "      <td>bool</td>\n",
              "    </tr>\n",
              "    <tr>\n",
              "      <th>Soil_Type_Sandy</th>\n",
              "      <td>bool</td>\n",
              "    </tr>\n",
              "    <tr>\n",
              "      <th>Soil_Type_Silt</th>\n",
              "      <td>bool</td>\n",
              "    </tr>\n",
              "    <tr>\n",
              "      <th>Crop_Cotton</th>\n",
              "      <td>bool</td>\n",
              "    </tr>\n",
              "    <tr>\n",
              "      <th>Crop_Maize</th>\n",
              "      <td>bool</td>\n",
              "    </tr>\n",
              "    <tr>\n",
              "      <th>Crop_Rice</th>\n",
              "      <td>bool</td>\n",
              "    </tr>\n",
              "    <tr>\n",
              "      <th>Crop_Soybean</th>\n",
              "      <td>bool</td>\n",
              "    </tr>\n",
              "    <tr>\n",
              "      <th>Crop_Wheat</th>\n",
              "      <td>bool</td>\n",
              "    </tr>\n",
              "    <tr>\n",
              "      <th>Weather_Condition_Rainy</th>\n",
              "      <td>bool</td>\n",
              "    </tr>\n",
              "    <tr>\n",
              "      <th>Weather_Condition_Sunny</th>\n",
              "      <td>bool</td>\n",
              "    </tr>\n",
              "  </tbody>\n",
              "</table>\n",
              "</div><br><label><b>dtype:</b> object</label>"
            ]
          },
          "metadata": {},
          "execution_count": 39
        }
      ],
      "source": [
        "X_ohe.dtypes"
      ]
    },
    {
      "cell_type": "markdown",
      "metadata": {
        "id": "p9PLskUDUYN4"
      },
      "source": [
        "**Splitting** the dataset into the Training set and Test set"
      ]
    },
    {
      "cell_type": "code",
      "execution_count": 40,
      "metadata": {
        "id": "YAbUVZxyyO5Q"
      },
      "outputs": [],
      "source": [
        "#x_ohe_std = (X - X.mean()) / X.std()"
      ]
    },
    {
      "cell_type": "code",
      "execution_count": 41,
      "metadata": {
        "id": "fXeAhkffHSNz"
      },
      "outputs": [],
      "source": [
        "from sklearn.model_selection import train_test_split\n",
        "X_train, X_test, y_train, y_test = train_test_split(X_ohe, y, test_size = 0.2, random_state = 42)"
      ]
    },
    {
      "cell_type": "code",
      "execution_count": 41,
      "metadata": {
        "id": "e_FePdwF3v7p"
      },
      "outputs": [],
      "source": []
    },
    {
      "cell_type": "code",
      "execution_count": 42,
      "metadata": {
        "colab": {
          "base_uri": "https://localhost:8080/"
        },
        "id": "Kq6cwbz8vReR",
        "outputId": "c65803ea-1972-4008-bb33-5bac54de7dd6"
      },
      "outputs": [
        {
          "output_type": "execute_result",
          "data": {
            "text/plain": [
              "((799970, 20), (799970,), (199993, 20), (199993,))"
            ]
          },
          "metadata": {},
          "execution_count": 42
        }
      ],
      "source": [
        "X_train.shape,y_train.shape,X_test.shape,y_test.shape"
      ]
    },
    {
      "cell_type": "markdown",
      "metadata": {
        "id": "igm87BAnVDnh"
      },
      "source": [
        "###We are planning to apply\n",
        "\n",
        "Linear Regression\n",
        "\n",
        "Random Forest\n",
        "\n",
        "Gradient Boosting\n",
        "  \n",
        "**Neural** Networks\n",
        "\n"
      ]
    },
    {
      "cell_type": "markdown",
      "metadata": {
        "id": "Hs18v8Bbmd_n"
      },
      "source": [
        "###Linear Regression\n",
        "\n",
        "Linear Regression is one of the simplest and most widely used machine learning algorithms for regression tasks. It is used to model the relationship between a dependent (target) variable and one or more independent (predictor) variables by fitting a linear equation to observed data\n"
      ]
    },
    {
      "cell_type": "code",
      "execution_count": null,
      "metadata": {
        "id": "23nn4-pRMmUA"
      },
      "outputs": [],
      "source": [
        "from sklearn.metrics import mean_absolute_error,\\\n",
        "mean_squared_error, r2_score"
      ]
    },
    {
      "cell_type": "code",
      "execution_count": null,
      "metadata": {
        "colab": {
          "base_uri": "https://localhost:8080/"
        },
        "id": "KJL7Lk78GjQQ",
        "outputId": "5529797d-8b32-4f85-8648-0897849d53ee"
      },
      "outputs": [
        {
          "name": "stdout",
          "output_type": "stream",
          "text": [
            "Degree 1, Mean R²: 0.9130113733953353\n",
            "Degree 2, Mean R²: 0.9129567457677419\n"
          ]
        }
      ],
      "source": [
        "from sklearn.model_selection import cross_val_score\n",
        "from sklearn.preprocessing import PolynomialFeatures\n",
        "from sklearn.pipeline import make_pipeline\n",
        "from sklearn.linear_model import LinearRegression\n",
        "\n",
        "for d in range(1, 3):  # Try different degrees\n",
        "    model = make_pipeline(PolynomialFeatures(degree=d), LinearRegression())\n",
        "    scores = cross_val_score(model, X_train, y_train, cv=5, scoring='r2')\n",
        "\n",
        "    print(f\"Degree {d}, Mean R²: {scores.mean()}\")\n",
        "\n"
      ]
    },
    {
      "cell_type": "code",
      "execution_count": null,
      "metadata": {
        "id": "v-fEfJPqc2h-"
      },
      "outputs": [],
      "source": [
        "best_degree = 2\n",
        "lr = make_pipeline(PolynomialFeatures(degree=best_degree), LinearRegression())\n",
        "lr.fit(X_train, y_train)\n",
        "y_test_pred = lr.predict(X_test)\n"
      ]
    },
    {
      "cell_type": "code",
      "execution_count": null,
      "metadata": {
        "colab": {
          "base_uri": "https://localhost:8080/"
        },
        "id": "JAxGghAYfhZI",
        "outputId": "99ae640f-fe6f-4603-e38e-fa44900a5dfe"
      },
      "outputs": [
        {
          "name": "stdout",
          "output_type": "stream",
          "text": [
            "Testing MAE: 0.39937851152083864\n",
            "Testing MSE: 0.2500323587775367\n",
            "Testing R²: 0.9130101103054895\n"
          ]
        }
      ],
      "source": [
        "test_mae=mean_absolute_error( y_test, y_test_pred)\n",
        "print(f\"Testing MAE: {test_mae}\")\n",
        "test_mse=mean_squared_error( y_test, y_test_pred)\n",
        "print(f\"Testing MSE: {test_mse}\")\n",
        "test_r2 = r2_score(y_test, y_test_pred)\n",
        "print(f\"Testing R²: {test_r2}\")"
      ]
    },
    {
      "cell_type": "markdown",
      "metadata": {
        "id": "ukv1N1WDyMS6"
      },
      "source": [
        "###Ridge\n",
        "\n",
        "Ridge Regression is a type of linear regression that includes L2 regularization to address multicollinearity and prevent overfitting by adding a penalty to the size of the coefficients. It is particularly useful when the model has many features or the dataset is highly prone to overfitting."
      ]
    },
    {
      "cell_type": "code",
      "execution_count": null,
      "metadata": {
        "colab": {
          "base_uri": "https://localhost:8080/"
        },
        "id": "b_foRHGU34MC",
        "outputId": "165fa8a1-acc3-45f7-ba96-8859f18122e0"
      },
      "outputs": [
        {
          "name": "stdout",
          "output_type": "stream",
          "text": [
            "Fitting 2 folds for each of 9 candidates, totalling 18 fits\n",
            "[CV] END ............................alpha=0.01, max_iter=20; total time=   0.1s\n",
            "[CV] END ............................alpha=0.01, max_iter=20; total time=   0.1s\n",
            "[CV] END ............................alpha=0.01, max_iter=50; total time=   0.1s\n",
            "[CV] END ............................alpha=0.01, max_iter=50; total time=   0.1s\n",
            "[CV] END ..........................alpha=0.01, max_iter=2000; total time=   0.1s\n",
            "[CV] END ..........................alpha=0.01, max_iter=2000; total time=   0.1s\n",
            "[CV] END .............................alpha=0.1, max_iter=20; total time=   0.1s\n",
            "[CV] END .............................alpha=0.1, max_iter=20; total time=   0.1s\n",
            "[CV] END .............................alpha=0.1, max_iter=50; total time=   0.1s\n",
            "[CV] END .............................alpha=0.1, max_iter=50; total time=   0.1s\n",
            "[CV] END ...........................alpha=0.1, max_iter=2000; total time=   0.1s\n",
            "[CV] END ...........................alpha=0.1, max_iter=2000; total time=   0.1s\n",
            "[CV] END .............................alpha=0.2, max_iter=20; total time=   0.2s\n",
            "[CV] END .............................alpha=0.2, max_iter=20; total time=   0.1s\n",
            "[CV] END .............................alpha=0.2, max_iter=50; total time=   0.1s\n",
            "[CV] END .............................alpha=0.2, max_iter=50; total time=   0.1s\n",
            "[CV] END ...........................alpha=0.2, max_iter=2000; total time=   0.1s\n",
            "[CV] END ...........................alpha=0.2, max_iter=2000; total time=   0.1s\n",
            "0.9130117029954521\n",
            "{'alpha': 0.2, 'max_iter': 20}\n"
          ]
        }
      ],
      "source": [
        "from sklearn.linear_model import Ridge\n",
        "from sklearn.model_selection import GridSearchCV\n",
        "param_grid={\n",
        "    \"alpha\" : [0.01,0.1,0.2],\n",
        "    \"max_iter\" : [20, 50, 2000]\n",
        "}\n",
        "gscv = GridSearchCV(Ridge(random_state=7), param_grid, cv=2, verbose=2)\n",
        "gscv.fit(X_train,y_train)\n",
        "print(gscv.best_score_)\n",
        "print(gscv.best_params_)\n",
        "\n"
      ]
    },
    {
      "cell_type": "markdown",
      "metadata": {
        "id": "tbb3KKBe4Xe_"
      },
      "source": [
        "create best ridge model"
      ]
    },
    {
      "cell_type": "code",
      "execution_count": null,
      "metadata": {
        "colab": {
          "base_uri": "https://localhost:8080/"
        },
        "id": "UCB3Fg83mO9v",
        "outputId": "854bc1c1-4505-4c89-e489-b96c6d958012"
      },
      "outputs": [
        {
          "name": "stderr",
          "output_type": "stream",
          "text": [
            "/usr/local/lib/python3.11/dist-packages/sklearn/linear_model/_ridge.py:215: LinAlgWarning: Ill-conditioned matrix (rcond=8.6382e-18): result may not be accurate.\n",
            "  return linalg.solve(A, Xy, assume_a=\"pos\", overwrite_a=True).T\n"
          ]
        }
      ],
      "source": [
        "\n",
        "best_degree = 2\n",
        "ridge = make_pipeline(PolynomialFeatures(degree=best_degree),Ridge(alpha= 0.2 , max_iter = 20, random_state = 7))\n",
        "ridge.fit(X_train, y_train)\n",
        "y_pred = ridge.predict(X_test)\n"
      ]
    },
    {
      "cell_type": "code",
      "execution_count": null,
      "metadata": {
        "colab": {
          "base_uri": "https://localhost:8080/"
        },
        "id": "R6sfo0QkmSHx",
        "outputId": "0a5d6740-06d3-44f6-c7af-5a47a265802d"
      },
      "outputs": [
        {
          "name": "stdout",
          "output_type": "stream",
          "text": [
            "Testing MAE: 0.39937861180054546\n",
            "Testing MSE: 0.25003246007861213\n",
            "Testing R²: 0.9130100750613739\n"
          ]
        }
      ],
      "source": [
        "test_mae=mean_absolute_error( y_test, y_pred)\n",
        "print(f\"Testing MAE: {test_mae}\")\n",
        "test_mse=mean_squared_error( y_test, y_pred)\n",
        "print(f\"Testing MSE: {test_mse}\")\n",
        "test_r2 = r2_score(y_test, y_pred)\n",
        "print(f\"Testing R²: {test_r2}\")"
      ]
    },
    {
      "cell_type": "markdown",
      "metadata": {
        "id": "vKuTuit6f4D-"
      },
      "source": [
        "###Lasso"
      ]
    },
    {
      "cell_type": "markdown",
      "metadata": {
        "id": "kzvCzR4pf7S_"
      },
      "source": [
        "The Lasso (Least Absolute Shrinkage and Selection Operator) regression model is a type of linear regression that applies L1 regularization\n",
        "\n",
        "Lasso adds a penalty to the linear regression cost function, which is the sum of squared residuals (errors) between predicted and actual values. The penalty is proportional to the absolute value of the coefficients, and it shrinks the less important feature coefficients to zero, effectively removing some features from the model"
      ]
    },
    {
      "cell_type": "code",
      "execution_count": null,
      "metadata": {
        "colab": {
          "base_uri": "https://localhost:8080/"
        },
        "id": "63UvRGNg6WNz",
        "outputId": "9b302473-9eb3-4d18-e0b6-0a54b41c4a87"
      },
      "outputs": [
        {
          "name": "stdout",
          "output_type": "stream",
          "text": [
            "Fitting 2 folds for each of 9 candidates, totalling 18 fits\n",
            "[CV] END ............................alpha=0.01, max_iter=20; total time=   0.1s\n",
            "[CV] END ............................alpha=0.01, max_iter=20; total time=   0.2s\n",
            "[CV] END ............................alpha=0.01, max_iter=50; total time=   0.2s\n",
            "[CV] END ............................alpha=0.01, max_iter=50; total time=   0.2s\n",
            "[CV] END ..........................alpha=0.01, max_iter=2000; total time=   0.2s\n",
            "[CV] END ..........................alpha=0.01, max_iter=2000; total time=   0.2s\n",
            "[CV] END .............................alpha=0.1, max_iter=20; total time=   0.2s\n",
            "[CV] END .............................alpha=0.1, max_iter=20; total time=   0.2s\n",
            "[CV] END .............................alpha=0.1, max_iter=50; total time=   0.2s\n",
            "[CV] END .............................alpha=0.1, max_iter=50; total time=   0.2s\n",
            "[CV] END ...........................alpha=0.1, max_iter=2000; total time=   0.2s\n",
            "[CV] END ...........................alpha=0.1, max_iter=2000; total time=   0.2s\n",
            "[CV] END .............................alpha=0.2, max_iter=20; total time=   0.2s\n",
            "[CV] END .............................alpha=0.2, max_iter=20; total time=   0.2s\n",
            "[CV] END .............................alpha=0.2, max_iter=50; total time=   0.2s\n",
            "[CV] END .............................alpha=0.2, max_iter=50; total time=   0.2s\n",
            "[CV] END ...........................alpha=0.2, max_iter=2000; total time=   0.2s\n",
            "[CV] END ...........................alpha=0.2, max_iter=2000; total time=   0.2s\n",
            "0.9127378758977587\n",
            "{'alpha': 0.01, 'max_iter': 20}\n"
          ]
        }
      ],
      "source": [
        "from sklearn.linear_model import Lasso\n",
        "gscv = GridSearchCV(Lasso(random_state=7), param_grid, cv=2, verbose=2)\n",
        "gscv.fit(X_train,y_train)\n",
        "print(gscv.best_score_)\n",
        "print(gscv.best_params_)\n"
      ]
    },
    {
      "cell_type": "code",
      "execution_count": null,
      "metadata": {
        "colab": {
          "base_uri": "https://localhost:8080/"
        },
        "id": "xwdz2A-B5ZGl",
        "outputId": "5f101a26-61c1-4904-9dde-7e60b37ec837"
      },
      "outputs": [
        {
          "name": "stderr",
          "output_type": "stream",
          "text": [
            "/usr/local/lib/python3.11/dist-packages/sklearn/linear_model/_coordinate_descent.py:695: ConvergenceWarning: Objective did not converge. You might want to increase the number of iterations, check the scale of the features or consider increasing regularisation. Duality gap: 3.457e+04, tolerance: 6.978e+01\n",
            "  model = cd_fast.enet_coordinate_descent(\n"
          ]
        }
      ],
      "source": [
        "best_degree = 2\n",
        "lasso = make_pipeline(PolynomialFeatures(degree=best_degree),Lasso(alpha= 0.01 , max_iter = 20, random_state = 7))\n",
        "lasso.fit(X_train, y_train)\n",
        "y_pred = lasso.predict(X_test)"
      ]
    },
    {
      "cell_type": "code",
      "execution_count": null,
      "metadata": {
        "colab": {
          "base_uri": "https://localhost:8080/"
        },
        "id": "3FVKfXnF5iLF",
        "outputId": "6b7292f7-58e1-4964-a8f1-28bc5599e11a"
      },
      "outputs": [
        {
          "name": "stdout",
          "output_type": "stream",
          "text": [
            "Testing MAE: 0.4066195849136922\n",
            "Testing MSE: 0.2590321633317759\n",
            "Testing R²: 0.9098789475661019\n"
          ]
        }
      ],
      "source": [
        "test_mae=mean_absolute_error( y_test, y_pred)\n",
        "print(f\"Testing MAE: {test_mae}\")\n",
        "test_mse=mean_squared_error( y_test, y_pred)\n",
        "print(f\"Testing MSE: {test_mse}\")\n",
        "test_r2 = r2_score(y_test, y_pred)\n",
        "print(f\"Testing R²: {test_r2}\")"
      ]
    },
    {
      "cell_type": "markdown",
      "metadata": {
        "id": "bX5qJ_ZLhjj5"
      },
      "source": [
        "###Ensemble Technique"
      ]
    },
    {
      "cell_type": "markdown",
      "metadata": {
        "id": "U5F2IyEihnzU"
      },
      "source": [
        "\n",
        "\n"
      ]
    },
    {
      "cell_type": "markdown",
      "metadata": {
        "id": "7AZ_2k1_paQm"
      },
      "source": [
        "###Random Forest"
      ]
    },
    {
      "cell_type": "markdown",
      "metadata": {
        "id": "7NxBNGoWhOHs"
      },
      "source": []
    },
    {
      "cell_type": "markdown",
      "metadata": {
        "id": "cOsjXTiH53dA"
      },
      "source": [
        "Random Forest Regressor, which is an ensemble learning method based on multiple decision trees.\n",
        "The algorithm combines several decision trees to improve prediction accuracy and reduce overfitting."
      ]
    },
    {
      "cell_type": "code",
      "execution_count": null,
      "metadata": {
        "id": "T6XLv3hYMYra"
      },
      "outputs": [],
      "source": []
    },
    {
      "cell_type": "code",
      "execution_count": null,
      "metadata": {
        "colab": {
          "base_uri": "https://localhost:8080/",
          "height": 97
        },
        "id": "63HCFoBAm6ub",
        "outputId": "1fbe2f6e-2bf4-4a68-8ced-05b60d34aeb5"
      },
      "outputs": [
        {
          "data": {
            "text/html": [
              "<style>#sk-container-id-1 {\n",
              "  /* Definition of color scheme common for light and dark mode */\n",
              "  --sklearn-color-text: #000;\n",
              "  --sklearn-color-text-muted: #666;\n",
              "  --sklearn-color-line: gray;\n",
              "  /* Definition of color scheme for unfitted estimators */\n",
              "  --sklearn-color-unfitted-level-0: #fff5e6;\n",
              "  --sklearn-color-unfitted-level-1: #f6e4d2;\n",
              "  --sklearn-color-unfitted-level-2: #ffe0b3;\n",
              "  --sklearn-color-unfitted-level-3: chocolate;\n",
              "  /* Definition of color scheme for fitted estimators */\n",
              "  --sklearn-color-fitted-level-0: #f0f8ff;\n",
              "  --sklearn-color-fitted-level-1: #d4ebff;\n",
              "  --sklearn-color-fitted-level-2: #b3dbfd;\n",
              "  --sklearn-color-fitted-level-3: cornflowerblue;\n",
              "\n",
              "  /* Specific color for light theme */\n",
              "  --sklearn-color-text-on-default-background: var(--sg-text-color, var(--theme-code-foreground, var(--jp-content-font-color1, black)));\n",
              "  --sklearn-color-background: var(--sg-background-color, var(--theme-background, var(--jp-layout-color0, white)));\n",
              "  --sklearn-color-border-box: var(--sg-text-color, var(--theme-code-foreground, var(--jp-content-font-color1, black)));\n",
              "  --sklearn-color-icon: #696969;\n",
              "\n",
              "  @media (prefers-color-scheme: dark) {\n",
              "    /* Redefinition of color scheme for dark theme */\n",
              "    --sklearn-color-text-on-default-background: var(--sg-text-color, var(--theme-code-foreground, var(--jp-content-font-color1, white)));\n",
              "    --sklearn-color-background: var(--sg-background-color, var(--theme-background, var(--jp-layout-color0, #111)));\n",
              "    --sklearn-color-border-box: var(--sg-text-color, var(--theme-code-foreground, var(--jp-content-font-color1, white)));\n",
              "    --sklearn-color-icon: #878787;\n",
              "  }\n",
              "}\n",
              "\n",
              "#sk-container-id-1 {\n",
              "  color: var(--sklearn-color-text);\n",
              "}\n",
              "\n",
              "#sk-container-id-1 pre {\n",
              "  padding: 0;\n",
              "}\n",
              "\n",
              "#sk-container-id-1 input.sk-hidden--visually {\n",
              "  border: 0;\n",
              "  clip: rect(1px 1px 1px 1px);\n",
              "  clip: rect(1px, 1px, 1px, 1px);\n",
              "  height: 1px;\n",
              "  margin: -1px;\n",
              "  overflow: hidden;\n",
              "  padding: 0;\n",
              "  position: absolute;\n",
              "  width: 1px;\n",
              "}\n",
              "\n",
              "#sk-container-id-1 div.sk-dashed-wrapped {\n",
              "  border: 1px dashed var(--sklearn-color-line);\n",
              "  margin: 0 0.4em 0.5em 0.4em;\n",
              "  box-sizing: border-box;\n",
              "  padding-bottom: 0.4em;\n",
              "  background-color: var(--sklearn-color-background);\n",
              "}\n",
              "\n",
              "#sk-container-id-1 div.sk-container {\n",
              "  /* jupyter's `normalize.less` sets `[hidden] { display: none; }`\n",
              "     but bootstrap.min.css set `[hidden] { display: none !important; }`\n",
              "     so we also need the `!important` here to be able to override the\n",
              "     default hidden behavior on the sphinx rendered scikit-learn.org.\n",
              "     See: https://github.com/scikit-learn/scikit-learn/issues/21755 */\n",
              "  display: inline-block !important;\n",
              "  position: relative;\n",
              "}\n",
              "\n",
              "#sk-container-id-1 div.sk-text-repr-fallback {\n",
              "  display: none;\n",
              "}\n",
              "\n",
              "div.sk-parallel-item,\n",
              "div.sk-serial,\n",
              "div.sk-item {\n",
              "  /* draw centered vertical line to link estimators */\n",
              "  background-image: linear-gradient(var(--sklearn-color-text-on-default-background), var(--sklearn-color-text-on-default-background));\n",
              "  background-size: 2px 100%;\n",
              "  background-repeat: no-repeat;\n",
              "  background-position: center center;\n",
              "}\n",
              "\n",
              "/* Parallel-specific style estimator block */\n",
              "\n",
              "#sk-container-id-1 div.sk-parallel-item::after {\n",
              "  content: \"\";\n",
              "  width: 100%;\n",
              "  border-bottom: 2px solid var(--sklearn-color-text-on-default-background);\n",
              "  flex-grow: 1;\n",
              "}\n",
              "\n",
              "#sk-container-id-1 div.sk-parallel {\n",
              "  display: flex;\n",
              "  align-items: stretch;\n",
              "  justify-content: center;\n",
              "  background-color: var(--sklearn-color-background);\n",
              "  position: relative;\n",
              "}\n",
              "\n",
              "#sk-container-id-1 div.sk-parallel-item {\n",
              "  display: flex;\n",
              "  flex-direction: column;\n",
              "}\n",
              "\n",
              "#sk-container-id-1 div.sk-parallel-item:first-child::after {\n",
              "  align-self: flex-end;\n",
              "  width: 50%;\n",
              "}\n",
              "\n",
              "#sk-container-id-1 div.sk-parallel-item:last-child::after {\n",
              "  align-self: flex-start;\n",
              "  width: 50%;\n",
              "}\n",
              "\n",
              "#sk-container-id-1 div.sk-parallel-item:only-child::after {\n",
              "  width: 0;\n",
              "}\n",
              "\n",
              "/* Serial-specific style estimator block */\n",
              "\n",
              "#sk-container-id-1 div.sk-serial {\n",
              "  display: flex;\n",
              "  flex-direction: column;\n",
              "  align-items: center;\n",
              "  background-color: var(--sklearn-color-background);\n",
              "  padding-right: 1em;\n",
              "  padding-left: 1em;\n",
              "}\n",
              "\n",
              "\n",
              "/* Toggleable style: style used for estimator/Pipeline/ColumnTransformer box that is\n",
              "clickable and can be expanded/collapsed.\n",
              "- Pipeline and ColumnTransformer use this feature and define the default style\n",
              "- Estimators will overwrite some part of the style using the `sk-estimator` class\n",
              "*/\n",
              "\n",
              "/* Pipeline and ColumnTransformer style (default) */\n",
              "\n",
              "#sk-container-id-1 div.sk-toggleable {\n",
              "  /* Default theme specific background. It is overwritten whether we have a\n",
              "  specific estimator or a Pipeline/ColumnTransformer */\n",
              "  background-color: var(--sklearn-color-background);\n",
              "}\n",
              "\n",
              "/* Toggleable label */\n",
              "#sk-container-id-1 label.sk-toggleable__label {\n",
              "  cursor: pointer;\n",
              "  display: flex;\n",
              "  width: 100%;\n",
              "  margin-bottom: 0;\n",
              "  padding: 0.5em;\n",
              "  box-sizing: border-box;\n",
              "  text-align: center;\n",
              "  align-items: start;\n",
              "  justify-content: space-between;\n",
              "  gap: 0.5em;\n",
              "}\n",
              "\n",
              "#sk-container-id-1 label.sk-toggleable__label .caption {\n",
              "  font-size: 0.6rem;\n",
              "  font-weight: lighter;\n",
              "  color: var(--sklearn-color-text-muted);\n",
              "}\n",
              "\n",
              "#sk-container-id-1 label.sk-toggleable__label-arrow:before {\n",
              "  /* Arrow on the left of the label */\n",
              "  content: \"▸\";\n",
              "  float: left;\n",
              "  margin-right: 0.25em;\n",
              "  color: var(--sklearn-color-icon);\n",
              "}\n",
              "\n",
              "#sk-container-id-1 label.sk-toggleable__label-arrow:hover:before {\n",
              "  color: var(--sklearn-color-text);\n",
              "}\n",
              "\n",
              "/* Toggleable content - dropdown */\n",
              "\n",
              "#sk-container-id-1 div.sk-toggleable__content {\n",
              "  max-height: 0;\n",
              "  max-width: 0;\n",
              "  overflow: hidden;\n",
              "  text-align: left;\n",
              "  /* unfitted */\n",
              "  background-color: var(--sklearn-color-unfitted-level-0);\n",
              "}\n",
              "\n",
              "#sk-container-id-1 div.sk-toggleable__content.fitted {\n",
              "  /* fitted */\n",
              "  background-color: var(--sklearn-color-fitted-level-0);\n",
              "}\n",
              "\n",
              "#sk-container-id-1 div.sk-toggleable__content pre {\n",
              "  margin: 0.2em;\n",
              "  border-radius: 0.25em;\n",
              "  color: var(--sklearn-color-text);\n",
              "  /* unfitted */\n",
              "  background-color: var(--sklearn-color-unfitted-level-0);\n",
              "}\n",
              "\n",
              "#sk-container-id-1 div.sk-toggleable__content.fitted pre {\n",
              "  /* unfitted */\n",
              "  background-color: var(--sklearn-color-fitted-level-0);\n",
              "}\n",
              "\n",
              "#sk-container-id-1 input.sk-toggleable__control:checked~div.sk-toggleable__content {\n",
              "  /* Expand drop-down */\n",
              "  max-height: 200px;\n",
              "  max-width: 100%;\n",
              "  overflow: auto;\n",
              "}\n",
              "\n",
              "#sk-container-id-1 input.sk-toggleable__control:checked~label.sk-toggleable__label-arrow:before {\n",
              "  content: \"▾\";\n",
              "}\n",
              "\n",
              "/* Pipeline/ColumnTransformer-specific style */\n",
              "\n",
              "#sk-container-id-1 div.sk-label input.sk-toggleable__control:checked~label.sk-toggleable__label {\n",
              "  color: var(--sklearn-color-text);\n",
              "  background-color: var(--sklearn-color-unfitted-level-2);\n",
              "}\n",
              "\n",
              "#sk-container-id-1 div.sk-label.fitted input.sk-toggleable__control:checked~label.sk-toggleable__label {\n",
              "  background-color: var(--sklearn-color-fitted-level-2);\n",
              "}\n",
              "\n",
              "/* Estimator-specific style */\n",
              "\n",
              "/* Colorize estimator box */\n",
              "#sk-container-id-1 div.sk-estimator input.sk-toggleable__control:checked~label.sk-toggleable__label {\n",
              "  /* unfitted */\n",
              "  background-color: var(--sklearn-color-unfitted-level-2);\n",
              "}\n",
              "\n",
              "#sk-container-id-1 div.sk-estimator.fitted input.sk-toggleable__control:checked~label.sk-toggleable__label {\n",
              "  /* fitted */\n",
              "  background-color: var(--sklearn-color-fitted-level-2);\n",
              "}\n",
              "\n",
              "#sk-container-id-1 div.sk-label label.sk-toggleable__label,\n",
              "#sk-container-id-1 div.sk-label label {\n",
              "  /* The background is the default theme color */\n",
              "  color: var(--sklearn-color-text-on-default-background);\n",
              "}\n",
              "\n",
              "/* On hover, darken the color of the background */\n",
              "#sk-container-id-1 div.sk-label:hover label.sk-toggleable__label {\n",
              "  color: var(--sklearn-color-text);\n",
              "  background-color: var(--sklearn-color-unfitted-level-2);\n",
              "}\n",
              "\n",
              "/* Label box, darken color on hover, fitted */\n",
              "#sk-container-id-1 div.sk-label.fitted:hover label.sk-toggleable__label.fitted {\n",
              "  color: var(--sklearn-color-text);\n",
              "  background-color: var(--sklearn-color-fitted-level-2);\n",
              "}\n",
              "\n",
              "/* Estimator label */\n",
              "\n",
              "#sk-container-id-1 div.sk-label label {\n",
              "  font-family: monospace;\n",
              "  font-weight: bold;\n",
              "  display: inline-block;\n",
              "  line-height: 1.2em;\n",
              "}\n",
              "\n",
              "#sk-container-id-1 div.sk-label-container {\n",
              "  text-align: center;\n",
              "}\n",
              "\n",
              "/* Estimator-specific */\n",
              "#sk-container-id-1 div.sk-estimator {\n",
              "  font-family: monospace;\n",
              "  border: 1px dotted var(--sklearn-color-border-box);\n",
              "  border-radius: 0.25em;\n",
              "  box-sizing: border-box;\n",
              "  margin-bottom: 0.5em;\n",
              "  /* unfitted */\n",
              "  background-color: var(--sklearn-color-unfitted-level-0);\n",
              "}\n",
              "\n",
              "#sk-container-id-1 div.sk-estimator.fitted {\n",
              "  /* fitted */\n",
              "  background-color: var(--sklearn-color-fitted-level-0);\n",
              "}\n",
              "\n",
              "/* on hover */\n",
              "#sk-container-id-1 div.sk-estimator:hover {\n",
              "  /* unfitted */\n",
              "  background-color: var(--sklearn-color-unfitted-level-2);\n",
              "}\n",
              "\n",
              "#sk-container-id-1 div.sk-estimator.fitted:hover {\n",
              "  /* fitted */\n",
              "  background-color: var(--sklearn-color-fitted-level-2);\n",
              "}\n",
              "\n",
              "/* Specification for estimator info (e.g. \"i\" and \"?\") */\n",
              "\n",
              "/* Common style for \"i\" and \"?\" */\n",
              "\n",
              ".sk-estimator-doc-link,\n",
              "a:link.sk-estimator-doc-link,\n",
              "a:visited.sk-estimator-doc-link {\n",
              "  float: right;\n",
              "  font-size: smaller;\n",
              "  line-height: 1em;\n",
              "  font-family: monospace;\n",
              "  background-color: var(--sklearn-color-background);\n",
              "  border-radius: 1em;\n",
              "  height: 1em;\n",
              "  width: 1em;\n",
              "  text-decoration: none !important;\n",
              "  margin-left: 0.5em;\n",
              "  text-align: center;\n",
              "  /* unfitted */\n",
              "  border: var(--sklearn-color-unfitted-level-1) 1pt solid;\n",
              "  color: var(--sklearn-color-unfitted-level-1);\n",
              "}\n",
              "\n",
              ".sk-estimator-doc-link.fitted,\n",
              "a:link.sk-estimator-doc-link.fitted,\n",
              "a:visited.sk-estimator-doc-link.fitted {\n",
              "  /* fitted */\n",
              "  border: var(--sklearn-color-fitted-level-1) 1pt solid;\n",
              "  color: var(--sklearn-color-fitted-level-1);\n",
              "}\n",
              "\n",
              "/* On hover */\n",
              "div.sk-estimator:hover .sk-estimator-doc-link:hover,\n",
              ".sk-estimator-doc-link:hover,\n",
              "div.sk-label-container:hover .sk-estimator-doc-link:hover,\n",
              ".sk-estimator-doc-link:hover {\n",
              "  /* unfitted */\n",
              "  background-color: var(--sklearn-color-unfitted-level-3);\n",
              "  color: var(--sklearn-color-background);\n",
              "  text-decoration: none;\n",
              "}\n",
              "\n",
              "div.sk-estimator.fitted:hover .sk-estimator-doc-link.fitted:hover,\n",
              ".sk-estimator-doc-link.fitted:hover,\n",
              "div.sk-label-container:hover .sk-estimator-doc-link.fitted:hover,\n",
              ".sk-estimator-doc-link.fitted:hover {\n",
              "  /* fitted */\n",
              "  background-color: var(--sklearn-color-fitted-level-3);\n",
              "  color: var(--sklearn-color-background);\n",
              "  text-decoration: none;\n",
              "}\n",
              "\n",
              "/* Span, style for the box shown on hovering the info icon */\n",
              ".sk-estimator-doc-link span {\n",
              "  display: none;\n",
              "  z-index: 9999;\n",
              "  position: relative;\n",
              "  font-weight: normal;\n",
              "  right: .2ex;\n",
              "  padding: .5ex;\n",
              "  margin: .5ex;\n",
              "  width: min-content;\n",
              "  min-width: 20ex;\n",
              "  max-width: 50ex;\n",
              "  color: var(--sklearn-color-text);\n",
              "  box-shadow: 2pt 2pt 4pt #999;\n",
              "  /* unfitted */\n",
              "  background: var(--sklearn-color-unfitted-level-0);\n",
              "  border: .5pt solid var(--sklearn-color-unfitted-level-3);\n",
              "}\n",
              "\n",
              ".sk-estimator-doc-link.fitted span {\n",
              "  /* fitted */\n",
              "  background: var(--sklearn-color-fitted-level-0);\n",
              "  border: var(--sklearn-color-fitted-level-3);\n",
              "}\n",
              "\n",
              ".sk-estimator-doc-link:hover span {\n",
              "  display: block;\n",
              "}\n",
              "\n",
              "/* \"?\"-specific style due to the `<a>` HTML tag */\n",
              "\n",
              "#sk-container-id-1 a.estimator_doc_link {\n",
              "  float: right;\n",
              "  font-size: 1rem;\n",
              "  line-height: 1em;\n",
              "  font-family: monospace;\n",
              "  background-color: var(--sklearn-color-background);\n",
              "  border-radius: 1rem;\n",
              "  height: 1rem;\n",
              "  width: 1rem;\n",
              "  text-decoration: none;\n",
              "  /* unfitted */\n",
              "  color: var(--sklearn-color-unfitted-level-1);\n",
              "  border: var(--sklearn-color-unfitted-level-1) 1pt solid;\n",
              "}\n",
              "\n",
              "#sk-container-id-1 a.estimator_doc_link.fitted {\n",
              "  /* fitted */\n",
              "  border: var(--sklearn-color-fitted-level-1) 1pt solid;\n",
              "  color: var(--sklearn-color-fitted-level-1);\n",
              "}\n",
              "\n",
              "/* On hover */\n",
              "#sk-container-id-1 a.estimator_doc_link:hover {\n",
              "  /* unfitted */\n",
              "  background-color: var(--sklearn-color-unfitted-level-3);\n",
              "  color: var(--sklearn-color-background);\n",
              "  text-decoration: none;\n",
              "}\n",
              "\n",
              "#sk-container-id-1 a.estimator_doc_link.fitted:hover {\n",
              "  /* fitted */\n",
              "  background-color: var(--sklearn-color-fitted-level-3);\n",
              "}\n",
              "</style><div id=\"sk-container-id-1\" class=\"sk-top-container\"><div class=\"sk-text-repr-fallback\"><pre>RandomForestRegressor(max_depth=15, min_samples_leaf=5, min_samples_split=10,\n",
              "                      n_jobs=-1, random_state=42)</pre><b>In a Jupyter environment, please rerun this cell to show the HTML representation or trust the notebook. <br />On GitHub, the HTML representation is unable to render, please try loading this page with nbviewer.org.</b></div><div class=\"sk-container\" hidden><div class=\"sk-item\"><div class=\"sk-estimator fitted sk-toggleable\"><input class=\"sk-toggleable__control sk-hidden--visually\" id=\"sk-estimator-id-1\" type=\"checkbox\" checked><label for=\"sk-estimator-id-1\" class=\"sk-toggleable__label fitted sk-toggleable__label-arrow\"><div><div>RandomForestRegressor</div></div><div><a class=\"sk-estimator-doc-link fitted\" rel=\"noreferrer\" target=\"_blank\" href=\"https://scikit-learn.org/1.6/modules/generated/sklearn.ensemble.RandomForestRegressor.html\">?<span>Documentation for RandomForestRegressor</span></a><span class=\"sk-estimator-doc-link fitted\">i<span>Fitted</span></span></div></label><div class=\"sk-toggleable__content fitted\"><pre>RandomForestRegressor(max_depth=15, min_samples_leaf=5, min_samples_split=10,\n",
              "                      n_jobs=-1, random_state=42)</pre></div> </div></div></div></div>"
            ],
            "text/plain": [
              "RandomForestRegressor(max_depth=15, min_samples_leaf=5, min_samples_split=10,\n",
              "                      n_jobs=-1, random_state=42)"
            ]
          },
          "execution_count": 49,
          "metadata": {},
          "output_type": "execute_result"
        }
      ],
      "source": [
        "from sklearn.ensemble import RandomForestRegressor\n",
        "rf_model = RandomForestRegressor(\n",
        "    n_estimators=100,  # Reduce trees if needed for performance\n",
        "    max_depth=15,  # Limit depth to avoid overfitting\n",
        "    min_samples_split=10,\n",
        "    min_samples_leaf=5,\n",
        "    random_state=42,\n",
        "    n_jobs=-1  # Use all available processors\n",
        ")\n",
        "rf_model.fit(X_train, y_train)"
      ]
    },
    {
      "cell_type": "code",
      "execution_count": null,
      "metadata": {
        "id": "fUNdV-VtXBe4"
      },
      "outputs": [],
      "source": [
        "y_pred = rf_model.predict(X_test)\n",
        "mae=mean_absolute_error( y_test, y_pred)\n",
        "mse = mean_squared_error(y_test, y_pred)\n",
        "r2 = r2_score(y_test, y_pred)"
      ]
    },
    {
      "cell_type": "code",
      "execution_count": null,
      "metadata": {
        "colab": {
          "base_uri": "https://localhost:8080/"
        },
        "id": "R9gEr97ZXG-I",
        "outputId": "645b69fc-d93f-495f-dad2-6eeff90473e2"
      },
      "outputs": [
        {
          "name": "stdout",
          "output_type": "stream",
          "text": [
            "MAE: 0.4051\n",
            "MSE: 0.2570\n",
            "R² Score: 0.9106\n"
          ]
        }
      ],
      "source": [
        "print(f\"MAE: {mae:.4f}\")\n",
        "print(f\"MSE: {mse:.4f}\")\n",
        "print(f\"R² Score: {r2:.4f}\")"
      ]
    },
    {
      "cell_type": "markdown",
      "metadata": {
        "id": "eZlknmJUq908"
      },
      "source": [
        "###Gradient Boosting"
      ]
    },
    {
      "cell_type": "markdown",
      "metadata": {
        "id": "8PSkq9do604J"
      },
      "source": [
        "Gradient Boosting is a method that combines multiple simple models to create a stronger one. Each new model learns from the mistakes of the previous ones, improving accuracy step by step. This process helps make better predictions over time."
      ]
    },
    {
      "cell_type": "code",
      "execution_count": null,
      "metadata": {
        "colab": {
          "base_uri": "https://localhost:8080/",
          "height": 114
        },
        "id": "fC-xkDPhqsOT",
        "outputId": "6481ac70-5b2f-4512-a6e2-cc8ef936b4c7"
      },
      "outputs": [
        {
          "data": {
            "text/html": [
              "<style>#sk-container-id-2 {\n",
              "  /* Definition of color scheme common for light and dark mode */\n",
              "  --sklearn-color-text: #000;\n",
              "  --sklearn-color-text-muted: #666;\n",
              "  --sklearn-color-line: gray;\n",
              "  /* Definition of color scheme for unfitted estimators */\n",
              "  --sklearn-color-unfitted-level-0: #fff5e6;\n",
              "  --sklearn-color-unfitted-level-1: #f6e4d2;\n",
              "  --sklearn-color-unfitted-level-2: #ffe0b3;\n",
              "  --sklearn-color-unfitted-level-3: chocolate;\n",
              "  /* Definition of color scheme for fitted estimators */\n",
              "  --sklearn-color-fitted-level-0: #f0f8ff;\n",
              "  --sklearn-color-fitted-level-1: #d4ebff;\n",
              "  --sklearn-color-fitted-level-2: #b3dbfd;\n",
              "  --sklearn-color-fitted-level-3: cornflowerblue;\n",
              "\n",
              "  /* Specific color for light theme */\n",
              "  --sklearn-color-text-on-default-background: var(--sg-text-color, var(--theme-code-foreground, var(--jp-content-font-color1, black)));\n",
              "  --sklearn-color-background: var(--sg-background-color, var(--theme-background, var(--jp-layout-color0, white)));\n",
              "  --sklearn-color-border-box: var(--sg-text-color, var(--theme-code-foreground, var(--jp-content-font-color1, black)));\n",
              "  --sklearn-color-icon: #696969;\n",
              "\n",
              "  @media (prefers-color-scheme: dark) {\n",
              "    /* Redefinition of color scheme for dark theme */\n",
              "    --sklearn-color-text-on-default-background: var(--sg-text-color, var(--theme-code-foreground, var(--jp-content-font-color1, white)));\n",
              "    --sklearn-color-background: var(--sg-background-color, var(--theme-background, var(--jp-layout-color0, #111)));\n",
              "    --sklearn-color-border-box: var(--sg-text-color, var(--theme-code-foreground, var(--jp-content-font-color1, white)));\n",
              "    --sklearn-color-icon: #878787;\n",
              "  }\n",
              "}\n",
              "\n",
              "#sk-container-id-2 {\n",
              "  color: var(--sklearn-color-text);\n",
              "}\n",
              "\n",
              "#sk-container-id-2 pre {\n",
              "  padding: 0;\n",
              "}\n",
              "\n",
              "#sk-container-id-2 input.sk-hidden--visually {\n",
              "  border: 0;\n",
              "  clip: rect(1px 1px 1px 1px);\n",
              "  clip: rect(1px, 1px, 1px, 1px);\n",
              "  height: 1px;\n",
              "  margin: -1px;\n",
              "  overflow: hidden;\n",
              "  padding: 0;\n",
              "  position: absolute;\n",
              "  width: 1px;\n",
              "}\n",
              "\n",
              "#sk-container-id-2 div.sk-dashed-wrapped {\n",
              "  border: 1px dashed var(--sklearn-color-line);\n",
              "  margin: 0 0.4em 0.5em 0.4em;\n",
              "  box-sizing: border-box;\n",
              "  padding-bottom: 0.4em;\n",
              "  background-color: var(--sklearn-color-background);\n",
              "}\n",
              "\n",
              "#sk-container-id-2 div.sk-container {\n",
              "  /* jupyter's `normalize.less` sets `[hidden] { display: none; }`\n",
              "     but bootstrap.min.css set `[hidden] { display: none !important; }`\n",
              "     so we also need the `!important` here to be able to override the\n",
              "     default hidden behavior on the sphinx rendered scikit-learn.org.\n",
              "     See: https://github.com/scikit-learn/scikit-learn/issues/21755 */\n",
              "  display: inline-block !important;\n",
              "  position: relative;\n",
              "}\n",
              "\n",
              "#sk-container-id-2 div.sk-text-repr-fallback {\n",
              "  display: none;\n",
              "}\n",
              "\n",
              "div.sk-parallel-item,\n",
              "div.sk-serial,\n",
              "div.sk-item {\n",
              "  /* draw centered vertical line to link estimators */\n",
              "  background-image: linear-gradient(var(--sklearn-color-text-on-default-background), var(--sklearn-color-text-on-default-background));\n",
              "  background-size: 2px 100%;\n",
              "  background-repeat: no-repeat;\n",
              "  background-position: center center;\n",
              "}\n",
              "\n",
              "/* Parallel-specific style estimator block */\n",
              "\n",
              "#sk-container-id-2 div.sk-parallel-item::after {\n",
              "  content: \"\";\n",
              "  width: 100%;\n",
              "  border-bottom: 2px solid var(--sklearn-color-text-on-default-background);\n",
              "  flex-grow: 1;\n",
              "}\n",
              "\n",
              "#sk-container-id-2 div.sk-parallel {\n",
              "  display: flex;\n",
              "  align-items: stretch;\n",
              "  justify-content: center;\n",
              "  background-color: var(--sklearn-color-background);\n",
              "  position: relative;\n",
              "}\n",
              "\n",
              "#sk-container-id-2 div.sk-parallel-item {\n",
              "  display: flex;\n",
              "  flex-direction: column;\n",
              "}\n",
              "\n",
              "#sk-container-id-2 div.sk-parallel-item:first-child::after {\n",
              "  align-self: flex-end;\n",
              "  width: 50%;\n",
              "}\n",
              "\n",
              "#sk-container-id-2 div.sk-parallel-item:last-child::after {\n",
              "  align-self: flex-start;\n",
              "  width: 50%;\n",
              "}\n",
              "\n",
              "#sk-container-id-2 div.sk-parallel-item:only-child::after {\n",
              "  width: 0;\n",
              "}\n",
              "\n",
              "/* Serial-specific style estimator block */\n",
              "\n",
              "#sk-container-id-2 div.sk-serial {\n",
              "  display: flex;\n",
              "  flex-direction: column;\n",
              "  align-items: center;\n",
              "  background-color: var(--sklearn-color-background);\n",
              "  padding-right: 1em;\n",
              "  padding-left: 1em;\n",
              "}\n",
              "\n",
              "\n",
              "/* Toggleable style: style used for estimator/Pipeline/ColumnTransformer box that is\n",
              "clickable and can be expanded/collapsed.\n",
              "- Pipeline and ColumnTransformer use this feature and define the default style\n",
              "- Estimators will overwrite some part of the style using the `sk-estimator` class\n",
              "*/\n",
              "\n",
              "/* Pipeline and ColumnTransformer style (default) */\n",
              "\n",
              "#sk-container-id-2 div.sk-toggleable {\n",
              "  /* Default theme specific background. It is overwritten whether we have a\n",
              "  specific estimator or a Pipeline/ColumnTransformer */\n",
              "  background-color: var(--sklearn-color-background);\n",
              "}\n",
              "\n",
              "/* Toggleable label */\n",
              "#sk-container-id-2 label.sk-toggleable__label {\n",
              "  cursor: pointer;\n",
              "  display: flex;\n",
              "  width: 100%;\n",
              "  margin-bottom: 0;\n",
              "  padding: 0.5em;\n",
              "  box-sizing: border-box;\n",
              "  text-align: center;\n",
              "  align-items: start;\n",
              "  justify-content: space-between;\n",
              "  gap: 0.5em;\n",
              "}\n",
              "\n",
              "#sk-container-id-2 label.sk-toggleable__label .caption {\n",
              "  font-size: 0.6rem;\n",
              "  font-weight: lighter;\n",
              "  color: var(--sklearn-color-text-muted);\n",
              "}\n",
              "\n",
              "#sk-container-id-2 label.sk-toggleable__label-arrow:before {\n",
              "  /* Arrow on the left of the label */\n",
              "  content: \"▸\";\n",
              "  float: left;\n",
              "  margin-right: 0.25em;\n",
              "  color: var(--sklearn-color-icon);\n",
              "}\n",
              "\n",
              "#sk-container-id-2 label.sk-toggleable__label-arrow:hover:before {\n",
              "  color: var(--sklearn-color-text);\n",
              "}\n",
              "\n",
              "/* Toggleable content - dropdown */\n",
              "\n",
              "#sk-container-id-2 div.sk-toggleable__content {\n",
              "  max-height: 0;\n",
              "  max-width: 0;\n",
              "  overflow: hidden;\n",
              "  text-align: left;\n",
              "  /* unfitted */\n",
              "  background-color: var(--sklearn-color-unfitted-level-0);\n",
              "}\n",
              "\n",
              "#sk-container-id-2 div.sk-toggleable__content.fitted {\n",
              "  /* fitted */\n",
              "  background-color: var(--sklearn-color-fitted-level-0);\n",
              "}\n",
              "\n",
              "#sk-container-id-2 div.sk-toggleable__content pre {\n",
              "  margin: 0.2em;\n",
              "  border-radius: 0.25em;\n",
              "  color: var(--sklearn-color-text);\n",
              "  /* unfitted */\n",
              "  background-color: var(--sklearn-color-unfitted-level-0);\n",
              "}\n",
              "\n",
              "#sk-container-id-2 div.sk-toggleable__content.fitted pre {\n",
              "  /* unfitted */\n",
              "  background-color: var(--sklearn-color-fitted-level-0);\n",
              "}\n",
              "\n",
              "#sk-container-id-2 input.sk-toggleable__control:checked~div.sk-toggleable__content {\n",
              "  /* Expand drop-down */\n",
              "  max-height: 200px;\n",
              "  max-width: 100%;\n",
              "  overflow: auto;\n",
              "}\n",
              "\n",
              "#sk-container-id-2 input.sk-toggleable__control:checked~label.sk-toggleable__label-arrow:before {\n",
              "  content: \"▾\";\n",
              "}\n",
              "\n",
              "/* Pipeline/ColumnTransformer-specific style */\n",
              "\n",
              "#sk-container-id-2 div.sk-label input.sk-toggleable__control:checked~label.sk-toggleable__label {\n",
              "  color: var(--sklearn-color-text);\n",
              "  background-color: var(--sklearn-color-unfitted-level-2);\n",
              "}\n",
              "\n",
              "#sk-container-id-2 div.sk-label.fitted input.sk-toggleable__control:checked~label.sk-toggleable__label {\n",
              "  background-color: var(--sklearn-color-fitted-level-2);\n",
              "}\n",
              "\n",
              "/* Estimator-specific style */\n",
              "\n",
              "/* Colorize estimator box */\n",
              "#sk-container-id-2 div.sk-estimator input.sk-toggleable__control:checked~label.sk-toggleable__label {\n",
              "  /* unfitted */\n",
              "  background-color: var(--sklearn-color-unfitted-level-2);\n",
              "}\n",
              "\n",
              "#sk-container-id-2 div.sk-estimator.fitted input.sk-toggleable__control:checked~label.sk-toggleable__label {\n",
              "  /* fitted */\n",
              "  background-color: var(--sklearn-color-fitted-level-2);\n",
              "}\n",
              "\n",
              "#sk-container-id-2 div.sk-label label.sk-toggleable__label,\n",
              "#sk-container-id-2 div.sk-label label {\n",
              "  /* The background is the default theme color */\n",
              "  color: var(--sklearn-color-text-on-default-background);\n",
              "}\n",
              "\n",
              "/* On hover, darken the color of the background */\n",
              "#sk-container-id-2 div.sk-label:hover label.sk-toggleable__label {\n",
              "  color: var(--sklearn-color-text);\n",
              "  background-color: var(--sklearn-color-unfitted-level-2);\n",
              "}\n",
              "\n",
              "/* Label box, darken color on hover, fitted */\n",
              "#sk-container-id-2 div.sk-label.fitted:hover label.sk-toggleable__label.fitted {\n",
              "  color: var(--sklearn-color-text);\n",
              "  background-color: var(--sklearn-color-fitted-level-2);\n",
              "}\n",
              "\n",
              "/* Estimator label */\n",
              "\n",
              "#sk-container-id-2 div.sk-label label {\n",
              "  font-family: monospace;\n",
              "  font-weight: bold;\n",
              "  display: inline-block;\n",
              "  line-height: 1.2em;\n",
              "}\n",
              "\n",
              "#sk-container-id-2 div.sk-label-container {\n",
              "  text-align: center;\n",
              "}\n",
              "\n",
              "/* Estimator-specific */\n",
              "#sk-container-id-2 div.sk-estimator {\n",
              "  font-family: monospace;\n",
              "  border: 1px dotted var(--sklearn-color-border-box);\n",
              "  border-radius: 0.25em;\n",
              "  box-sizing: border-box;\n",
              "  margin-bottom: 0.5em;\n",
              "  /* unfitted */\n",
              "  background-color: var(--sklearn-color-unfitted-level-0);\n",
              "}\n",
              "\n",
              "#sk-container-id-2 div.sk-estimator.fitted {\n",
              "  /* fitted */\n",
              "  background-color: var(--sklearn-color-fitted-level-0);\n",
              "}\n",
              "\n",
              "/* on hover */\n",
              "#sk-container-id-2 div.sk-estimator:hover {\n",
              "  /* unfitted */\n",
              "  background-color: var(--sklearn-color-unfitted-level-2);\n",
              "}\n",
              "\n",
              "#sk-container-id-2 div.sk-estimator.fitted:hover {\n",
              "  /* fitted */\n",
              "  background-color: var(--sklearn-color-fitted-level-2);\n",
              "}\n",
              "\n",
              "/* Specification for estimator info (e.g. \"i\" and \"?\") */\n",
              "\n",
              "/* Common style for \"i\" and \"?\" */\n",
              "\n",
              ".sk-estimator-doc-link,\n",
              "a:link.sk-estimator-doc-link,\n",
              "a:visited.sk-estimator-doc-link {\n",
              "  float: right;\n",
              "  font-size: smaller;\n",
              "  line-height: 1em;\n",
              "  font-family: monospace;\n",
              "  background-color: var(--sklearn-color-background);\n",
              "  border-radius: 1em;\n",
              "  height: 1em;\n",
              "  width: 1em;\n",
              "  text-decoration: none !important;\n",
              "  margin-left: 0.5em;\n",
              "  text-align: center;\n",
              "  /* unfitted */\n",
              "  border: var(--sklearn-color-unfitted-level-1) 1pt solid;\n",
              "  color: var(--sklearn-color-unfitted-level-1);\n",
              "}\n",
              "\n",
              ".sk-estimator-doc-link.fitted,\n",
              "a:link.sk-estimator-doc-link.fitted,\n",
              "a:visited.sk-estimator-doc-link.fitted {\n",
              "  /* fitted */\n",
              "  border: var(--sklearn-color-fitted-level-1) 1pt solid;\n",
              "  color: var(--sklearn-color-fitted-level-1);\n",
              "}\n",
              "\n",
              "/* On hover */\n",
              "div.sk-estimator:hover .sk-estimator-doc-link:hover,\n",
              ".sk-estimator-doc-link:hover,\n",
              "div.sk-label-container:hover .sk-estimator-doc-link:hover,\n",
              ".sk-estimator-doc-link:hover {\n",
              "  /* unfitted */\n",
              "  background-color: var(--sklearn-color-unfitted-level-3);\n",
              "  color: var(--sklearn-color-background);\n",
              "  text-decoration: none;\n",
              "}\n",
              "\n",
              "div.sk-estimator.fitted:hover .sk-estimator-doc-link.fitted:hover,\n",
              ".sk-estimator-doc-link.fitted:hover,\n",
              "div.sk-label-container:hover .sk-estimator-doc-link.fitted:hover,\n",
              ".sk-estimator-doc-link.fitted:hover {\n",
              "  /* fitted */\n",
              "  background-color: var(--sklearn-color-fitted-level-3);\n",
              "  color: var(--sklearn-color-background);\n",
              "  text-decoration: none;\n",
              "}\n",
              "\n",
              "/* Span, style for the box shown on hovering the info icon */\n",
              ".sk-estimator-doc-link span {\n",
              "  display: none;\n",
              "  z-index: 9999;\n",
              "  position: relative;\n",
              "  font-weight: normal;\n",
              "  right: .2ex;\n",
              "  padding: .5ex;\n",
              "  margin: .5ex;\n",
              "  width: min-content;\n",
              "  min-width: 20ex;\n",
              "  max-width: 50ex;\n",
              "  color: var(--sklearn-color-text);\n",
              "  box-shadow: 2pt 2pt 4pt #999;\n",
              "  /* unfitted */\n",
              "  background: var(--sklearn-color-unfitted-level-0);\n",
              "  border: .5pt solid var(--sklearn-color-unfitted-level-3);\n",
              "}\n",
              "\n",
              ".sk-estimator-doc-link.fitted span {\n",
              "  /* fitted */\n",
              "  background: var(--sklearn-color-fitted-level-0);\n",
              "  border: var(--sklearn-color-fitted-level-3);\n",
              "}\n",
              "\n",
              ".sk-estimator-doc-link:hover span {\n",
              "  display: block;\n",
              "}\n",
              "\n",
              "/* \"?\"-specific style due to the `<a>` HTML tag */\n",
              "\n",
              "#sk-container-id-2 a.estimator_doc_link {\n",
              "  float: right;\n",
              "  font-size: 1rem;\n",
              "  line-height: 1em;\n",
              "  font-family: monospace;\n",
              "  background-color: var(--sklearn-color-background);\n",
              "  border-radius: 1rem;\n",
              "  height: 1rem;\n",
              "  width: 1rem;\n",
              "  text-decoration: none;\n",
              "  /* unfitted */\n",
              "  color: var(--sklearn-color-unfitted-level-1);\n",
              "  border: var(--sklearn-color-unfitted-level-1) 1pt solid;\n",
              "}\n",
              "\n",
              "#sk-container-id-2 a.estimator_doc_link.fitted {\n",
              "  /* fitted */\n",
              "  border: var(--sklearn-color-fitted-level-1) 1pt solid;\n",
              "  color: var(--sklearn-color-fitted-level-1);\n",
              "}\n",
              "\n",
              "/* On hover */\n",
              "#sk-container-id-2 a.estimator_doc_link:hover {\n",
              "  /* unfitted */\n",
              "  background-color: var(--sklearn-color-unfitted-level-3);\n",
              "  color: var(--sklearn-color-background);\n",
              "  text-decoration: none;\n",
              "}\n",
              "\n",
              "#sk-container-id-2 a.estimator_doc_link.fitted:hover {\n",
              "  /* fitted */\n",
              "  background-color: var(--sklearn-color-fitted-level-3);\n",
              "}\n",
              "</style><div id=\"sk-container-id-2\" class=\"sk-top-container\"><div class=\"sk-text-repr-fallback\"><pre>GradientBoostingRegressor(learning_rate=0.05, max_depth=5, min_samples_leaf=5,\n",
              "                          min_samples_split=10, n_estimators=200,\n",
              "                          random_state=42, subsample=0.8)</pre><b>In a Jupyter environment, please rerun this cell to show the HTML representation or trust the notebook. <br />On GitHub, the HTML representation is unable to render, please try loading this page with nbviewer.org.</b></div><div class=\"sk-container\" hidden><div class=\"sk-item\"><div class=\"sk-estimator fitted sk-toggleable\"><input class=\"sk-toggleable__control sk-hidden--visually\" id=\"sk-estimator-id-2\" type=\"checkbox\" checked><label for=\"sk-estimator-id-2\" class=\"sk-toggleable__label fitted sk-toggleable__label-arrow\"><div><div>GradientBoostingRegressor</div></div><div><a class=\"sk-estimator-doc-link fitted\" rel=\"noreferrer\" target=\"_blank\" href=\"https://scikit-learn.org/1.6/modules/generated/sklearn.ensemble.GradientBoostingRegressor.html\">?<span>Documentation for GradientBoostingRegressor</span></a><span class=\"sk-estimator-doc-link fitted\">i<span>Fitted</span></span></div></label><div class=\"sk-toggleable__content fitted\"><pre>GradientBoostingRegressor(learning_rate=0.05, max_depth=5, min_samples_leaf=5,\n",
              "                          min_samples_split=10, n_estimators=200,\n",
              "                          random_state=42, subsample=0.8)</pre></div> </div></div></div></div>"
            ],
            "text/plain": [
              "GradientBoostingRegressor(learning_rate=0.05, max_depth=5, min_samples_leaf=5,\n",
              "                          min_samples_split=10, n_estimators=200,\n",
              "                          random_state=42, subsample=0.8)"
            ]
          },
          "execution_count": 52,
          "metadata": {},
          "output_type": "execute_result"
        }
      ],
      "source": [
        "from sklearn.ensemble import GradientBoostingRegressor\n",
        "gb_model = GradientBoostingRegressor(\n",
        "    n_estimators=200,  # Number of trees\n",
        "    learning_rate=0.05,  # Step size\n",
        "    max_depth=5,\n",
        "    min_samples_split=10,\n",
        "    min_samples_leaf=5,\n",
        "    subsample=0.8,  # Use 80% of data per tree\n",
        "    random_state=42\n",
        ")\n",
        "\n",
        "gb_model.fit(X_train, y_train)"
      ]
    },
    {
      "cell_type": "code",
      "execution_count": null,
      "metadata": {
        "id": "GD_wJwobsthI"
      },
      "outputs": [],
      "source": [
        "y_pred = gb_model.predict(X_test)\n",
        "mae=mean_absolute_error( y_test, y_pred)\n",
        "mse = mean_squared_error(y_test, y_pred)\n",
        "r2 = r2_score(y_test, y_pred)"
      ]
    },
    {
      "cell_type": "code",
      "execution_count": null,
      "metadata": {
        "colab": {
          "base_uri": "https://localhost:8080/"
        },
        "id": "DptrwyjktB53",
        "outputId": "f7ed888d-c2ea-4daa-bfef-b33767924221"
      },
      "outputs": [
        {
          "name": "stdout",
          "output_type": "stream",
          "text": [
            "MAE: 0.3997\n",
            "MSE: 0.2505\n",
            "R² Score: 0.9128\n"
          ]
        }
      ],
      "source": [
        "print(f\"MAE: {mae:.4f}\")\n",
        "print(f\"MSE: {mse:.4f}\")\n",
        "print(f\"R² Score: {r2:.4f}\")"
      ]
    },
    {
      "cell_type": "markdown",
      "metadata": {
        "id": "Vh82_4SwrBq_"
      },
      "source": [
        "###Neural Networks"
      ]
    },
    {
      "cell_type": "code",
      "execution_count": null,
      "metadata": {
        "id": "tLRngrDrrGpt"
      },
      "outputs": [],
      "source": [
        "from tensorflow.keras import Sequential\n",
        "from tensorflow.keras.layers import Dense, Dropout"
      ]
    },
    {
      "cell_type": "code",
      "execution_count": null,
      "metadata": {
        "colab": {
          "base_uri": "https://localhost:8080/"
        },
        "id": "GGibgW-B8UfE",
        "outputId": "b51ff39d-ca3d-4e16-f41a-a3ca1427a0e1"
      },
      "outputs": [
        {
          "data": {
            "text/plain": [
              "20"
            ]
          },
          "execution_count": 56,
          "metadata": {},
          "output_type": "execute_result"
        }
      ],
      "source": [
        "n_features = X_train.shape[1]\n",
        "n_features"
      ]
    },
    {
      "cell_type": "code",
      "execution_count": null,
      "metadata": {
        "colab": {
          "base_uri": "https://localhost:8080/"
        },
        "id": "X14I2mRJ8Yuq",
        "outputId": "55ce739e-fd2b-43e8-e7d2-cbb6f5466fe0"
      },
      "outputs": [
        {
          "name": "stderr",
          "output_type": "stream",
          "text": [
            "/usr/local/lib/python3.11/dist-packages/keras/src/layers/core/dense.py:87: UserWarning: Do not pass an `input_shape`/`input_dim` argument to a layer. When using Sequential models, prefer using an `Input(shape)` object as the first layer in the model instead.\n",
            "  super().__init__(activity_regularizer=activity_regularizer, **kwargs)\n"
          ]
        }
      ],
      "source": [
        "# define model\n",
        "model1 = Sequential()\n",
        "model1.add(Dense(5, activation='relu', input_shape=(n_features,)))\n",
        "model1.add(Dense(100, activation='relu'))\n",
        "# model1.add(Dense(800, activation='relu'))\n",
        "# model1.add(Dense(8, activation='relu'))\n",
        "# model1.add(Dropout(0.2))\n",
        "model1.add(Dense(1, activation='linear'))"
      ]
    },
    {
      "cell_type": "code",
      "execution_count": null,
      "metadata": {
        "colab": {
          "base_uri": "https://localhost:8080/",
          "height": 225
        },
        "id": "t39oeE2B8b_4",
        "outputId": "8fad1f0b-2a9c-482d-ccc8-4edf38d95dad"
      },
      "outputs": [
        {
          "data": {
            "text/html": [
              "<pre style=\"white-space:pre;overflow-x:auto;line-height:normal;font-family:Menlo,'DejaVu Sans Mono',consolas,'Courier New',monospace\"><span style=\"font-weight: bold\">Model: \"sequential\"</span>\n",
              "</pre>\n"
            ],
            "text/plain": [
              "\u001b[1mModel: \"sequential\"\u001b[0m\n"
            ]
          },
          "metadata": {},
          "output_type": "display_data"
        },
        {
          "data": {
            "text/html": [
              "<pre style=\"white-space:pre;overflow-x:auto;line-height:normal;font-family:Menlo,'DejaVu Sans Mono',consolas,'Courier New',monospace\">┏━━━━━━━━━━━━━━━━━━━━━━━━━━━━━━━━━━━━━━┳━━━━━━━━━━━━━━━━━━━━━━━━━━━━━┳━━━━━━━━━━━━━━━━━┓\n",
              "┃<span style=\"font-weight: bold\"> Layer (type)                         </span>┃<span style=\"font-weight: bold\"> Output Shape                </span>┃<span style=\"font-weight: bold\">         Param # </span>┃\n",
              "┡━━━━━━━━━━━━━━━━━━━━━━━━━━━━━━━━━━━━━━╇━━━━━━━━━━━━━━━━━━━━━━━━━━━━━╇━━━━━━━━━━━━━━━━━┩\n",
              "│ dense (<span style=\"color: #0087ff; text-decoration-color: #0087ff\">Dense</span>)                        │ (<span style=\"color: #00d7ff; text-decoration-color: #00d7ff\">None</span>, <span style=\"color: #00af00; text-decoration-color: #00af00\">5</span>)                   │             <span style=\"color: #00af00; text-decoration-color: #00af00\">105</span> │\n",
              "├──────────────────────────────────────┼─────────────────────────────┼─────────────────┤\n",
              "│ dense_1 (<span style=\"color: #0087ff; text-decoration-color: #0087ff\">Dense</span>)                      │ (<span style=\"color: #00d7ff; text-decoration-color: #00d7ff\">None</span>, <span style=\"color: #00af00; text-decoration-color: #00af00\">100</span>)                 │             <span style=\"color: #00af00; text-decoration-color: #00af00\">600</span> │\n",
              "├──────────────────────────────────────┼─────────────────────────────┼─────────────────┤\n",
              "│ dense_2 (<span style=\"color: #0087ff; text-decoration-color: #0087ff\">Dense</span>)                      │ (<span style=\"color: #00d7ff; text-decoration-color: #00d7ff\">None</span>, <span style=\"color: #00af00; text-decoration-color: #00af00\">1</span>)                   │             <span style=\"color: #00af00; text-decoration-color: #00af00\">101</span> │\n",
              "└──────────────────────────────────────┴─────────────────────────────┴─────────────────┘\n",
              "</pre>\n"
            ],
            "text/plain": [
              "┏━━━━━━━━━━━━━━━━━━━━━━━━━━━━━━━━━━━━━━┳━━━━━━━━━━━━━━━━━━━━━━━━━━━━━┳━━━━━━━━━━━━━━━━━┓\n",
              "┃\u001b[1m \u001b[0m\u001b[1mLayer (type)                        \u001b[0m\u001b[1m \u001b[0m┃\u001b[1m \u001b[0m\u001b[1mOutput Shape               \u001b[0m\u001b[1m \u001b[0m┃\u001b[1m \u001b[0m\u001b[1m        Param #\u001b[0m\u001b[1m \u001b[0m┃\n",
              "┡━━━━━━━━━━━━━━━━━━━━━━━━━━━━━━━━━━━━━━╇━━━━━━━━━━━━━━━━━━━━━━━━━━━━━╇━━━━━━━━━━━━━━━━━┩\n",
              "│ dense (\u001b[38;5;33mDense\u001b[0m)                        │ (\u001b[38;5;45mNone\u001b[0m, \u001b[38;5;34m5\u001b[0m)                   │             \u001b[38;5;34m105\u001b[0m │\n",
              "├──────────────────────────────────────┼─────────────────────────────┼─────────────────┤\n",
              "│ dense_1 (\u001b[38;5;33mDense\u001b[0m)                      │ (\u001b[38;5;45mNone\u001b[0m, \u001b[38;5;34m100\u001b[0m)                 │             \u001b[38;5;34m600\u001b[0m │\n",
              "├──────────────────────────────────────┼─────────────────────────────┼─────────────────┤\n",
              "│ dense_2 (\u001b[38;5;33mDense\u001b[0m)                      │ (\u001b[38;5;45mNone\u001b[0m, \u001b[38;5;34m1\u001b[0m)                   │             \u001b[38;5;34m101\u001b[0m │\n",
              "└──────────────────────────────────────┴─────────────────────────────┴─────────────────┘\n"
            ]
          },
          "metadata": {},
          "output_type": "display_data"
        },
        {
          "data": {
            "text/html": [
              "<pre style=\"white-space:pre;overflow-x:auto;line-height:normal;font-family:Menlo,'DejaVu Sans Mono',consolas,'Courier New',monospace\"><span style=\"font-weight: bold\"> Total params: </span><span style=\"color: #00af00; text-decoration-color: #00af00\">806</span> (3.15 KB)\n",
              "</pre>\n"
            ],
            "text/plain": [
              "\u001b[1m Total params: \u001b[0m\u001b[38;5;34m806\u001b[0m (3.15 KB)\n"
            ]
          },
          "metadata": {},
          "output_type": "display_data"
        },
        {
          "data": {
            "text/html": [
              "<pre style=\"white-space:pre;overflow-x:auto;line-height:normal;font-family:Menlo,'DejaVu Sans Mono',consolas,'Courier New',monospace\"><span style=\"font-weight: bold\"> Trainable params: </span><span style=\"color: #00af00; text-decoration-color: #00af00\">806</span> (3.15 KB)\n",
              "</pre>\n"
            ],
            "text/plain": [
              "\u001b[1m Trainable params: \u001b[0m\u001b[38;5;34m806\u001b[0m (3.15 KB)\n"
            ]
          },
          "metadata": {},
          "output_type": "display_data"
        },
        {
          "data": {
            "text/html": [
              "<pre style=\"white-space:pre;overflow-x:auto;line-height:normal;font-family:Menlo,'DejaVu Sans Mono',consolas,'Courier New',monospace\"><span style=\"font-weight: bold\"> Non-trainable params: </span><span style=\"color: #00af00; text-decoration-color: #00af00\">0</span> (0.00 B)\n",
              "</pre>\n"
            ],
            "text/plain": [
              "\u001b[1m Non-trainable params: \u001b[0m\u001b[38;5;34m0\u001b[0m (0.00 B)\n"
            ]
          },
          "metadata": {},
          "output_type": "display_data"
        }
      ],
      "source": [
        "model1.summary()"
      ]
    },
    {
      "cell_type": "code",
      "execution_count": null,
      "metadata": {
        "id": "aSIXDrT98fvp"
      },
      "outputs": [],
      "source": [
        "model1.compile(optimizer='adam',loss=\"mse\", metrics=['mae'])"
      ]
    },
    {
      "cell_type": "code",
      "execution_count": null,
      "metadata": {
        "colab": {
          "base_uri": "https://localhost:8080/"
        },
        "id": "Irj5RrNS8iSu",
        "outputId": "98567588-ad61-4d0b-f64e-50015c0a4f10"
      },
      "outputs": [
        {
          "name": "stdout",
          "output_type": "stream",
          "text": [
            "Epoch 1/100\n",
            "2653/2653 - 9s - 3ms/step - loss: 5.5546 - mae: 1.1335 - val_loss: 1.2527 - val_mae: 0.9143\n",
            "Epoch 2/100\n",
            "2653/2653 - 9s - 3ms/step - loss: 1.2700 - mae: 0.9201 - val_loss: 2.1280 - val_mae: 1.1910\n",
            "Epoch 3/100\n",
            "2653/2653 - 11s - 4ms/step - loss: 1.2194 - mae: 0.9004 - val_loss: 1.9292 - val_mae: 1.1343\n",
            "Epoch 4/100\n",
            "2653/2653 - 10s - 4ms/step - loss: 0.3820 - mae: 0.4827 - val_loss: 0.2698 - val_mae: 0.4146\n",
            "Epoch 5/100\n",
            "2653/2653 - 7s - 3ms/step - loss: 0.2713 - mae: 0.4154 - val_loss: 0.2632 - val_mae: 0.4090\n",
            "Epoch 6/100\n",
            "2653/2653 - 7s - 3ms/step - loss: 0.2622 - mae: 0.4084 - val_loss: 0.2590 - val_mae: 0.4058\n",
            "Epoch 7/100\n",
            "2653/2653 - 8s - 3ms/step - loss: 0.2590 - mae: 0.4058 - val_loss: 0.2554 - val_mae: 0.4032\n",
            "Epoch 8/100\n",
            "2653/2653 - 9s - 4ms/step - loss: 0.2575 - mae: 0.4046 - val_loss: 0.2524 - val_mae: 0.4006\n",
            "Epoch 9/100\n",
            "2653/2653 - 8s - 3ms/step - loss: 0.2564 - mae: 0.4038 - val_loss: 0.2526 - val_mae: 0.4007\n",
            "Epoch 10/100\n",
            "2653/2653 - 9s - 3ms/step - loss: 0.2563 - mae: 0.4037 - val_loss: 0.2529 - val_mae: 0.4009\n",
            "Epoch 11/100\n",
            "2653/2653 - 7s - 3ms/step - loss: 0.2562 - mae: 0.4036 - val_loss: 0.2534 - val_mae: 0.4013\n",
            "Epoch 12/100\n",
            "2653/2653 - 10s - 4ms/step - loss: 0.2560 - mae: 0.4035 - val_loss: 0.2538 - val_mae: 0.4017\n",
            "Epoch 13/100\n",
            "2653/2653 - 11s - 4ms/step - loss: 0.2559 - mae: 0.4034 - val_loss: 0.2542 - val_mae: 0.4020\n",
            "Epoch 14/100\n",
            "2653/2653 - 7s - 3ms/step - loss: 0.2558 - mae: 0.4034 - val_loss: 0.2546 - val_mae: 0.4023\n",
            "Epoch 15/100\n",
            "2653/2653 - 9s - 3ms/step - loss: 0.2557 - mae: 0.4033 - val_loss: 0.2550 - val_mae: 0.4025\n",
            "Epoch 16/100\n",
            "2653/2653 - 8s - 3ms/step - loss: 0.2555 - mae: 0.4032 - val_loss: 0.2552 - val_mae: 0.4027\n",
            "Epoch 17/100\n",
            "2653/2653 - 9s - 3ms/step - loss: 0.2554 - mae: 0.4031 - val_loss: 0.2553 - val_mae: 0.4028\n",
            "Epoch 18/100\n",
            "2653/2653 - 10s - 4ms/step - loss: 0.2553 - mae: 0.4030 - val_loss: 0.2554 - val_mae: 0.4029\n",
            "Epoch 19/100\n",
            "2653/2653 - 10s - 4ms/step - loss: 0.2552 - mae: 0.4030 - val_loss: 0.2554 - val_mae: 0.4029\n",
            "Epoch 20/100\n",
            "2653/2653 - 10s - 4ms/step - loss: 0.2551 - mae: 0.4029 - val_loss: 0.2554 - val_mae: 0.4029\n",
            "Epoch 21/100\n",
            "2653/2653 - 10s - 4ms/step - loss: 0.2551 - mae: 0.4028 - val_loss: 0.2553 - val_mae: 0.4028\n",
            "Epoch 22/100\n",
            "2653/2653 - 11s - 4ms/step - loss: 0.2550 - mae: 0.4028 - val_loss: 0.2552 - val_mae: 0.4028\n",
            "Epoch 23/100\n",
            "2653/2653 - 7s - 3ms/step - loss: 0.2549 - mae: 0.4027 - val_loss: 0.2552 - val_mae: 0.4027\n",
            "Epoch 24/100\n",
            "2653/2653 - 11s - 4ms/step - loss: 0.2549 - mae: 0.4026 - val_loss: 0.2551 - val_mae: 0.4026\n",
            "Epoch 25/100\n",
            "2653/2653 - 8s - 3ms/step - loss: 0.2548 - mae: 0.4026 - val_loss: 0.2550 - val_mae: 0.4026\n",
            "Epoch 26/100\n",
            "2653/2653 - 7s - 3ms/step - loss: 0.2548 - mae: 0.4026 - val_loss: 0.2549 - val_mae: 0.4025\n",
            "Epoch 27/100\n",
            "2653/2653 - 10s - 4ms/step - loss: 0.2547 - mae: 0.4025 - val_loss: 0.2548 - val_mae: 0.4024\n",
            "Epoch 28/100\n",
            "2653/2653 - 11s - 4ms/step - loss: 0.2546 - mae: 0.4025 - val_loss: 0.2547 - val_mae: 0.4023\n",
            "Epoch 29/100\n",
            "2653/2653 - 9s - 3ms/step - loss: 0.2546 - mae: 0.4024 - val_loss: 0.2546 - val_mae: 0.4023\n",
            "Epoch 30/100\n",
            "2653/2653 - 7s - 3ms/step - loss: 0.2546 - mae: 0.4024 - val_loss: 0.2546 - val_mae: 0.4022\n",
            "Epoch 31/100\n",
            "2653/2653 - 8s - 3ms/step - loss: 0.2545 - mae: 0.4024 - val_loss: 0.2545 - val_mae: 0.4022\n",
            "Epoch 32/100\n",
            "2653/2653 - 6s - 2ms/step - loss: 0.2545 - mae: 0.4023 - val_loss: 0.2545 - val_mae: 0.4022\n",
            "Epoch 33/100\n",
            "2653/2653 - 8s - 3ms/step - loss: 0.2545 - mae: 0.4023 - val_loss: 0.2544 - val_mae: 0.4021\n",
            "Epoch 34/100\n",
            "2653/2653 - 7s - 3ms/step - loss: 0.2544 - mae: 0.4023 - val_loss: 0.2544 - val_mae: 0.4021\n",
            "Epoch 35/100\n",
            "2653/2653 - 10s - 4ms/step - loss: 0.2544 - mae: 0.4023 - val_loss: 0.2544 - val_mae: 0.4021\n",
            "Epoch 36/100\n",
            "2653/2653 - 8s - 3ms/step - loss: 0.2544 - mae: 0.4022 - val_loss: 0.2543 - val_mae: 0.4020\n",
            "Epoch 37/100\n",
            "2653/2653 - 7s - 3ms/step - loss: 0.2543 - mae: 0.4022 - val_loss: 0.2543 - val_mae: 0.4020\n",
            "Epoch 38/100\n",
            "2653/2653 - 8s - 3ms/step - loss: 0.2543 - mae: 0.4022 - val_loss: 0.2543 - val_mae: 0.4020\n",
            "Epoch 39/100\n",
            "2653/2653 - 10s - 4ms/step - loss: 0.2543 - mae: 0.4022 - val_loss: 0.2542 - val_mae: 0.4019\n",
            "Epoch 40/100\n",
            "2653/2653 - 8s - 3ms/step - loss: 0.2543 - mae: 0.4022 - val_loss: 0.2542 - val_mae: 0.4019\n",
            "Epoch 41/100\n",
            "2653/2653 - 10s - 4ms/step - loss: 0.2542 - mae: 0.4021 - val_loss: 0.2542 - val_mae: 0.4019\n",
            "Epoch 42/100\n",
            "2653/2653 - 11s - 4ms/step - loss: 0.2542 - mae: 0.4021 - val_loss: 0.2541 - val_mae: 0.4019\n",
            "Epoch 43/100\n",
            "2653/2653 - 8s - 3ms/step - loss: 0.2542 - mae: 0.4021 - val_loss: 0.2541 - val_mae: 0.4019\n",
            "Epoch 44/100\n",
            "2653/2653 - 9s - 3ms/step - loss: 0.2541 - mae: 0.4020 - val_loss: 0.2541 - val_mae: 0.4018\n",
            "Epoch 45/100\n",
            "2653/2653 - 7s - 3ms/step - loss: 0.2541 - mae: 0.4020 - val_loss: 0.2541 - val_mae: 0.4018\n",
            "Epoch 46/100\n",
            "2653/2653 - 7s - 3ms/step - loss: 0.2541 - mae: 0.4020 - val_loss: 0.2541 - val_mae: 0.4018\n",
            "Epoch 47/100\n",
            "2653/2653 - 10s - 4ms/step - loss: 0.2541 - mae: 0.4020 - val_loss: 0.2541 - val_mae: 0.4018\n",
            "Epoch 48/100\n",
            "2653/2653 - 10s - 4ms/step - loss: 0.2540 - mae: 0.4020 - val_loss: 0.2541 - val_mae: 0.4018\n",
            "Epoch 49/100\n",
            "2653/2653 - 10s - 4ms/step - loss: 0.2540 - mae: 0.4019 - val_loss: 0.2540 - val_mae: 0.4018\n",
            "Epoch 50/100\n",
            "2653/2653 - 10s - 4ms/step - loss: 0.2540 - mae: 0.4019 - val_loss: 0.2540 - val_mae: 0.4018\n",
            "Epoch 51/100\n",
            "2653/2653 - 7s - 3ms/step - loss: 0.2540 - mae: 0.4019 - val_loss: 0.2540 - val_mae: 0.4018\n",
            "Epoch 52/100\n",
            "2653/2653 - 10s - 4ms/step - loss: 0.2539 - mae: 0.4019 - val_loss: 0.2540 - val_mae: 0.4018\n",
            "Epoch 53/100\n",
            "2653/2653 - 10s - 4ms/step - loss: 0.2539 - mae: 0.4019 - val_loss: 0.2540 - val_mae: 0.4018\n",
            "Epoch 54/100\n",
            "2653/2653 - 11s - 4ms/step - loss: 0.2539 - mae: 0.4018 - val_loss: 0.2540 - val_mae: 0.4018\n",
            "Epoch 55/100\n",
            "2653/2653 - 7s - 3ms/step - loss: 0.2538 - mae: 0.4018 - val_loss: 0.2540 - val_mae: 0.4018\n",
            "Epoch 56/100\n",
            "2653/2653 - 10s - 4ms/step - loss: 0.2538 - mae: 0.4018 - val_loss: 0.2540 - val_mae: 0.4018\n",
            "Epoch 57/100\n",
            "2653/2653 - 10s - 4ms/step - loss: 0.2538 - mae: 0.4018 - val_loss: 0.2540 - val_mae: 0.4018\n",
            "Epoch 58/100\n",
            "2653/2653 - 8s - 3ms/step - loss: 0.2538 - mae: 0.4018 - val_loss: 0.2540 - val_mae: 0.4018\n",
            "Epoch 59/100\n",
            "2653/2653 - 9s - 3ms/step - loss: 0.2538 - mae: 0.4018 - val_loss: 0.2540 - val_mae: 0.4018\n",
            "Epoch 60/100\n",
            "2653/2653 - 9s - 3ms/step - loss: 0.2538 - mae: 0.4017 - val_loss: 0.2540 - val_mae: 0.4018\n",
            "Epoch 61/100\n",
            "2653/2653 - 8s - 3ms/step - loss: 0.2537 - mae: 0.4017 - val_loss: 0.2540 - val_mae: 0.4018\n",
            "Epoch 62/100\n",
            "2653/2653 - 7s - 3ms/step - loss: 0.2537 - mae: 0.4017 - val_loss: 0.2540 - val_mae: 0.4018\n",
            "Epoch 63/100\n",
            "2653/2653 - 8s - 3ms/step - loss: 0.2537 - mae: 0.4017 - val_loss: 0.2540 - val_mae: 0.4018\n",
            "Epoch 64/100\n",
            "2653/2653 - 7s - 3ms/step - loss: 0.2537 - mae: 0.4017 - val_loss: 0.2540 - val_mae: 0.4018\n",
            "Epoch 65/100\n",
            "2653/2653 - 9s - 3ms/step - loss: 0.2537 - mae: 0.4017 - val_loss: 0.2540 - val_mae: 0.4017\n",
            "Epoch 66/100\n",
            "2653/2653 - 11s - 4ms/step - loss: 0.2537 - mae: 0.4016 - val_loss: 0.2539 - val_mae: 0.4017\n",
            "Epoch 67/100\n",
            "2653/2653 - 8s - 3ms/step - loss: 0.2536 - mae: 0.4016 - val_loss: 0.2539 - val_mae: 0.4017\n",
            "Epoch 68/100\n",
            "2653/2653 - 7s - 3ms/step - loss: 0.2536 - mae: 0.4016 - val_loss: 0.2539 - val_mae: 0.4017\n",
            "Epoch 69/100\n",
            "2653/2653 - 10s - 4ms/step - loss: 0.2536 - mae: 0.4016 - val_loss: 0.2539 - val_mae: 0.4017\n",
            "Epoch 70/100\n",
            "2653/2653 - 9s - 4ms/step - loss: 0.2536 - mae: 0.4016 - val_loss: 0.2539 - val_mae: 0.4017\n",
            "Epoch 71/100\n",
            "2653/2653 - 12s - 5ms/step - loss: 0.2536 - mae: 0.4016 - val_loss: 0.2538 - val_mae: 0.4016\n",
            "Epoch 72/100\n",
            "2653/2653 - 7s - 3ms/step - loss: 0.2536 - mae: 0.4015 - val_loss: 0.2538 - val_mae: 0.4016\n",
            "Epoch 73/100\n",
            "2653/2653 - 7s - 3ms/step - loss: 0.2535 - mae: 0.4015 - val_loss: 0.2537 - val_mae: 0.4016\n",
            "Epoch 74/100\n",
            "2653/2653 - 7s - 3ms/step - loss: 0.2535 - mae: 0.4015 - val_loss: 0.2537 - val_mae: 0.4015\n",
            "Epoch 75/100\n",
            "2653/2653 - 9s - 3ms/step - loss: 0.2535 - mae: 0.4015 - val_loss: 0.2536 - val_mae: 0.4015\n",
            "Epoch 76/100\n",
            "2653/2653 - 11s - 4ms/step - loss: 0.2535 - mae: 0.4015 - val_loss: 0.2536 - val_mae: 0.4014\n",
            "Epoch 77/100\n",
            "2653/2653 - 8s - 3ms/step - loss: 0.2534 - mae: 0.4014 - val_loss: 0.2535 - val_mae: 0.4014\n",
            "Epoch 78/100\n",
            "2653/2653 - 6s - 2ms/step - loss: 0.2534 - mae: 0.4014 - val_loss: 0.2535 - val_mae: 0.4014\n",
            "Epoch 79/100\n",
            "2653/2653 - 8s - 3ms/step - loss: 0.2534 - mae: 0.4014 - val_loss: 0.2534 - val_mae: 0.4013\n",
            "Epoch 80/100\n",
            "2653/2653 - 7s - 3ms/step - loss: 0.2534 - mae: 0.4014 - val_loss: 0.2534 - val_mae: 0.4013\n",
            "Epoch 81/100\n",
            "2653/2653 - 7s - 3ms/step - loss: 0.2534 - mae: 0.4014 - val_loss: 0.2533 - val_mae: 0.4013\n",
            "Epoch 82/100\n",
            "2653/2653 - 7s - 3ms/step - loss: 0.2533 - mae: 0.4014 - val_loss: 0.2533 - val_mae: 0.4012\n",
            "Epoch 83/100\n",
            "2653/2653 - 10s - 4ms/step - loss: 0.2533 - mae: 0.4014 - val_loss: 0.2532 - val_mae: 0.4012\n",
            "Epoch 84/100\n",
            "2653/2653 - 10s - 4ms/step - loss: 0.2533 - mae: 0.4013 - val_loss: 0.2532 - val_mae: 0.4011\n",
            "Epoch 85/100\n",
            "2653/2653 - 11s - 4ms/step - loss: 0.2533 - mae: 0.4013 - val_loss: 0.2531 - val_mae: 0.4011\n",
            "Epoch 86/100\n",
            "2653/2653 - 8s - 3ms/step - loss: 0.2533 - mae: 0.4013 - val_loss: 0.2530 - val_mae: 0.4010\n",
            "Epoch 87/100\n",
            "2653/2653 - 9s - 4ms/step - loss: 0.2533 - mae: 0.4013 - val_loss: 0.2530 - val_mae: 0.4010\n",
            "Epoch 88/100\n",
            "2653/2653 - 10s - 4ms/step - loss: 0.2532 - mae: 0.4013 - val_loss: 0.2529 - val_mae: 0.4009\n",
            "Epoch 89/100\n",
            "2653/2653 - 9s - 3ms/step - loss: 0.2532 - mae: 0.4012 - val_loss: 0.2528 - val_mae: 0.4009\n",
            "Epoch 90/100\n",
            "2653/2653 - 11s - 4ms/step - loss: 0.2532 - mae: 0.4012 - val_loss: 0.2527 - val_mae: 0.4008\n",
            "Epoch 91/100\n",
            "2653/2653 - 7s - 3ms/step - loss: 0.2532 - mae: 0.4012 - val_loss: 0.2526 - val_mae: 0.4007\n",
            "Epoch 92/100\n",
            "2653/2653 - 9s - 3ms/step - loss: 0.2531 - mae: 0.4012 - val_loss: 0.2526 - val_mae: 0.4007\n",
            "Epoch 93/100\n",
            "2653/2653 - 11s - 4ms/step - loss: 0.2531 - mae: 0.4012 - val_loss: 0.2525 - val_mae: 0.4007\n",
            "Epoch 94/100\n",
            "2653/2653 - 11s - 4ms/step - loss: 0.2531 - mae: 0.4012 - val_loss: 0.2525 - val_mae: 0.4006\n",
            "Epoch 95/100\n",
            "2653/2653 - 11s - 4ms/step - loss: 0.2531 - mae: 0.4011 - val_loss: 0.2524 - val_mae: 0.4006\n",
            "Epoch 96/100\n",
            "2653/2653 - 9s - 4ms/step - loss: 0.2531 - mae: 0.4011 - val_loss: 0.2524 - val_mae: 0.4006\n",
            "Epoch 97/100\n",
            "2653/2653 - 7s - 3ms/step - loss: 0.2531 - mae: 0.4011 - val_loss: 0.2523 - val_mae: 0.4005\n",
            "Epoch 98/100\n",
            "2653/2653 - 11s - 4ms/step - loss: 0.2530 - mae: 0.4011 - val_loss: 0.2523 - val_mae: 0.4005\n",
            "Epoch 99/100\n",
            "2653/2653 - 7s - 2ms/step - loss: 0.2530 - mae: 0.4011 - val_loss: 0.2522 - val_mae: 0.4005\n",
            "Epoch 100/100\n",
            "2653/2653 - 6s - 2ms/step - loss: 0.2530 - mae: 0.4010 - val_loss: 0.2522 - val_mae: 0.4005\n"
          ]
        }
      ],
      "source": [
        "# fit the model (training)\n",
        "history = model1.fit( X_train, y_train, epochs=100, batch_size=64,\n",
        "                     validation_split=0.3, verbose=2,shuffle=False)"
      ]
    },
    {
      "cell_type": "code",
      "execution_count": null,
      "metadata": {
        "colab": {
          "base_uri": "https://localhost:8080/"
        },
        "id": "Y1NQnUz-8k3E",
        "outputId": "4d97ff24-65fc-4ad6-848a-265fc4afbfa7"
      },
      "outputs": [
        {
          "name": "stdout",
          "output_type": "stream",
          "text": [
            "Test mae: 0.3992\n"
          ]
        }
      ],
      "source": [
        "loss, mae = model1.evaluate(X_test, y_test, verbose=0)\n",
        "print('Test mae: %.4f' % mae)"
      ]
    },
    {
      "cell_type": "code",
      "execution_count": null,
      "metadata": {
        "colab": {
          "base_uri": "https://localhost:8080/",
          "height": 472
        },
        "id": "8l-U0f8SF47p",
        "outputId": "7ded2c41-0c83-46c9-cf90-7091a58343df"
      },
      "outputs": [
        {
          "data": {
            "image/png": "[encoded data removed]",
            "text/plain": [
              "<Figure size 640x480 with 1 Axes>"
            ]
          },
          "metadata": {},
          "output_type": "display_data"
        }
      ],
      "source": [
        "import matplotlib.pyplot as plt\n",
        "plt.plot(history.history['loss'], label='Training Loss')  # Training Loss\n",
        "plt.plot(history.history['val_loss'], label='Validation Loss')  # Validation Loss\n",
        "plt.xlabel(\"Epochs\")\n",
        "plt.ylabel(\"Loss\")\n",
        "plt.legend()\n",
        "plt.title(\"Training vs Validation Loss\")\n",
        "plt.show()"
      ]
    },
    {
      "cell_type": "code",
      "execution_count": null,
      "metadata": {
        "colab": {
          "base_uri": "https://localhost:8080/"
        },
        "id": "tLfF0F8oMryU",
        "outputId": "05ce8529-6608-42ee-ffaa-db069c19bf6d"
      },
      "outputs": [
        {
          "name": "stdout",
          "output_type": "stream",
          "text": [
            "\u001b[1m1895/1895\u001b[0m \u001b[32m━━━━━━━━━━━━━━━━━━━━\u001b[0m\u001b[37m\u001b[0m \u001b[1m2s\u001b[0m 1ms/step\n"
          ]
        }
      ],
      "source": [
        "y_pred = model1.predict(X_test)"
      ]
    },
    {
      "cell_type": "code",
      "execution_count": null,
      "metadata": {
        "colab": {
          "base_uri": "https://localhost:8080/"
        },
        "id": "jaFQYFAX9xo4",
        "outputId": "f0a7a641-4981-4fad-ca43-1c70520dd89e"
      },
      "outputs": [
        {
          "name": "stdout",
          "output_type": "stream",
          "text": [
            "Testing MAE: 0.39921957166946537\n",
            "Testing MSE: 0.24989251564126194\n",
            "Testing R²: 0.9130587637640201\n"
          ]
        }
      ],
      "source": [
        "test_mae=mean_absolute_error( y_test, y_pred)\n",
        "print(f\"Testing MAE: {test_mae}\")\n",
        "test_mse=mean_squared_error( y_test, y_pred)\n",
        "print(f\"Testing MSE: {test_mse}\")\n",
        "test_r2 = r2_score(y_test, y_pred)\n",
        "print(f\"Testing R²: {test_r2}\")"
      ]
    },
    {
      "cell_type": "code",
      "execution_count": null,
      "metadata": {
        "id": "Nwnj25AkF0xF"
      },
      "outputs": [],
      "source": []
    },
    {
      "cell_type": "markdown",
      "metadata": {
        "id": "tDIYbL5K80Wh"
      },
      "source": [
        "###Dropout Layer"
      ]
    },
    {
      "cell_type": "code",
      "execution_count": null,
      "metadata": {
        "colab": {
          "base_uri": "https://localhost:8080/"
        },
        "id": "QBXK12SQ8xwY",
        "outputId": "ddc38929-5b39-4890-b8e5-ad1b39c5116c"
      },
      "outputs": [
        {
          "name": "stderr",
          "output_type": "stream",
          "text": [
            "/usr/local/lib/python3.11/dist-packages/keras/src/layers/core/dense.py:87: UserWarning: Do not pass an `input_shape`/`input_dim` argument to a layer. When using Sequential models, prefer using an `Input(shape)` object as the first layer in the model instead.\n",
            "  super().__init__(activity_regularizer=activity_regularizer, **kwargs)\n"
          ]
        }
      ],
      "source": [
        "model1 = Sequential()\n",
        "model1.add(Dense(5, activation='relu', input_shape=(n_features,)))\n",
        "model1.add(Dense(100, activation='relu'))\n",
        "#model1.add(Dense(800, activation='relu'))\n",
        "# model1.add(Dense(8, activation='relu'))\n",
        "model1.add(Dropout(0.1))\n",
        "model1.add(Dense(1, activation='linear'))"
      ]
    },
    {
      "cell_type": "code",
      "execution_count": null,
      "metadata": {
        "id": "0zRuFEJr86_W"
      },
      "outputs": [],
      "source": [
        "\n",
        "model1.compile(optimizer='Adam',loss=\"mse\", metrics=['mae'])"
      ]
    },
    {
      "cell_type": "code",
      "execution_count": null,
      "metadata": {
        "colab": {
          "base_uri": "https://localhost:8080/"
        },
        "id": "aSAkzdF989ri",
        "outputId": "79008f25-f9e7-4bf7-fa00-d30c721a7c43"
      },
      "outputs": [
        {
          "name": "stdout",
          "output_type": "stream",
          "text": [
            "Epoch 1/100\n",
            "2653/2653 - 10s - 4ms/step - loss: 20.2199 - mae: 2.2529 - val_loss: 0.9531 - val_mae: 0.7939\n",
            "Epoch 2/100\n",
            "2653/2653 - 9s - 3ms/step - loss: 0.6668 - mae: 0.6417 - val_loss: 0.3100 - val_mae: 0.4439\n",
            "Epoch 3/100\n",
            "2653/2653 - 8s - 3ms/step - loss: 0.4263 - mae: 0.5167 - val_loss: 0.3054 - val_mae: 0.4409\n",
            "Epoch 4/100\n",
            "2653/2653 - 11s - 4ms/step - loss: 0.3928 - mae: 0.4959 - val_loss: 0.2636 - val_mae: 0.4093\n",
            "Epoch 5/100\n",
            "2653/2653 - 7s - 3ms/step - loss: 0.3757 - mae: 0.4858 - val_loss: 0.2877 - val_mae: 0.4277\n",
            "Epoch 6/100\n",
            "2653/2653 - 10s - 4ms/step - loss: 0.3628 - mae: 0.4771 - val_loss: 0.3594 - val_mae: 0.4801\n",
            "Epoch 7/100\n",
            "2653/2653 - 10s - 4ms/step - loss: 0.3503 - mae: 0.4697 - val_loss: 0.3063 - val_mae: 0.4417\n",
            "Epoch 8/100\n",
            "2653/2653 - 8s - 3ms/step - loss: 0.3413 - mae: 0.4636 - val_loss: 0.2719 - val_mae: 0.4157\n",
            "Epoch 9/100\n",
            "2653/2653 - 9s - 3ms/step - loss: 0.3359 - mae: 0.4604 - val_loss: 0.3113 - val_mae: 0.4454\n",
            "Epoch 10/100\n",
            "2653/2653 - 11s - 4ms/step - loss: 0.3271 - mae: 0.4543 - val_loss: 0.2893 - val_mae: 0.4290\n",
            "Epoch 11/100\n",
            "2653/2653 - 9s - 3ms/step - loss: 0.3240 - mae: 0.4519 - val_loss: 0.2798 - val_mae: 0.4218\n",
            "Epoch 12/100\n",
            "2653/2653 - 10s - 4ms/step - loss: 0.3184 - mae: 0.4483 - val_loss: 0.2844 - val_mae: 0.4253\n",
            "Epoch 13/100\n",
            "2653/2653 - 8s - 3ms/step - loss: 0.3159 - mae: 0.4467 - val_loss: 0.3605 - val_mae: 0.4811\n",
            "Epoch 14/100\n",
            "2653/2653 - 7s - 3ms/step - loss: 0.3119 - mae: 0.4440 - val_loss: 0.3703 - val_mae: 0.4877\n",
            "Epoch 15/100\n",
            "2653/2653 - 7s - 3ms/step - loss: 0.3091 - mae: 0.4420 - val_loss: 0.3002 - val_mae: 0.4372\n",
            "Epoch 16/100\n",
            "2653/2653 - 10s - 4ms/step - loss: 0.3041 - mae: 0.4389 - val_loss: 0.2632 - val_mae: 0.4088\n",
            "Epoch 17/100\n",
            "2653/2653 - 7s - 3ms/step - loss: 0.3037 - mae: 0.4384 - val_loss: 0.2621 - val_mae: 0.4081\n",
            "Epoch 18/100\n",
            "2653/2653 - 7s - 2ms/step - loss: 0.3008 - mae: 0.4364 - val_loss: 0.2600 - val_mae: 0.4064\n",
            "Epoch 19/100\n",
            "2653/2653 - 8s - 3ms/step - loss: 0.2991 - mae: 0.4350 - val_loss: 0.2570 - val_mae: 0.4041\n",
            "Epoch 20/100\n",
            "2653/2653 - 7s - 3ms/step - loss: 0.2978 - mae: 0.4342 - val_loss: 0.2589 - val_mae: 0.4056\n",
            "Epoch 21/100\n",
            "2653/2653 - 7s - 3ms/step - loss: 0.2951 - mae: 0.4322 - val_loss: 0.2699 - val_mae: 0.4142\n",
            "Epoch 22/100\n",
            "2653/2653 - 8s - 3ms/step - loss: 0.2943 - mae: 0.4315 - val_loss: 0.2772 - val_mae: 0.4198\n",
            "Epoch 23/100\n",
            "2653/2653 - 9s - 3ms/step - loss: 0.2926 - mae: 0.4305 - val_loss: 0.2636 - val_mae: 0.4092\n",
            "Epoch 24/100\n",
            "2653/2653 - 7s - 3ms/step - loss: 0.2925 - mae: 0.4303 - val_loss: 0.2596 - val_mae: 0.4063\n",
            "Epoch 25/100\n",
            "2653/2653 - 8s - 3ms/step - loss: 0.2909 - mae: 0.4290 - val_loss: 0.2626 - val_mae: 0.4088\n",
            "Epoch 26/100\n",
            "2653/2653 - 10s - 4ms/step - loss: 0.2886 - mae: 0.4276 - val_loss: 0.2558 - val_mae: 0.4033\n",
            "Epoch 27/100\n",
            "2653/2653 - 8s - 3ms/step - loss: 0.2885 - mae: 0.4277 - val_loss: 0.2559 - val_mae: 0.4035\n",
            "Epoch 28/100\n",
            "2653/2653 - 8s - 3ms/step - loss: 0.2876 - mae: 0.4268 - val_loss: 0.2719 - val_mae: 0.4163\n",
            "Epoch 29/100\n",
            "2653/2653 - 10s - 4ms/step - loss: 0.2862 - mae: 0.4259 - val_loss: 0.2596 - val_mae: 0.4064\n",
            "Epoch 30/100\n",
            "2653/2653 - 8s - 3ms/step - loss: 0.2852 - mae: 0.4252 - val_loss: 0.2573 - val_mae: 0.4045\n",
            "Epoch 31/100\n",
            "2653/2653 - 8s - 3ms/step - loss: 0.2853 - mae: 0.4255 - val_loss: 0.2586 - val_mae: 0.4055\n",
            "Epoch 32/100\n",
            "2653/2653 - 7s - 3ms/step - loss: 0.2833 - mae: 0.4236 - val_loss: 0.2618 - val_mae: 0.4083\n",
            "Epoch 33/100\n",
            "2653/2653 - 11s - 4ms/step - loss: 0.2837 - mae: 0.4242 - val_loss: 0.2642 - val_mae: 0.4102\n",
            "Epoch 34/100\n",
            "2653/2653 - 9s - 4ms/step - loss: 0.2821 - mae: 0.4230 - val_loss: 0.2628 - val_mae: 0.4090\n",
            "Epoch 35/100\n",
            "2653/2653 - 7s - 3ms/step - loss: 0.2817 - mae: 0.4227 - val_loss: 0.2602 - val_mae: 0.4070\n",
            "Epoch 36/100\n",
            "2653/2653 - 8s - 3ms/step - loss: 0.2821 - mae: 0.4230 - val_loss: 0.2607 - val_mae: 0.4074\n",
            "Epoch 37/100\n",
            "2653/2653 - 7s - 3ms/step - loss: 0.2818 - mae: 0.4227 - val_loss: 0.2575 - val_mae: 0.4046\n",
            "Epoch 38/100\n",
            "2653/2653 - 7s - 3ms/step - loss: 0.2803 - mae: 0.4218 - val_loss: 0.2577 - val_mae: 0.4048\n",
            "Epoch 39/100\n",
            "2653/2653 - 11s - 4ms/step - loss: 0.2797 - mae: 0.4213 - val_loss: 0.2576 - val_mae: 0.4048\n",
            "Epoch 40/100\n",
            "2653/2653 - 11s - 4ms/step - loss: 0.2795 - mae: 0.4214 - val_loss: 0.2565 - val_mae: 0.4039\n",
            "Epoch 41/100\n",
            "2653/2653 - 9s - 3ms/step - loss: 0.2795 - mae: 0.4211 - val_loss: 0.2589 - val_mae: 0.4057\n",
            "Epoch 42/100\n",
            "2653/2653 - 8s - 3ms/step - loss: 0.2789 - mae: 0.4209 - val_loss: 0.2582 - val_mae: 0.4052\n",
            "Epoch 43/100\n",
            "2653/2653 - 7s - 3ms/step - loss: 0.2784 - mae: 0.4202 - val_loss: 0.2613 - val_mae: 0.4077\n",
            "Epoch 44/100\n",
            "2653/2653 - 10s - 4ms/step - loss: 0.2779 - mae: 0.4200 - val_loss: 0.2587 - val_mae: 0.4056\n",
            "Epoch 45/100\n",
            "2653/2653 - 10s - 4ms/step - loss: 0.2774 - mae: 0.4196 - val_loss: 0.2664 - val_mae: 0.4115\n",
            "Epoch 46/100\n",
            "2653/2653 - 11s - 4ms/step - loss: 0.2782 - mae: 0.4205 - val_loss: 0.2596 - val_mae: 0.4062\n",
            "Epoch 47/100\n",
            "2653/2653 - 8s - 3ms/step - loss: 0.2769 - mae: 0.4194 - val_loss: 0.2606 - val_mae: 0.4070\n",
            "Epoch 48/100\n",
            "2653/2653 - 10s - 4ms/step - loss: 0.2764 - mae: 0.4190 - val_loss: 0.2718 - val_mae: 0.4157\n",
            "Epoch 49/100\n",
            "2653/2653 - 10s - 4ms/step - loss: 0.2765 - mae: 0.4189 - val_loss: 0.2625 - val_mae: 0.4085\n",
            "Epoch 50/100\n",
            "2653/2653 - 10s - 4ms/step - loss: 0.2756 - mae: 0.4185 - val_loss: 0.2582 - val_mae: 0.4052\n",
            "Epoch 51/100\n",
            "2653/2653 - 8s - 3ms/step - loss: 0.2744 - mae: 0.4175 - val_loss: 0.2618 - val_mae: 0.4078\n",
            "Epoch 52/100\n",
            "2653/2653 - 9s - 3ms/step - loss: 0.2738 - mae: 0.4171 - val_loss: 0.2559 - val_mae: 0.4032\n",
            "Epoch 53/100\n",
            "2653/2653 - 8s - 3ms/step - loss: 0.2727 - mae: 0.4161 - val_loss: 0.2550 - val_mae: 0.4025\n",
            "Epoch 54/100\n",
            "2653/2653 - 11s - 4ms/step - loss: 0.2727 - mae: 0.4163 - val_loss: 0.2547 - val_mae: 0.4024\n",
            "Epoch 55/100\n",
            "2653/2653 - 10s - 4ms/step - loss: 0.2729 - mae: 0.4163 - val_loss: 0.2542 - val_mae: 0.4019\n",
            "Epoch 56/100\n",
            "2653/2653 - 7s - 3ms/step - loss: 0.2718 - mae: 0.4156 - val_loss: 0.2536 - val_mae: 0.4015\n",
            "Epoch 57/100\n",
            "2653/2653 - 10s - 4ms/step - loss: 0.2717 - mae: 0.4156 - val_loss: 0.2578 - val_mae: 0.4047\n",
            "Epoch 58/100\n",
            "2653/2653 - 8s - 3ms/step - loss: 0.2723 - mae: 0.4161 - val_loss: 0.2591 - val_mae: 0.4057\n",
            "Epoch 59/100\n",
            "2653/2653 - 9s - 3ms/step - loss: 0.2713 - mae: 0.4149 - val_loss: 0.2570 - val_mae: 0.4041\n",
            "Epoch 60/100\n",
            "2653/2653 - 10s - 4ms/step - loss: 0.2715 - mae: 0.4152 - val_loss: 0.2538 - val_mae: 0.4016\n",
            "Epoch 61/100\n",
            "2653/2653 - 10s - 4ms/step - loss: 0.2717 - mae: 0.4154 - val_loss: 0.2535 - val_mae: 0.4014\n",
            "Epoch 62/100\n",
            "2653/2653 - 7s - 3ms/step - loss: 0.2724 - mae: 0.4159 - val_loss: 0.2542 - val_mae: 0.4019\n",
            "Epoch 63/100\n",
            "2653/2653 - 10s - 4ms/step - loss: 0.2720 - mae: 0.4155 - val_loss: 0.2540 - val_mae: 0.4018\n",
            "Epoch 64/100\n",
            "2653/2653 - 9s - 3ms/step - loss: 0.2716 - mae: 0.4154 - val_loss: 0.2541 - val_mae: 0.4018\n",
            "Epoch 65/100\n",
            "2653/2653 - 11s - 4ms/step - loss: 0.2721 - mae: 0.4155 - val_loss: 0.2536 - val_mae: 0.4014\n",
            "Epoch 66/100\n",
            "2653/2653 - 8s - 3ms/step - loss: 0.2711 - mae: 0.4147 - val_loss: 0.2537 - val_mae: 0.4016\n",
            "Epoch 67/100\n",
            "2653/2653 - 6s - 2ms/step - loss: 0.2715 - mae: 0.4151 - val_loss: 0.2557 - val_mae: 0.4031\n",
            "Epoch 68/100\n",
            "2653/2653 - 11s - 4ms/step - loss: 0.2712 - mae: 0.4149 - val_loss: 0.2552 - val_mae: 0.4027\n",
            "Epoch 69/100\n",
            "2653/2653 - 10s - 4ms/step - loss: 0.2711 - mae: 0.4149 - val_loss: 0.2565 - val_mae: 0.4037\n",
            "Epoch 70/100\n",
            "2653/2653 - 11s - 4ms/step - loss: 0.2716 - mae: 0.4154 - val_loss: 0.2541 - val_mae: 0.4018\n",
            "Epoch 71/100\n",
            "2653/2653 - 10s - 4ms/step - loss: 0.2709 - mae: 0.4148 - val_loss: 0.2544 - val_mae: 0.4020\n",
            "Epoch 72/100\n",
            "2653/2653 - 7s - 3ms/step - loss: 0.2710 - mae: 0.4148 - val_loss: 0.2556 - val_mae: 0.4030\n",
            "Epoch 73/100\n",
            "2653/2653 - 9s - 3ms/step - loss: 0.2708 - mae: 0.4146 - val_loss: 0.2540 - val_mae: 0.4018\n",
            "Epoch 74/100\n",
            "2653/2653 - 8s - 3ms/step - loss: 0.2711 - mae: 0.4149 - val_loss: 0.2549 - val_mae: 0.4024\n",
            "Epoch 75/100\n",
            "2653/2653 - 10s - 4ms/step - loss: 0.2709 - mae: 0.4146 - val_loss: 0.2579 - val_mae: 0.4048\n",
            "Epoch 76/100\n",
            "2653/2653 - 10s - 4ms/step - loss: 0.2708 - mae: 0.4149 - val_loss: 0.2547 - val_mae: 0.4023\n",
            "Epoch 77/100\n",
            "2653/2653 - 8s - 3ms/step - loss: 0.2709 - mae: 0.4149 - val_loss: 0.2541 - val_mae: 0.4019\n",
            "Epoch 78/100\n",
            "2653/2653 - 7s - 3ms/step - loss: 0.2714 - mae: 0.4153 - val_loss: 0.2568 - val_mae: 0.4039\n",
            "Epoch 79/100\n",
            "2653/2653 - 10s - 4ms/step - loss: 0.2711 - mae: 0.4149 - val_loss: 0.2569 - val_mae: 0.4040\n",
            "Epoch 80/100\n",
            "2653/2653 - 9s - 3ms/step - loss: 0.2703 - mae: 0.4143 - val_loss: 0.2546 - val_mae: 0.4022\n",
            "Epoch 81/100\n",
            "2653/2653 - 7s - 3ms/step - loss: 0.2707 - mae: 0.4149 - val_loss: 0.2547 - val_mae: 0.4023\n",
            "Epoch 82/100\n",
            "2653/2653 - 9s - 4ms/step - loss: 0.2710 - mae: 0.4149 - val_loss: 0.2599 - val_mae: 0.4063\n",
            "Epoch 83/100\n",
            "2653/2653 - 11s - 4ms/step - loss: 0.2717 - mae: 0.4152 - val_loss: 0.2562 - val_mae: 0.4034\n",
            "Epoch 84/100\n",
            "2653/2653 - 7s - 3ms/step - loss: 0.2711 - mae: 0.4150 - val_loss: 0.2529 - val_mae: 0.4010\n",
            "Epoch 85/100\n",
            "2653/2653 - 10s - 4ms/step - loss: 0.2705 - mae: 0.4146 - val_loss: 0.2556 - val_mae: 0.4030\n",
            "Epoch 86/100\n",
            "2653/2653 - 8s - 3ms/step - loss: 0.2715 - mae: 0.4153 - val_loss: 0.2533 - val_mae: 0.4012\n",
            "Epoch 87/100\n",
            "2653/2653 - 8s - 3ms/step - loss: 0.2712 - mae: 0.4152 - val_loss: 0.2544 - val_mae: 0.4021\n",
            "Epoch 88/100\n",
            "2653/2653 - 7s - 3ms/step - loss: 0.2708 - mae: 0.4148 - val_loss: 0.2556 - val_mae: 0.4030\n",
            "Epoch 89/100\n",
            "2653/2653 - 10s - 4ms/step - loss: 0.2709 - mae: 0.4149 - val_loss: 0.2553 - val_mae: 0.4028\n",
            "Epoch 90/100\n",
            "2653/2653 - 9s - 3ms/step - loss: 0.2709 - mae: 0.4145 - val_loss: 0.2558 - val_mae: 0.4031\n",
            "Epoch 91/100\n",
            "2653/2653 - 9s - 3ms/step - loss: 0.2709 - mae: 0.4149 - val_loss: 0.2546 - val_mae: 0.4022\n",
            "Epoch 92/100\n",
            "2653/2653 - 8s - 3ms/step - loss: 0.2711 - mae: 0.4148 - val_loss: 0.2564 - val_mae: 0.4036\n",
            "Epoch 93/100\n",
            "2653/2653 - 8s - 3ms/step - loss: 0.2705 - mae: 0.4146 - val_loss: 0.2548 - val_mae: 0.4024\n",
            "Epoch 94/100\n",
            "2653/2653 - 9s - 4ms/step - loss: 0.2702 - mae: 0.4144 - val_loss: 0.2535 - val_mae: 0.4014\n",
            "Epoch 95/100\n",
            "2653/2653 - 10s - 4ms/step - loss: 0.2710 - mae: 0.4149 - val_loss: 0.2580 - val_mae: 0.4049\n",
            "Epoch 96/100\n",
            "2653/2653 - 8s - 3ms/step - loss: 0.2709 - mae: 0.4147 - val_loss: 0.2537 - val_mae: 0.4015\n",
            "Epoch 97/100\n",
            "2653/2653 - 10s - 4ms/step - loss: 0.2709 - mae: 0.4148 - val_loss: 0.2540 - val_mae: 0.4017\n",
            "Epoch 98/100\n",
            "2653/2653 - 7s - 3ms/step - loss: 0.2704 - mae: 0.4144 - val_loss: 0.2571 - val_mae: 0.4042\n",
            "Epoch 99/100\n",
            "2653/2653 - 8s - 3ms/step - loss: 0.2710 - mae: 0.4149 - val_loss: 0.2557 - val_mae: 0.4031\n",
            "Epoch 100/100\n",
            "2653/2653 - 9s - 4ms/step - loss: 0.2703 - mae: 0.4140 - val_loss: 0.2558 - val_mae: 0.4032\n"
          ]
        }
      ],
      "source": [
        "# fit the model (training)\n",
        "#from tensorflow.keras.callbacks import EarlyStopping\n",
        "\n",
        "#early_stop = EarlyStopping(monitor='val_loss', patience=5, restore_best_weights=True)\n",
        "history = model1.fit(X_train, y_train, epochs=100, batch_size=64,\n",
        "                     validation_split=0.3, verbose=2, shuffle=False\n",
        "                    )"
      ]
    },
    {
      "cell_type": "code",
      "execution_count": null,
      "metadata": {
        "colab": {
          "base_uri": "https://localhost:8080/"
        },
        "id": "6ujufFXz9Byi",
        "outputId": "1bb82aa1-ee68-4802-ec8b-bc550dc12a60"
      },
      "outputs": [
        {
          "name": "stdout",
          "output_type": "stream",
          "text": [
            "Test mae: 0.402\n"
          ]
        }
      ],
      "source": [
        "loss, mae = model1.evaluate(X_test, y_test, verbose=0)\n",
        "print('Test mae: %.3f' % mae)"
      ]
    },
    {
      "cell_type": "code",
      "execution_count": null,
      "metadata": {
        "colab": {
          "base_uri": "https://localhost:8080/",
          "height": 472
        },
        "id": "eUiC3jzFNC7T",
        "outputId": "4e83f61a-f03a-4516-c019-e9a70f15e875"
      },
      "outputs": [
        {
          "data": {
            "image/png": "[encoded data removed]",
            "text/plain": [
              "<Figure size 640x480 with 1 Axes>"
            ]
          },
          "metadata": {},
          "output_type": "display_data"
        }
      ],
      "source": [
        "import matplotlib.pyplot as plt\n",
        "plt.plot(history.history['loss'], label='Training Loss')  # Training Loss\n",
        "plt.plot(history.history['val_loss'], label='Validation Loss')  # Validation Loss\n",
        "plt.xlabel(\"Epochs\")\n",
        "plt.ylabel(\"Loss\")\n",
        "plt.legend()\n",
        "plt.title(\"Training vs Validation Loss\")\n",
        "plt.show()"
      ]
    },
    {
      "cell_type": "code",
      "execution_count": null,
      "metadata": {
        "colab": {
          "base_uri": "https://localhost:8080/"
        },
        "id": "hdy4Zh5iNI8K",
        "outputId": "85df5c29-c7e4-4fd2-8223-27e3885067d5"
      },
      "outputs": [
        {
          "name": "stdout",
          "output_type": "stream",
          "text": [
            "\u001b[1m1895/1895\u001b[0m \u001b[32m━━━━━━━━━━━━━━━━━━━━\u001b[0m\u001b[37m\u001b[0m \u001b[1m2s\u001b[0m 1ms/step\n"
          ]
        }
      ],
      "source": [
        "y_pred = model1.predict(X_test)"
      ]
    },
    {
      "cell_type": "code",
      "execution_count": null,
      "metadata": {
        "colab": {
          "base_uri": "https://localhost:8080/"
        },
        "id": "i_L1ElUQ9y9w",
        "outputId": "f8e0db5e-978a-45ba-c8e0-09bee2f337eb"
      },
      "outputs": [
        {
          "name": "stdout",
          "output_type": "stream",
          "text": [
            "Testing MAE: 0.4021523504431545\n",
            "Testing MSE: 0.2536983247321487\n",
            "Testing R²: 0.9117346674965079\n"
          ]
        }
      ],
      "source": [
        "test_mae=mean_absolute_error( y_test, y_pred)\n",
        "print(f\"Testing MAE: {test_mae}\")\n",
        "test_mse=mean_squared_error( y_test, y_pred)\n",
        "print(f\"Testing MSE: {test_mse}\")\n",
        "test_r2 = r2_score(y_test, y_pred)\n",
        "print(f\"Testing R²: {test_r2}\")"
      ]
    },
    {
      "cell_type": "markdown",
      "metadata": {
        "id": "eWUhPnN49JDU"
      },
      "source": [
        "###Batch Normalization layer"
      ]
    },
    {
      "cell_type": "code",
      "execution_count": null,
      "metadata": {
        "colab": {
          "base_uri": "https://localhost:8080/"
        },
        "id": "Cjp4clGZ9GK_",
        "outputId": "f4207650-8fd2-4967-9a91-dd82083a765a"
      },
      "outputs": [
        {
          "name": "stderr",
          "output_type": "stream",
          "text": [
            "/usr/local/lib/python3.11/dist-packages/keras/src/layers/core/dense.py:87: UserWarning: Do not pass an `input_shape`/`input_dim` argument to a layer. When using Sequential models, prefer using an `Input(shape)` object as the first layer in the model instead.\n",
            "  super().__init__(activity_regularizer=activity_regularizer, **kwargs)\n"
          ]
        }
      ],
      "source": [
        "from tensorflow.keras.layers import BatchNormalization\n",
        "model1 = Sequential()\n",
        "model1.add(Dense(5, activation='relu', input_shape=(n_features,)))\n",
        "model1.add(Dense(100, activation='relu'))\n",
        "# model1.add(Dense(800, activation='relu'))\n",
        "# model1.add(Dense(8, activation='relu'))\n",
        "model1.add(BatchNormalization())\n",
        "model1.add(Dense(1, activation='linear'))"
      ]
    },
    {
      "cell_type": "code",
      "execution_count": null,
      "metadata": {
        "id": "Bt0RAptV9Pj1"
      },
      "outputs": [],
      "source": [
        "model1.compile(optimizer='adam',loss=\"mse\", metrics=['mae'])"
      ]
    },
    {
      "cell_type": "code",
      "execution_count": null,
      "metadata": {
        "colab": {
          "base_uri": "https://localhost:8080/"
        },
        "id": "AYC2cIgj9SZu",
        "outputId": "c517f57b-6bfd-41a6-8ed9-b5a898a67a31"
      },
      "outputs": [
        {
          "name": "stdout",
          "output_type": "stream",
          "text": [
            "Epoch 1/100\n",
            "2653/2653 - 11s - 4ms/step - loss: 1.1118 - mae: 0.6654 - val_loss: 0.6957 - val_mae: 0.6825\n",
            "Epoch 2/100\n",
            "2653/2653 - 8s - 3ms/step - loss: 0.3206 - mae: 0.4510 - val_loss: 0.5874 - val_mae: 0.6225\n",
            "Epoch 3/100\n",
            "2653/2653 - 11s - 4ms/step - loss: 0.3203 - mae: 0.4509 - val_loss: 0.3507 - val_mae: 0.4743\n",
            "Epoch 4/100\n",
            "2653/2653 - 9s - 4ms/step - loss: 0.3201 - mae: 0.4507 - val_loss: 0.3599 - val_mae: 0.4806\n",
            "Epoch 5/100\n",
            "2653/2653 - 11s - 4ms/step - loss: 0.3196 - mae: 0.4503 - val_loss: 0.4937 - val_mae: 0.5663\n",
            "Epoch 6/100\n",
            "2653/2653 - 11s - 4ms/step - loss: 0.3183 - mae: 0.4494 - val_loss: 0.5632 - val_mae: 0.6102\n",
            "Epoch 7/100\n",
            "2653/2653 - 10s - 4ms/step - loss: 0.3170 - mae: 0.4485 - val_loss: 0.6413 - val_mae: 0.6555\n",
            "Epoch 8/100\n",
            "2653/2653 - 9s - 3ms/step - loss: 0.3161 - mae: 0.4479 - val_loss: 0.6112 - val_mae: 0.6393\n",
            "Epoch 9/100\n",
            "2653/2653 - 9s - 3ms/step - loss: 0.3151 - mae: 0.4472 - val_loss: 0.5622 - val_mae: 0.6116\n",
            "Epoch 10/100\n",
            "2653/2653 - 10s - 4ms/step - loss: 0.3140 - mae: 0.4464 - val_loss: 0.5088 - val_mae: 0.5801\n",
            "Epoch 11/100\n",
            "2653/2653 - 7s - 2ms/step - loss: 0.3129 - mae: 0.4456 - val_loss: 0.4199 - val_mae: 0.5232\n",
            "Epoch 12/100\n",
            "2653/2653 - 10s - 4ms/step - loss: 0.3119 - mae: 0.4449 - val_loss: 0.3856 - val_mae: 0.5001\n",
            "Epoch 13/100\n",
            "2653/2653 - 9s - 3ms/step - loss: 0.3109 - mae: 0.4442 - val_loss: 0.3611 - val_mae: 0.4830\n",
            "Epoch 14/100\n",
            "2653/2653 - 7s - 2ms/step - loss: 0.3102 - mae: 0.4437 - val_loss: 0.3043 - val_mae: 0.4412\n",
            "Epoch 15/100\n",
            "2653/2653 - 11s - 4ms/step - loss: 0.3095 - mae: 0.4433 - val_loss: 0.2995 - val_mae: 0.4376\n",
            "Epoch 16/100\n",
            "2653/2653 - 11s - 4ms/step - loss: 0.3090 - mae: 0.4429 - val_loss: 0.2876 - val_mae: 0.4285\n",
            "Epoch 17/100\n",
            "2653/2653 - 9s - 3ms/step - loss: 0.3086 - mae: 0.4426 - val_loss: 0.3047 - val_mae: 0.4416\n",
            "Epoch 18/100\n",
            "2653/2653 - 7s - 2ms/step - loss: 0.3082 - mae: 0.4423 - val_loss: 0.3037 - val_mae: 0.4408\n",
            "Epoch 19/100\n",
            "2653/2653 - 11s - 4ms/step - loss: 0.3079 - mae: 0.4421 - val_loss: 0.2943 - val_mae: 0.4337\n",
            "Epoch 20/100\n",
            "2653/2653 - 11s - 4ms/step - loss: 0.3075 - mae: 0.4418 - val_loss: 0.2770 - val_mae: 0.4203\n",
            "Epoch 21/100\n",
            "2653/2653 - 10s - 4ms/step - loss: 0.3072 - mae: 0.4416 - val_loss: 0.2744 - val_mae: 0.4183\n",
            "Epoch 22/100\n",
            "2653/2653 - 10s - 4ms/step - loss: 0.3070 - mae: 0.4414 - val_loss: 0.2796 - val_mae: 0.4223\n",
            "Epoch 23/100\n",
            "2653/2653 - 9s - 3ms/step - loss: 0.3067 - mae: 0.4413 - val_loss: 0.2813 - val_mae: 0.4237\n",
            "Epoch 24/100\n",
            "2653/2653 - 11s - 4ms/step - loss: 0.3065 - mae: 0.4411 - val_loss: 0.2781 - val_mae: 0.4212\n",
            "Epoch 25/100\n",
            "2653/2653 - 11s - 4ms/step - loss: 0.3063 - mae: 0.4410 - val_loss: 0.2763 - val_mae: 0.4198\n",
            "Epoch 26/100\n",
            "2653/2653 - 10s - 4ms/step - loss: 0.3061 - mae: 0.4408 - val_loss: 0.2744 - val_mae: 0.4183\n",
            "Epoch 27/100\n",
            "2653/2653 - 8s - 3ms/step - loss: 0.3059 - mae: 0.4407 - val_loss: 0.2724 - val_mae: 0.4167\n",
            "Epoch 28/100\n",
            "2653/2653 - 8s - 3ms/step - loss: 0.3058 - mae: 0.4406 - val_loss: 0.2822 - val_mae: 0.4243\n",
            "Epoch 29/100\n",
            "2653/2653 - 11s - 4ms/step - loss: 0.3055 - mae: 0.4404 - val_loss: 0.2704 - val_mae: 0.4151\n",
            "Epoch 30/100\n",
            "2653/2653 - 8s - 3ms/step - loss: 0.3054 - mae: 0.4404 - val_loss: 0.2691 - val_mae: 0.4141\n",
            "Epoch 31/100\n",
            "2653/2653 - 10s - 4ms/step - loss: 0.3053 - mae: 0.4403 - val_loss: 0.2668 - val_mae: 0.4123\n",
            "Epoch 32/100\n",
            "2653/2653 - 10s - 4ms/step - loss: 0.3051 - mae: 0.4402 - val_loss: 0.2679 - val_mae: 0.4131\n",
            "Epoch 33/100\n",
            "2653/2653 - 11s - 4ms/step - loss: 0.3050 - mae: 0.4401 - val_loss: 0.2677 - val_mae: 0.4130\n",
            "Epoch 34/100\n",
            "2653/2653 - 11s - 4ms/step - loss: 0.3049 - mae: 0.4400 - val_loss: 0.2675 - val_mae: 0.4128\n",
            "Epoch 35/100\n",
            "2653/2653 - 12s - 4ms/step - loss: 0.3048 - mae: 0.4400 - val_loss: 0.2635 - val_mae: 0.4096\n",
            "Epoch 36/100\n",
            "2653/2653 - 8s - 3ms/step - loss: 0.3048 - mae: 0.4399 - val_loss: 0.2642 - val_mae: 0.4102\n",
            "Epoch 37/100\n",
            "2653/2653 - 8s - 3ms/step - loss: 0.3047 - mae: 0.4398 - val_loss: 0.2621 - val_mae: 0.4085\n",
            "Epoch 38/100\n",
            "2653/2653 - 8s - 3ms/step - loss: 0.3046 - mae: 0.4398 - val_loss: 0.2610 - val_mae: 0.4077\n",
            "Epoch 39/100\n",
            "2653/2653 - 8s - 3ms/step - loss: 0.3045 - mae: 0.4397 - val_loss: 0.2616 - val_mae: 0.4082\n",
            "Epoch 40/100\n",
            "2653/2653 - 9s - 3ms/step - loss: 0.3044 - mae: 0.4397 - val_loss: 0.2606 - val_mae: 0.4073\n",
            "Epoch 41/100\n",
            "2653/2653 - 9s - 3ms/step - loss: 0.3043 - mae: 0.4396 - val_loss: 0.2599 - val_mae: 0.4067\n",
            "Epoch 42/100\n",
            "2653/2653 - 8s - 3ms/step - loss: 0.3043 - mae: 0.4396 - val_loss: 0.2646 - val_mae: 0.4106\n",
            "Epoch 43/100\n",
            "2653/2653 - 11s - 4ms/step - loss: 0.3042 - mae: 0.4395 - val_loss: 0.2611 - val_mae: 0.4077\n",
            "Epoch 44/100\n",
            "2653/2653 - 8s - 3ms/step - loss: 0.3041 - mae: 0.4395 - val_loss: 0.2599 - val_mae: 0.4067\n",
            "Epoch 45/100\n",
            "2653/2653 - 7s - 3ms/step - loss: 0.3041 - mae: 0.4394 - val_loss: 0.2590 - val_mae: 0.4060\n",
            "Epoch 46/100\n",
            "2653/2653 - 8s - 3ms/step - loss: 0.3040 - mae: 0.4394 - val_loss: 0.2582 - val_mae: 0.4054\n",
            "Epoch 47/100\n",
            "2653/2653 - 8s - 3ms/step - loss: 0.3040 - mae: 0.4394 - val_loss: 0.2590 - val_mae: 0.4060\n",
            "Epoch 48/100\n",
            "2653/2653 - 9s - 3ms/step - loss: 0.3039 - mae: 0.4393 - val_loss: 0.2581 - val_mae: 0.4053\n",
            "Epoch 49/100\n",
            "2653/2653 - 9s - 4ms/step - loss: 0.3038 - mae: 0.4393 - val_loss: 0.2576 - val_mae: 0.4049\n",
            "Epoch 50/100\n",
            "2653/2653 - 10s - 4ms/step - loss: 0.3038 - mae: 0.4393 - val_loss: 0.2570 - val_mae: 0.4044\n",
            "Epoch 51/100\n",
            "2653/2653 - 9s - 3ms/step - loss: 0.3037 - mae: 0.4392 - val_loss: 0.2564 - val_mae: 0.4039\n",
            "Epoch 52/100\n",
            "2653/2653 - 10s - 4ms/step - loss: 0.3037 - mae: 0.4392 - val_loss: 0.2563 - val_mae: 0.4038\n",
            "Epoch 53/100\n",
            "2653/2653 - 9s - 3ms/step - loss: 0.3036 - mae: 0.4392 - val_loss: 0.2583 - val_mae: 0.4055\n",
            "Epoch 54/100\n",
            "2653/2653 - 8s - 3ms/step - loss: 0.3035 - mae: 0.4391 - val_loss: 0.2563 - val_mae: 0.4039\n",
            "Epoch 55/100\n",
            "2653/2653 - 11s - 4ms/step - loss: 0.3035 - mae: 0.4391 - val_loss: 0.2556 - val_mae: 0.4033\n",
            "Epoch 56/100\n",
            "2653/2653 - 7s - 3ms/step - loss: 0.3034 - mae: 0.4390 - val_loss: 0.2552 - val_mae: 0.4029\n",
            "Epoch 57/100\n",
            "2653/2653 - 10s - 4ms/step - loss: 0.3034 - mae: 0.4390 - val_loss: 0.2545 - val_mae: 0.4024\n",
            "Epoch 58/100\n",
            "2653/2653 - 9s - 3ms/step - loss: 0.3034 - mae: 0.4390 - val_loss: 0.2550 - val_mae: 0.4028\n",
            "Epoch 59/100\n",
            "2653/2653 - 8s - 3ms/step - loss: 0.3033 - mae: 0.4389 - val_loss: 0.2542 - val_mae: 0.4021\n",
            "Epoch 60/100\n",
            "2653/2653 - 9s - 3ms/step - loss: 0.3033 - mae: 0.4389 - val_loss: 0.2537 - val_mae: 0.4017\n",
            "Epoch 61/100\n",
            "2653/2653 - 11s - 4ms/step - loss: 0.3032 - mae: 0.4389 - val_loss: 0.2533 - val_mae: 0.4014\n",
            "Epoch 62/100\n",
            "2653/2653 - 9s - 3ms/step - loss: 0.3032 - mae: 0.4388 - val_loss: 0.2533 - val_mae: 0.4014\n",
            "Epoch 63/100\n",
            "2653/2653 - 9s - 3ms/step - loss: 0.3031 - mae: 0.4388 - val_loss: 0.2529 - val_mae: 0.4010\n",
            "Epoch 64/100\n",
            "2653/2653 - 10s - 4ms/step - loss: 0.3031 - mae: 0.4388 - val_loss: 0.2527 - val_mae: 0.4009\n",
            "Epoch 65/100\n",
            "2653/2653 - 8s - 3ms/step - loss: 0.3030 - mae: 0.4387 - val_loss: 0.2524 - val_mae: 0.4006\n",
            "Epoch 66/100\n",
            "2653/2653 - 8s - 3ms/step - loss: 0.3030 - mae: 0.4387 - val_loss: 0.2525 - val_mae: 0.4007\n",
            "Epoch 67/100\n",
            "2653/2653 - 7s - 3ms/step - loss: 0.3029 - mae: 0.4387 - val_loss: 0.2524 - val_mae: 0.4006\n",
            "Epoch 68/100\n",
            "2653/2653 - 9s - 3ms/step - loss: 0.3029 - mae: 0.4386 - val_loss: 0.2524 - val_mae: 0.4006\n",
            "Epoch 69/100\n",
            "2653/2653 - 7s - 3ms/step - loss: 0.3029 - mae: 0.4386 - val_loss: 0.2524 - val_mae: 0.4006\n",
            "Epoch 70/100\n",
            "2653/2653 - 8s - 3ms/step - loss: 0.3028 - mae: 0.4386 - val_loss: 0.2524 - val_mae: 0.4006\n",
            "Epoch 71/100\n",
            "2653/2653 - 11s - 4ms/step - loss: 0.3028 - mae: 0.4385 - val_loss: 0.2530 - val_mae: 0.4010\n",
            "Epoch 72/100\n",
            "2653/2653 - 8s - 3ms/step - loss: 0.3027 - mae: 0.4385 - val_loss: 0.2529 - val_mae: 0.4009\n",
            "Epoch 73/100\n",
            "2653/2653 - 8s - 3ms/step - loss: 0.3027 - mae: 0.4385 - val_loss: 0.2525 - val_mae: 0.4007\n",
            "Epoch 74/100\n",
            "2653/2653 - 11s - 4ms/step - loss: 0.3026 - mae: 0.4384 - val_loss: 0.2527 - val_mae: 0.4008\n",
            "Epoch 75/100\n",
            "2653/2653 - 9s - 3ms/step - loss: 0.3026 - mae: 0.4384 - val_loss: 0.2528 - val_mae: 0.4009\n",
            "Epoch 76/100\n",
            "2653/2653 - 10s - 4ms/step - loss: 0.3025 - mae: 0.4384 - val_loss: 0.2531 - val_mae: 0.4011\n",
            "Epoch 77/100\n",
            "2653/2653 - 8s - 3ms/step - loss: 0.3025 - mae: 0.4383 - val_loss: 0.2533 - val_mae: 0.4013\n",
            "Epoch 78/100\n",
            "2653/2653 - 8s - 3ms/step - loss: 0.3025 - mae: 0.4383 - val_loss: 0.2527 - val_mae: 0.4008\n",
            "Epoch 79/100\n",
            "2653/2653 - 7s - 3ms/step - loss: 0.3024 - mae: 0.4383 - val_loss: 0.2533 - val_mae: 0.4012\n",
            "Epoch 80/100\n",
            "2653/2653 - 11s - 4ms/step - loss: 0.3023 - mae: 0.4382 - val_loss: 0.2535 - val_mae: 0.4014\n",
            "Epoch 81/100\n",
            "2653/2653 - 8s - 3ms/step - loss: 0.3023 - mae: 0.4382 - val_loss: 0.2537 - val_mae: 0.4015\n",
            "Epoch 82/100\n",
            "2653/2653 - 7s - 3ms/step - loss: 0.3023 - mae: 0.4382 - val_loss: 0.2540 - val_mae: 0.4018\n",
            "Epoch 83/100\n",
            "2653/2653 - 9s - 3ms/step - loss: 0.3023 - mae: 0.4382 - val_loss: 0.2540 - val_mae: 0.4018\n",
            "Epoch 84/100\n",
            "2653/2653 - 9s - 3ms/step - loss: 0.3022 - mae: 0.4381 - val_loss: 0.2540 - val_mae: 0.4018\n",
            "Epoch 85/100\n",
            "2653/2653 - 10s - 4ms/step - loss: 0.3022 - mae: 0.4381 - val_loss: 0.2537 - val_mae: 0.4016\n",
            "Epoch 86/100\n",
            "2653/2653 - 9s - 3ms/step - loss: 0.3021 - mae: 0.4381 - val_loss: 0.2540 - val_mae: 0.4018\n",
            "Epoch 87/100\n",
            "2653/2653 - 8s - 3ms/step - loss: 0.3021 - mae: 0.4381 - val_loss: 0.2537 - val_mae: 0.4015\n",
            "Epoch 88/100\n",
            "2653/2653 - 8s - 3ms/step - loss: 0.3021 - mae: 0.4381 - val_loss: 0.2543 - val_mae: 0.4020\n",
            "Epoch 89/100\n",
            "2653/2653 - 9s - 3ms/step - loss: 0.3021 - mae: 0.4380 - val_loss: 0.2544 - val_mae: 0.4021\n",
            "Epoch 90/100\n",
            "2653/2653 - 8s - 3ms/step - loss: 0.3020 - mae: 0.4380 - val_loss: 0.2546 - val_mae: 0.4022\n",
            "Epoch 91/100\n",
            "2653/2653 - 7s - 3ms/step - loss: 0.3020 - mae: 0.4380 - val_loss: 0.2540 - val_mae: 0.4018\n",
            "Epoch 92/100\n",
            "2653/2653 - 12s - 4ms/step - loss: 0.3020 - mae: 0.4380 - val_loss: 0.2544 - val_mae: 0.4021\n",
            "Epoch 93/100\n",
            "2653/2653 - 8s - 3ms/step - loss: 0.3020 - mae: 0.4380 - val_loss: 0.2551 - val_mae: 0.4026\n",
            "Epoch 94/100\n",
            "2653/2653 - 8s - 3ms/step - loss: 0.3019 - mae: 0.4379 - val_loss: 0.2548 - val_mae: 0.4024\n",
            "Epoch 95/100\n",
            "2653/2653 - 7s - 3ms/step - loss: 0.3019 - mae: 0.4379 - val_loss: 0.2553 - val_mae: 0.4028\n",
            "Epoch 96/100\n",
            "2653/2653 - 7s - 3ms/step - loss: 0.3019 - mae: 0.4379 - val_loss: 0.2556 - val_mae: 0.4030\n",
            "Epoch 97/100\n",
            "2653/2653 - 8s - 3ms/step - loss: 0.3019 - mae: 0.4379 - val_loss: 0.2545 - val_mae: 0.4022\n",
            "Epoch 98/100\n",
            "2653/2653 - 10s - 4ms/step - loss: 0.3018 - mae: 0.4379 - val_loss: 0.2547 - val_mae: 0.4023\n",
            "Epoch 99/100\n",
            "2653/2653 - 9s - 3ms/step - loss: 0.3018 - mae: 0.4378 - val_loss: 0.2549 - val_mae: 0.4024\n",
            "Epoch 100/100\n",
            "2653/2653 - 10s - 4ms/step - loss: 0.3018 - mae: 0.4378 - val_loss: 0.2547 - val_mae: 0.4023\n"
          ]
        }
      ],
      "source": [
        "# fit the model (training)\n",
        "history = model1.fit( X_train, y_train, epochs=100, batch_size=64,\n",
        "                     validation_split=0.3, verbose=2,shuffle=False)"
      ]
    },
    {
      "cell_type": "code",
      "execution_count": null,
      "metadata": {
        "colab": {
          "base_uri": "https://localhost:8080/"
        },
        "id": "je3XjKzH9U1C",
        "outputId": "fc2ace3f-4261-41f5-b6f8-74a45c5b9c6e"
      },
      "outputs": [
        {
          "name": "stdout",
          "output_type": "stream",
          "text": [
            "Test mae: 0.401\n"
          ]
        }
      ],
      "source": [
        "loss, mae = model1.evaluate(X_test, y_test, verbose=0)\n",
        "print('Test mae: %.3f' % mae)"
      ]
    },
    {
      "cell_type": "code",
      "execution_count": null,
      "metadata": {
        "colab": {
          "base_uri": "https://localhost:8080/",
          "height": 472
        },
        "id": "Gh37aITIVa29",
        "outputId": "2ab197a4-cc6c-4373-cb31-26ca6dcf84cb"
      },
      "outputs": [
        {
          "data": {
            "image/png": "[encoded data removed]",
            "text/plain": [
              "<Figure size 640x480 with 1 Axes>"
            ]
          },
          "metadata": {},
          "output_type": "display_data"
        }
      ],
      "source": [
        "import matplotlib.pyplot as plt\n",
        "plt.plot(history.history['loss'], label='Training Loss')  # Training Loss\n",
        "plt.plot(history.history['val_loss'], label='Validation Loss')  # Validation Loss\n",
        "plt.xlabel(\"Epochs\")\n",
        "plt.ylabel(\"Loss\")\n",
        "plt.legend()\n",
        "plt.title(\"Training vs Validation Loss\")\n",
        "plt.show()"
      ]
    },
    {
      "cell_type": "code",
      "execution_count": null,
      "metadata": {
        "colab": {
          "base_uri": "https://localhost:8080/"
        },
        "id": "IXRjvV-uVfDr",
        "outputId": "a123934b-8339-42ef-9c16-43942eaba2a2"
      },
      "outputs": [
        {
          "name": "stdout",
          "output_type": "stream",
          "text": [
            "\u001b[1m1895/1895\u001b[0m \u001b[32m━━━━━━━━━━━━━━━━━━━━\u001b[0m\u001b[37m\u001b[0m \u001b[1m3s\u001b[0m 1ms/step\n"
          ]
        }
      ],
      "source": [
        "y_pred = model1.predict(X_test)"
      ]
    },
    {
      "cell_type": "code",
      "execution_count": null,
      "metadata": {
        "colab": {
          "base_uri": "https://localhost:8080/"
        },
        "id": "cewtSVt390TW",
        "outputId": "b2dcf49e-f0be-416d-850d-2f783bf1a419"
      },
      "outputs": [
        {
          "name": "stdout",
          "output_type": "stream",
          "text": [
            "Testing MAE: 0.4011100710573215\n",
            "Testing MSE: 0.25247691504965686\n",
            "Testing R²: 0.9121596136677605\n"
          ]
        }
      ],
      "source": [
        "test_mae=mean_absolute_error( y_test, y_pred)\n",
        "print(f\"Testing MAE: {test_mae}\")\n",
        "test_mse=mean_squared_error( y_test, y_pred)\n",
        "print(f\"Testing MSE: {test_mse}\")\n",
        "test_r2 = r2_score(y_test, y_pred)\n",
        "print(f\"Testing R²: {test_r2}\")"
      ]
    },
    {
      "cell_type": "markdown",
      "metadata": {
        "id": "BBla6usA9awO"
      },
      "source": [
        "###L1 & L2 regularization"
      ]
    },
    {
      "cell_type": "code",
      "execution_count": null,
      "metadata": {
        "colab": {
          "base_uri": "https://localhost:8080/"
        },
        "id": "RlaRLwky9XmF",
        "outputId": "37538472-4200-4754-e507-96c33dc90c1a"
      },
      "outputs": [
        {
          "name": "stderr",
          "output_type": "stream",
          "text": [
            "/usr/local/lib/python3.11/dist-packages/keras/src/layers/core/dense.py:87: UserWarning: Do not pass an `input_shape`/`input_dim` argument to a layer. When using Sequential models, prefer using an `Input(shape)` object as the first layer in the model instead.\n",
            "  super().__init__(activity_regularizer=activity_regularizer, **kwargs)\n"
          ]
        }
      ],
      "source": [
        "from tensorflow.keras import regularizers\n",
        "model1 = Sequential()\n",
        "model1.add(Dense(5,  kernel_regularizer=regularizers.L1L2(),\n",
        "                 activation='relu', input_shape=(n_features,)))\n",
        "model1.add(Dense(100, activation='relu'))\n",
        "#model1.add(Dense(400, activation='relu'))\n",
        "# model1.add(Dense(8, activation='relu'))\n",
        "model1.add(Dense(1, activation='linear'))"
      ]
    },
    {
      "cell_type": "code",
      "execution_count": null,
      "metadata": {
        "id": "1B7c5h7k9g6H"
      },
      "outputs": [],
      "source": [
        "from tensorflow.keras.optimizers import Adam\n",
        "model1.compile(optimizer=Adam(learning_rate=0.001),loss=\"mse\", metrics=['mae'])"
      ]
    },
    {
      "cell_type": "code",
      "execution_count": null,
      "metadata": {
        "colab": {
          "background_save": true,
          "base_uri": "https://localhost:8080/"
        },
        "id": "z1zxt96O9joD",
        "outputId": "53876f9e-6ffe-47ed-b248-f9dbc7bdcfe5"
      },
      "outputs": [
        {
          "name": "stdout",
          "output_type": "stream",
          "text": [
            "Epoch 1/100\n",
            "2653/2653 - 9s - 3ms/step - loss: 6.7443 - mae: 1.1151 - val_loss: 0.8986 - val_mae: 0.7729\n",
            "Epoch 2/100\n",
            "2653/2653 - 8s - 3ms/step - loss: 0.4259 - mae: 0.5137 - val_loss: 0.2786 - val_mae: 0.4209\n",
            "Epoch 3/100\n",
            "2653/2653 - 6s - 2ms/step - loss: 0.3044 - mae: 0.4387 - val_loss: 0.3254 - val_mae: 0.4560\n",
            "Epoch 4/100\n",
            "2653/2653 - 8s - 3ms/step - loss: 0.3021 - mae: 0.4370 - val_loss: 0.3063 - val_mae: 0.4418\n",
            "Epoch 5/100\n",
            "2653/2653 - 7s - 3ms/step - loss: 0.2986 - mae: 0.4350 - val_loss: 0.2952 - val_mae: 0.4335\n",
            "Epoch 6/100\n",
            "2653/2653 - 10s - 4ms/step - loss: 0.2960 - mae: 0.4330 - val_loss: 0.2856 - val_mae: 0.4263\n",
            "Epoch 7/100\n",
            "2653/2653 - 10s - 4ms/step - loss: 0.2934 - mae: 0.4310 - val_loss: 0.2767 - val_mae: 0.4195\n",
            "Epoch 8/100\n",
            "2653/2653 - 8s - 3ms/step - loss: 0.2906 - mae: 0.4290 - val_loss: 0.2694 - val_mae: 0.4138\n",
            "Epoch 9/100\n",
            "2653/2653 - 9s - 3ms/step - loss: 0.2878 - mae: 0.4270 - val_loss: 0.2660 - val_mae: 0.4112\n",
            "Epoch 10/100\n",
            "2653/2653 - 7s - 2ms/step - loss: 0.2860 - mae: 0.4256 - val_loss: 0.2701 - val_mae: 0.4144\n",
            "Epoch 11/100\n",
            "2653/2653 - 12s - 4ms/step - loss: 0.2849 - mae: 0.4248 - val_loss: 0.2780 - val_mae: 0.4205\n",
            "Epoch 12/100\n",
            "2653/2653 - 9s - 4ms/step - loss: 0.2831 - mae: 0.4237 - val_loss: 0.2536 - val_mae: 0.4015\n",
            "Epoch 13/100\n",
            "2653/2653 - 7s - 3ms/step - loss: 0.2805 - mae: 0.4217 - val_loss: 0.2547 - val_mae: 0.4025\n",
            "Epoch 14/100\n",
            "2653/2653 - 11s - 4ms/step - loss: 0.2783 - mae: 0.4202 - val_loss: 0.2598 - val_mae: 0.4066\n",
            "Epoch 15/100\n",
            "2653/2653 - 7s - 3ms/step - loss: 0.2764 - mae: 0.4189 - val_loss: 0.2638 - val_mae: 0.4098\n",
            "Epoch 16/100\n",
            "2653/2653 - 7s - 3ms/step - loss: 0.2750 - mae: 0.4180 - val_loss: 0.2668 - val_mae: 0.4122\n",
            "Epoch 17/100\n",
            "2653/2653 - 8s - 3ms/step - loss: 0.2737 - mae: 0.4171 - val_loss: 0.2697 - val_mae: 0.4146\n",
            "Epoch 18/100\n",
            "2653/2653 - 8s - 3ms/step - loss: 0.2730 - mae: 0.4166 - val_loss: 0.2716 - val_mae: 0.4160\n",
            "Epoch 19/100\n",
            "2653/2653 - 13s - 5ms/step - loss: 0.2724 - mae: 0.4161 - val_loss: 0.2682 - val_mae: 0.4134\n",
            "Epoch 20/100\n",
            "2653/2653 - 8s - 3ms/step - loss: 0.2713 - mae: 0.4152 - val_loss: 0.2601 - val_mae: 0.4069\n",
            "Epoch 21/100\n",
            "2653/2653 - 11s - 4ms/step - loss: 0.2700 - mae: 0.4140 - val_loss: 0.2537 - val_mae: 0.4017\n",
            "Epoch 22/100\n",
            "2653/2653 - 10s - 4ms/step - loss: 0.2689 - mae: 0.4132 - val_loss: 0.2540 - val_mae: 0.4018\n",
            "Epoch 23/100\n",
            "2653/2653 - 6s - 2ms/step - loss: 0.2680 - mae: 0.4125 - val_loss: 0.2578 - val_mae: 0.4047\n",
            "Epoch 24/100\n",
            "2653/2653 - 12s - 4ms/step - loss: 0.2673 - mae: 0.4120 - val_loss: 0.2580 - val_mae: 0.4049\n",
            "Epoch 25/100\n",
            "2653/2653 - 9s - 4ms/step - loss: 0.2667 - mae: 0.4117 - val_loss: 0.2588 - val_mae: 0.4056\n",
            "Epoch 26/100\n",
            "2653/2653 - 7s - 3ms/step - loss: 0.2660 - mae: 0.4113 - val_loss: 0.2626 - val_mae: 0.4085\n",
            "Epoch 27/100\n",
            "2653/2653 - 10s - 4ms/step - loss: 0.2653 - mae: 0.4108 - val_loss: 0.2721 - val_mae: 0.4159\n",
            "Epoch 28/100\n",
            "2653/2653 - 10s - 4ms/step - loss: 0.2646 - mae: 0.4103 - val_loss: 0.2930 - val_mae: 0.4319\n",
            "Epoch 29/100\n",
            "2653/2653 - 8s - 3ms/step - loss: 0.2634 - mae: 0.4094 - val_loss: 0.3014 - val_mae: 0.4381\n",
            "Epoch 30/100\n",
            "2653/2653 - 9s - 3ms/step - loss: 0.2626 - mae: 0.4087 - val_loss: 0.3039 - val_mae: 0.4401\n",
            "Epoch 31/100\n",
            "2653/2653 - 11s - 4ms/step - loss: 0.2616 - mae: 0.4079 - val_loss: 0.2962 - val_mae: 0.4343\n",
            "Epoch 32/100\n",
            "2653/2653 - 8s - 3ms/step - loss: 0.2610 - mae: 0.4073 - val_loss: 0.2804 - val_mae: 0.4223\n",
            "Epoch 33/100\n",
            "2653/2653 - 9s - 3ms/step - loss: 0.2604 - mae: 0.4068 - val_loss: 0.2799 - val_mae: 0.4219\n",
            "Epoch 34/100\n",
            "2653/2653 - 7s - 3ms/step - loss: 0.2600 - mae: 0.4065 - val_loss: 0.2633 - val_mae: 0.4091\n",
            "Epoch 35/100\n",
            "2653/2653 - 10s - 4ms/step - loss: 0.2598 - mae: 0.4063 - val_loss: 0.2563 - val_mae: 0.4036\n",
            "Epoch 36/100\n",
            "2653/2653 - 8s - 3ms/step - loss: 0.2596 - mae: 0.4062 - val_loss: 0.2530 - val_mae: 0.4010\n",
            "Epoch 37/100\n",
            "2653/2653 - 9s - 3ms/step - loss: 0.2593 - mae: 0.4060 - val_loss: 0.2528 - val_mae: 0.4009\n",
            "Epoch 38/100\n",
            "2653/2653 - 8s - 3ms/step - loss: 0.2591 - mae: 0.4058 - val_loss: 0.2561 - val_mae: 0.4036\n",
            "Epoch 39/100\n",
            "2653/2653 - 7s - 3ms/step - loss: 0.2589 - mae: 0.4056 - val_loss: 0.2579 - val_mae: 0.4051\n",
            "Epoch 40/100\n",
            "2653/2653 - 10s - 4ms/step - loss: 0.2587 - mae: 0.4054 - val_loss: 0.2606 - val_mae: 0.4072\n",
            "Epoch 41/100\n",
            "2653/2653 - 10s - 4ms/step - loss: 0.2585 - mae: 0.4052 - val_loss: 0.2603 - val_mae: 0.4070\n",
            "Epoch 42/100\n",
            "2653/2653 - 10s - 4ms/step - loss: 0.2581 - mae: 0.4050 - val_loss: 0.2587 - val_mae: 0.4057\n",
            "Epoch 43/100\n",
            "2653/2653 - 8s - 3ms/step - loss: 0.2578 - mae: 0.4047 - val_loss: 0.2561 - val_mae: 0.4036\n",
            "Epoch 44/100\n",
            "2653/2653 - 7s - 3ms/step - loss: 0.2575 - mae: 0.4045 - val_loss: 0.2534 - val_mae: 0.4015\n",
            "Epoch 45/100\n",
            "2653/2653 - 9s - 4ms/step - loss: 0.2571 - mae: 0.4043 - val_loss: 0.2530 - val_mae: 0.4011\n",
            "Epoch 46/100\n",
            "2653/2653 - 12s - 4ms/step - loss: 0.2568 - mae: 0.4041 - val_loss: 0.2529 - val_mae: 0.4010\n",
            "Epoch 47/100\n",
            "2653/2653 - 10s - 4ms/step - loss: 0.2567 - mae: 0.4040 - val_loss: 0.2532 - val_mae: 0.4012\n",
            "Epoch 48/100\n",
            "2653/2653 - 9s - 3ms/step - loss: 0.2565 - mae: 0.4039 - val_loss: 0.2535 - val_mae: 0.4015\n",
            "Epoch 49/100\n",
            "2653/2653 - 10s - 4ms/step - loss: 0.2564 - mae: 0.4038 - val_loss: 0.2538 - val_mae: 0.4017\n",
            "Epoch 50/100\n",
            "2653/2653 - 8s - 3ms/step - loss: 0.2563 - mae: 0.4037 - val_loss: 0.2541 - val_mae: 0.4019\n",
            "Epoch 51/100\n",
            "2653/2653 - 8s - 3ms/step - loss: 0.2562 - mae: 0.4037 - val_loss: 0.2548 - val_mae: 0.4024\n",
            "Epoch 52/100\n",
            "2653/2653 - 8s - 3ms/step - loss: 0.2561 - mae: 0.4036 - val_loss: 0.2552 - val_mae: 0.4028\n",
            "Epoch 53/100\n",
            "2653/2653 - 11s - 4ms/step - loss: 0.2560 - mae: 0.4035 - val_loss: 0.2554 - val_mae: 0.4029\n",
            "Epoch 54/100\n",
            "2653/2653 - 8s - 3ms/step - loss: 0.2559 - mae: 0.4035 - val_loss: 0.2557 - val_mae: 0.4032\n",
            "Epoch 55/100\n",
            "2653/2653 - 9s - 3ms/step - loss: 0.2558 - mae: 0.4034 - val_loss: 0.2558 - val_mae: 0.4032\n",
            "Epoch 56/100\n",
            "2653/2653 - 10s - 4ms/step - loss: 0.2557 - mae: 0.4033 - val_loss: 0.2557 - val_mae: 0.4032\n",
            "Epoch 57/100\n",
            "2653/2653 - 10s - 4ms/step - loss: 0.2556 - mae: 0.4032 - val_loss: 0.2558 - val_mae: 0.4032\n",
            "Epoch 58/100\n",
            "2653/2653 - 7s - 3ms/step - loss: 0.2556 - mae: 0.4032 - val_loss: 0.2560 - val_mae: 0.4033\n",
            "Epoch 59/100\n",
            "2653/2653 - 7s - 3ms/step - loss: 0.2555 - mae: 0.4031 - val_loss: 0.2560 - val_mae: 0.4034\n",
            "Epoch 60/100\n",
            "2653/2653 - 8s - 3ms/step - loss: 0.2554 - mae: 0.4031 - val_loss: 0.2561 - val_mae: 0.4034\n",
            "Epoch 61/100\n",
            "2653/2653 - 7s - 3ms/step - loss: 0.2553 - mae: 0.4031 - val_loss: 0.2559 - val_mae: 0.4033\n",
            "Epoch 62/100\n",
            "2653/2653 - 7s - 3ms/step - loss: 0.2553 - mae: 0.4030 - val_loss: 0.2559 - val_mae: 0.4033\n",
            "Epoch 63/100\n",
            "2653/2653 - 11s - 4ms/step - loss: 0.2552 - mae: 0.4029 - val_loss: 0.2555 - val_mae: 0.4030\n",
            "Epoch 64/100\n",
            "2653/2653 - 10s - 4ms/step - loss: 0.2552 - mae: 0.4029 - val_loss: 0.2554 - val_mae: 0.4029\n",
            "Epoch 65/100\n",
            "2653/2653 - 9s - 4ms/step - loss: 0.2551 - mae: 0.4028 - val_loss: 0.2554 - val_mae: 0.4029\n",
            "Epoch 66/100\n",
            "2653/2653 - 10s - 4ms/step - loss: 0.2550 - mae: 0.4028 - val_loss: 0.2553 - val_mae: 0.4029\n",
            "Epoch 67/100\n",
            "2653/2653 - 10s - 4ms/step - loss: 0.2550 - mae: 0.4028 - val_loss: 0.2553 - val_mae: 0.4028\n",
            "Epoch 68/100\n",
            "2653/2653 - 10s - 4ms/step - loss: 0.2549 - mae: 0.4027 - val_loss: 0.2552 - val_mae: 0.4027\n",
            "Epoch 69/100\n",
            "2653/2653 - 8s - 3ms/step - loss: 0.2549 - mae: 0.4027 - val_loss: 0.2550 - val_mae: 0.4026\n",
            "Epoch 70/100\n",
            "2653/2653 - 10s - 4ms/step - loss: 0.2548 - mae: 0.4026 - val_loss: 0.2550 - val_mae: 0.4026\n",
            "Epoch 71/100\n",
            "2653/2653 - 10s - 4ms/step - loss: 0.2548 - mae: 0.4026 - val_loss: 0.2550 - val_mae: 0.4026\n",
            "Epoch 72/100\n",
            "2653/2653 - 8s - 3ms/step - loss: 0.2548 - mae: 0.4026 - val_loss: 0.2550 - val_mae: 0.4026\n",
            "Epoch 73/100\n",
            "2653/2653 - 10s - 4ms/step - loss: 0.2547 - mae: 0.4025 - val_loss: 0.2549 - val_mae: 0.4025\n",
            "Epoch 74/100\n",
            "2653/2653 - 9s - 3ms/step - loss: 0.2546 - mae: 0.4025 - val_loss: 0.2549 - val_mae: 0.4025\n",
            "Epoch 75/100\n",
            "2653/2653 - 11s - 4ms/step - loss: 0.2546 - mae: 0.4024 - val_loss: 0.2548 - val_mae: 0.4024\n",
            "Epoch 76/100\n",
            "2653/2653 - 8s - 3ms/step - loss: 0.2546 - mae: 0.4024 - val_loss: 0.2547 - val_mae: 0.4024\n",
            "Epoch 77/100\n",
            "2653/2653 - 7s - 3ms/step - loss: 0.2545 - mae: 0.4024 - val_loss: 0.2547 - val_mae: 0.4023\n",
            "Epoch 78/100\n",
            "2653/2653 - 7s - 3ms/step - loss: 0.2544 - mae: 0.4023 - val_loss: 0.2546 - val_mae: 0.4023\n",
            "Epoch 79/100\n",
            "2653/2653 - 11s - 4ms/step - loss: 0.2544 - mae: 0.4023 - val_loss: 0.2545 - val_mae: 0.4022\n",
            "Epoch 80/100\n",
            "2653/2653 - 10s - 4ms/step - loss: 0.2543 - mae: 0.4022 - val_loss: 0.2543 - val_mae: 0.4020\n",
            "Epoch 81/100\n",
            "2653/2653 - 7s - 3ms/step - loss: 0.2542 - mae: 0.4021 - val_loss: 0.2544 - val_mae: 0.4021\n",
            "Epoch 82/100\n",
            "2653/2653 - 7s - 3ms/step - loss: 0.2542 - mae: 0.4021 - val_loss: 0.2543 - val_mae: 0.4020\n",
            "Epoch 83/100\n",
            "2653/2653 - 7s - 3ms/step - loss: 0.2541 - mae: 0.4020 - val_loss: 0.2542 - val_mae: 0.4020\n",
            "Epoch 84/100\n",
            "2653/2653 - 8s - 3ms/step - loss: 0.2541 - mae: 0.4020 - val_loss: 0.2542 - val_mae: 0.4020\n",
            "Epoch 85/100\n",
            "2653/2653 - 7s - 3ms/step - loss: 0.2540 - mae: 0.4019 - val_loss: 0.2541 - val_mae: 0.4019\n",
            "Epoch 86/100\n",
            "2653/2653 - 7s - 3ms/step - loss: 0.2539 - mae: 0.4019 - val_loss: 0.2539 - val_mae: 0.4017\n",
            "Epoch 87/100\n",
            "2653/2653 - 11s - 4ms/step - loss: 0.2539 - mae: 0.4018 - val_loss: 0.2539 - val_mae: 0.4018\n",
            "Epoch 88/100\n",
            "2653/2653 - 10s - 4ms/step - loss: 0.2538 - mae: 0.4018 - val_loss: 0.2541 - val_mae: 0.4019\n",
            "Epoch 89/100\n",
            "2653/2653 - 7s - 3ms/step - loss: 0.2538 - mae: 0.4018 - val_loss: 0.2540 - val_mae: 0.4018\n",
            "Epoch 90/100\n",
            "2653/2653 - 9s - 4ms/step - loss: 0.2538 - mae: 0.4018 - val_loss: 0.2538 - val_mae: 0.4016\n",
            "Epoch 91/100\n",
            "2653/2653 - 11s - 4ms/step - loss: 0.2538 - mae: 0.4018 - val_loss: 0.2538 - val_mae: 0.4016\n",
            "Epoch 92/100\n",
            "2653/2653 - 8s - 3ms/step - loss: 0.2538 - mae: 0.4017 - val_loss: 0.2540 - val_mae: 0.4018\n",
            "Epoch 93/100\n",
            "2653/2653 - 9s - 4ms/step - loss: 0.2538 - mae: 0.4017 - val_loss: 0.2539 - val_mae: 0.4017\n",
            "Epoch 94/100\n",
            "2653/2653 - 10s - 4ms/step - loss: 0.2537 - mae: 0.4017 - val_loss: 0.2539 - val_mae: 0.4017\n",
            "Epoch 95/100\n",
            "2653/2653 - 8s - 3ms/step - loss: 0.2537 - mae: 0.4017 - val_loss: 0.2539 - val_mae: 0.4017\n",
            "Epoch 96/100\n",
            "2653/2653 - 7s - 3ms/step - loss: 0.2537 - mae: 0.4017 - val_loss: 0.2538 - val_mae: 0.4017\n",
            "Epoch 97/100\n",
            "2653/2653 - 10s - 4ms/step - loss: 0.2537 - mae: 0.4016 - val_loss: 0.2538 - val_mae: 0.4016\n",
            "Epoch 98/100\n",
            "2653/2653 - 8s - 3ms/step - loss: 0.2536 - mae: 0.4016 - val_loss: 0.2538 - val_mae: 0.4016\n",
            "Epoch 99/100\n",
            "2653/2653 - 9s - 3ms/step - loss: 0.2536 - mae: 0.4016 - val_loss: 0.2537 - val_mae: 0.4016\n",
            "Epoch 100/100\n",
            "2653/2653 - 10s - 4ms/step - loss: 0.2536 - mae: 0.4016 - val_loss: 0.2537 - val_mae: 0.4016\n"
          ]
        }
      ],
      "source": [
        "# fit the model (training)\n",
        "history = model1.fit( X_train, y_train, epochs=100, batch_size=64,\n",
        "                     validation_split=0.3, verbose=2,shuffle=False)"
      ]
    },
    {
      "cell_type": "code",
      "execution_count": null,
      "metadata": {
        "colab": {
          "background_save": true
        },
        "id": "yZc6IDvg9mKa",
        "outputId": "083df729-2d25-4f71-c436-b03875a39bd6"
      },
      "outputs": [
        {
          "name": "stdout",
          "output_type": "stream",
          "text": [
            "Test mae: 0.400\n"
          ]
        }
      ],
      "source": [
        "loss, mae = model1.evaluate(X_test, y_test, verbose=0)\n",
        "print('Test mae: %.3f' % mae)"
      ]
    },
    {
      "cell_type": "code",
      "execution_count": null,
      "metadata": {
        "colab": {
          "background_save": true
        },
        "id": "1yPMz1lAVh9c",
        "outputId": "c06a2ba4-c71e-4486-948a-385410c59e72"
      },
      "outputs": [
        {
          "data": {
            "image/png": "[encoded data removed]",
            "text/plain": [
              "<Figure size 640x480 with 1 Axes>"
            ]
          },
          "metadata": {},
          "output_type": "display_data"
        }
      ],
      "source": [
        "import matplotlib.pyplot as plt\n",
        "plt.plot(history.history['loss'], label='Training Loss')  # Training Loss\n",
        "plt.plot(history.history['val_loss'], label='Validation Loss')  # Validation Loss\n",
        "plt.xlabel(\"Epochs\")\n",
        "plt.ylabel(\"Loss\")\n",
        "plt.legend()\n",
        "plt.title(\"Training vs Validation Loss\")\n",
        "plt.show()"
      ]
    },
    {
      "cell_type": "code",
      "execution_count": null,
      "metadata": {
        "colab": {
          "background_save": true
        },
        "id": "XWiVlElJVi9f",
        "outputId": "5594e82d-c1f1-46f3-a010-29f1e2345dc7"
      },
      "outputs": [
        {
          "name": "stdout",
          "output_type": "stream",
          "text": [
            "\u001b[1m1895/1895\u001b[0m \u001b[32m━━━━━━━━━━━━━━━━━━━━\u001b[0m\u001b[37m\u001b[0m \u001b[1m2s\u001b[0m 1ms/step\n"
          ]
        }
      ],
      "source": [
        "y_pred = model1.predict(X_test)"
      ]
    },
    {
      "cell_type": "code",
      "execution_count": null,
      "metadata": {
        "colab": {
          "background_save": true
        },
        "id": "30KZiy5r91eQ",
        "outputId": "387477db-ecf9-46ca-e517-a02354baeed5"
      },
      "outputs": [
        {
          "name": "stdout",
          "output_type": "stream",
          "text": [
            "Testing MAE: 0.4003739608877267\n",
            "Testing MSE: 0.2515137491825042\n",
            "Testing R²: 0.9124947130642977\n"
          ]
        }
      ],
      "source": [
        "\n",
        "\n",
        "test_mae=mean_absolute_error( y_test, y_pred)\n",
        "print(f\"Testing MAE: {test_mae}\")\n",
        "test_mse=mean_squared_error( y_test, y_pred)\n",
        "print(f\"Testing MSE: {test_mse}\")\n",
        "test_r2 = r2_score(y_test, y_pred)\n",
        "print(f\"Testing R²: {test_r2}\")"
      ]
    },
    {
      "cell_type": "markdown",
      "metadata": {
        "id": "dyuS31z3oS_B"
      },
      "source": [
        "creating pickle file"
      ]
    },
    {
      "cell_type": "code",
      "execution_count": null,
      "metadata": {
        "colab": {
          "background_save": true
        },
        "id": "NXu1SUq1oSKI"
      },
      "outputs": [],
      "source": [
        "import pickle\n",
        "pickle.dump(ridge,open('model.pkl','wb'))"
      ]
    },
    {
      "cell_type": "code",
      "execution_count": null,
      "metadata": {
        "colab": {
          "background_save": true
        },
        "id": "CtOCPjgKlS2k"
      },
      "outputs": [],
      "source": [
        "import pickle\n",
        "\n",
        "# Save the column names after one-hot encoding\n",
        "X_ohe_columns = X_ohe.columns.to_list()\n",
        "pickle.dump(X_ohe_columns, open('X_columns.pkl', 'wb'))"
      ]
    },
    {
      "cell_type": "code",
      "execution_count": null,
      "metadata": {
        "colab": {
          "background_save": true
        },
        "id": "mZTh5EFHpbxQ",
        "outputId": "d2e9eb71-0ee7-4a1a-f474-29377777d0bd"
      },
      "outputs": [
        {
          "name": "stdout",
          "output_type": "stream",
          "text": [
            "Prediction: [6.25725001]\n"
          ]
        },
        {
          "name": "stderr",
          "output_type": "stream",
          "text": [
            "/usr/local/lib/python3.11/dist-packages/sklearn/utils/validation.py:2739: UserWarning: X does not have valid feature names, but PolynomialFeatures was fitted with feature names\n",
            "  warnings.warn(\n"
          ]
        }
      ],
      "source": [
        "import numpy as np\n",
        "\n",
        "# Example input data after One-Hot Encoding\n",
        "encoded_input = [\n",
        "    897.077239,  # Rainfall_mm\n",
        "    27.676966,   # Temperature_Celsius\n",
        "    0,            # Fertilizer_Used (False -> 0)\n",
        "    1,            # Irrigation_Used (True -> 1)\n",
        "    122,          # Days_to_Harvest\n",
        "    0,            # Region_North (encoded)\n",
        "    0,            # Region_South (encoded)\n",
        "    1,            # Region_West (encoded)\n",
        "    0,            # Soil_Type_Clay (encoded)\n",
        "    0,            # Soil_Type_Loam (encoded)\n",
        "    0,            # Soil_Type_Peaty (encoded)\n",
        "    1,            # Soil_Type_Sandy (encoded)\n",
        "    0,            # Soil_Type_Silt (encoded)\n",
        "    1,            # Crop_Cotton (encoded)\n",
        "    0,            # Crop_Maize (encoded)\n",
        "    0,            # Crop_Rice (encoded)\n",
        "    0,            # Crop_Soybean (encoded)\n",
        "    0,            # Crop_Wheat (encoded)\n",
        "    0,            # Weather_Condition_Rainy (encoded)\n",
        "    0             # Weather_Condition_Sunny (encoded)\n",
        "]\n",
        "\n",
        "# Convert the input into a 2D NumPy array (1 row, number_of_features columns)\n",
        "encoded_input = np.array([encoded_input])\n",
        "\n",
        "# Load the pickled model\n",
        "model = pickle.load(open('model.pkl', 'rb'))\n",
        "\n",
        "# Make the prediction\n",
        "y_pred = model.predict(encoded_input)\n",
        "\n",
        "# Output the prediction\n",
        "print(\"Prediction:\", y_pred)\n"
      ]
    },
    {
      "cell_type": "code",
      "source": [
        "!python --version\n"
      ],
      "metadata": {
        "colab": {
          "base_uri": "https://localhost:8080/"
        },
        "id": "6hWl8t8QYETj",
        "outputId": "c6602465-8fa2-4291-c086-e577636851d2"
      },
      "execution_count": 2,
      "outputs": [
        {
          "output_type": "stream",
          "name": "stdout",
          "text": [
            "Python 3.11.11\n"
          ]
        }
      ]
    },
    {
      "cell_type": "code",
      "source": [],
      "metadata": {
        "id": "m3ay2X6fYGxN"
      },
      "execution_count": null,
      "outputs": []
    }
  ],
  "metadata": {
    "colab": {
      "provenance": []
    },
    "kernelspec": {
      "display_name": "Python 3",
      "name": "python3"
    },
    "language_info": {
      "name": "python"
    }
  },
  "nbformat": 4,
  "nbformat_minor": 0
}